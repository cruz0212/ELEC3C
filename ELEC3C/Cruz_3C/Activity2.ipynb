{
 "cells": [
  {
   "cell_type": "markdown",
   "id": "6537f459-a586-49e0-a847-aaaad777a474",
   "metadata": {},
   "source": [
    "<h1>Importing Necessary Files</h1>"
   ]
  },
  {
   "cell_type": "code",
   "execution_count": 1,
   "id": "69d9cf7a-8bee-4e37-8a19-9bca8a48db4a",
   "metadata": {},
   "outputs": [],
   "source": [
    "import numpy as np\n",
    "import pandas as pd\n",
    "import warnings\n",
    "warnings.filterwarnings('ignore')\n",
    "from scipy.stats import f_oneway\n",
    "import matplotlib.pyplot as plt"
   ]
  },
  {
   "cell_type": "markdown",
   "id": "2b327509-27fa-483f-a689-392616da707f",
   "metadata": {},
   "source": [
    "<hr>\n",
    "<h1>Making a DataFrame for the Dataset</h1>"
   ]
  },
  {
   "cell_type": "code",
   "execution_count": 2,
   "id": "c19b1d9f-efd5-48d6-a784-d7078cc0153e",
   "metadata": {},
   "outputs": [],
   "source": [
    "accident = pd.read_csv('datasets\\\\accident_data.csv')"
   ]
  },
  {
   "cell_type": "markdown",
   "id": "5d7d7a1d-ef82-4b43-9168-11ae7f9be71b",
   "metadata": {},
   "source": [
    "<hr>\n",
    "<h1>Checking if the DataFrame is Working</h1>"
   ]
  },
  {
   "cell_type": "code",
   "execution_count": 3,
   "id": "03042180-7fce-42e6-b6bd-5909dd4db8fd",
   "metadata": {},
   "outputs": [
    {
     "data": {
      "text/html": [
       "<div>\n",
       "<style scoped>\n",
       "    .dataframe tbody tr th:only-of-type {\n",
       "        vertical-align: middle;\n",
       "    }\n",
       "\n",
       "    .dataframe tbody tr th {\n",
       "        vertical-align: top;\n",
       "    }\n",
       "\n",
       "    .dataframe thead th {\n",
       "        text-align: right;\n",
       "    }\n",
       "</style>\n",
       "<table border=\"1\" class=\"dataframe\">\n",
       "  <thead>\n",
       "    <tr style=\"text-align: right;\">\n",
       "      <th></th>\n",
       "      <th>Index</th>\n",
       "      <th>Accident_Severity</th>\n",
       "      <th>Accident Date</th>\n",
       "      <th>Latitude</th>\n",
       "      <th>Light_Conditions</th>\n",
       "      <th>District Area</th>\n",
       "      <th>Longitude</th>\n",
       "      <th>Number_of_Casualties</th>\n",
       "      <th>Number_of_Vehicles</th>\n",
       "      <th>Road_Surface_Conditions</th>\n",
       "      <th>Road_Type</th>\n",
       "      <th>Urban_or_Rural_Area</th>\n",
       "      <th>Weather_Conditions</th>\n",
       "      <th>Vehicle_Type</th>\n",
       "    </tr>\n",
       "  </thead>\n",
       "  <tbody>\n",
       "    <tr>\n",
       "      <th>0</th>\n",
       "      <td>200701BS64157</td>\n",
       "      <td>Serious</td>\n",
       "      <td>05/06/2019</td>\n",
       "      <td>51.506187</td>\n",
       "      <td>Darkness - lights lit</td>\n",
       "      <td>Kensington and Chelsea</td>\n",
       "      <td>-0.209082</td>\n",
       "      <td>1</td>\n",
       "      <td>2</td>\n",
       "      <td>Dry</td>\n",
       "      <td>Single carriageway</td>\n",
       "      <td>Urban</td>\n",
       "      <td>Fine no high winds</td>\n",
       "      <td>Car</td>\n",
       "    </tr>\n",
       "    <tr>\n",
       "      <th>1</th>\n",
       "      <td>200701BS65737</td>\n",
       "      <td>Serious</td>\n",
       "      <td>02/07/2019</td>\n",
       "      <td>51.495029</td>\n",
       "      <td>Daylight</td>\n",
       "      <td>Kensington and Chelsea</td>\n",
       "      <td>-0.173647</td>\n",
       "      <td>1</td>\n",
       "      <td>2</td>\n",
       "      <td>Wet or damp</td>\n",
       "      <td>Single carriageway</td>\n",
       "      <td>Urban</td>\n",
       "      <td>Raining no high winds</td>\n",
       "      <td>Car</td>\n",
       "    </tr>\n",
       "    <tr>\n",
       "      <th>2</th>\n",
       "      <td>200701BS66127</td>\n",
       "      <td>Serious</td>\n",
       "      <td>26/08/2019</td>\n",
       "      <td>51.517715</td>\n",
       "      <td>Darkness - lighting unknown</td>\n",
       "      <td>Kensington and Chelsea</td>\n",
       "      <td>-0.210215</td>\n",
       "      <td>1</td>\n",
       "      <td>3</td>\n",
       "      <td>Dry</td>\n",
       "      <td>NaN</td>\n",
       "      <td>Urban</td>\n",
       "      <td>NaN</td>\n",
       "      <td>Taxi/Private hire car</td>\n",
       "    </tr>\n",
       "    <tr>\n",
       "      <th>3</th>\n",
       "      <td>200701BS66128</td>\n",
       "      <td>Serious</td>\n",
       "      <td>16/08/2019</td>\n",
       "      <td>51.495478</td>\n",
       "      <td>Daylight</td>\n",
       "      <td>Kensington and Chelsea</td>\n",
       "      <td>-0.202731</td>\n",
       "      <td>1</td>\n",
       "      <td>4</td>\n",
       "      <td>Dry</td>\n",
       "      <td>Single carriageway</td>\n",
       "      <td>Urban</td>\n",
       "      <td>Fine no high winds</td>\n",
       "      <td>Bus or coach (17 or more pass seats)</td>\n",
       "    </tr>\n",
       "    <tr>\n",
       "      <th>4</th>\n",
       "      <td>200701BS66837</td>\n",
       "      <td>Slight</td>\n",
       "      <td>03/09/2019</td>\n",
       "      <td>51.488576</td>\n",
       "      <td>Darkness - lights lit</td>\n",
       "      <td>Kensington and Chelsea</td>\n",
       "      <td>-0.192487</td>\n",
       "      <td>1</td>\n",
       "      <td>2</td>\n",
       "      <td>Dry</td>\n",
       "      <td>NaN</td>\n",
       "      <td>Urban</td>\n",
       "      <td>NaN</td>\n",
       "      <td>Other vehicle</td>\n",
       "    </tr>\n",
       "    <tr>\n",
       "      <th>...</th>\n",
       "      <td>...</td>\n",
       "      <td>...</td>\n",
       "      <td>...</td>\n",
       "      <td>...</td>\n",
       "      <td>...</td>\n",
       "      <td>...</td>\n",
       "      <td>...</td>\n",
       "      <td>...</td>\n",
       "      <td>...</td>\n",
       "      <td>...</td>\n",
       "      <td>...</td>\n",
       "      <td>...</td>\n",
       "      <td>...</td>\n",
       "      <td>...</td>\n",
       "    </tr>\n",
       "    <tr>\n",
       "      <th>660674</th>\n",
       "      <td>201091NM01760</td>\n",
       "      <td>Slight</td>\n",
       "      <td>18/02/2022</td>\n",
       "      <td>57.374005</td>\n",
       "      <td>Daylight</td>\n",
       "      <td>Highland</td>\n",
       "      <td>-3.467828</td>\n",
       "      <td>2</td>\n",
       "      <td>1</td>\n",
       "      <td>Dry</td>\n",
       "      <td>Single carriageway</td>\n",
       "      <td>Rural</td>\n",
       "      <td>Fine no high winds</td>\n",
       "      <td>Car</td>\n",
       "    </tr>\n",
       "    <tr>\n",
       "      <th>660675</th>\n",
       "      <td>201091NM01881</td>\n",
       "      <td>Slight</td>\n",
       "      <td>21/02/2022</td>\n",
       "      <td>57.232273</td>\n",
       "      <td>Darkness - no lighting</td>\n",
       "      <td>Highland</td>\n",
       "      <td>-3.809281</td>\n",
       "      <td>1</td>\n",
       "      <td>1</td>\n",
       "      <td>Frost or ice</td>\n",
       "      <td>Single carriageway</td>\n",
       "      <td>Rural</td>\n",
       "      <td>Fine no high winds</td>\n",
       "      <td>Car</td>\n",
       "    </tr>\n",
       "    <tr>\n",
       "      <th>660676</th>\n",
       "      <td>201091NM01935</td>\n",
       "      <td>Slight</td>\n",
       "      <td>23/02/2022</td>\n",
       "      <td>57.585044</td>\n",
       "      <td>Daylight</td>\n",
       "      <td>Highland</td>\n",
       "      <td>-3.862727</td>\n",
       "      <td>1</td>\n",
       "      <td>3</td>\n",
       "      <td>Frost or ice</td>\n",
       "      <td>Single carriageway</td>\n",
       "      <td>Rural</td>\n",
       "      <td>Fine no high winds</td>\n",
       "      <td>Car</td>\n",
       "    </tr>\n",
       "    <tr>\n",
       "      <th>660677</th>\n",
       "      <td>201091NM01964</td>\n",
       "      <td>Serious</td>\n",
       "      <td>23/02/2022</td>\n",
       "      <td>57.214898</td>\n",
       "      <td>Darkness - no lighting</td>\n",
       "      <td>Highland</td>\n",
       "      <td>-3.823997</td>\n",
       "      <td>1</td>\n",
       "      <td>2</td>\n",
       "      <td>Wet or damp</td>\n",
       "      <td>Single carriageway</td>\n",
       "      <td>Rural</td>\n",
       "      <td>Fine no high winds</td>\n",
       "      <td>Motorcycle over 500cc</td>\n",
       "    </tr>\n",
       "    <tr>\n",
       "      <th>660678</th>\n",
       "      <td>201091NM02142</td>\n",
       "      <td>Serious</td>\n",
       "      <td>28/02/2022</td>\n",
       "      <td>57.575210</td>\n",
       "      <td>Daylight</td>\n",
       "      <td>Highland</td>\n",
       "      <td>-3.895673</td>\n",
       "      <td>1</td>\n",
       "      <td>1</td>\n",
       "      <td>Wet or damp</td>\n",
       "      <td>Dual carriageway</td>\n",
       "      <td>Rural</td>\n",
       "      <td>Snowing no high winds</td>\n",
       "      <td>Car</td>\n",
       "    </tr>\n",
       "  </tbody>\n",
       "</table>\n",
       "<p>660679 rows × 14 columns</p>\n",
       "</div>"
      ],
      "text/plain": [
       "                Index Accident_Severity Accident Date   Latitude  \\\n",
       "0       200701BS64157           Serious    05/06/2019  51.506187   \n",
       "1       200701BS65737           Serious    02/07/2019  51.495029   \n",
       "2       200701BS66127           Serious    26/08/2019  51.517715   \n",
       "3       200701BS66128           Serious    16/08/2019  51.495478   \n",
       "4       200701BS66837            Slight    03/09/2019  51.488576   \n",
       "...               ...               ...           ...        ...   \n",
       "660674  201091NM01760            Slight    18/02/2022  57.374005   \n",
       "660675  201091NM01881            Slight    21/02/2022  57.232273   \n",
       "660676  201091NM01935            Slight    23/02/2022  57.585044   \n",
       "660677  201091NM01964           Serious    23/02/2022  57.214898   \n",
       "660678  201091NM02142           Serious    28/02/2022  57.575210   \n",
       "\n",
       "                   Light_Conditions           District Area  Longitude  \\\n",
       "0             Darkness - lights lit  Kensington and Chelsea  -0.209082   \n",
       "1                          Daylight  Kensington and Chelsea  -0.173647   \n",
       "2       Darkness - lighting unknown  Kensington and Chelsea  -0.210215   \n",
       "3                          Daylight  Kensington and Chelsea  -0.202731   \n",
       "4             Darkness - lights lit  Kensington and Chelsea  -0.192487   \n",
       "...                             ...                     ...        ...   \n",
       "660674                     Daylight                Highland  -3.467828   \n",
       "660675       Darkness - no lighting                Highland  -3.809281   \n",
       "660676                     Daylight                Highland  -3.862727   \n",
       "660677       Darkness - no lighting                Highland  -3.823997   \n",
       "660678                     Daylight                Highland  -3.895673   \n",
       "\n",
       "        Number_of_Casualties  Number_of_Vehicles Road_Surface_Conditions  \\\n",
       "0                          1                   2                     Dry   \n",
       "1                          1                   2             Wet or damp   \n",
       "2                          1                   3                     Dry   \n",
       "3                          1                   4                     Dry   \n",
       "4                          1                   2                     Dry   \n",
       "...                      ...                 ...                     ...   \n",
       "660674                     2                   1                     Dry   \n",
       "660675                     1                   1            Frost or ice   \n",
       "660676                     1                   3            Frost or ice   \n",
       "660677                     1                   2             Wet or damp   \n",
       "660678                     1                   1             Wet or damp   \n",
       "\n",
       "                 Road_Type Urban_or_Rural_Area     Weather_Conditions  \\\n",
       "0       Single carriageway               Urban     Fine no high winds   \n",
       "1       Single carriageway               Urban  Raining no high winds   \n",
       "2                      NaN               Urban                    NaN   \n",
       "3       Single carriageway               Urban     Fine no high winds   \n",
       "4                      NaN               Urban                    NaN   \n",
       "...                    ...                 ...                    ...   \n",
       "660674  Single carriageway               Rural     Fine no high winds   \n",
       "660675  Single carriageway               Rural     Fine no high winds   \n",
       "660676  Single carriageway               Rural     Fine no high winds   \n",
       "660677  Single carriageway               Rural     Fine no high winds   \n",
       "660678    Dual carriageway               Rural  Snowing no high winds   \n",
       "\n",
       "                                Vehicle_Type  \n",
       "0                                        Car  \n",
       "1                                        Car  \n",
       "2                      Taxi/Private hire car  \n",
       "3       Bus or coach (17 or more pass seats)  \n",
       "4                              Other vehicle  \n",
       "...                                      ...  \n",
       "660674                                   Car  \n",
       "660675                                   Car  \n",
       "660676                                   Car  \n",
       "660677                 Motorcycle over 500cc  \n",
       "660678                                   Car  \n",
       "\n",
       "[660679 rows x 14 columns]"
      ]
     },
     "execution_count": 3,
     "metadata": {},
     "output_type": "execute_result"
    }
   ],
   "source": [
    "accident"
   ]
  },
  {
   "cell_type": "markdown",
   "id": "80b9d57e-2a32-4ae6-87e9-02183b00fae0",
   "metadata": {},
   "source": [
    "<h1>Cleaning the Inconsistencies on the Accident date</h1>"
   ]
  },
  {
   "cell_type": "code",
   "execution_count": 4,
   "id": "6d97e68b-5c42-46da-bd64-f6d9d60a9270",
   "metadata": {},
   "outputs": [],
   "source": [
    "accident['Accident Date'] = accident['Accident Date'].astype('str')\n",
    "accident['Accident Date'] = accident['Accident Date'].str.strip()\n",
    "accident['Accident Date'] = accident['Accident Date'].str.replace('/', '-')"
   ]
  },
  {
   "cell_type": "markdown",
   "id": "41bb4b4c-42c4-4546-89d7-31c69991debc",
   "metadata": {},
   "source": [
    "<h1>Coverting the Data Type of the Accident Date</h1>"
   ]
  },
  {
   "cell_type": "code",
   "execution_count": 5,
   "id": "2eaa988c-e32f-4830-8e0f-19cb92860f2e",
   "metadata": {},
   "outputs": [],
   "source": [
    "accident['Accident Date'] = pd.to_datetime(accident['Accident Date'], dayfirst=True, errors='coerce')"
   ]
  },
  {
   "cell_type": "markdown",
   "id": "05efdd18-0a73-4414-9763-f16ed1252c1f",
   "metadata": {},
   "source": [
    "<h1>Extracting New Columns from Accident Date</h1>"
   ]
  },
  {
   "cell_type": "code",
   "execution_count": 6,
   "id": "9d175371-5870-4e62-acbf-f5e957fbbb15",
   "metadata": {},
   "outputs": [],
   "source": [
    "accident['Year'] = accident['Accident Date'].dt.year\n",
    "accident['Month_Number'] = accident['Accident Date'].dt.month\n",
    "accident['Month'] = accident['Accident Date'].dt.month_name()\n",
    "accident['Day'] = accident['Accident Date'].dt.day\n",
    "accident['DayofWeek'] = accident['Accident Date'].dt.dayofweek  # Monday=0, Sunday=6"
   ]
  },
  {
   "cell_type": "markdown",
   "id": "b8598230-d36d-4c3e-9a5c-80a2bcbab3dc",
   "metadata": {},
   "source": [
    "<hr>\n",
    "<h1>Checking for Null Values</h1>"
   ]
  },
  {
   "cell_type": "code",
   "execution_count": 7,
   "id": "6e179ed3-1942-49ed-8f76-d7d0a39364a6",
   "metadata": {},
   "outputs": [
    {
     "data": {
      "text/plain": [
       "Index                          0\n",
       "Accident_Severity              0\n",
       "Accident Date                  0\n",
       "Latitude                      25\n",
       "Light_Conditions               0\n",
       "District Area                  0\n",
       "Longitude                     26\n",
       "Number_of_Casualties           0\n",
       "Number_of_Vehicles             0\n",
       "Road_Surface_Conditions      726\n",
       "Road_Type                   4520\n",
       "Urban_or_Rural_Area           15\n",
       "Weather_Conditions         14128\n",
       "Vehicle_Type                   0\n",
       "Year                           0\n",
       "Month_Number                   0\n",
       "Month                          0\n",
       "Day                            0\n",
       "DayofWeek                      0\n",
       "dtype: int64"
      ]
     },
     "execution_count": 7,
     "metadata": {},
     "output_type": "execute_result"
    }
   ],
   "source": [
    "accident.isnull().sum()"
   ]
  },
  {
   "cell_type": "markdown",
   "id": "e10b202d-5874-4ba2-86b4-5f1f0c8fb9cb",
   "metadata": {},
   "source": [
    "<h1>Fixing the Null Values</h1>"
   ]
  },
  {
   "cell_type": "markdown",
   "id": "ae6ed67f-0b28-43dd-b569-8ce9248c5020",
   "metadata": {},
   "source": [
    "<h3>Numerical Null Values</h3>"
   ]
  },
  {
   "cell_type": "code",
   "execution_count": 8,
   "id": "5c2bc6c9-a954-4aea-b57d-9bf0be3cbc1d",
   "metadata": {},
   "outputs": [
    {
     "data": {
      "text/plain": [
       "np.float64(52.553865761110956)"
      ]
     },
     "execution_count": 8,
     "metadata": {},
     "output_type": "execute_result"
    }
   ],
   "source": [
    "accident['Latitude'].mean()"
   ]
  },
  {
   "cell_type": "code",
   "execution_count": 9,
   "id": "4ecc38fb-9aae-4208-aaff-f658c089d215",
   "metadata": {},
   "outputs": [],
   "source": [
    "accident['Latitude'] = accident['Latitude'].fillna(accident['Latitude'].mean())"
   ]
  },
  {
   "cell_type": "code",
   "execution_count": 10,
   "id": "8bfe2109-41fe-4402-bde7-24048c772080",
   "metadata": {},
   "outputs": [
    {
     "data": {
      "text/plain": [
       "np.float64(-1.4312103685020727)"
      ]
     },
     "execution_count": 10,
     "metadata": {},
     "output_type": "execute_result"
    }
   ],
   "source": [
    "accident['Longitude'].mean()"
   ]
  },
  {
   "cell_type": "code",
   "execution_count": 11,
   "id": "50896a52-15d9-4a14-8c5a-79f49c17f039",
   "metadata": {},
   "outputs": [],
   "source": [
    "accident['Longitude'] = accident['Longitude'].fillna(accident['Longitude'].mean())"
   ]
  },
  {
   "cell_type": "markdown",
   "id": "aa786a6a-e24d-4cd8-ba41-cd9ebeb2933b",
   "metadata": {},
   "source": [
    "<h3>-Categorical Null Values-</h3>"
   ]
  },
  {
   "cell_type": "code",
   "execution_count": 12,
   "id": "d4d155a9-e87f-40ac-a787-130c0cf1c685",
   "metadata": {},
   "outputs": [],
   "source": [
    "accident['Road_Surface_Conditions'] = accident['Road_Surface_Conditions'].fillna('unaccounted')"
   ]
  },
  {
   "cell_type": "code",
   "execution_count": 13,
   "id": "4bb00251-f8de-4d63-979c-dfd0fac66b58",
   "metadata": {},
   "outputs": [],
   "source": [
    "accident['Road_Type'] = accident['Road_Type'].fillna('unaccounted')"
   ]
  },
  {
   "cell_type": "code",
   "execution_count": 14,
   "id": "51159b98-83da-4d4c-9993-36eb54b8f15f",
   "metadata": {},
   "outputs": [
    {
     "data": {
      "text/plain": [
       "0    Urban\n",
       "Name: Urban_or_Rural_Area, dtype: object"
      ]
     },
     "execution_count": 14,
     "metadata": {},
     "output_type": "execute_result"
    }
   ],
   "source": [
    "accident['Urban_or_Rural_Area'].mode()"
   ]
  },
  {
   "cell_type": "code",
   "execution_count": 15,
   "id": "e2a122f4-b386-4040-b874-9d331bbf013f",
   "metadata": {},
   "outputs": [],
   "source": [
    "accident['Urban_or_Rural_Area'] = accident['Urban_or_Rural_Area'].fillna(accident['Urban_or_Rural_Area'].mode()[0])"
   ]
  },
  {
   "cell_type": "code",
   "execution_count": 16,
   "id": "9550e822-aaf5-4724-b90d-aced9b1679b2",
   "metadata": {},
   "outputs": [],
   "source": [
    "accident['Weather_Conditions'] = accident['Weather_Conditions'].fillna('unaccounted')"
   ]
  },
  {
   "cell_type": "markdown",
   "id": "f3fac675-95c7-46ea-bfa5-5ba5d08be489",
   "metadata": {},
   "source": [
    "<h1>Checking if there are still Null Values</h1>"
   ]
  },
  {
   "cell_type": "code",
   "execution_count": 17,
   "id": "98d6f815-f321-4fbc-83dc-2b0354a23c56",
   "metadata": {},
   "outputs": [
    {
     "data": {
      "text/plain": [
       "Index                      0\n",
       "Accident_Severity          0\n",
       "Accident Date              0\n",
       "Latitude                   0\n",
       "Light_Conditions           0\n",
       "District Area              0\n",
       "Longitude                  0\n",
       "Number_of_Casualties       0\n",
       "Number_of_Vehicles         0\n",
       "Road_Surface_Conditions    0\n",
       "Road_Type                  0\n",
       "Urban_or_Rural_Area        0\n",
       "Weather_Conditions         0\n",
       "Vehicle_Type               0\n",
       "Year                       0\n",
       "Month_Number               0\n",
       "Month                      0\n",
       "Day                        0\n",
       "DayofWeek                  0\n",
       "dtype: int64"
      ]
     },
     "execution_count": 17,
     "metadata": {},
     "output_type": "execute_result"
    }
   ],
   "source": [
    "accident.isnull().sum()"
   ]
  },
  {
   "cell_type": "markdown",
   "id": "66429a22-f7c7-4b47-b313-3a1dcdaee3e5",
   "metadata": {},
   "source": [
    "<hr>\n",
    "<h1>Checking the Data Type</h1>"
   ]
  },
  {
   "cell_type": "code",
   "execution_count": 18,
   "id": "9104dd56-fd3a-44fb-a2cb-6f2bf5e207ca",
   "metadata": {},
   "outputs": [
    {
     "name": "stdout",
     "output_type": "stream",
     "text": [
      "<class 'pandas.core.frame.DataFrame'>\n",
      "RangeIndex: 660679 entries, 0 to 660678\n",
      "Data columns (total 19 columns):\n",
      " #   Column                   Non-Null Count   Dtype         \n",
      "---  ------                   --------------   -----         \n",
      " 0   Index                    660679 non-null  object        \n",
      " 1   Accident_Severity        660679 non-null  object        \n",
      " 2   Accident Date            660679 non-null  datetime64[ns]\n",
      " 3   Latitude                 660679 non-null  float64       \n",
      " 4   Light_Conditions         660679 non-null  object        \n",
      " 5   District Area            660679 non-null  object        \n",
      " 6   Longitude                660679 non-null  float64       \n",
      " 7   Number_of_Casualties     660679 non-null  int64         \n",
      " 8   Number_of_Vehicles       660679 non-null  int64         \n",
      " 9   Road_Surface_Conditions  660679 non-null  object        \n",
      " 10  Road_Type                660679 non-null  object        \n",
      " 11  Urban_or_Rural_Area      660679 non-null  object        \n",
      " 12  Weather_Conditions       660679 non-null  object        \n",
      " 13  Vehicle_Type             660679 non-null  object        \n",
      " 14  Year                     660679 non-null  int32         \n",
      " 15  Month_Number             660679 non-null  int32         \n",
      " 16  Month                    660679 non-null  object        \n",
      " 17  Day                      660679 non-null  int32         \n",
      " 18  DayofWeek                660679 non-null  int32         \n",
      "dtypes: datetime64[ns](1), float64(2), int32(4), int64(2), object(10)\n",
      "memory usage: 85.7+ MB\n"
     ]
    }
   ],
   "source": [
    "accident.info()"
   ]
  },
  {
   "cell_type": "markdown",
   "id": "8afba6e4-c4f5-4008-9fbf-4b23af5dc01c",
   "metadata": {},
   "source": [
    "<h1>Fixing the Data Type</h1>"
   ]
  },
  {
   "cell_type": "code",
   "execution_count": 19,
   "id": "bfc3d944-da89-4589-b1e9-f995096520fd",
   "metadata": {},
   "outputs": [],
   "source": [
    "accident['Index'] = accident['Index'].astype('category') \n",
    "accident['Accident_Severity'] = accident['Accident_Severity'].astype('category')\n",
    "accident['Light_Conditions'] = accident['Light_Conditions'].astype('category')\n",
    "accident['District Area'] = accident['District Area'].astype('category')\n",
    "accident['Road_Surface_Conditions'] = accident['Road_Surface_Conditions'].astype('category') \n",
    "accident['Road_Type'] = accident['Road_Type'].astype('category') \n",
    "accident['Urban_or_Rural_Area'] = accident['Urban_or_Rural_Area'].astype('category') \n",
    "accident['Weather_Conditions'] = accident['Weather_Conditions'].astype('category') \n",
    "accident['Vehicle_Type'] = accident['Vehicle_Type'].astype('category')\n",
    "accident['Month'] = accident['Month'].astype('category')\n",
    "accident['Year'] = accident['Year'].astype('category')"
   ]
  },
  {
   "cell_type": "markdown",
   "id": "d7200b58-e223-4de0-a0ce-e52919ca2995",
   "metadata": {},
   "source": [
    "<h1>Checking again</h1>"
   ]
  },
  {
   "cell_type": "code",
   "execution_count": 20,
   "id": "e8a8ebbb-0a33-43a0-8883-14887f96574d",
   "metadata": {},
   "outputs": [
    {
     "name": "stdout",
     "output_type": "stream",
     "text": [
      "<class 'pandas.core.frame.DataFrame'>\n",
      "RangeIndex: 660679 entries, 0 to 660678\n",
      "Data columns (total 19 columns):\n",
      " #   Column                   Non-Null Count   Dtype         \n",
      "---  ------                   --------------   -----         \n",
      " 0   Index                    660679 non-null  category      \n",
      " 1   Accident_Severity        660679 non-null  category      \n",
      " 2   Accident Date            660679 non-null  datetime64[ns]\n",
      " 3   Latitude                 660679 non-null  float64       \n",
      " 4   Light_Conditions         660679 non-null  category      \n",
      " 5   District Area            660679 non-null  category      \n",
      " 6   Longitude                660679 non-null  float64       \n",
      " 7   Number_of_Casualties     660679 non-null  int64         \n",
      " 8   Number_of_Vehicles       660679 non-null  int64         \n",
      " 9   Road_Surface_Conditions  660679 non-null  category      \n",
      " 10  Road_Type                660679 non-null  category      \n",
      " 11  Urban_or_Rural_Area      660679 non-null  category      \n",
      " 12  Weather_Conditions       660679 non-null  category      \n",
      " 13  Vehicle_Type             660679 non-null  category      \n",
      " 14  Year                     660679 non-null  category      \n",
      " 15  Month_Number             660679 non-null  int32         \n",
      " 16  Month                    660679 non-null  category      \n",
      " 17  Day                      660679 non-null  int32         \n",
      " 18  DayofWeek                660679 non-null  int32         \n",
      "dtypes: category(11), datetime64[ns](1), float64(2), int32(3), int64(2)\n",
      "memory usage: 61.6 MB\n"
     ]
    }
   ],
   "source": [
    "accident.info()"
   ]
  },
  {
   "cell_type": "markdown",
   "id": "a93fcec4-0079-420e-ab31-a6bd284f1dba",
   "metadata": {},
   "source": [
    "<hr>\n",
    "<h1> Questions and Insights</h1>\n",
    "<hr>"
   ]
  },
  {
   "cell_type": "markdown",
   "id": "3beb076d-b9c6-4ae7-85e4-38bb6d56fc57",
   "metadata": {},
   "source": [
    "<h1>EDA</h1>"
   ]
  },
  {
   "cell_type": "markdown",
   "id": "d5ea8643-da8e-49a8-8d1d-2c6a4491b63e",
   "metadata": {},
   "source": [
    "<h1>1.Which kind of vehicle is the most common?</h1>"
   ]
  },
  {
   "cell_type": "code",
   "execution_count": 21,
   "id": "4605ec78-6b0e-4f47-9ed2-dcaee27ef55d",
   "metadata": {},
   "outputs": [
    {
     "data": {
      "text/plain": [
       "0    Car\n",
       "Name: Vehicle_Type, dtype: category\n",
       "Categories (16, object): ['Agricultural vehicle', 'Bus or coach (17 or more pass seats)', 'Car', 'Data missing or out of range', ..., 'Pedal cycle', 'Ridden horse', 'Taxi/Private hire car', 'Van / Goods 3.5 tonnes mgw or under']"
      ]
     },
     "execution_count": 21,
     "metadata": {},
     "output_type": "execute_result"
    }
   ],
   "source": [
    "accident['Vehicle_Type'].mode()\n"
   ]
  },
  {
   "cell_type": "markdown",
   "id": "a3f08193-1006-4bb0-84d7-a51fd2b470be",
   "metadata": {},
   "source": [
    "<h2><strong>Insight: </strong> The results show that cars are the most common and frequent type of vehicle involved in accidents..</h2>"
   ]
  },
  {
   "cell_type": "markdown",
   "id": "5b964d9f-fdab-4941-b8ab-8438c6e52a47",
   "metadata": {},
   "source": [
    "<hr>\n",
    "<h1>2. What is the usual light condition during the accidents?</h1>"
   ]
  },
  {
   "cell_type": "code",
   "execution_count": 22,
   "id": "8d02caef-856b-4d99-a3d2-87ed0de712b4",
   "metadata": {},
   "outputs": [
    {
     "data": {
      "text/plain": [
       "0    Daylight\n",
       "Name: Light_Conditions, dtype: category\n",
       "Categories (5, object): ['Darkness - lighting unknown', 'Darkness - lights lit', 'Darkness - lights unlit', 'Darkness - no lighting', 'Daylight']"
      ]
     },
     "execution_count": 22,
     "metadata": {},
     "output_type": "execute_result"
    }
   ],
   "source": [
    "accident['Light_Conditions'].mode()\n"
   ]
  },
  {
   "cell_type": "markdown",
   "id": "726f49f0-2790-4fba-9c0f-fc9774eac9bd",
   "metadata": {},
   "source": [
    "<h2> <strong>Insight: </strong> The findings indicate that accidents typically occur during the day.. </h2>"
   ]
  },
  {
   "cell_type": "markdown",
   "id": "60192ad0-1b92-46e1-8063-95cdc7efd8d9",
   "metadata": {},
   "source": [
    "<hr>\n",
    "<h1>3. In terms of road surface conditions, what is the the most frequent?</h1>"
   ]
  },
  {
   "cell_type": "code",
   "execution_count": 23,
   "id": "f58e7db6-f76a-428d-b4e2-09ab902a1648",
   "metadata": {},
   "outputs": [
    {
     "data": {
      "text/plain": [
       "0    Dry\n",
       "Name: Road_Surface_Conditions, dtype: category\n",
       "Categories (6, object): ['Dry', 'Flood over 3cm. deep', 'Frost or ice', 'Snow', 'Wet or damp', 'unaccounted']"
      ]
     },
     "execution_count": 23,
     "metadata": {},
     "output_type": "execute_result"
    }
   ],
   "source": [
    "accident['Road_Surface_Conditions'].mode()"
   ]
  },
  {
   "cell_type": "markdown",
   "id": "6c619a55-57d2-4c39-a497-c7b61d3ddfa7",
   "metadata": {},
   "source": [
    "<h2> <strong>Insight: </strong> \n",
    "    Based on the result, dry road surface condition is prone to accidents. </h2>"
   ]
  },
  {
   "cell_type": "markdown",
   "id": "9f8a1964-0d37-49b1-84f4-2a2117f9e1e6",
   "metadata": {},
   "source": [
    "<hr>\n",
    "<h1>4. How many number of vehicles are mostly being involved during accidents?</h1>"
   ]
  },
  {
   "cell_type": "code",
   "execution_count": 24,
   "id": "da4e9f3c-a55d-41e5-85a2-4172c3674b3b",
   "metadata": {},
   "outputs": [
    {
     "data": {
      "text/plain": [
       "0    2\n",
       "Name: Number_of_Vehicles, dtype: int64"
      ]
     },
     "execution_count": 24,
     "metadata": {},
     "output_type": "execute_result"
    }
   ],
   "source": [
    "accident['Number_of_Vehicles'].mode()"
   ]
  },
  {
   "cell_type": "markdown",
   "id": "5b1ae7eb-5b76-4c98-9f11-dfd2eee2dc68",
   "metadata": {},
   "source": [
    "<h2> <strong>Insight: </strong> Based on the result, two vehicle are most involved in accidents </h2>"
   ]
  },
  {
   "cell_type": "markdown",
   "id": "28d4651e-95d6-452d-94cf-f084cd084786",
   "metadata": {},
   "source": [
    "<hr>\n",
    "<h1>5. What type of road does the accidents usually happen? </h1>"
   ]
  },
  {
   "cell_type": "code",
   "execution_count": 25,
   "id": "35aeaaab-105c-4a99-a0d8-251b0661e7a9",
   "metadata": {},
   "outputs": [
    {
     "data": {
      "text/plain": [
       "0    Single carriageway\n",
       "Name: Road_Type, dtype: category\n",
       "Categories (6, object): ['Dual carriageway', 'One way street', 'Roundabout', 'Single carriageway', 'Slip road', 'unaccounted']"
      ]
     },
     "execution_count": 25,
     "metadata": {},
     "output_type": "execute_result"
    }
   ],
   "source": [
    "accident['Road_Type'].mode()"
   ]
  },
  {
   "cell_type": "markdown",
   "id": "d01b4d78-d96b-4d3e-b36a-154720275215",
   "metadata": {},
   "source": [
    "<h2> <strong>Insight: </strong> According to the result, accidents usually happen on a single carriageway road. </h2>"
   ]
  },
  {
   "cell_type": "markdown",
   "id": "fb6f7cae-8356-4afe-be5b-2b96bccbdb30",
   "metadata": {},
   "source": [
    "<h1>6. How many record of accidents per year?</h1>"
   ]
  },
  {
   "cell_type": "code",
   "execution_count": 26,
   "id": "726480b8-0dae-4c21-8323-ebcb2bdfcbfe",
   "metadata": {},
   "outputs": [
    {
     "data": {
      "text/plain": [
       "Year\n",
       "2019    182115\n",
       "2020    170591\n",
       "2021    163554\n",
       "2022    144419\n",
       "Name: count, dtype: int64"
      ]
     },
     "execution_count": 26,
     "metadata": {},
     "output_type": "execute_result"
    }
   ],
   "source": [
    "accident['Year'].value_counts()"
   ]
  },
  {
   "cell_type": "markdown",
   "id": "e64bfe68-096c-47a0-8420-6b27a05ec8ef",
   "metadata": {},
   "source": [
    "<h2> <strong>Insight: </strong> The results indicate that, with 182,115 incidents, 2019 has the greatest accident record. With 170,591 recordings, 2020 is the second-highest year. With 163,554 records, 2021 comes next. In contrast, 2022 had the fewest records (144,419).\n",
    " </h2>"
   ]
  },
  {
   "cell_type": "markdown",
   "id": "b099f580-99a8-4af1-af0e-9e2a0e2dc746",
   "metadata": {},
   "source": [
    "<h1>7. In terms of weather conditions, when does the least and most accidents record?</h1>"
   ]
  },
  {
   "cell_type": "code",
   "execution_count": 27,
   "id": "c1876650-163a-4832-89ef-74e91c4bfcf7",
   "metadata": {},
   "outputs": [
    {
     "data": {
      "text/plain": [
       "Weather_Conditions\n",
       "Fine no high winds       520885\n",
       "Raining no high winds     79696\n",
       "Other                     17150\n",
       "unaccounted               14128\n",
       "Raining + high winds       9615\n",
       "Fine + high winds          8554\n",
       "Snowing no high winds      6238\n",
       "Fog or mist                3528\n",
       "Snowing + high winds        885\n",
       "Name: count, dtype: int64"
      ]
     },
     "execution_count": 27,
     "metadata": {},
     "output_type": "execute_result"
    }
   ],
   "source": [
    "accident['Weather_Conditions'].value_counts()"
   ]
  },
  {
   "cell_type": "markdown",
   "id": "3b9f1a11-fe33-41a7-a3ec-854695861d83",
   "metadata": {},
   "source": [
    "<h2> <strong>Insight: </strong> Based on the result, accidents usually happen during 'fine no high winds' weather condition, then the least accident record happens during 'snowing + high winds'.</h2>"
   ]
  },
  {
   "cell_type": "markdown",
   "id": "7eca60f3-2b73-40d3-abd3-882cc09cb57a",
   "metadata": {},
   "source": [
    "<h1>AGGREGATION</h1>"
   ]
  },
  {
   "cell_type": "markdown",
   "id": "2a19e178-da4c-4522-9636-166729be8d01",
   "metadata": {},
   "source": [
    "<h1>8. How many accidents occur on each type of road overall??</h1>"
   ]
  },
  {
   "cell_type": "code",
   "execution_count": 28,
   "id": "5418ae0b-1e0c-495d-9cbc-570b06c3d267",
   "metadata": {},
   "outputs": [
    {
     "data": {
      "text/plain": [
       "Road_Type\n",
       "Dual carriageway       99424\n",
       "One way street         13559\n",
       "Roundabout             43992\n",
       "Single carriageway    492143\n",
       "Slip road               7041\n",
       "unaccounted             4520\n",
       "dtype: int64"
      ]
     },
     "execution_count": 28,
     "metadata": {},
     "output_type": "execute_result"
    }
   ],
   "source": [
    "accident.groupby('Road_Type').size()"
   ]
  },
  {
   "cell_type": "markdown",
   "id": "6019b06a-d2a5-437f-888f-6243701c4d14",
   "metadata": {},
   "source": [
    "<h2> <strong>Insight: </strong>The results show that, with 496,663 records, single carriageways were the road type with the most accidents. Dual Carriageway, with 99,424 records, came next. The roundabout came in third place with 43,992 accident reports, followed by the one-way street with 13,559 recordings and the slip road with 7,041 records. </h2>"
   ]
  },
  {
   "cell_type": "markdown",
   "id": "d11a7b90-377c-45e5-b22a-669266820188",
   "metadata": {},
   "source": [
    "<h1>9. How many people are killed in accidents on average, broken down by the severity of the accident?</h1>"
   ]
  },
  {
   "cell_type": "code",
   "execution_count": 29,
   "id": "ddea5649-e4af-4429-8968-fe48fd785b83",
   "metadata": {},
   "outputs": [
    {
     "data": {
      "text/plain": [
       "Accident_Severity\n",
       "Fatal      1.903129\n",
       "Serious    1.467280\n",
       "Slight     1.331402\n",
       "Name: Number_of_Casualties, dtype: float64"
      ]
     },
     "execution_count": 29,
     "metadata": {},
     "output_type": "execute_result"
    }
   ],
   "source": [
    "accident.groupby('Accident_Severity')['Number_of_Casualties'].mean()"
   ]
  },
  {
   "cell_type": "markdown",
   "id": "64a2238e-4bc4-4452-bdea-de422387425d",
   "metadata": {},
   "source": [
    "<h2> <strong>Insight: </strong> The average of accident severity in terms of fatal is 1.903129 (highest), serious is 1.467280, and slight is 1.331402 (lowest). </h2>"
   ]
  },
  {
   "cell_type": "markdown",
   "id": "b0726253-f606-4e62-83ff-e311b7ee91e6",
   "metadata": {},
   "source": [
    "<h1>10. How do accident severities vary across different light conditions?</h1>"
   ]
  },
  {
   "cell_type": "code",
   "execution_count": 30,
   "id": "869d11bf-a606-4dd7-9e22-103bf79a8ac8",
   "metadata": {},
   "outputs": [
    {
     "data": {
      "text/html": [
       "<div>\n",
       "<style scoped>\n",
       "    .dataframe tbody tr th:only-of-type {\n",
       "        vertical-align: middle;\n",
       "    }\n",
       "\n",
       "    .dataframe tbody tr th {\n",
       "        vertical-align: top;\n",
       "    }\n",
       "\n",
       "    .dataframe thead th {\n",
       "        text-align: right;\n",
       "    }\n",
       "</style>\n",
       "<table border=\"1\" class=\"dataframe\">\n",
       "  <thead>\n",
       "    <tr style=\"text-align: right;\">\n",
       "      <th>Light_Conditions</th>\n",
       "      <th>Darkness - lighting unknown</th>\n",
       "      <th>Darkness - lights lit</th>\n",
       "      <th>Darkness - lights unlit</th>\n",
       "      <th>Darkness - no lighting</th>\n",
       "      <th>Daylight</th>\n",
       "    </tr>\n",
       "    <tr>\n",
       "      <th>Accident_Severity</th>\n",
       "      <th></th>\n",
       "      <th></th>\n",
       "      <th></th>\n",
       "      <th></th>\n",
       "      <th></th>\n",
       "    </tr>\n",
       "  </thead>\n",
       "  <tbody>\n",
       "    <tr>\n",
       "      <th>Fatal</th>\n",
       "      <td>68</td>\n",
       "      <td>1860</td>\n",
       "      <td>45</td>\n",
       "      <td>1612</td>\n",
       "      <td>5076</td>\n",
       "    </tr>\n",
       "    <tr>\n",
       "      <th>Serious</th>\n",
       "      <td>794</td>\n",
       "      <td>19130</td>\n",
       "      <td>360</td>\n",
       "      <td>7174</td>\n",
       "      <td>60759</td>\n",
       "    </tr>\n",
       "    <tr>\n",
       "      <th>Slight</th>\n",
       "      <td>5622</td>\n",
       "      <td>108345</td>\n",
       "      <td>2138</td>\n",
       "      <td>28651</td>\n",
       "      <td>419045</td>\n",
       "    </tr>\n",
       "  </tbody>\n",
       "</table>\n",
       "</div>"
      ],
      "text/plain": [
       "Light_Conditions   Darkness - lighting unknown  Darkness - lights lit  \\\n",
       "Accident_Severity                                                       \n",
       "Fatal                                       68                   1860   \n",
       "Serious                                    794                  19130   \n",
       "Slight                                    5622                 108345   \n",
       "\n",
       "Light_Conditions   Darkness - lights unlit  Darkness - no lighting  Daylight  \n",
       "Accident_Severity                                                             \n",
       "Fatal                                   45                    1612      5076  \n",
       "Serious                                360                    7174     60759  \n",
       "Slight                                2138                   28651    419045  "
      ]
     },
     "execution_count": 30,
     "metadata": {},
     "output_type": "execute_result"
    }
   ],
   "source": [
    "accident.groupby(['Accident_Severity', 'Light_Conditions']).size().unstack()"
   ]
  },
  {
   "cell_type": "markdown",
   "id": "05690768-f22b-4e1f-a10e-03c4d06dd511",
   "metadata": {},
   "source": [
    "<h2> <strong>Insight: </strong> We can conclude that all the three types of accident severity happens the most during the daylight, while the three of them also happens the least during darkness - lights unlit.  </h2>"
   ]
  },
  {
   "cell_type": "markdown",
   "id": "7e076ae6-417a-431c-8e8d-2899e6cf7f68",
   "metadata": {},
   "source": [
    "<h1>11. What is the distribution of accidents by road type and road surface condition?</h1>"
   ]
  },
  {
   "cell_type": "code",
   "execution_count": 31,
   "id": "050163a0-8bfd-4685-8129-b5ad58d77c72",
   "metadata": {},
   "outputs": [
    {
     "data": {
      "text/html": [
       "<div>\n",
       "<style scoped>\n",
       "    .dataframe tbody tr th:only-of-type {\n",
       "        vertical-align: middle;\n",
       "    }\n",
       "\n",
       "    .dataframe tbody tr th {\n",
       "        vertical-align: top;\n",
       "    }\n",
       "\n",
       "    .dataframe thead th {\n",
       "        text-align: right;\n",
       "    }\n",
       "</style>\n",
       "<table border=\"1\" class=\"dataframe\">\n",
       "  <thead>\n",
       "    <tr style=\"text-align: right;\">\n",
       "      <th>Road_Surface_Conditions</th>\n",
       "      <th>Dry</th>\n",
       "      <th>Flood over 3cm. deep</th>\n",
       "      <th>Frost or ice</th>\n",
       "      <th>Snow</th>\n",
       "      <th>Wet or damp</th>\n",
       "      <th>unaccounted</th>\n",
       "    </tr>\n",
       "    <tr>\n",
       "      <th>Road_Type</th>\n",
       "      <th></th>\n",
       "      <th></th>\n",
       "      <th></th>\n",
       "      <th></th>\n",
       "      <th></th>\n",
       "      <th></th>\n",
       "    </tr>\n",
       "  </thead>\n",
       "  <tbody>\n",
       "    <tr>\n",
       "      <th>Dual carriageway</th>\n",
       "      <td>66205</td>\n",
       "      <td>302</td>\n",
       "      <td>2408</td>\n",
       "      <td>909</td>\n",
       "      <td>29533</td>\n",
       "      <td>67</td>\n",
       "    </tr>\n",
       "    <tr>\n",
       "      <th>One way street</th>\n",
       "      <td>10068</td>\n",
       "      <td>5</td>\n",
       "      <td>183</td>\n",
       "      <td>76</td>\n",
       "      <td>3195</td>\n",
       "      <td>32</td>\n",
       "    </tr>\n",
       "    <tr>\n",
       "      <th>Roundabout</th>\n",
       "      <td>30698</td>\n",
       "      <td>22</td>\n",
       "      <td>745</td>\n",
       "      <td>232</td>\n",
       "      <td>12209</td>\n",
       "      <td>86</td>\n",
       "    </tr>\n",
       "    <tr>\n",
       "      <th>Single carriageway</th>\n",
       "      <td>332698</td>\n",
       "      <td>672</td>\n",
       "      <td>14918</td>\n",
       "      <td>4585</td>\n",
       "      <td>138743</td>\n",
       "      <td>527</td>\n",
       "    </tr>\n",
       "    <tr>\n",
       "      <th>Slip road</th>\n",
       "      <td>4714</td>\n",
       "      <td>9</td>\n",
       "      <td>178</td>\n",
       "      <td>60</td>\n",
       "      <td>2074</td>\n",
       "      <td>6</td>\n",
       "    </tr>\n",
       "    <tr>\n",
       "      <th>unaccounted</th>\n",
       "      <td>3438</td>\n",
       "      <td>7</td>\n",
       "      <td>85</td>\n",
       "      <td>28</td>\n",
       "      <td>954</td>\n",
       "      <td>8</td>\n",
       "    </tr>\n",
       "  </tbody>\n",
       "</table>\n",
       "</div>"
      ],
      "text/plain": [
       "Road_Surface_Conditions     Dry  Flood over 3cm. deep  Frost or ice  Snow  \\\n",
       "Road_Type                                                                   \n",
       "Dual carriageway          66205                   302          2408   909   \n",
       "One way street            10068                     5           183    76   \n",
       "Roundabout                30698                    22           745   232   \n",
       "Single carriageway       332698                   672         14918  4585   \n",
       "Slip road                  4714                     9           178    60   \n",
       "unaccounted                3438                     7            85    28   \n",
       "\n",
       "Road_Surface_Conditions  Wet or damp  unaccounted  \n",
       "Road_Type                                          \n",
       "Dual carriageway               29533           67  \n",
       "One way street                  3195           32  \n",
       "Roundabout                     12209           86  \n",
       "Single carriageway            138743          527  \n",
       "Slip road                       2074            6  \n",
       "unaccounted                      954            8  "
      ]
     },
     "execution_count": 31,
     "metadata": {},
     "output_type": "execute_result"
    }
   ],
   "source": [
    "accident.groupby(['Road_Type', 'Road_Surface_Conditions']).size().unstack()"
   ]
  },
  {
   "cell_type": "markdown",
   "id": "6b12bc5c-7de2-4edc-bc50-1f24b428817f",
   "metadata": {},
   "source": [
    "<h2> <strong>Insight: </strong> The result shows that all of the road types had the same highest number of accidents in terms of road surface conditions which is dry, they also had the same least number of accidents which is flood over 3cm. deep (road surface condition).  </h2>"
   ]
  },
  {
   "cell_type": "markdown",
   "id": "1097e090-721d-4571-9c86-72b309084e16",
   "metadata": {},
   "source": [
    "<h1>12. What type of area does accidents happen the most?</h1>"
   ]
  },
  {
   "cell_type": "code",
   "execution_count": 32,
   "id": "ca8b80a9-fdb1-4451-a39f-e2fbeb82a23f",
   "metadata": {},
   "outputs": [
    {
     "data": {
      "text/plain": [
       "Urban_or_Rural_Area\n",
       "Rural          238990\n",
       "Unallocated        11\n",
       "Urban          421678\n",
       "dtype: int64"
      ]
     },
     "execution_count": 32,
     "metadata": {},
     "output_type": "execute_result"
    }
   ],
   "source": [
    "accident.groupby('Urban_or_Rural_Area').size()"
   ]
  },
  {
   "cell_type": "markdown",
   "id": "c93b54d5-0d57-49b8-819b-59c5af30c63b",
   "metadata": {},
   "source": [
    "<h2> <strong>Insight: </strong> According to the result, accidents usually happen at urban areas. </h2>"
   ]
  },
  {
   "cell_type": "markdown",
   "id": "d45fe357-72f9-4493-8378-bbe3acd02647",
   "metadata": {},
   "source": [
    "<h1>13. What month does accidents usually happens?</h1>"
   ]
  },
  {
   "cell_type": "code",
   "execution_count": 33,
   "id": "083926c8-6c6d-428b-b2fb-5a28e9a24700",
   "metadata": {},
   "outputs": [
    {
     "data": {
      "text/plain": [
       "Month\n",
       "April        51744\n",
       "August       53913\n",
       "December     51836\n",
       "February     49491\n",
       "January      52872\n",
       "July         57445\n",
       "June         56481\n",
       "March        54086\n",
       "May          56352\n",
       "November     60424\n",
       "October      59580\n",
       "September    56455\n",
       "dtype: int64"
      ]
     },
     "execution_count": 33,
     "metadata": {},
     "output_type": "execute_result"
    }
   ],
   "source": [
    "accident.groupby('Month').size()"
   ]
  },
  {
   "cell_type": "markdown",
   "id": "03add06d-d91d-47d0-93fd-6ea9374cb9da",
   "metadata": {},
   "source": [
    "<h2> <strong>Insight: </strong> The result shows that accidents usually happen during the month of November.\n",
    "</h2>"
   ]
  },
  {
   "cell_type": "markdown",
   "id": "9e2692af-419c-409c-a9bf-4321c4c5ffb7",
   "metadata": {},
   "source": [
    "<h1>14. What is the distribution of accidents by accident severity and vehicle type?</h1>"
   ]
  },
  {
   "cell_type": "code",
   "execution_count": 34,
   "id": "5ea4011b-4426-436e-9d8d-4225add02028",
   "metadata": {},
   "outputs": [
    {
     "data": {
      "text/html": [
       "<div>\n",
       "<style scoped>\n",
       "    .dataframe tbody tr th:only-of-type {\n",
       "        vertical-align: middle;\n",
       "    }\n",
       "\n",
       "    .dataframe tbody tr th {\n",
       "        vertical-align: top;\n",
       "    }\n",
       "\n",
       "    .dataframe thead th {\n",
       "        text-align: right;\n",
       "    }\n",
       "</style>\n",
       "<table border=\"1\" class=\"dataframe\">\n",
       "  <thead>\n",
       "    <tr style=\"text-align: right;\">\n",
       "      <th>Vehicle_Type</th>\n",
       "      <th>Agricultural vehicle</th>\n",
       "      <th>Bus or coach (17 or more pass seats)</th>\n",
       "      <th>Car</th>\n",
       "      <th>Data missing or out of range</th>\n",
       "      <th>Goods 7.5 tonnes mgw and over</th>\n",
       "      <th>Goods over 3.5t. and under 7.5t</th>\n",
       "      <th>Minibus (8 - 16 passenger seats)</th>\n",
       "      <th>Motorcycle 125cc and under</th>\n",
       "      <th>Motorcycle 50cc and under</th>\n",
       "      <th>Motorcycle over 125cc and up to 500cc</th>\n",
       "      <th>Motorcycle over 500cc</th>\n",
       "      <th>Other vehicle</th>\n",
       "      <th>Pedal cycle</th>\n",
       "      <th>Ridden horse</th>\n",
       "      <th>Taxi/Private hire car</th>\n",
       "      <th>Van / Goods 3.5 tonnes mgw or under</th>\n",
       "    </tr>\n",
       "    <tr>\n",
       "      <th>Accident_Severity</th>\n",
       "      <th></th>\n",
       "      <th></th>\n",
       "      <th></th>\n",
       "      <th></th>\n",
       "      <th></th>\n",
       "      <th></th>\n",
       "      <th></th>\n",
       "      <th></th>\n",
       "      <th></th>\n",
       "      <th></th>\n",
       "      <th></th>\n",
       "      <th></th>\n",
       "      <th></th>\n",
       "      <th></th>\n",
       "      <th></th>\n",
       "      <th></th>\n",
       "    </tr>\n",
       "  </thead>\n",
       "  <tbody>\n",
       "    <tr>\n",
       "      <th>Fatal</th>\n",
       "      <td>21</td>\n",
       "      <td>325</td>\n",
       "      <td>6577</td>\n",
       "      <td>0</td>\n",
       "      <td>216</td>\n",
       "      <td>67</td>\n",
       "      <td>29</td>\n",
       "      <td>189</td>\n",
       "      <td>95</td>\n",
       "      <td>105</td>\n",
       "      <td>339</td>\n",
       "      <td>70</td>\n",
       "      <td>6</td>\n",
       "      <td>0</td>\n",
       "      <td>155</td>\n",
       "      <td>467</td>\n",
       "    </tr>\n",
       "    <tr>\n",
       "      <th>Serious</th>\n",
       "      <td>282</td>\n",
       "      <td>3373</td>\n",
       "      <td>66461</td>\n",
       "      <td>0</td>\n",
       "      <td>2321</td>\n",
       "      <td>857</td>\n",
       "      <td>276</td>\n",
       "      <td>2031</td>\n",
       "      <td>1014</td>\n",
       "      <td>1014</td>\n",
       "      <td>3457</td>\n",
       "      <td>767</td>\n",
       "      <td>39</td>\n",
       "      <td>0</td>\n",
       "      <td>1771</td>\n",
       "      <td>4554</td>\n",
       "    </tr>\n",
       "    <tr>\n",
       "      <th>Slight</th>\n",
       "      <td>1644</td>\n",
       "      <td>22180</td>\n",
       "      <td>424954</td>\n",
       "      <td>6</td>\n",
       "      <td>14770</td>\n",
       "      <td>5172</td>\n",
       "      <td>1671</td>\n",
       "      <td>13049</td>\n",
       "      <td>6494</td>\n",
       "      <td>6537</td>\n",
       "      <td>21861</td>\n",
       "      <td>4800</td>\n",
       "      <td>152</td>\n",
       "      <td>4</td>\n",
       "      <td>11368</td>\n",
       "      <td>29139</td>\n",
       "    </tr>\n",
       "  </tbody>\n",
       "</table>\n",
       "</div>"
      ],
      "text/plain": [
       "Vehicle_Type       Agricultural vehicle  Bus or coach (17 or more pass seats)  \\\n",
       "Accident_Severity                                                               \n",
       "Fatal                                21                                   325   \n",
       "Serious                             282                                  3373   \n",
       "Slight                             1644                                 22180   \n",
       "\n",
       "Vehicle_Type          Car  Data missing or out of range  \\\n",
       "Accident_Severity                                         \n",
       "Fatal                6577                             0   \n",
       "Serious             66461                             0   \n",
       "Slight             424954                             6   \n",
       "\n",
       "Vehicle_Type       Goods 7.5 tonnes mgw and over  \\\n",
       "Accident_Severity                                  \n",
       "Fatal                                        216   \n",
       "Serious                                     2321   \n",
       "Slight                                     14770   \n",
       "\n",
       "Vehicle_Type       Goods over 3.5t. and under 7.5t  \\\n",
       "Accident_Severity                                    \n",
       "Fatal                                           67   \n",
       "Serious                                        857   \n",
       "Slight                                        5172   \n",
       "\n",
       "Vehicle_Type       Minibus (8 - 16 passenger seats)  \\\n",
       "Accident_Severity                                     \n",
       "Fatal                                            29   \n",
       "Serious                                         276   \n",
       "Slight                                         1671   \n",
       "\n",
       "Vehicle_Type       Motorcycle 125cc and under  Motorcycle 50cc and under  \\\n",
       "Accident_Severity                                                          \n",
       "Fatal                                     189                         95   \n",
       "Serious                                  2031                       1014   \n",
       "Slight                                  13049                       6494   \n",
       "\n",
       "Vehicle_Type       Motorcycle over 125cc and up to 500cc  \\\n",
       "Accident_Severity                                          \n",
       "Fatal                                                105   \n",
       "Serious                                             1014   \n",
       "Slight                                              6537   \n",
       "\n",
       "Vehicle_Type       Motorcycle over 500cc  Other vehicle  Pedal cycle  \\\n",
       "Accident_Severity                                                      \n",
       "Fatal                                339             70            6   \n",
       "Serious                             3457            767           39   \n",
       "Slight                             21861           4800          152   \n",
       "\n",
       "Vehicle_Type       Ridden horse  Taxi/Private hire car  \\\n",
       "Accident_Severity                                        \n",
       "Fatal                         0                    155   \n",
       "Serious                       0                   1771   \n",
       "Slight                        4                  11368   \n",
       "\n",
       "Vehicle_Type       Van / Goods 3.5 tonnes mgw or under  \n",
       "Accident_Severity                                       \n",
       "Fatal                                              467  \n",
       "Serious                                           4554  \n",
       "Slight                                           29139  "
      ]
     },
     "execution_count": 34,
     "metadata": {},
     "output_type": "execute_result"
    }
   ],
   "source": [
    "accident.groupby(['Accident_Severity','Vehicle_Type']).size().unstack()"
   ]
  },
  {
   "cell_type": "markdown",
   "id": "8ccb4144-3614-48f9-8736-3c605f7e94ca",
   "metadata": {},
   "source": [
    "<h2> <strong>Insight: </strong> According to the result, car is the vehicle type that got the highest accident of all the three types of accident severity, while ridden horse has the least. </h2>"
   ]
  },
  {
   "cell_type": "markdown",
   "id": "f800ccea-1f21-4c08-97dd-654faa6f52a6",
   "metadata": {},
   "source": [
    "<h1>~Correlation~</h1>"
   ]
  },
  {
   "cell_type": "markdown",
   "id": "670bba35-6856-43c4-8884-7d46758d1fa3",
   "metadata": {},
   "source": [
    "<h1>15. Is there a correlation between the number of casualties and number of vehicles?</h1>"
   ]
  },
  {
   "cell_type": "code",
   "execution_count": 35,
   "id": "e6ea8744-1ba5-413c-88f9-e2e3d72c80dc",
   "metadata": {},
   "outputs": [
    {
     "data": {
      "text/plain": [
       "np.float64(0.2288888612692756)"
      ]
     },
     "execution_count": 35,
     "metadata": {},
     "output_type": "execute_result"
    }
   ],
   "source": [
    "accident['Number_of_Casualties'].corr(accident['Number_of_Vehicles'])"
   ]
  },
  {
   "cell_type": "markdown",
   "id": "b410be02-3cd3-4f81-a71d-9554c10708e1",
   "metadata": {},
   "source": [
    "<h2> <strong>Insight: </strong> The result shows that number of casualties and number of vehicles has no correlation.</h2>"
   ]
  },
  {
   "cell_type": "markdown",
   "id": "3c78e0ba-a1a8-4d01-85b0-80aebf1cbcd2",
   "metadata": {},
   "source": [
    "<h1>16. Is there a correlation betweem latitude number of casualties?</h1>"
   ]
  },
  {
   "cell_type": "code",
   "execution_count": 36,
   "id": "ea2afa9a-1d82-42ca-97c8-364997144be2",
   "metadata": {},
   "outputs": [
    {
     "data": {
      "text/plain": [
       "np.float64(0.032200686625906395)"
      ]
     },
     "execution_count": 36,
     "metadata": {},
     "output_type": "execute_result"
    }
   ],
   "source": [
    "accident['Latitude'].corr(accident['Number_of_Casualties'])"
   ]
  },
  {
   "cell_type": "markdown",
   "id": "66e90315-0c43-4f13-816f-9ab7fd2341fb",
   "metadata": {},
   "source": [
    "<h2> <strong>Insight: </strong> Based on the result, there is no correlation between laltitude and number of casualties. </h2>"
   ]
  },
  {
   "cell_type": "markdown",
   "id": "5acdc8e6-1d11-4cea-8fc4-953cf9b0fb32",
   "metadata": {},
   "source": [
    "<h1>17. Is there a correlation between longitude and number of casualties?</h1>"
   ]
  },
  {
   "cell_type": "code",
   "execution_count": 37,
   "id": "c942c2df-f2d4-486d-8356-8b693d7c4eb4",
   "metadata": {},
   "outputs": [
    {
     "data": {
      "text/plain": [
       "np.float64(-0.0404056457884545)"
      ]
     },
     "execution_count": 37,
     "metadata": {},
     "output_type": "execute_result"
    }
   ],
   "source": [
    "accident['Longitude'].corr(accident['Number_of_Casualties'])"
   ]
  },
  {
   "cell_type": "markdown",
   "id": "b550e5d6-5283-4a98-9826-5290aec438fa",
   "metadata": {},
   "source": [
    "<h2> <strong>Insight: </strong> The result shows that there is no correlation between longitude and number of casualties.</h2>"
   ]
  },
  {
   "cell_type": "markdown",
   "id": "0df9161d-20c3-4241-8320-0b3c7ce99699",
   "metadata": {},
   "source": [
    "<h1>18. Is there a significant difference between accident severity and number of vehicles?</h1>"
   ]
  },
  {
   "cell_type": "code",
   "execution_count": 38,
   "id": "094c613a-e624-4154-b7c4-e5efca15853f",
   "metadata": {},
   "outputs": [
    {
     "data": {
      "text/plain": [
       "['Serious', 'Slight', 'Fatal']\n",
       "Categories (3, object): ['Fatal', 'Serious', 'Slight']"
      ]
     },
     "execution_count": 38,
     "metadata": {},
     "output_type": "execute_result"
    }
   ],
   "source": [
    "accident['Accident_Severity'].unique()"
   ]
  },
  {
   "cell_type": "code",
   "execution_count": 39,
   "id": "63f6e2b3-9bde-4523-815f-c7b629797fe2",
   "metadata": {},
   "outputs": [],
   "source": [
    "vehiserious = accident[accident['Accident_Severity'] == 'Serious']['Number_of_Vehicles']\n",
    "vehislight = accident[accident['Accident_Severity'] == 'Slight']['Number_of_Vehicles']\n",
    "vehifatal = accident[accident['Accident_Severity'] == 'Fatal']['Number_of_Vehicles']"
   ]
  },
  {
   "cell_type": "code",
   "execution_count": 40,
   "id": "e11a2589-bea4-44d2-afbf-21eabe04ee74",
   "metadata": {},
   "outputs": [
    {
     "data": {
      "text/plain": [
       "np.float64(0.0)"
      ]
     },
     "execution_count": 40,
     "metadata": {},
     "output_type": "execute_result"
    }
   ],
   "source": [
    "result, pvalue = f_oneway(vehiserious, vehislight, vehifatal)\n",
    "pvalue"
   ]
  },
  {
   "cell_type": "markdown",
   "id": "ba4bbc86-4cbf-43fd-9783-13529d566b3a",
   "metadata": {},
   "source": [
    "<h2> <strong>Insight: </strong>The result shows that there is extremely significance between the accident severity and number of vehicles, it shows that they are very related to each other.</h2>"
   ]
  },
  {
   "cell_type": "markdown",
   "id": "9118be1a-b507-431b-87d0-3d4520a5e2d6",
   "metadata": {},
   "source": [
    "\n",
    "<h1>19. Is there a significant difference between the area and number of casualties?</h1>"
   ]
  },
  {
   "cell_type": "code",
   "execution_count": 41,
   "id": "cbbbc916-a5e6-401f-a610-db3e3b61bc79",
   "metadata": {},
   "outputs": [
    {
     "data": {
      "text/plain": [
       "['Urban', 'Rural', 'Unallocated']\n",
       "Categories (3, object): ['Rural', 'Unallocated', 'Urban']"
      ]
     },
     "execution_count": 41,
     "metadata": {},
     "output_type": "execute_result"
    }
   ],
   "source": [
    "accident['Urban_or_Rural_Area'].unique()"
   ]
  },
  {
   "cell_type": "code",
   "execution_count": 42,
   "id": "ffbd893e-bc17-4dba-a940-40afd5fe533d",
   "metadata": {},
   "outputs": [],
   "source": [
    "urbancasualty = accident[accident['Urban_or_Rural_Area'] == 'Urban']['Number_of_Casualties']\n",
    "ruralcasualty = accident[accident['Urban_or_Rural_Area'] == 'Rural']['Number_of_Casualties']\n",
    "unallocatedcasualty = accident[accident['Urban_or_Rural_Area'] == 'Unallocated']['Number_of_Casualties']"
   ]
  },
  {
   "cell_type": "code",
   "execution_count": 43,
   "id": "3f4b6217-23a7-4d8b-afa4-bf7d756a303a",
   "metadata": {},
   "outputs": [
    {
     "data": {
      "text/plain": [
       "np.float64(0.0)"
      ]
     },
     "execution_count": 43,
     "metadata": {},
     "output_type": "execute_result"
    }
   ],
   "source": [
    "result, pvalue = f_oneway(urbancasualty, ruralcasualty, unallocatedcasualty)\n",
    "pvalue"
   ]
  },
  {
   "cell_type": "markdown",
   "id": "d4b61afb-98b1-46fd-a090-8f89518fafb8",
   "metadata": {},
   "source": [
    "<h2> <strong>Insight: </strong> According to the result, there is a significant difference between the areas and the number of casualties. </h2>"
   ]
  },
  {
   "cell_type": "markdown",
   "id": "e6cd9596-0fb8-4280-8c5c-0303b9cf5793",
   "metadata": {},
   "source": [
    "<h1>20. Is there a significant difference between light conditions and latitude?</h1>"
   ]
  },
  {
   "cell_type": "code",
   "execution_count": 44,
   "id": "7074f0dd-c991-4eb6-914d-66fcc953bebd",
   "metadata": {},
   "outputs": [
    {
     "data": {
      "text/plain": [
       "['Darkness - lights lit', 'Daylight', 'Darkness - lighting unknown', 'Darkness - lights unlit', 'Darkness - no lighting']\n",
       "Categories (5, object): ['Darkness - lighting unknown', 'Darkness - lights lit', 'Darkness - lights unlit', 'Darkness - no lighting', 'Daylight']"
      ]
     },
     "execution_count": 44,
     "metadata": {},
     "output_type": "execute_result"
    }
   ],
   "source": [
    "accident['Light_Conditions'].unique()"
   ]
  },
  {
   "cell_type": "code",
   "execution_count": 45,
   "id": "c696e168-0c2f-474f-b664-4b8adedad374",
   "metadata": {},
   "outputs": [],
   "source": [
    "lighta = accident[accident['Light_Conditions'] == 'Darkness - lights lit']['Latitude']\n",
    "lightb = accident[accident['Light_Conditions'] == 'Daylight']['Latitude']\n",
    "lightc = accident[accident['Light_Conditions'] == 'Darkness - lighting unknown']['Latitude']\n",
    "lightd = accident[accident['Light_Conditions'] == 'Darkness - lights unlit']['Latitude']\n",
    "lighte = accident[accident['Light_Conditions'] == 'Darkness - no lighting']['Latitude']"
   ]
  },
  {
   "cell_type": "code",
   "execution_count": 46,
   "id": "9a6978a2-8c49-4444-b136-ed4fc9800c03",
   "metadata": {},
   "outputs": [
    {
     "data": {
      "text/plain": [
       "np.float64(1.224998791423201e-27)"
      ]
     },
     "execution_count": 46,
     "metadata": {},
     "output_type": "execute_result"
    }
   ],
   "source": [
    "result, pvalue = f_oneway(lighta, lightb, lightc, lightd, lighte)\n",
    "pvalue"
   ]
  },
  {
   "cell_type": "markdown",
   "id": "7ce77989-c53d-47e4-be67-3e7231f6b51d",
   "metadata": {},
   "source": [
    "<h2> <strong>Insight: </strong> The result shows that the difference between light conditions and latitude is very significant, mean the light conditions has an extreme effect on the latitude. </h2>"
   ]
  },
  {
   "cell_type": "markdown",
   "id": "45261672-a44e-489c-bc91-519c32f02da9",
   "metadata": {},
   "source": [
    "<hr>\n",
    "<h1>ADDITIONAL FIVE QUESTIONS ABOUT ACCIDENT DATE</h1>"
   ]
  },
  {
   "cell_type": "markdown",
   "id": "b7b3f5b8-04d5-4edb-9065-09777b281589",
   "metadata": {},
   "source": [
    "<h2>UniVariate</h2>"
   ]
  },
  {
   "cell_type": "markdown",
   "id": "134f696d-7780-41ce-9445-d388da14ca80",
   "metadata": {},
   "source": [
    "<h1>21. Which day of the week had the most accidents record?</h1>"
   ]
  },
  {
   "cell_type": "code",
   "execution_count": 47,
   "id": "93d1a15c-f7de-488f-b176-a4f4f1e165d7",
   "metadata": {},
   "outputs": [
    {
     "data": {
      "text/plain": [
       "DayofWeek\n",
       "5    107178\n",
       "2     99558\n",
       "3     99511\n",
       "4     97900\n",
       "1     94550\n",
       "6     89302\n",
       "0     72680\n",
       "Name: count, dtype: int64"
      ]
     },
     "execution_count": 47,
     "metadata": {},
     "output_type": "execute_result"
    }
   ],
   "source": [
    "accident['DayofWeek'].value_counts()"
   ]
  },
  {
   "cell_type": "markdown",
   "id": "d5ab67ac-100f-4fa4-bdd5-b2f54571851f",
   "metadata": {},
   "source": [
    "<h2> <strong>Insight: </strong> Based on the result, accidents mostly occurs on Saturday, and accidents happen the least during Mondays. </h2>"
   ]
  },
  {
   "cell_type": "markdown",
   "id": "188e45eb-a250-4f18-948c-1f31ee121cfc",
   "metadata": {},
   "source": [
    "<h2>BiVariate</h2>"
   ]
  },
  {
   "cell_type": "markdown",
   "id": "7b3fe77b-ffba-40a1-848c-71399ed8b246",
   "metadata": {},
   "source": [
    "<h1>22. What is the number of accidents per month in each year?</h1>"
   ]
  },
  {
   "cell_type": "code",
   "execution_count": 48,
   "id": "c1654154-927c-499d-baa3-8ec448d42442",
   "metadata": {},
   "outputs": [
    {
     "data": {
      "text/html": [
       "<div>\n",
       "<style scoped>\n",
       "    .dataframe tbody tr th:only-of-type {\n",
       "        vertical-align: middle;\n",
       "    }\n",
       "\n",
       "    .dataframe tbody tr th {\n",
       "        vertical-align: top;\n",
       "    }\n",
       "\n",
       "    .dataframe thead th {\n",
       "        text-align: right;\n",
       "    }\n",
       "</style>\n",
       "<table border=\"1\" class=\"dataframe\">\n",
       "  <thead>\n",
       "    <tr style=\"text-align: right;\">\n",
       "      <th>Year</th>\n",
       "      <th>2019</th>\n",
       "      <th>2020</th>\n",
       "      <th>2021</th>\n",
       "      <th>2022</th>\n",
       "    </tr>\n",
       "    <tr>\n",
       "      <th>Month</th>\n",
       "      <th></th>\n",
       "      <th></th>\n",
       "      <th></th>\n",
       "      <th></th>\n",
       "    </tr>\n",
       "  </thead>\n",
       "  <tbody>\n",
       "    <tr>\n",
       "      <th>April</th>\n",
       "      <td>14125</td>\n",
       "      <td>13394</td>\n",
       "      <td>12715</td>\n",
       "      <td>11510</td>\n",
       "    </tr>\n",
       "    <tr>\n",
       "      <th>August</th>\n",
       "      <td>15044</td>\n",
       "      <td>13366</td>\n",
       "      <td>13415</td>\n",
       "      <td>12088</td>\n",
       "    </tr>\n",
       "    <tr>\n",
       "      <th>December</th>\n",
       "      <td>14708</td>\n",
       "      <td>13794</td>\n",
       "      <td>13709</td>\n",
       "      <td>9625</td>\n",
       "    </tr>\n",
       "    <tr>\n",
       "      <th>February</th>\n",
       "      <td>13253</td>\n",
       "      <td>14353</td>\n",
       "      <td>10950</td>\n",
       "      <td>10935</td>\n",
       "    </tr>\n",
       "    <tr>\n",
       "      <th>January</th>\n",
       "      <td>15355</td>\n",
       "      <td>14133</td>\n",
       "      <td>13417</td>\n",
       "      <td>9967</td>\n",
       "    </tr>\n",
       "    <tr>\n",
       "      <th>July</th>\n",
       "      <td>15862</td>\n",
       "      <td>14630</td>\n",
       "      <td>14300</td>\n",
       "      <td>12653</td>\n",
       "    </tr>\n",
       "    <tr>\n",
       "      <th>June</th>\n",
       "      <td>15528</td>\n",
       "      <td>14205</td>\n",
       "      <td>13936</td>\n",
       "      <td>12812</td>\n",
       "    </tr>\n",
       "    <tr>\n",
       "      <th>March</th>\n",
       "      <td>15049</td>\n",
       "      <td>13494</td>\n",
       "      <td>13202</td>\n",
       "      <td>12341</td>\n",
       "    </tr>\n",
       "    <tr>\n",
       "      <th>May</th>\n",
       "      <td>15833</td>\n",
       "      <td>14336</td>\n",
       "      <td>13811</td>\n",
       "      <td>12372</td>\n",
       "    </tr>\n",
       "    <tr>\n",
       "      <th>November</th>\n",
       "      <td>16559</td>\n",
       "      <td>14770</td>\n",
       "      <td>15473</td>\n",
       "      <td>13622</td>\n",
       "    </tr>\n",
       "    <tr>\n",
       "      <th>October</th>\n",
       "      <td>15528</td>\n",
       "      <td>15684</td>\n",
       "      <td>14834</td>\n",
       "      <td>13534</td>\n",
       "    </tr>\n",
       "    <tr>\n",
       "      <th>September</th>\n",
       "      <td>15271</td>\n",
       "      <td>14432</td>\n",
       "      <td>13792</td>\n",
       "      <td>12960</td>\n",
       "    </tr>\n",
       "  </tbody>\n",
       "</table>\n",
       "</div>"
      ],
      "text/plain": [
       "Year        2019   2020   2021   2022\n",
       "Month                                \n",
       "April      14125  13394  12715  11510\n",
       "August     15044  13366  13415  12088\n",
       "December   14708  13794  13709   9625\n",
       "February   13253  14353  10950  10935\n",
       "January    15355  14133  13417   9967\n",
       "July       15862  14630  14300  12653\n",
       "June       15528  14205  13936  12812\n",
       "March      15049  13494  13202  12341\n",
       "May        15833  14336  13811  12372\n",
       "November   16559  14770  15473  13622\n",
       "October    15528  15684  14834  13534\n",
       "September  15271  14432  13792  12960"
      ]
     },
     "execution_count": 48,
     "metadata": {},
     "output_type": "execute_result"
    }
   ],
   "source": [
    "accidentpermonth = accident.groupby(['Month', 'Year']).size()\n",
    "accidentpermonth.unstack()"
   ]
  },
  {
   "cell_type": "markdown",
   "id": "43808f31-5eb9-45a2-aa3b-7563b99287f3",
   "metadata": {},
   "source": [
    "<h2> <strong>Insight 1: </strong> According to their percentage equivalency, November consistently has the highest accident rate in all four years, with two consecutive years having rates above 9% (2021 and 2022). Although October also has a high percentage with three ratings of 9% or above, November often outperforms it by a small margin.</h2>\n",
    "<h2> <strong>Insight 2: </strong> <strong>February has the lowest percentage</strong> of accidents especially 2021 at just <strong>6.7%.</strong> It suggests that road accidents tend to be more common in October, while February is generally a safer month./h2>\n",
    "<h2> <strong>Insight 3: </strong>Most of the months had high road accident rate on the year 2019, and we could see from the numbers that on the years 2020-2022, the number had decreased and we can conclude that this is  perhaps because of the pandemic. </h2>"
   ]
  },
  {
   "cell_type": "markdown",
   "id": "aa607c20-b560-4799-850f-62039f35ecee",
   "metadata": {},
   "source": [
    "<h1>23. What is the state of accident severity across years?</h1>"
   ]
  },
  {
   "cell_type": "code",
   "execution_count": 49,
   "id": "91631def-d82b-47e0-87c6-a96badebb6c7",
   "metadata": {},
   "outputs": [
    {
     "data": {
      "text/html": [
       "<div>\n",
       "<style scoped>\n",
       "    .dataframe tbody tr th:only-of-type {\n",
       "        vertical-align: middle;\n",
       "    }\n",
       "\n",
       "    .dataframe tbody tr th {\n",
       "        vertical-align: top;\n",
       "    }\n",
       "\n",
       "    .dataframe thead th {\n",
       "        text-align: right;\n",
       "    }\n",
       "</style>\n",
       "<table border=\"1\" class=\"dataframe\">\n",
       "  <thead>\n",
       "    <tr style=\"text-align: right;\">\n",
       "      <th>Year</th>\n",
       "      <th>2019</th>\n",
       "      <th>2020</th>\n",
       "      <th>2021</th>\n",
       "      <th>2022</th>\n",
       "    </tr>\n",
       "    <tr>\n",
       "      <th>Accident_Severity</th>\n",
       "      <th></th>\n",
       "      <th></th>\n",
       "      <th></th>\n",
       "      <th></th>\n",
       "    </tr>\n",
       "  </thead>\n",
       "  <tbody>\n",
       "    <tr>\n",
       "      <th>Fatal</th>\n",
       "      <td>2714</td>\n",
       "      <td>2341</td>\n",
       "      <td>2057</td>\n",
       "      <td>1549</td>\n",
       "    </tr>\n",
       "    <tr>\n",
       "      <th>Serious</th>\n",
       "      <td>24322</td>\n",
       "      <td>23121</td>\n",
       "      <td>21997</td>\n",
       "      <td>18777</td>\n",
       "    </tr>\n",
       "    <tr>\n",
       "      <th>Slight</th>\n",
       "      <td>155079</td>\n",
       "      <td>145129</td>\n",
       "      <td>139500</td>\n",
       "      <td>124093</td>\n",
       "    </tr>\n",
       "  </tbody>\n",
       "</table>\n",
       "</div>"
      ],
      "text/plain": [
       "Year                 2019    2020    2021    2022\n",
       "Accident_Severity                                \n",
       "Fatal                2714    2341    2057    1549\n",
       "Serious             24322   23121   21997   18777\n",
       "Slight             155079  145129  139500  124093"
      ]
     },
     "execution_count": 49,
     "metadata": {},
     "output_type": "execute_result"
    }
   ],
   "source": [
    "accident.groupby(['Accident_Severity', 'Year']).size().unstack()"
   ]
  },
  {
   "cell_type": "markdown",
   "id": "8000c40c-c496-4c24-935f-4ed71cf00a48",
   "metadata": {},
   "source": [
    "<h2> <strong>Insight 1: </strong> From the number itself, it shows that deadly crashes are rare compared to other types of accident severity. <strong>Fatal accidents are only around 1% of all cases.</strong> They even decreased slightly over the years, from 1.49% in 2019 down to 1.07% in 2022.</h2>\n",
    "<h2> <strong>Insight 2: </strong> On the other hand, <strong>slight accidents had the highest consistent record at around 85% every year</strong>.<</h2>\n",
    "<h2> <strong>Insight 3: </strong> <strong>Seious accidents</strong> are in the middle of the percentage, <strong>staying between 13–14%</strong>.</h2>\n",
    "<h2> <strong>Insight 4: </strong> Accidents across the years were slight and less harmful, a small portion are serious, and very few cases are fatal.</h2>"
   ]
  },
  {
   "cell_type": "markdown",
   "id": "c473d0e0-05df-4a91-8979-413eb5b15960",
   "metadata": {},
   "source": [
    "<h2>-MultiVariate-</h2>"
   ]
  },
  {
   "cell_type": "markdown",
   "id": "9bf844aa-dd47-490f-af54-d99db536d694",
   "metadata": {},
   "source": [
    "<h1>24. What is the average casualties per month, year, and road surface conditions?</h1>"
   ]
  },
  {
   "cell_type": "code",
   "execution_count": 50,
   "id": "2dbced6e-8b47-4f20-b013-f1a3ffd22ba4",
   "metadata": {},
   "outputs": [
    {
     "data": {
      "text/html": [
       "<div>\n",
       "<style scoped>\n",
       "    .dataframe tbody tr th:only-of-type {\n",
       "        vertical-align: middle;\n",
       "    }\n",
       "\n",
       "    .dataframe tbody tr th {\n",
       "        vertical-align: top;\n",
       "    }\n",
       "\n",
       "    .dataframe thead th {\n",
       "        text-align: right;\n",
       "    }\n",
       "</style>\n",
       "<table border=\"1\" class=\"dataframe\">\n",
       "  <thead>\n",
       "    <tr style=\"text-align: right;\">\n",
       "      <th></th>\n",
       "      <th>Road_Surface_Conditions</th>\n",
       "      <th>Dry</th>\n",
       "      <th>Flood over 3cm. deep</th>\n",
       "      <th>Frost or ice</th>\n",
       "      <th>Snow</th>\n",
       "      <th>Wet or damp</th>\n",
       "      <th>unaccounted</th>\n",
       "    </tr>\n",
       "    <tr>\n",
       "      <th>Month</th>\n",
       "      <th>Year</th>\n",
       "      <th></th>\n",
       "      <th></th>\n",
       "      <th></th>\n",
       "      <th></th>\n",
       "      <th></th>\n",
       "      <th></th>\n",
       "    </tr>\n",
       "  </thead>\n",
       "  <tbody>\n",
       "    <tr>\n",
       "      <th rowspan=\"4\" valign=\"top\">April</th>\n",
       "      <th>2019</th>\n",
       "      <td>1.360358</td>\n",
       "      <td>1.000000</td>\n",
       "      <td>1.200000</td>\n",
       "      <td>NaN</td>\n",
       "      <td>1.385888</td>\n",
       "      <td>1.000000</td>\n",
       "    </tr>\n",
       "    <tr>\n",
       "      <th>2020</th>\n",
       "      <td>1.339197</td>\n",
       "      <td>1.538462</td>\n",
       "      <td>1.560606</td>\n",
       "      <td>1.442308</td>\n",
       "      <td>1.442780</td>\n",
       "      <td>1.000000</td>\n",
       "    </tr>\n",
       "    <tr>\n",
       "      <th>2021</th>\n",
       "      <td>1.353704</td>\n",
       "      <td>1.000000</td>\n",
       "      <td>1.000000</td>\n",
       "      <td>2.000000</td>\n",
       "      <td>1.420137</td>\n",
       "      <td>1.181818</td>\n",
       "    </tr>\n",
       "    <tr>\n",
       "      <th>2022</th>\n",
       "      <td>1.357578</td>\n",
       "      <td>1.000000</td>\n",
       "      <td>1.500000</td>\n",
       "      <td>1.250000</td>\n",
       "      <td>1.485714</td>\n",
       "      <td>1.181818</td>\n",
       "    </tr>\n",
       "    <tr>\n",
       "      <th rowspan=\"4\" valign=\"top\">August</th>\n",
       "      <th>2019</th>\n",
       "      <td>1.383017</td>\n",
       "      <td>1.636364</td>\n",
       "      <td>1.000000</td>\n",
       "      <td>1.000000</td>\n",
       "      <td>1.458948</td>\n",
       "      <td>1.304348</td>\n",
       "    </tr>\n",
       "    <tr>\n",
       "      <th>2020</th>\n",
       "      <td>1.375027</td>\n",
       "      <td>1.578947</td>\n",
       "      <td>1.000000</td>\n",
       "      <td>2.000000</td>\n",
       "      <td>1.450013</td>\n",
       "      <td>1.304348</td>\n",
       "    </tr>\n",
       "    <tr>\n",
       "      <th>2021</th>\n",
       "      <td>1.385929</td>\n",
       "      <td>2.090909</td>\n",
       "      <td>NaN</td>\n",
       "      <td>1.000000</td>\n",
       "      <td>1.463757</td>\n",
       "      <td>1.000000</td>\n",
       "    </tr>\n",
       "    <tr>\n",
       "      <th>2022</th>\n",
       "      <td>1.379569</td>\n",
       "      <td>1.750000</td>\n",
       "      <td>1.500000</td>\n",
       "      <td>2.000000</td>\n",
       "      <td>1.415216</td>\n",
       "      <td>1.400000</td>\n",
       "    </tr>\n",
       "    <tr>\n",
       "      <th rowspan=\"4\" valign=\"top\">December</th>\n",
       "      <th>2019</th>\n",
       "      <td>1.286649</td>\n",
       "      <td>1.531915</td>\n",
       "      <td>1.350850</td>\n",
       "      <td>1.181818</td>\n",
       "      <td>1.422541</td>\n",
       "      <td>1.000000</td>\n",
       "    </tr>\n",
       "    <tr>\n",
       "      <th>2020</th>\n",
       "      <td>1.335708</td>\n",
       "      <td>1.708333</td>\n",
       "      <td>1.345857</td>\n",
       "      <td>1.252427</td>\n",
       "      <td>1.401117</td>\n",
       "      <td>1.142857</td>\n",
       "    </tr>\n",
       "    <tr>\n",
       "      <th>2021</th>\n",
       "      <td>1.274566</td>\n",
       "      <td>1.500000</td>\n",
       "      <td>1.380342</td>\n",
       "      <td>1.374680</td>\n",
       "      <td>1.388427</td>\n",
       "      <td>1.461538</td>\n",
       "    </tr>\n",
       "    <tr>\n",
       "      <th>2022</th>\n",
       "      <td>1.297656</td>\n",
       "      <td>1.600000</td>\n",
       "      <td>1.385561</td>\n",
       "      <td>1.376316</td>\n",
       "      <td>1.415217</td>\n",
       "      <td>1.125000</td>\n",
       "    </tr>\n",
       "    <tr>\n",
       "      <th rowspan=\"4\" valign=\"top\">February</th>\n",
       "      <th>2019</th>\n",
       "      <td>1.315298</td>\n",
       "      <td>1.083333</td>\n",
       "      <td>1.287305</td>\n",
       "      <td>1.312000</td>\n",
       "      <td>1.401046</td>\n",
       "      <td>1.133333</td>\n",
       "    </tr>\n",
       "    <tr>\n",
       "      <th>2020</th>\n",
       "      <td>1.318313</td>\n",
       "      <td>1.600000</td>\n",
       "      <td>1.346648</td>\n",
       "      <td>1.661017</td>\n",
       "      <td>1.383009</td>\n",
       "      <td>1.071429</td>\n",
       "    </tr>\n",
       "    <tr>\n",
       "      <th>2021</th>\n",
       "      <td>1.326901</td>\n",
       "      <td>1.176471</td>\n",
       "      <td>1.364519</td>\n",
       "      <td>1.303318</td>\n",
       "      <td>1.362491</td>\n",
       "      <td>1.272727</td>\n",
       "    </tr>\n",
       "    <tr>\n",
       "      <th>2022</th>\n",
       "      <td>1.325941</td>\n",
       "      <td>1.714286</td>\n",
       "      <td>1.317593</td>\n",
       "      <td>1.402632</td>\n",
       "      <td>1.388079</td>\n",
       "      <td>1.187500</td>\n",
       "    </tr>\n",
       "    <tr>\n",
       "      <th rowspan=\"4\" valign=\"top\">January</th>\n",
       "      <th>2019</th>\n",
       "      <td>1.301965</td>\n",
       "      <td>1.358974</td>\n",
       "      <td>1.331887</td>\n",
       "      <td>1.278571</td>\n",
       "      <td>1.403802</td>\n",
       "      <td>1.150000</td>\n",
       "    </tr>\n",
       "    <tr>\n",
       "      <th>2020</th>\n",
       "      <td>1.305425</td>\n",
       "      <td>1.515625</td>\n",
       "      <td>1.308008</td>\n",
       "      <td>1.301887</td>\n",
       "      <td>1.369336</td>\n",
       "      <td>1.217391</td>\n",
       "    </tr>\n",
       "    <tr>\n",
       "      <th>2021</th>\n",
       "      <td>1.331680</td>\n",
       "      <td>1.333333</td>\n",
       "      <td>1.315061</td>\n",
       "      <td>1.346535</td>\n",
       "      <td>1.387118</td>\n",
       "      <td>1.357143</td>\n",
       "    </tr>\n",
       "    <tr>\n",
       "      <th>2022</th>\n",
       "      <td>1.285207</td>\n",
       "      <td>1.111111</td>\n",
       "      <td>1.336806</td>\n",
       "      <td>1.334642</td>\n",
       "      <td>1.347077</td>\n",
       "      <td>1.222222</td>\n",
       "    </tr>\n",
       "    <tr>\n",
       "      <th rowspan=\"4\" valign=\"top\">July</th>\n",
       "      <th>2019</th>\n",
       "      <td>1.342417</td>\n",
       "      <td>1.538462</td>\n",
       "      <td>1.000000</td>\n",
       "      <td>1.400000</td>\n",
       "      <td>1.459278</td>\n",
       "      <td>1.444444</td>\n",
       "    </tr>\n",
       "    <tr>\n",
       "      <th>2020</th>\n",
       "      <td>1.324689</td>\n",
       "      <td>1.583333</td>\n",
       "      <td>1.000000</td>\n",
       "      <td>1.000000</td>\n",
       "      <td>1.445199</td>\n",
       "      <td>1.500000</td>\n",
       "    </tr>\n",
       "    <tr>\n",
       "      <th>2021</th>\n",
       "      <td>1.340411</td>\n",
       "      <td>1.444444</td>\n",
       "      <td>1.000000</td>\n",
       "      <td>NaN</td>\n",
       "      <td>1.474479</td>\n",
       "      <td>1.066667</td>\n",
       "    </tr>\n",
       "    <tr>\n",
       "      <th>2022</th>\n",
       "      <td>1.339222</td>\n",
       "      <td>1.750000</td>\n",
       "      <td>1.000000</td>\n",
       "      <td>1.000000</td>\n",
       "      <td>1.470771</td>\n",
       "      <td>1.000000</td>\n",
       "    </tr>\n",
       "    <tr>\n",
       "      <th rowspan=\"4\" valign=\"top\">June</th>\n",
       "      <th>2019</th>\n",
       "      <td>1.336180</td>\n",
       "      <td>1.506667</td>\n",
       "      <td>1.000000</td>\n",
       "      <td>1.000000</td>\n",
       "      <td>1.447362</td>\n",
       "      <td>1.117647</td>\n",
       "    </tr>\n",
       "    <tr>\n",
       "      <th>2020</th>\n",
       "      <td>1.333754</td>\n",
       "      <td>1.166667</td>\n",
       "      <td>1.000000</td>\n",
       "      <td>NaN</td>\n",
       "      <td>1.416375</td>\n",
       "      <td>1.076923</td>\n",
       "    </tr>\n",
       "    <tr>\n",
       "      <th>2021</th>\n",
       "      <td>1.329111</td>\n",
       "      <td>1.555556</td>\n",
       "      <td>NaN</td>\n",
       "      <td>1.333333</td>\n",
       "      <td>1.442604</td>\n",
       "      <td>1.714286</td>\n",
       "    </tr>\n",
       "    <tr>\n",
       "      <th>2022</th>\n",
       "      <td>1.339122</td>\n",
       "      <td>2.000000</td>\n",
       "      <td>1.000000</td>\n",
       "      <td>NaN</td>\n",
       "      <td>1.399510</td>\n",
       "      <td>1.000000</td>\n",
       "    </tr>\n",
       "    <tr>\n",
       "      <th rowspan=\"4\" valign=\"top\">March</th>\n",
       "      <th>2019</th>\n",
       "      <td>1.330359</td>\n",
       "      <td>1.294118</td>\n",
       "      <td>1.231579</td>\n",
       "      <td>1.411111</td>\n",
       "      <td>1.435946</td>\n",
       "      <td>1.062500</td>\n",
       "    </tr>\n",
       "    <tr>\n",
       "      <th>2020</th>\n",
       "      <td>1.333562</td>\n",
       "      <td>1.352941</td>\n",
       "      <td>1.452555</td>\n",
       "      <td>1.352381</td>\n",
       "      <td>1.405273</td>\n",
       "      <td>1.450000</td>\n",
       "    </tr>\n",
       "    <tr>\n",
       "      <th>2021</th>\n",
       "      <td>1.334661</td>\n",
       "      <td>1.200000</td>\n",
       "      <td>1.346939</td>\n",
       "      <td>1.678571</td>\n",
       "      <td>1.413530</td>\n",
       "      <td>1.250000</td>\n",
       "    </tr>\n",
       "    <tr>\n",
       "      <th>2022</th>\n",
       "      <td>1.325219</td>\n",
       "      <td>1.333333</td>\n",
       "      <td>1.246914</td>\n",
       "      <td>1.500000</td>\n",
       "      <td>1.411477</td>\n",
       "      <td>1.227273</td>\n",
       "    </tr>\n",
       "    <tr>\n",
       "      <th rowspan=\"4\" valign=\"top\">May</th>\n",
       "      <th>2019</th>\n",
       "      <td>1.346532</td>\n",
       "      <td>1.684211</td>\n",
       "      <td>1.000000</td>\n",
       "      <td>1.000000</td>\n",
       "      <td>1.442656</td>\n",
       "      <td>1.100000</td>\n",
       "    </tr>\n",
       "    <tr>\n",
       "      <th>2020</th>\n",
       "      <td>1.337205</td>\n",
       "      <td>1.400000</td>\n",
       "      <td>1.500000</td>\n",
       "      <td>1.333333</td>\n",
       "      <td>1.457971</td>\n",
       "      <td>1.352941</td>\n",
       "    </tr>\n",
       "    <tr>\n",
       "      <th>2021</th>\n",
       "      <td>1.354493</td>\n",
       "      <td>1.666667</td>\n",
       "      <td>1.500000</td>\n",
       "      <td>1.333333</td>\n",
       "      <td>1.417683</td>\n",
       "      <td>1.071429</td>\n",
       "    </tr>\n",
       "    <tr>\n",
       "      <th>2022</th>\n",
       "      <td>1.338688</td>\n",
       "      <td>1.250000</td>\n",
       "      <td>1.333333</td>\n",
       "      <td>1.000000</td>\n",
       "      <td>1.500753</td>\n",
       "      <td>1.250000</td>\n",
       "    </tr>\n",
       "    <tr>\n",
       "      <th rowspan=\"4\" valign=\"top\">November</th>\n",
       "      <th>2019</th>\n",
       "      <td>1.290865</td>\n",
       "      <td>1.260870</td>\n",
       "      <td>1.369295</td>\n",
       "      <td>1.428571</td>\n",
       "      <td>1.400236</td>\n",
       "      <td>1.043478</td>\n",
       "    </tr>\n",
       "    <tr>\n",
       "      <th>2020</th>\n",
       "      <td>1.300952</td>\n",
       "      <td>1.583333</td>\n",
       "      <td>1.434132</td>\n",
       "      <td>1.384615</td>\n",
       "      <td>1.387696</td>\n",
       "      <td>1.200000</td>\n",
       "    </tr>\n",
       "    <tr>\n",
       "      <th>2021</th>\n",
       "      <td>1.294445</td>\n",
       "      <td>1.452381</td>\n",
       "      <td>1.243243</td>\n",
       "      <td>1.923077</td>\n",
       "      <td>1.393972</td>\n",
       "      <td>1.421053</td>\n",
       "    </tr>\n",
       "    <tr>\n",
       "      <th>2022</th>\n",
       "      <td>1.318023</td>\n",
       "      <td>1.444444</td>\n",
       "      <td>1.356423</td>\n",
       "      <td>1.371429</td>\n",
       "      <td>1.389572</td>\n",
       "      <td>1.142857</td>\n",
       "    </tr>\n",
       "    <tr>\n",
       "      <th rowspan=\"4\" valign=\"top\">October</th>\n",
       "      <th>2019</th>\n",
       "      <td>1.330498</td>\n",
       "      <td>1.272727</td>\n",
       "      <td>1.400000</td>\n",
       "      <td>1.000000</td>\n",
       "      <td>1.393419</td>\n",
       "      <td>1.153846</td>\n",
       "    </tr>\n",
       "    <tr>\n",
       "      <th>2020</th>\n",
       "      <td>1.314318</td>\n",
       "      <td>1.518519</td>\n",
       "      <td>1.347150</td>\n",
       "      <td>1.485714</td>\n",
       "      <td>1.397198</td>\n",
       "      <td>1.090909</td>\n",
       "    </tr>\n",
       "    <tr>\n",
       "      <th>2021</th>\n",
       "      <td>1.324756</td>\n",
       "      <td>1.533333</td>\n",
       "      <td>2.200000</td>\n",
       "      <td>1.000000</td>\n",
       "      <td>1.426586</td>\n",
       "      <td>1.076923</td>\n",
       "    </tr>\n",
       "    <tr>\n",
       "      <th>2022</th>\n",
       "      <td>1.336587</td>\n",
       "      <td>1.705882</td>\n",
       "      <td>1.188679</td>\n",
       "      <td>1.714286</td>\n",
       "      <td>1.388816</td>\n",
       "      <td>1.210526</td>\n",
       "    </tr>\n",
       "    <tr>\n",
       "      <th rowspan=\"4\" valign=\"top\">September</th>\n",
       "      <th>2019</th>\n",
       "      <td>1.339429</td>\n",
       "      <td>1.250000</td>\n",
       "      <td>1.000000</td>\n",
       "      <td>1.500000</td>\n",
       "      <td>1.435417</td>\n",
       "      <td>1.307692</td>\n",
       "    </tr>\n",
       "    <tr>\n",
       "      <th>2020</th>\n",
       "      <td>1.323790</td>\n",
       "      <td>1.509804</td>\n",
       "      <td>1.000000</td>\n",
       "      <td>1.000000</td>\n",
       "      <td>1.395795</td>\n",
       "      <td>1.083333</td>\n",
       "    </tr>\n",
       "    <tr>\n",
       "      <th>2021</th>\n",
       "      <td>1.328964</td>\n",
       "      <td>2.111111</td>\n",
       "      <td>NaN</td>\n",
       "      <td>1.500000</td>\n",
       "      <td>1.401223</td>\n",
       "      <td>1.411765</td>\n",
       "    </tr>\n",
       "    <tr>\n",
       "      <th>2022</th>\n",
       "      <td>1.332019</td>\n",
       "      <td>1.400000</td>\n",
       "      <td>1.000000</td>\n",
       "      <td>2.000000</td>\n",
       "      <td>1.408525</td>\n",
       "      <td>1.636364</td>\n",
       "    </tr>\n",
       "  </tbody>\n",
       "</table>\n",
       "</div>"
      ],
      "text/plain": [
       "Road_Surface_Conditions       Dry  Flood over 3cm. deep  Frost or ice  \\\n",
       "Month     Year                                                          \n",
       "April     2019           1.360358              1.000000      1.200000   \n",
       "          2020           1.339197              1.538462      1.560606   \n",
       "          2021           1.353704              1.000000      1.000000   \n",
       "          2022           1.357578              1.000000      1.500000   \n",
       "August    2019           1.383017              1.636364      1.000000   \n",
       "          2020           1.375027              1.578947      1.000000   \n",
       "          2021           1.385929              2.090909           NaN   \n",
       "          2022           1.379569              1.750000      1.500000   \n",
       "December  2019           1.286649              1.531915      1.350850   \n",
       "          2020           1.335708              1.708333      1.345857   \n",
       "          2021           1.274566              1.500000      1.380342   \n",
       "          2022           1.297656              1.600000      1.385561   \n",
       "February  2019           1.315298              1.083333      1.287305   \n",
       "          2020           1.318313              1.600000      1.346648   \n",
       "          2021           1.326901              1.176471      1.364519   \n",
       "          2022           1.325941              1.714286      1.317593   \n",
       "January   2019           1.301965              1.358974      1.331887   \n",
       "          2020           1.305425              1.515625      1.308008   \n",
       "          2021           1.331680              1.333333      1.315061   \n",
       "          2022           1.285207              1.111111      1.336806   \n",
       "July      2019           1.342417              1.538462      1.000000   \n",
       "          2020           1.324689              1.583333      1.000000   \n",
       "          2021           1.340411              1.444444      1.000000   \n",
       "          2022           1.339222              1.750000      1.000000   \n",
       "June      2019           1.336180              1.506667      1.000000   \n",
       "          2020           1.333754              1.166667      1.000000   \n",
       "          2021           1.329111              1.555556           NaN   \n",
       "          2022           1.339122              2.000000      1.000000   \n",
       "March     2019           1.330359              1.294118      1.231579   \n",
       "          2020           1.333562              1.352941      1.452555   \n",
       "          2021           1.334661              1.200000      1.346939   \n",
       "          2022           1.325219              1.333333      1.246914   \n",
       "May       2019           1.346532              1.684211      1.000000   \n",
       "          2020           1.337205              1.400000      1.500000   \n",
       "          2021           1.354493              1.666667      1.500000   \n",
       "          2022           1.338688              1.250000      1.333333   \n",
       "November  2019           1.290865              1.260870      1.369295   \n",
       "          2020           1.300952              1.583333      1.434132   \n",
       "          2021           1.294445              1.452381      1.243243   \n",
       "          2022           1.318023              1.444444      1.356423   \n",
       "October   2019           1.330498              1.272727      1.400000   \n",
       "          2020           1.314318              1.518519      1.347150   \n",
       "          2021           1.324756              1.533333      2.200000   \n",
       "          2022           1.336587              1.705882      1.188679   \n",
       "September 2019           1.339429              1.250000      1.000000   \n",
       "          2020           1.323790              1.509804      1.000000   \n",
       "          2021           1.328964              2.111111           NaN   \n",
       "          2022           1.332019              1.400000      1.000000   \n",
       "\n",
       "Road_Surface_Conditions      Snow  Wet or damp  unaccounted  \n",
       "Month     Year                                               \n",
       "April     2019                NaN     1.385888     1.000000  \n",
       "          2020           1.442308     1.442780     1.000000  \n",
       "          2021           2.000000     1.420137     1.181818  \n",
       "          2022           1.250000     1.485714     1.181818  \n",
       "August    2019           1.000000     1.458948     1.304348  \n",
       "          2020           2.000000     1.450013     1.304348  \n",
       "          2021           1.000000     1.463757     1.000000  \n",
       "          2022           2.000000     1.415216     1.400000  \n",
       "December  2019           1.181818     1.422541     1.000000  \n",
       "          2020           1.252427     1.401117     1.142857  \n",
       "          2021           1.374680     1.388427     1.461538  \n",
       "          2022           1.376316     1.415217     1.125000  \n",
       "February  2019           1.312000     1.401046     1.133333  \n",
       "          2020           1.661017     1.383009     1.071429  \n",
       "          2021           1.303318     1.362491     1.272727  \n",
       "          2022           1.402632     1.388079     1.187500  \n",
       "January   2019           1.278571     1.403802     1.150000  \n",
       "          2020           1.301887     1.369336     1.217391  \n",
       "          2021           1.346535     1.387118     1.357143  \n",
       "          2022           1.334642     1.347077     1.222222  \n",
       "July      2019           1.400000     1.459278     1.444444  \n",
       "          2020           1.000000     1.445199     1.500000  \n",
       "          2021                NaN     1.474479     1.066667  \n",
       "          2022           1.000000     1.470771     1.000000  \n",
       "June      2019           1.000000     1.447362     1.117647  \n",
       "          2020                NaN     1.416375     1.076923  \n",
       "          2021           1.333333     1.442604     1.714286  \n",
       "          2022                NaN     1.399510     1.000000  \n",
       "March     2019           1.411111     1.435946     1.062500  \n",
       "          2020           1.352381     1.405273     1.450000  \n",
       "          2021           1.678571     1.413530     1.250000  \n",
       "          2022           1.500000     1.411477     1.227273  \n",
       "May       2019           1.000000     1.442656     1.100000  \n",
       "          2020           1.333333     1.457971     1.352941  \n",
       "          2021           1.333333     1.417683     1.071429  \n",
       "          2022           1.000000     1.500753     1.250000  \n",
       "November  2019           1.428571     1.400236     1.043478  \n",
       "          2020           1.384615     1.387696     1.200000  \n",
       "          2021           1.923077     1.393972     1.421053  \n",
       "          2022           1.371429     1.389572     1.142857  \n",
       "October   2019           1.000000     1.393419     1.153846  \n",
       "          2020           1.485714     1.397198     1.090909  \n",
       "          2021           1.000000     1.426586     1.076923  \n",
       "          2022           1.714286     1.388816     1.210526  \n",
       "September 2019           1.500000     1.435417     1.307692  \n",
       "          2020           1.000000     1.395795     1.083333  \n",
       "          2021           1.500000     1.401223     1.411765  \n",
       "          2022           2.000000     1.408525     1.636364  "
      ]
     },
     "execution_count": 50,
     "metadata": {},
     "output_type": "execute_result"
    }
   ],
   "source": [
    "accident.groupby(['Month', 'Year', 'Road_Surface_Conditions'])['Number_of_Casualties'].mean().unstack()"
   ]
  },
  {
   "cell_type": "markdown",
   "id": "3341efd7-182b-4f9f-9cbd-18c39bfa3231",
   "metadata": {},
   "source": [
    "<h2> <strong>Insight 1: </strong> The <strong>average casualties are slightly higher on wet/damp roads (around 1.40–1.47)</strong> compared to dry roads (around 1.30–1.36) across almost months and years. </h2>\n",
    "<h2> <strong>Insight 2: </strong> The <strong>\"Flood over 3cm deep\" condition</strong> often shows averages <strong>above 1.5 and sometimes above 2.0</strong> casualties per accident. </h2>\n",
    "<h2> <strong></strong> Averages of <strong>frost/ice and snow condition varies</strong>frost/ice and snow condition varies a lot, both of them has usually around <strong>1.0</strong> average but there are times that it spikes to above <strong>2.0</strong> (October 2021 has the highest value with 2.2). </h2>\n",
    "<h2> <strong>Insight 4: </strong> Most accidents happen on dry roads but accidents on wet and flooded roads are a bit more dangerous. Snow and ice road surface condition tend to happen less frequent but it is the most dangerous and causes more casualties when they do happen. </h2>"
   ]
  },
  {
   "cell_type": "markdown",
   "id": "64b5aee1-a46d-452f-88a7-ca30a18e7fed",
   "metadata": {},
   "source": [
    "<h1>25. What is the distribution of accidents by year, month, and rural/urban area?</h1>"
   ]
  },
  {
   "cell_type": "code",
   "execution_count": 51,
   "id": "647be0d7-2993-4554-a5f0-2f39bb02df80",
   "metadata": {},
   "outputs": [
    {
     "data": {
      "text/html": [
       "<div>\n",
       "<style scoped>\n",
       "    .dataframe tbody tr th:only-of-type {\n",
       "        vertical-align: middle;\n",
       "    }\n",
       "\n",
       "    .dataframe tbody tr th {\n",
       "        vertical-align: top;\n",
       "    }\n",
       "\n",
       "    .dataframe thead th {\n",
       "        text-align: right;\n",
       "    }\n",
       "</style>\n",
       "<table border=\"1\" class=\"dataframe\">\n",
       "  <thead>\n",
       "    <tr style=\"text-align: right;\">\n",
       "      <th></th>\n",
       "      <th>Month</th>\n",
       "      <th>April</th>\n",
       "      <th>August</th>\n",
       "      <th>December</th>\n",
       "      <th>February</th>\n",
       "      <th>January</th>\n",
       "      <th>July</th>\n",
       "      <th>June</th>\n",
       "      <th>March</th>\n",
       "      <th>May</th>\n",
       "      <th>November</th>\n",
       "      <th>October</th>\n",
       "      <th>September</th>\n",
       "    </tr>\n",
       "    <tr>\n",
       "      <th>Urban_or_Rural_Area</th>\n",
       "      <th>Year</th>\n",
       "      <th></th>\n",
       "      <th></th>\n",
       "      <th></th>\n",
       "      <th></th>\n",
       "      <th></th>\n",
       "      <th></th>\n",
       "      <th></th>\n",
       "      <th></th>\n",
       "      <th></th>\n",
       "      <th></th>\n",
       "      <th></th>\n",
       "      <th></th>\n",
       "    </tr>\n",
       "  </thead>\n",
       "  <tbody>\n",
       "    <tr>\n",
       "      <th rowspan=\"4\" valign=\"top\">Rural</th>\n",
       "      <th>2019</th>\n",
       "      <td>5169</td>\n",
       "      <td>6001</td>\n",
       "      <td>5499</td>\n",
       "      <td>4874</td>\n",
       "      <td>5807</td>\n",
       "      <td>6047</td>\n",
       "      <td>5835</td>\n",
       "      <td>5350</td>\n",
       "      <td>5802</td>\n",
       "      <td>5974</td>\n",
       "      <td>5518</td>\n",
       "      <td>5682</td>\n",
       "    </tr>\n",
       "    <tr>\n",
       "      <th>2020</th>\n",
       "      <td>4752</td>\n",
       "      <td>5204</td>\n",
       "      <td>5167</td>\n",
       "      <td>5226</td>\n",
       "      <td>5182</td>\n",
       "      <td>5415</td>\n",
       "      <td>5105</td>\n",
       "      <td>4947</td>\n",
       "      <td>5184</td>\n",
       "      <td>5251</td>\n",
       "      <td>5415</td>\n",
       "      <td>5143</td>\n",
       "    </tr>\n",
       "    <tr>\n",
       "      <th>2021</th>\n",
       "      <td>4555</td>\n",
       "      <td>5256</td>\n",
       "      <td>5106</td>\n",
       "      <td>4144</td>\n",
       "      <td>4925</td>\n",
       "      <td>5277</td>\n",
       "      <td>4943</td>\n",
       "      <td>4391</td>\n",
       "      <td>4873</td>\n",
       "      <td>5456</td>\n",
       "      <td>5260</td>\n",
       "      <td>4830</td>\n",
       "    </tr>\n",
       "    <tr>\n",
       "      <th>2022</th>\n",
       "      <td>3956</td>\n",
       "      <td>4537</td>\n",
       "      <td>3589</td>\n",
       "      <td>3896</td>\n",
       "      <td>3626</td>\n",
       "      <td>4476</td>\n",
       "      <td>4317</td>\n",
       "      <td>4118</td>\n",
       "      <td>4266</td>\n",
       "      <td>4671</td>\n",
       "      <td>4593</td>\n",
       "      <td>4380</td>\n",
       "    </tr>\n",
       "    <tr>\n",
       "      <th rowspan=\"4\" valign=\"top\">Unallocated</th>\n",
       "      <th>2019</th>\n",
       "      <td>0</td>\n",
       "      <td>0</td>\n",
       "      <td>2</td>\n",
       "      <td>0</td>\n",
       "      <td>1</td>\n",
       "      <td>1</td>\n",
       "      <td>1</td>\n",
       "      <td>0</td>\n",
       "      <td>0</td>\n",
       "      <td>0</td>\n",
       "      <td>0</td>\n",
       "      <td>0</td>\n",
       "    </tr>\n",
       "    <tr>\n",
       "      <th>2020</th>\n",
       "      <td>1</td>\n",
       "      <td>0</td>\n",
       "      <td>1</td>\n",
       "      <td>0</td>\n",
       "      <td>0</td>\n",
       "      <td>0</td>\n",
       "      <td>1</td>\n",
       "      <td>1</td>\n",
       "      <td>2</td>\n",
       "      <td>0</td>\n",
       "      <td>0</td>\n",
       "      <td>0</td>\n",
       "    </tr>\n",
       "    <tr>\n",
       "      <th>2021</th>\n",
       "      <td>0</td>\n",
       "      <td>0</td>\n",
       "      <td>0</td>\n",
       "      <td>0</td>\n",
       "      <td>0</td>\n",
       "      <td>0</td>\n",
       "      <td>0</td>\n",
       "      <td>0</td>\n",
       "      <td>0</td>\n",
       "      <td>0</td>\n",
       "      <td>0</td>\n",
       "      <td>0</td>\n",
       "    </tr>\n",
       "    <tr>\n",
       "      <th>2022</th>\n",
       "      <td>0</td>\n",
       "      <td>0</td>\n",
       "      <td>0</td>\n",
       "      <td>0</td>\n",
       "      <td>0</td>\n",
       "      <td>0</td>\n",
       "      <td>0</td>\n",
       "      <td>0</td>\n",
       "      <td>0</td>\n",
       "      <td>0</td>\n",
       "      <td>0</td>\n",
       "      <td>0</td>\n",
       "    </tr>\n",
       "    <tr>\n",
       "      <th rowspan=\"4\" valign=\"top\">Urban</th>\n",
       "      <th>2019</th>\n",
       "      <td>8956</td>\n",
       "      <td>9043</td>\n",
       "      <td>9207</td>\n",
       "      <td>8379</td>\n",
       "      <td>9547</td>\n",
       "      <td>9814</td>\n",
       "      <td>9692</td>\n",
       "      <td>9699</td>\n",
       "      <td>10031</td>\n",
       "      <td>10585</td>\n",
       "      <td>10010</td>\n",
       "      <td>9589</td>\n",
       "    </tr>\n",
       "    <tr>\n",
       "      <th>2020</th>\n",
       "      <td>8641</td>\n",
       "      <td>8162</td>\n",
       "      <td>8626</td>\n",
       "      <td>9127</td>\n",
       "      <td>8951</td>\n",
       "      <td>9215</td>\n",
       "      <td>9099</td>\n",
       "      <td>8546</td>\n",
       "      <td>9150</td>\n",
       "      <td>9519</td>\n",
       "      <td>10269</td>\n",
       "      <td>9289</td>\n",
       "    </tr>\n",
       "    <tr>\n",
       "      <th>2021</th>\n",
       "      <td>8160</td>\n",
       "      <td>8159</td>\n",
       "      <td>8603</td>\n",
       "      <td>6806</td>\n",
       "      <td>8492</td>\n",
       "      <td>9023</td>\n",
       "      <td>8993</td>\n",
       "      <td>8811</td>\n",
       "      <td>8938</td>\n",
       "      <td>10017</td>\n",
       "      <td>9574</td>\n",
       "      <td>8962</td>\n",
       "    </tr>\n",
       "    <tr>\n",
       "      <th>2022</th>\n",
       "      <td>7554</td>\n",
       "      <td>7551</td>\n",
       "      <td>6036</td>\n",
       "      <td>7039</td>\n",
       "      <td>6341</td>\n",
       "      <td>8177</td>\n",
       "      <td>8495</td>\n",
       "      <td>8223</td>\n",
       "      <td>8106</td>\n",
       "      <td>8951</td>\n",
       "      <td>8941</td>\n",
       "      <td>8580</td>\n",
       "    </tr>\n",
       "  </tbody>\n",
       "</table>\n",
       "</div>"
      ],
      "text/plain": [
       "Month                     April  August  December  February  January  July  \\\n",
       "Urban_or_Rural_Area Year                                                     \n",
       "Rural               2019   5169    6001      5499      4874     5807  6047   \n",
       "                    2020   4752    5204      5167      5226     5182  5415   \n",
       "                    2021   4555    5256      5106      4144     4925  5277   \n",
       "                    2022   3956    4537      3589      3896     3626  4476   \n",
       "Unallocated         2019      0       0         2         0        1     1   \n",
       "                    2020      1       0         1         0        0     0   \n",
       "                    2021      0       0         0         0        0     0   \n",
       "                    2022      0       0         0         0        0     0   \n",
       "Urban               2019   8956    9043      9207      8379     9547  9814   \n",
       "                    2020   8641    8162      8626      9127     8951  9215   \n",
       "                    2021   8160    8159      8603      6806     8492  9023   \n",
       "                    2022   7554    7551      6036      7039     6341  8177   \n",
       "\n",
       "Month                     June  March    May  November  October  September  \n",
       "Urban_or_Rural_Area Year                                                    \n",
       "Rural               2019  5835   5350   5802      5974     5518       5682  \n",
       "                    2020  5105   4947   5184      5251     5415       5143  \n",
       "                    2021  4943   4391   4873      5456     5260       4830  \n",
       "                    2022  4317   4118   4266      4671     4593       4380  \n",
       "Unallocated         2019     1      0      0         0        0          0  \n",
       "                    2020     1      1      2         0        0          0  \n",
       "                    2021     0      0      0         0        0          0  \n",
       "                    2022     0      0      0         0        0          0  \n",
       "Urban               2019  9692   9699  10031     10585    10010       9589  \n",
       "                    2020  9099   8546   9150      9519    10269       9289  \n",
       "                    2021  8993   8811   8938     10017     9574       8962  \n",
       "                    2022  8495   8223   8106      8951     8941       8580  "
      ]
     },
     "execution_count": 51,
     "metadata": {},
     "output_type": "execute_result"
    }
   ],
   "source": [
    "accident.groupby(['Urban_or_Rural_Area','Year', 'Month']).size().unstack()"
   ]
  },
  {
   "cell_type": "markdown",
   "id": "c94bf17c-7e4b-42ab-a148-a7f06282b95d",
   "metadata": {},
   "source": [
    "<h2> <strong>Insight 1: </strong> In all months and years, accidents mostly happens in <strong>urban areas at 76%-80%.</strong> While accidents in <strong>rural areas are lower with 19%-23%.</strong></h2>\n",
    "<h2> <strong>Insight 2: </strong> The highest percentage in <strong>urban areas</strong> was in <strong>November 2021 at 80.16%</strong>, followed by both September 2021 and October 2020 at 80.15%. While the <strong>lowest was April 2019 (76.56%).</strong></i></h2>\n",
    "<h2> <strong>Insight 3: </strong> In <strong>rural areas</strong>, the lowest percentage was <strong>19.84%</strong> on November 2021, while the highest was on April 2019 at <strong>23.44%.</strong></h2>\n",
    "<h2> <strong>Insight 4: </strong> Most accidents happen in urban areas (cities) regardless of the month and year. Rural accidents are fewer but the still have a peak month (April).</h2>"
   ]
  },
  {
   "cell_type": "code",
   "execution_count": 67,
   "id": "85e74c80-d311-4e27-a56b-568579c86100",
   "metadata": {},
   "outputs": [],
   "source": [
    "#district = accident.groupby(['Year', 'District Area']).size().unstack()\n",
    "# district.plot(kind='bar', figsize=(15, 7))\n",
    "#district"
   ]
  },
  {
   "cell_type": "markdown",
   "id": "9cadefe7-ffed-447e-9899-bc8ef2e4a4fd",
   "metadata": {},
   "source": [
    "<hr>\n",
    "<h1>DATA VISUALIZATION</h1>"
   ]
  },
  {
   "cell_type": "code",
   "execution_count": 77,
   "id": "27be2074-a9ac-4769-8f84-b72d17d570d5",
   "metadata": {},
   "outputs": [
    {
     "data": {
      "image/png": "[encoded data removed]",
      "text/plain": [
       "<Figure size 600x400 with 1 Axes>"
      ]
     },
     "metadata": {},
     "output_type": "display_data"
    }
   ],
   "source": [
    "import pandas as pd\n",
    "import matplotlib.pyplot as plt\n",
    "\n",
    "leeds_data = accident[accident['District Area'] == \"Leeds\"]\n",
    "severity_counts = leeds_data['Accident_Severity'].value_counts()\n",
    "\n",
    "severity_counts.plot(kind='bar', color=['lightblue', 'yellow', 'orange'], figsize=(6, 4))\n",
    "\n",
    "plt.title(\"Accident Severity in Leeds\")\n",
    "plt.xlabel(\"Accident Severity\")\n",
    "plt.ylabel(\"Number of Accidents\")\n",
    "plt.xticks(rotation=0)\n",
    "plt.tight_layout()\n",
    "plt.show()"
   ]
  },
  {
   "cell_type": "markdown",
   "id": "c0e0eef4-51a0-4ac6-bf85-b844101b029f",
   "metadata": {},
   "source": [
    "<h3>INSIGHT #26</h3>"
   ]
  },
  {
   "cell_type": "markdown",
   "id": "72a146b6-1694-4e71-96c9-162a07b6350e",
   "metadata": {},
   "source": [
    "<h3>In Leeds, most road accidents are slight. Serious and fatal accidents occur less frequently, suggesting minor incidents dominate the city’s road safety concerns.</h3>"
   ]
  },
  {
   "cell_type": "markdown",
   "id": "8280ffb5-92d6-4290-99ea-33a0736db0fc",
   "metadata": {},
   "source": [
    "<hr>"
   ]
  },
  {
   "cell_type": "code",
   "execution_count": 78,
   "id": "55391255-6918-49a0-a8bf-95a8d8e905f7",
   "metadata": {},
   "outputs": [
    {
     "data": {
      "image/png": "[encoded data removed]",
      "text/plain": [
       "<Figure size 600x400 with 1 Axes>"
      ]
     },
     "metadata": {},
     "output_type": "display_data"
    }
   ],
   "source": [
    "york_data = accident[accident['District Area'] == \"York\"]\n",
    "yearly_counts = york_data.groupby('Year').size()\n",
    "\n",
    "yearly_counts.plot(kind='line', marker='o', color='green', figsize=(6, 4))\n",
    "\n",
    "plt.title(\"Accident Trend in York (by Year)\")\n",
    "plt.xlabel(\"Year\")\n",
    "plt.ylabel(\"Number of Accidents\")\n",
    "plt.grid(True)\n",
    "plt.tight_layout()\n",
    "plt.show()"
   ]
  },
  {
   "cell_type": "markdown",
   "id": "cbe162c3-78b1-4e0d-ab6f-ea428acd82cc",
   "metadata": {},
   "source": [
    "<h3>INSIGHT #27</h3>"
   ]
  },
  {
   "cell_type": "markdown",
   "id": "ca2f4f8f-6700-4aa0-a5ea-0ab3ae1eb01e",
   "metadata": {},
   "source": [
    "<h3>York shows a gradual decline in accident numbers over the years, which may reflect better road safety measures or changing traffic patterns.</h3>"
   ]
  },
  {
   "cell_type": "markdown",
   "id": "cd88ce4f-e374-45d1-9364-eadffd1e732d",
   "metadata": {},
   "source": [
    "<hr>"
   ]
  },
  {
   "cell_type": "code",
   "execution_count": 83,
   "id": "0cb62bcd-7e87-4d1d-84b8-c86fa44c4e18",
   "metadata": {},
   "outputs": [
    {
     "data": {
      "image/png": "[encoded data removed]",
      "text/plain": [
       "<Figure size 640x480 with 1 Axes>"
      ]
     },
     "metadata": {},
     "output_type": "display_data"
    }
   ],
   "source": [
    "sheffield_data = accident[accident['District Area'] == \"Sheffield\"]\n",
    "severity_counts = sheffield_data['Accident_Severity'].value_counts()\n",
    "\n",
    "plt.pie(severity_counts,\n",
    "        labels=severity_counts.index,\n",
    "        autopct='%1.1f%%',\n",
    "        colors=['lightblue', 'orange', 'red'])\n",
    "plt.title(\"Accident Severity in Sheffield\")\n",
    "plt.tight_layout()\n",
    "plt.show()\n"
   ]
  },
  {
   "cell_type": "markdown",
   "id": "3429b374-a869-4fb3-9fa7-06b5a077cf44",
   "metadata": {},
   "source": [
    "<h3>INSIGHT #28</h3>"
   ]
  },
  {
   "cell_type": "markdown",
   "id": "b167aacd-178c-4989-853f-c9d34d9f85ca",
   "metadata": {},
   "source": [
    "<H3>In Sheffield, slight accidents make up the majority, followed by serious and very few fatal incidents — similar to patterns seen in other UK cities.</H3>"
   ]
  },
  {
   "cell_type": "markdown",
   "id": "8da6c1e9-dd1b-4215-bec4-ccd2f7058e58",
   "metadata": {},
   "source": [
    "<HR>"
   ]
  },
  {
   "cell_type": "code",
   "execution_count": 87,
   "id": "3af7be63-5e26-4131-9469-17166b7f1909",
   "metadata": {},
   "outputs": [
    {
     "data": {
      "image/png": "[encoded data removed]",
      "text/plain": [
       "<Figure size 800x500 with 1 Axes>"
      ]
     },
     "metadata": {},
     "output_type": "display_data"
    }
   ],
   "source": [
    "manchester_data = accident[accident['District Area'] == \"Manchester\"]\n",
    "severity_year = manchester_data.groupby(['Year', 'Accident_Severity']).size().unstack()\n",
    "\n",
    "severity_year.plot(kind='bar', figsize=(8, 5), colormap='Set2')\n",
    "\n",
    "plt.title(\"Accident Severity by Year in Manchester\")\n",
    "plt.xlabel(\"Year\")\n",
    "plt.ylabel(\"Number of Accidents\")\n",
    "plt.legend(title=\"Severity\")\n",
    "plt.tight_layout()\n",
    "plt.show()\n"
   ]
  },
  {
   "cell_type": "markdown",
   "id": "d631cca5-f3a7-412e-a546-82e8c704a51a",
   "metadata": {},
   "source": [
    "<h3>INSIGHT #29</h3>"
   ]
  },
  {
   "cell_type": "markdown",
   "id": "1c8aaa0b-aadd-454d-ba39-b934c78f802a",
   "metadata": {},
   "source": [
    "<h3>In Manchester, slight accidents are most common each year, with serious and fatal accidents remaining much lower and relatively stable.</h3>"
   ]
  },
  {
   "cell_type": "markdown",
   "id": "52e6e66f-6c84-4c55-88ef-f596ae707caa",
   "metadata": {},
   "source": [
    "<hr>"
   ]
  },
  {
   "cell_type": "code",
   "execution_count": 89,
   "id": "1dd7cf38-a5c5-4c66-b490-33b879be5b23",
   "metadata": {},
   "outputs": [
    {
     "data": {
      "image/png": "[encoded data removed]",
      "text/plain": [
       "<Figure size 600x400 with 1 Axes>"
      ]
     },
     "metadata": {},
     "output_type": "display_data"
    }
   ],
   "source": [
    "fatal_data = accident[accident['Accident_Severity'] == \"Fatal\"]\n",
    "fatal_city_counts = fatal_data['District Area'].value_counts().head(5)\n",
    "\n",
    "fatal_city_counts.plot(kind='barh', color='crimson', figsize=(6, 4))\n",
    "\n",
    "plt.title(\"Top 5 Cities with Most Fatal Accidents\")\n",
    "plt.xlabel(\"Number of Fatal Accidents\")\n",
    "plt.ylabel(\"City\")\n",
    "plt.tight_layout()\n",
    "plt.show()"
   ]
  },
  {
   "cell_type": "markdown",
   "id": "86fdfa41-4d50-496f-a413-eba9e0225942",
   "metadata": {},
   "source": [
    "<h3>INSIGHT #30</h3>"
   ]
  },
  {
   "cell_type": "markdown",
   "id": "2cc6120a-aff7-4b38-aeb4-08edb3f88516",
   "metadata": {},
   "source": [
    "<H3>Some cities have higher fatal accident counts, which may indicate dangerous road conditions or heavier traffic. These areas may benefit from targeted safety improvements.</H3>"
   ]
  },
  {
   "cell_type": "markdown",
   "id": "079f9d2b-4106-4cb6-808c-6dbf8a556512",
   "metadata": {},
   "source": [
    "<hr>"
   ]
  },
  {
   "cell_type": "code",
   "execution_count": 96,
   "id": "fa7315cf-9645-471c-a64f-c3fa0beb7495",
   "metadata": {},
   "outputs": [
    {
     "data": {
      "image/png": "[encoded data removed]",
      "text/plain": [
       "<Figure size 600x400 with 1 Axes>"
      ]
     },
     "metadata": {},
     "output_type": "display_data"
    }
   ],
   "source": [
    "cities = ['Leeds', 'Sheffield', 'Birmingham']\n",
    "city_data = accident[accident['District Area'].isin(cities)]\n",
    "city_counts = city_data['District Area'].value_counts()[cities]  # keep only these 3 in order\n",
    "\n",
    "# Bar chart\n",
    "plt.figure(figsize=(6, 4))\n",
    "city_counts.plot(kind='bar', color='purple')\n",
    "\n",
    "plt.title(\"Total Accidents in 3 Cities\")\n",
    "plt.xlabel(\"City\")\n",
    "plt.ylabel(\"Number of Accidents\")\n",
    "plt.xticks(rotation=0)\n",
    "plt.tight_layout()\n",
    "plt.show()\n"
   ]
  },
  {
   "cell_type": "markdown",
   "id": "9c525aa7-a28f-4e5d-92df-015f2f46d8cd",
   "metadata": {},
   "source": [
    "<h3>INSIGHT #31</h3>"
   ]
  },
  {
   "cell_type": "markdown",
   "id": "88cdbfdf-3732-48c0-86b1-5138025f1f43",
   "metadata": {},
   "source": [
    "<h3>Leeds records the most accidents, making it a key focus for road safety, while Sheffield and Birmingham show fewer but still notable cases..</h3>"
   ]
  },
  {
   "cell_type": "code",
   "execution_count": 95,
   "id": "292a0a47-0d01-442f-a86a-317b352d9cd9",
   "metadata": {},
   "outputs": [
    {
     "data": {
      "text/html": [
       "<div style=\"width:100%;\"><div style=\"position:relative;width:100%;height:0;padding-bottom:60%;\"><span style=\"color:#565656\">Make this Notebook Trusted to load map: File -> Trust Notebook</span><iframe srcdoc=\"&lt;!DOCTYPE html&gt;\n",
       "&lt;html&gt;\n",
       "&lt;head&gt;\n",
       "    \n",
       "    &lt;meta http-equiv=&quot;content-type&quot; content=&quot;text/html; charset=UTF-8&quot; /&gt;\n",
       "    &lt;script src=&quot;https://cdn.jsdelivr.net/npm/leaflet@1.9.3/dist/leaflet.js&quot;&gt;&lt;/script&gt;\n",
       "    &lt;script src=&quot;https://code.jquery.com/jquery-3.7.1.min.js&quot;&gt;&lt;/script&gt;\n",
       "    &lt;script src=&quot;https://cdn.jsdelivr.net/npm/bootstrap@5.2.2/dist/js/bootstrap.bundle.min.js&quot;&gt;&lt;/script&gt;\n",
       "    &lt;script src=&quot;https://cdnjs.cloudflare.com/ajax/libs/Leaflet.awesome-markers/2.0.2/leaflet.awesome-markers.js&quot;&gt;&lt;/script&gt;\n",
       "    &lt;link rel=&quot;stylesheet&quot; href=&quot;https://cdn.jsdelivr.net/npm/leaflet@1.9.3/dist/leaflet.css&quot;/&gt;\n",
       "    &lt;link rel=&quot;stylesheet&quot; href=&quot;https://cdn.jsdelivr.net/npm/bootstrap@5.2.2/dist/css/bootstrap.min.css&quot;/&gt;\n",
       "    &lt;link rel=&quot;stylesheet&quot; href=&quot;https://netdna.bootstrapcdn.com/bootstrap/3.0.0/css/bootstrap-glyphicons.css&quot;/&gt;\n",
       "    &lt;link rel=&quot;stylesheet&quot; href=&quot;https://cdn.jsdelivr.net/npm/@fortawesome/fontawesome-free@6.2.0/css/all.min.css&quot;/&gt;\n",
       "    &lt;link rel=&quot;stylesheet&quot; href=&quot;https://cdnjs.cloudflare.com/ajax/libs/Leaflet.awesome-markers/2.0.2/leaflet.awesome-markers.css&quot;/&gt;\n",
       "    &lt;link rel=&quot;stylesheet&quot; href=&quot;https://cdn.jsdelivr.net/gh/python-visualization/folium/folium/templates/leaflet.awesome.rotate.min.css&quot;/&gt;\n",
       "    \n",
       "            &lt;meta name=&quot;viewport&quot; content=&quot;width=device-width,\n",
       "                initial-scale=1.0, maximum-scale=1.0, user-scalable=no&quot; /&gt;\n",
       "            &lt;style&gt;\n",
       "                #map_a5c52b2cc7b3c38d3c8ee0cda542cbfb {\n",
       "                    position: relative;\n",
       "                    width: 100.0%;\n",
       "                    height: 100.0%;\n",
       "                    left: 0.0%;\n",
       "                    top: 0.0%;\n",
       "                }\n",
       "                .leaflet-container { font-size: 1rem; }\n",
       "            &lt;/style&gt;\n",
       "\n",
       "            &lt;style&gt;html, body {\n",
       "                width: 100%;\n",
       "                height: 100%;\n",
       "                margin: 0;\n",
       "                padding: 0;\n",
       "            }\n",
       "            &lt;/style&gt;\n",
       "\n",
       "            &lt;style&gt;#map {\n",
       "                position:absolute;\n",
       "                top:0;\n",
       "                bottom:0;\n",
       "                right:0;\n",
       "                left:0;\n",
       "                }\n",
       "            &lt;/style&gt;\n",
       "\n",
       "            &lt;script&gt;\n",
       "                L_NO_TOUCH = false;\n",
       "                L_DISABLE_3D = false;\n",
       "            &lt;/script&gt;\n",
       "\n",
       "        \n",
       "    &lt;script src=&quot;https://cdn.jsdelivr.net/gh/python-visualization/folium@main/folium/templates/leaflet_heat.min.js&quot;&gt;&lt;/script&gt;\n",
       "&lt;/head&gt;\n",
       "&lt;body&gt;\n",
       "    \n",
       "    \n",
       "            &lt;div class=&quot;folium-map&quot; id=&quot;map_a5c52b2cc7b3c38d3c8ee0cda542cbfb&quot; &gt;&lt;/div&gt;\n",
       "        \n",
       "&lt;/body&gt;\n",
       "&lt;script&gt;\n",
       "    \n",
       "    \n",
       "            var map_a5c52b2cc7b3c38d3c8ee0cda542cbfb = L.map(\n",
       "                &quot;map_a5c52b2cc7b3c38d3c8ee0cda542cbfb&quot;,\n",
       "                {\n",
       "                    center: [56.00644350657895, -3.78570566995614],\n",
       "                    crs: L.CRS.EPSG3857,\n",
       "                    ...{\n",
       "  &quot;zoom&quot;: 10,\n",
       "  &quot;zoomControl&quot;: true,\n",
       "  &quot;preferCanvas&quot;: false,\n",
       "}\n",
       "\n",
       "                }\n",
       "            );\n",
       "\n",
       "            \n",
       "\n",
       "        \n",
       "    \n",
       "            var tile_layer_298e81ef0ea2ef9d7de7bdd0dff2518b = L.tileLayer(\n",
       "                &quot;https://tile.openstreetmap.org/{z}/{x}/{y}.png&quot;,\n",
       "                {\n",
       "  &quot;minZoom&quot;: 0,\n",
       "  &quot;maxZoom&quot;: 19,\n",
       "  &quot;maxNativeZoom&quot;: 19,\n",
       "  &quot;noWrap&quot;: false,\n",
       "  &quot;attribution&quot;: &quot;\\u0026copy; \\u003ca href=\\&quot;https://www.openstreetmap.org/copyright\\&quot;\\u003eOpenStreetMap\\u003c/a\\u003e contributors&quot;,\n",
       "  &quot;subdomains&quot;: &quot;abc&quot;,\n",
       "  &quot;detectRetina&quot;: false,\n",
       "  &quot;tms&quot;: false,\n",
       "  &quot;opacity&quot;: 1,\n",
       "}\n",
       "\n",
       "            );\n",
       "        \n",
       "    \n",
       "            tile_layer_298e81ef0ea2ef9d7de7bdd0dff2518b.addTo(map_a5c52b2cc7b3c38d3c8ee0cda542cbfb);\n",
       "        \n",
       "    \n",
       "            var heat_map_0484144ed1f990582a7f6c3b799ee900 = L.heatLayer(\n",
       "                [[55.999665, -3.698019], [56.013746, -3.788954], [55.98836, -3.677003], [56.06848, -3.769801], [56.003585, -3.813985], [56.005204, -3.64742], [55.979788, -3.74427], [55.966431, -3.748316], [56.014105, -3.788971], [56.003922, -3.628922], [56.024022, -3.823609], [55.988627, -3.804467], [56.014548, -3.620385], [56.006496, -3.730236], [55.981469, -3.733446], [56.008063, -3.727419], [56.005876, -3.78009], [55.986561, -3.670512], [55.990505, -3.958152], [56.019026, -3.886911], [56.01529, -3.769132], [56.006285, -3.831916], [56.02282, -5.074239], [56.0039, -3.742309], [56.048147, -3.758915], [56.041248, -3.77626], [56.003585, -3.813985], [55.937259, -3.74588], [56.016922, -3.918415], [56.008568, -3.906612], [55.987704, -3.750077], [56.00466, -3.764637], [56.011255, -3.611104], [56.00091, -3.67931], [56.010015, -3.748359], [56.031196, -3.830688], [56.020232, -3.919382], [56.01898, -3.913222], [55.992497, -3.928749], [56.028979, -3.785807], [56.017769, -3.851231], [56.017601, -3.606876], [55.994988, -3.799633], [56.026574, -3.752959], [56.003762, -3.814154], [56.006551, -3.745476], [56.002176, -3.730685], [56.034198, -3.809964], [55.993873, -3.7898], [55.987022, -3.682876], [56.032237, -3.944695], [56.006256, -3.784919], [55.998443, -3.778305], [56.017364, -3.711309], [55.991803, -3.727014], [56.015313, -3.767529], [56.022843, -3.907476], [56.027279, -3.816059], [56.0035, -3.819755], [55.988785, -3.743553], [56.001339, -3.832163], [55.998798, -3.910782], [55.99774, -3.783404], [56.054118, -3.818124], [56.018192, -3.9119], [56.010676, -3.614128], [55.993458, -3.941946], [56.002585, -3.783948], [56.018868, -3.914661], [56.000457, -3.78818], [56.003753, -3.814795], [55.987482, -3.682095], [55.994989, -3.895521], [55.993072, -3.856143], [56.00956, -3.84731], [55.987914, -3.74159], [55.99389, -3.788678], [56.007029, -3.711334], [56.011618, -3.786931], [56.019291, -3.839591], [55.936006, -3.838203], [56.011557, -3.7218], [56.009641, -3.7238], [56.013889, -3.876072], [55.966378, -3.826344], [56.000695, -3.784182], [56.059124, -3.745281], [56.001051, -3.886997], [55.952294, -3.836733], [56.00039, -3.786573], [55.974913, -3.634433], [56.006532, -3.784451], [56.029529, -3.78503], [55.979897, -3.780659], [55.999041, -3.561687], [55.982731, -3.943973], [56.01277, -3.788107], [56.028356, -3.917056], [55.972792, -3.698283], [55.940209, -3.833599], [56.011126, -3.726914], [56.000632, -3.788509], [55.997611, -3.71653], [55.99694, -3.725961], [56.024741, -3.792993], [55.999533, -3.752376], [55.99217, -3.868286], [56.023824, -3.908006], [55.992298, -3.554842], [55.99217, -3.868286], [56.020063, -3.736779], [56.011255, -3.611104], [56.058269, -3.761142], [56.023003, -3.920321], [56.020423, -3.72396], [55.989323, -3.964665], [56.003444, -3.75544], [56.005554, -3.777509], [56.00233, -3.909031], [55.999156, -3.815702], [56.001834, -3.786159], [56.00399, -3.767493], [56.062479, -3.768402], [56.011255, -3.611104], [56.006665, -3.836585], [56.00082, -3.79413], [56.02389, -3.795842], [56.02254, -3.897994], [56.007552, -3.605657], [55.998544, -3.814551], [55.978004, -3.730566], [55.998623, -3.796915], [55.982169, -3.715525], [56.025355, -3.812439], [55.978403, -3.778347], [56.004209, -3.783542], [56.008505, -3.784702], [56.034929, -3.922037], [56.002172, -3.731005], [55.998431, -3.911245], [56.010852, -3.79636], [56.011884, -3.717644], [56.011817, -3.760632], [56.055894, -3.751238], [55.99217, -3.868286], [56.006224, -3.645057], [55.987287, -3.683208], [56.053555, -3.757716], [56.002564, -3.810089], [56.01037, -3.690628], [56.014643, -3.795252], [56.001372, -3.918607], [56.02366, -3.823752], [56.011179, -3.786269], [55.993115, -3.561288], [56.01345, -3.863538], [56.005572, -3.646794], [55.999324, -3.741782], [55.996286, -3.772112], [55.980422, -3.718333], [56.015602, -3.784869], [56.032905, -3.830609], [56.018925, -3.721807], [55.969023, -3.755643], [55.99122, -3.941352], [55.946846, -3.747913], [56.002658, -3.809772], [56.023932, -3.823605], [56.0331, -3.755341], [56.001325, -3.88669], [55.975402, -3.774523], [56.039218, -3.859161], [56.002759, -3.916109], [55.989894, -3.683161], [55.992873, -3.927646], [56.006496, -3.730236], [56.015869, -3.910983], [55.98692, -3.716376], [55.999531, -3.752536], [56.008388, -3.906603], [56.0078, -3.726926], [56.007163, -3.784319], [55.991803, -3.727014], [56.023996, -3.794724], [56.04021, -3.917644], [55.988334, -3.678925], [55.997043, -3.763167], [55.990628, -4.055482], [56.010178, -3.723984], [56.003907, -3.609515], [56.000222, -3.792018], [55.997241, -3.723729], [56.004111, -3.915856], [55.955323, -3.838478], [56.029866, -4.019528], [55.99943, -3.815394], [56.031619, -3.915292], [56.015366, -3.770098], [56.021218, -3.836955], [55.982797, -3.663137], [56.002084, -3.775104], [56.013193, -3.726846], [55.978228, -3.778018], [56.012891, -3.876666], [56.014883, -3.594731], [56.000367, -3.788176], [56.010988, -3.610932], [56.005554, -3.777509], [55.9866, -3.713477], [56.015061, -3.910943], [56.016847, -3.791986], [55.997644, -3.820763], [56.02119, -3.892312], [56.028114, -3.915279], [55.987832, -3.772527], [56.017464, -3.792816], [56.022233, -3.923653], [56.00885, -3.917373], [55.993027, -3.561124], [56.02426, -3.891339], [56.006588, -3.73008], [56.011192, -3.615914], [56.014238, -3.609784], [55.998654, -3.788578], [56.011621, -3.786771], [56.030046, -4.019538], [56.020003, -3.728273], [56.001788, -3.801713], [55.986867, -3.94386], [56.025863, -3.752445], [55.989223, -3.744374], [56.016884, -3.856323], [56.117524, -3.933071], [55.982256, -3.715689], [56.059124, -3.745281], [56.003537, -3.774048], [55.996343, -3.736517], [55.981784, -3.710859], [55.97279, -3.685303], [56.001975, -3.891212], [56.006838, -3.884713], [55.99925, -3.740657], [56.012352, -3.696811], [55.978069, -3.66053], [56.005648, -3.826432], [56.002676, -3.771443], [56.003935, -3.814643], [56.008748, -3.624152], [56.00504, -3.763211], [55.988207, -3.681645], [56.028744, -3.783389], [55.999025, -3.787793], [55.992402, -3.683751], [56.002627, -3.805761], [56.008877, -3.707726], [55.987814, -3.773809], [56.021579, -3.750326], [56.023571, -3.823748], [56.025806, -3.818397], [56.019116, -3.886915], [56.029683, -3.924184], [55.993753, -3.89995], [56.005337, -3.79867], [55.985243, -3.944259], [56.008927, -3.717031], [56.019026, -3.886911], [56.047424, -3.995397], [56.027035, -3.814283], [56.017367, -3.604139], [56.000478, -3.786737], [56.000988, -3.819477], [56.00305, -3.782847], [55.935526, -3.840262], [55.944075, -3.675728], [56.01454, -3.720489], [56.068742, -3.770295], [55.997863, -3.717824], [55.981219, -3.782483], [56.003005, -3.761033], [55.994666, -3.559426], [55.997883, -3.716381], [56.01211, -3.77781], [55.986103, -3.780303], [56.000728, -3.705603], [56.023739, -3.793909], [55.995251, -3.800126], [55.986464, -3.786412], [56.016515, -3.856947], [56.004274, -3.766544], [56.016892, -3.831776], [55.995338, -3.80029], [55.929112, -3.86637], [56.014214, -3.878334], [56.018863, -3.844224], [56.016617, -3.879895], [56.159354, -3.723737], [56.013728, -3.826974], [56.022563, -3.831082], [56.008442, -3.885593], [55.986615, -3.800686], [56.028165, -3.816904], [55.988397, -3.732794], [55.988417, -3.67941], [55.99797, -3.716546], [56.000898, -3.776333], [56.000972, -3.796062], [55.997166, -3.828758], [56.039308, -3.859165], [56.013037, -3.744325], [55.992086, -3.94348], [55.999618, -3.777878], [55.991714, -3.72701], [55.95401, -3.836173], [56.026776, -3.776558], [56.029549, -3.844733], [56.022125, -3.907441], [56.028113, -3.78352], [56.008243, -3.904351], [56.018113, -3.747602], [56.00182, -3.78712], [56.016711, -3.719463], [55.945764, -3.677083], [56.044041, -3.806732], [56.013212, -3.744653], [56.022214, -3.812131], [56.025974, -3.794655], [56.008442, -3.770423], [56.008932, -3.716711], [55.946282, -3.749649], [56.0186, -3.908711], [56.030842, -3.781239], [56.009506, -3.641507], [55.992113, -3.724142], [56.022438, -3.898791], [56.046251, -3.857573], [56.019978, -3.723619], [56.014124, -3.87833], [56.04125, -3.7761], [56.03071, -3.827134], [55.960931, -3.691676], [55.937337, -3.833303], [56.028753, -3.920446], [56.022931, -3.907641], [56.010809, -3.768286], [56.009264, -3.619041], [55.990398, -3.705308], [56.029753, -3.913916], [56.010049, -3.856637], [55.975611, -3.821811], [56.004199, -3.759163], [56.00335, -3.780776], [56.000124, -3.906357], [55.995518, -3.896188], [55.937259, -3.74588], [55.998894, -3.933398], [56.025615, -3.819191], [56.005986, -3.734544], [56.012967, -3.871696], [56.023051, -3.810245], [56.024175, -3.908505], [55.986405, -3.668742], [56.019821, -3.722007], [56.008243, -3.727427], [56.03413, -3.796157], [56.034406, -3.844484], [56.019701, -3.836241], [56.004985, -3.798173], [56.009411, -3.796614], [56.026834, -3.815718], [55.999636, -3.713091], [56.028666, -3.914504], [56.002962, -3.719493], [56.049292, -3.816291], [55.998071, -3.715748], [56.0092, -3.610216], [56.060645, -3.814255], [55.983677, -3.940974], [56.000336, -3.880868], [56.004591, -3.76319], [56.024859, -3.759781], [55.964515, -3.824654], [56.029302, -3.914054], [56.00315, -3.78221], [55.992814, -3.73187], [55.972709, -3.671518], [56.000439, -3.783208], [55.991895, -3.726858], [56.047875, -3.857169], [55.990585, -3.743313], [56.004057, -3.78161], [56.041878, -3.788651], [56.04046, -3.860184], [56.012526, -3.906326], [56.026865, -3.776562], [56.019207, -3.910185], [55.996341, -3.717435], [56.002524, -3.672965], [56.015557, -3.794172], [56.008651, -3.918647], [55.936101, -3.837887], [55.998012, -3.707086], [56.00276, -3.784277], [56.041158, -3.776256], [56.029763, -3.818263], [55.997769, -3.818363], [56.009411, -3.796614], [55.984423, -3.701999], [55.988711, -3.817136], [55.993384, -3.561299], [55.98836, -3.677003], [56.00812, -3.610332], [56.029232, -3.924322], [56.002385, -3.911279], [55.93734, -3.833143], [56.001333, -3.886209], [56.001931, -3.894096], [56.006577, -3.907476], [56.017218, -3.608625], [55.954737, -3.717194], [55.991081, -3.93878], [55.992614, -3.72689], [56.002599, -3.813779], [56.00438, -3.777936], [56.02244, -3.916121], [55.993312, -3.785124], [56.010202, -3.785422], [55.996426, -3.71776], [56.020863, -3.818486], [56.01424, -3.609624], [55.999375, -3.788451], [55.987066, -3.718788], [55.952487, -3.684901], [55.989438, -3.683622], [56.020778, -3.907374], [56.053461, -3.758033], [55.996287, -3.753191], [56.018793, -3.718432], [55.996884, -3.761717], [56.006179, -3.572721], [56.013741, -3.585701], [55.997461, -3.727267], [55.987559, -3.68306], [56.096528, -3.812405], [56.037284, -3.801761], [56.011879, -3.743631], [56.006198, -3.75765], [56.01473, -3.745364], [56.030418, -3.754417], [56.001436, -3.902893], [56.011621, -3.786771], [56.003436, -3.877971], [55.998555, -3.801562], [55.994166, -3.78821], [56.01215, -3.787437], [56.004159, -3.774558], [56.00466, -3.764637], [56.007613, -3.682007], [56.006586, -3.73024], [55.995658, -3.753163], [56.002111, -3.616336], [55.976809, -3.776671], [56.008479, -3.610347], [55.992909, -3.942559], [55.98684, -3.683029], [56.026894, -3.786995], [55.999661, -3.774833], [56.007612, -3.78434], [55.97425, -3.657161], [56.009799, -3.95993], [56.062799, -3.764883], [56.031662, -3.829587], [56.04021, -3.917644], [56.051018, -3.759206], [56.002171, -3.830598], [56.06856, -3.770448], [56.0313, -3.847866], [56.000576, -3.822986], [55.99109, -3.955295], [55.99223, -3.893782], [56.019893, -3.823254], [56.013448, -3.863698], [55.981754, -3.719514], [56.016367, -3.830789], [56.01453, -3.875301], [56.072143, -3.77752], [56.007572, -3.842082], [56.008503, -3.784862], [55.998063, -3.716389], [55.999546, -3.74516], [55.950635, -3.80302], [56.01132, -3.885412], [56.000372, -3.787855], [55.991331, -3.934303], [56.000325, -3.682653], [56.005337, -3.79867], [55.981032, -3.71323], [55.946999, -3.678737], [55.978233, -3.714229], [56.030834, -3.854906], [56.017112, -3.609904], [56.017812, -3.907389], [55.975217, -3.756084], [56.089188, -3.804345], [55.989855, -3.948178], [56.0054, -3.824977], [56.011523, -3.704795], [56.001152, -3.903841], [56.019701, -3.836241], [56.018023, -3.747598], [56.00251, -3.764218], [56.006534, -3.721096], [55.994793, -3.878995], [55.997046, -3.718429], [56.026673, -3.789873], [56.002278, -3.91817], [56.030672, -3.853775], [55.998069, -3.928706], [56.014268, -3.701226], [56.013271, -3.601242], [56.022138, -3.912416], [55.984792, -3.814708], [56.017119, -3.791838], [56.033052, -3.850839], [55.990505, -3.958152], [55.990856, -3.736912], [55.99703, -3.725965], [56.019791, -3.836246], [55.9745, -3.704768], [56.00157, -3.888305], [56.009206, -3.748323], [55.993673, -3.741047], [56.011467, -3.721796], [56.000408, -3.791545], [56.010088, -3.72398], [56.002521, -3.673126], [56.006589, -3.859679], [56.020102, -3.727636], [55.943172, -3.734457], [56.011279, -3.709436], [55.990636, -3.944209], [56.02329, -3.793889], [56.024079, -3.807565], [56.000501, -3.741194], [56.008237, -3.7085], [55.997234, -3.717796], [55.99584, -3.808972], [56.000268, -3.879421], [56.094054, -3.933985], [55.989169, -3.683611], [56.026263, -3.817937], [55.999704, -3.79055], [56.012434, -3.906482], [56.002121, -3.708871], [55.984677, -3.636768], [56.029419, -3.92385], [56.012203, -3.593498], [56.087186, -3.80602], [56.005355, -3.815833], [56.000724, -3.705923], [56.017823, -3.792833], [56.028655, -3.795742], [55.98354, -3.944013], [56.014082, -3.621649], [56.066919, -3.765874], [55.982708, -3.785116], [56.001952, -3.784239], [56.032405, -3.968138], [55.98702, -3.683036], [55.944695, -3.676396], [56.008686, -3.615167], [56.02028, -3.833541], [55.991401, -3.946973], [55.989493, -3.750639], [55.996425, -3.743416], [56.028492, -3.837301], [56.002869, -3.813791], [55.948709, -3.749599], [56.016693, -3.593683], [55.999224, -3.780265], [56.07974, -3.811296], [56.00511, -3.647736], [56.083325, -3.781089], [56.033579, -3.821492], [55.996377, -3.784464], [56.026767, -3.789557], [56.040248, -3.783278], [56.006574, -3.679075], [56.024828, -3.811612], [56.001937, -3.772852], [56.011255, -3.611104], [56.010814, -3.630976], [56.082468, -3.796799], [55.98528, -3.787479], [56.003884, -3.711355], [56.009123, -3.766765], [56.019663, -3.73965], [56.012867, -3.743675], [56.003034, -3.783969], [56.043898, -3.785694], [55.983342, -3.945125], [55.983811, -3.783404], [56.019251, -3.907299], [56.075362, -3.778633], [55.977083, -3.712896], [56.010045, -3.856957], [56.000708, -3.789474], [56.006582, -3.711153], [56.018596, -3.885606], [56.007222, -3.610295], [56.00315, -3.90827], [56.079196, -3.811591], [56.016024, -3.906819], [55.946734, -3.678406], [56.005366, -3.733875], [56.017796, -3.719029], [55.972975, -3.736752], [56.005266, -3.760013], [56.00918, -3.711749], [56.044806, -3.803557], [55.972095, -3.76075], [56.012332, -3.74333], [56.007565, -3.890041], [56.008822, -3.818401], [56.006532, -3.784451], [55.986587, -3.714438], [55.997798, -3.716057], [55.993623, -3.861301], [56.010967, -3.612536], [55.996282, -3.809474], [56.01808, -3.848519], [56.025738, -3.900398], [56.030597, -3.754425], [55.98368, -3.940814], [56.001631, -3.787753], [55.981558, -3.73345], [55.997699, -3.716694], [56.003205, -3.916292], [55.998355, -3.821277], [55.9938, -3.788674], [56.002585, -3.783948], [56.002851, -3.915954], [56.043771, -3.75695], [55.987752, -3.7403], [56.012344, -3.906477], [55.983493, -3.941286], [56.006882, -3.864023], [56.002112, -3.804133], [56.001631, -3.787753], [56.016711, -3.719463], [55.991803, -3.727014], [55.993534, -3.861296], [55.993534, -3.861296], [55.996426, -3.71776], [56.001318, -3.88717], [55.979546, -3.684154], [55.998533, -3.778309], [55.986465, -3.969169], [56.010637, -3.859392], [56.015635, -3.770111], [56.003594, -3.908613], [56.020719, -3.728465], [55.997034, -3.763808], [56.003049, -3.770497], [56.023357, -3.832082], [56.019492, -3.783123], [55.998192, -3.707094], [56.006582, -3.711153], [55.989197, -3.944297], [55.958966, -3.690789], [56.010969, -3.878979], [55.944165, -3.675732], [56.014643, -3.795252], [56.017114, -3.609744], [56.031652, -3.836327], [56.082088, -3.779586], [56.024776, -3.809042], [55.99703, -3.725965], [56.013622, -3.869963], [56.013639, -3.868841], [55.9756, -3.650328], [56.024645, -3.913021], [56.021306, -3.831022], [55.967226, -3.697879], [56.018906, -3.710254], [55.989648, -3.694533], [56.01277, -3.788107], [56.025636, -3.817748], [56.022843, -3.907476], [55.998379, -3.71945], [55.969469, -3.698138], [56.021761, -3.919297], [56.002224, -3.784092], [56.018596, -3.885606], [56.012243, -3.743326], [56.000034, -3.780142], [55.982283, -3.94395], [56.000478, -3.786737], [55.97117, -3.768881], [56.004452, -3.816111], [55.982617, -3.683005], [56.023027, -3.811848], [56.019552, -3.721995], [56.016622, -3.719459], [56.004112, -3.784018], [56.002634, -3.895093], [55.935007, -3.808537], [56.017795, -3.908511], [55.999708, -3.752705], [56.000579, -3.810637], [56.006173, -3.784434], [55.996281, -3.608557], [56.017743, -3.792187], [56.004117, -3.814492], [55.996995, -3.77904], [56.001483, -3.766898], [55.991446, -3.733251], [55.997901, -3.790948], [55.998155, -3.716233], [56.005376, -3.897954], [55.990796, -3.709013], [56.002119, -3.803653], [56.031778, -3.803431], [56.003327, -3.813171], [55.99703, -3.725965], [56.005973, -3.735506], [55.978322, -3.714233], [55.999431, -3.695443], [56.005659, -3.757625], [55.971262, -3.768725], [56.020778, -3.907374], [56.028138, -3.830864], [56.011621, -3.786771], [56.008246, -3.796399], [56.019362, -3.754558], [56.014217, -3.878174], [56.012312, -3.867493], [56.042763, -3.820319], [55.981204, -3.720291], [56.000372, -3.787855], [55.988213, -3.972304], [56.051018, -3.759206], [56.007041, -3.929635], [55.996482, -3.720168], [55.989866, -3.805808], [56.026354, -3.805585], [56.024003, -3.908015], [55.993153, -3.726914], [56.011877, -3.743791], [56.015651, -3.830594], [55.985279, -3.64561], [56.027364, -3.785572], [55.997032, -3.725804], [55.997212, -3.725812], [56.006226, -3.829828], [56.000239, -3.815432], [56.008505, -3.784702], [56.000879, -3.765106], [55.997302, -3.725816], [56.042505, -3.757534], [56.023351, -3.81427], [56.020332, -3.787173], [56.009653, -3.722999], [55.999658, -3.698499], [56.003177, -3.755267], [55.99726, -3.79172], [55.996725, -3.722103], [55.996792, -3.723709], [56.025762, -3.815346], [56.007372, -3.855385], [56.016015, -3.611302], [55.986693, -3.713321], [56.007207, -3.711502], [56.013711, -3.75382], [55.987285, -3.683368], [56.029806, -3.772043], [55.99217, -3.868286], [56.018852, -3.777638], [56.013972, -3.870622], [55.987779, -3.673451], [56.001316, -3.887331], [55.993534, -3.861296], [55.996461, -3.608564], [56.016532, -3.788923], [56.006305, -3.860627], [55.960482, -3.691656], [56.001964, -3.783438], [55.948709, -3.749599], [56.019712, -3.74254], [56.010897, -3.860046], [55.993029, -3.798419], [56.015218, -3.786616], [55.981644, -3.50088], [55.997214, -3.725652], [55.991465, -3.942968], [56.000491, -3.79203], [56.024538, -3.794588], [55.996965, -3.724198], [56.007826, -3.756922], [56.005094, -3.916225], [56.006743, -3.837391], [55.992043, -3.876617], [56.00875, -3.767711], [56.000329, -3.682332], [56.018115, -3.747442], [55.986558, -3.923484], [55.997469, -3.707383], [56.01871, -3.907433], [56.013435, -3.785571], [55.959827, -3.843818], [56.02093, -3.832128], [56.025192, -3.811308], [56.019163, -3.842152], [55.978225, -3.778178], [56.08919, -3.804184], [55.993429, -3.789459], [56.008056, -3.784681], [56.005968, -3.779934], [56.016539, -3.591752], [55.981039, -3.738396], [56.002663, -3.669283], [56.010138, -3.627739], [56.015426, -3.601331], [56.024086, -3.9085], [56.007314, -3.841268], [56.021543, -3.720961], [55.982394, -3.725152], [56.012023, -3.75246], [56.009793, -3.81957], [56.019702, -3.793401], [56.008896, -3.626564], [56.025497, -3.821111], [56.00587, -3.895091], [56.005022, -3.897616], [56.058269, -3.761142], [56.004159, -3.774558], [56.000728, -3.705603], [56.003555, -3.779021], [55.98902, -3.944128], [56.002836, -3.715639], [56.019793, -3.836085], [56.009918, -3.748836], [55.934848, -3.744811], [55.960213, -3.691645], [56.005087, -3.708842], [56.003914, -3.87607], [56.027035, -3.814283], [56.007052, -3.754481], [56.028412, -3.836655], [55.991425, -3.951143], [56.014754, -3.611571], [56.005758, -3.625951], [56.026723, -3.792604], [55.996018, -3.708281], [55.998284, -3.776854], [56.022639, -3.825951], [56.010194, -3.748367], [56.025783, -3.820001], [55.99543, -3.800134], [55.983677, -3.940974], [55.9908, -3.956563], [55.988485, -3.732958], [56.020654, -3.832596], [56.003354, -3.755436], [56.041972, -3.788334], [55.997031, -3.78273], [56.002215, -3.708555], [56.007503, -3.70959], [55.971956, -3.68719], [55.985167, -3.988501], [56.01144, -3.589938], [55.988564, -3.681821], [56.025161, -3.807295], [56.026939, -3.777689], [56.006443, -3.778191], [56.048158, -3.758113], [55.977963, -3.714217], [55.98396, -3.663508], [55.987591, -3.680657], [56.004677, -3.819169], [56.018023, -3.747598], [56.015471, -3.830586], [56.001185, -3.787572], [56.018221, -3.77777], [56.014383, -3.619255], [55.99543, -3.800134], [56.018178, -3.730277], [56.013448, -3.863698], [56.019882, -3.79341], [55.99773, -3.790299], [55.986791, -3.976881], [55.998893, -3.714823], [56.002197, -3.804458], [56.062924, -3.7371], [56.002096, -3.617458], [56.013134, -3.743848], [55.998842, -3.534579], [56.011292, -3.78467], [55.974896, -3.708632], [56.05572, -3.819163], [56.000621, -3.783056], [56.00051, -3.784494], [55.997026, -3.932182], [56.03375, -3.797584], [55.95374, -3.83616], [55.955323, -3.838478], [55.992443, -3.789253], [56.026957, -3.91458], [56.056913, -3.77425], [56.000359, -3.782562], [55.95275, -3.685393], [56.001328, -3.707714], [55.983088, -3.627885]],\n",
       "                {\n",
       "  &quot;minOpacity&quot;: 0.5,\n",
       "  &quot;maxZoom&quot;: 18,\n",
       "  &quot;radius&quot;: 25,\n",
       "  &quot;blur&quot;: 15,\n",
       "}\n",
       "            );\n",
       "        \n",
       "    \n",
       "            heat_map_0484144ed1f990582a7f6c3b799ee900.addTo(map_a5c52b2cc7b3c38d3c8ee0cda542cbfb);\n",
       "        \n",
       "&lt;/script&gt;\n",
       "&lt;/html&gt;\" style=\"position:absolute;width:100%;height:100%;left:0;top:0;border:none !important;\" allowfullscreen webkitallowfullscreen mozallowfullscreen></iframe></div></div>"
      ],
      "text/plain": [
       "<folium.folium.Map at 0x25a4fcdc2b0>"
      ]
     },
     "execution_count": 95,
     "metadata": {},
     "output_type": "execute_result"
    }
   ],
   "source": [
    "import folium\n",
    "from folium.plugins import HeatMap\n",
    "\n",
    "Birmingham_df = accident[accident['District Area'] == 'Falkirk']\n",
    "\n",
    "loc = list(zip(Birmingham_df['Latitude'], Birmingham_df['Longitude']))\n",
    "map = folium.Map(location=[Birmingham_df['Latitude'].mean(), Birmingham_df['Longitude'].mean()], zoom_start=10)\n",
    "HeatMap(loc).add_to(map)\n",
    "\n",
    "map"
   ]
  },
  {
   "cell_type": "code",
   "execution_count": null,
   "id": "3bbd0762-6625-4d41-ab1b-733f51293fe5",
   "metadata": {},
   "outputs": [],
   "source": []
  }
 ],
 "metadata": {
  "kernelspec": {
   "display_name": "Python 3 (ipykernel)",
   "language": "python",
   "name": "python3"
  },
  "language_info": {
   "codemirror_mode": {
    "name": "ipython",
    "version": 3
   },
   "file_extension": ".py",
   "mimetype": "text/x-python",
   "name": "python",
   "nbconvert_exporter": "python",
   "pygments_lexer": "ipython3",
   "version": "3.13.1"
  }
 },
 "nbformat": 4,
 "nbformat_minor": 5
}
