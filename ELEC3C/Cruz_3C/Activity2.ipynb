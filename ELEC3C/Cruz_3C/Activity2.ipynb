{
 "cells": [
  {
   "cell_type": "markdown",
   "id": "6537f459-a586-49e0-a847-aaaad777a474",
   "metadata": {},
   "source": [
    "<h1>Importing Necessary Files</h1>"
   ]
  },
  {
   "cell_type": "code",
   "execution_count": 128,
   "id": "69d9cf7a-8bee-4e37-8a19-9bca8a48db4a",
   "metadata": {},
   "outputs": [],
   "source": [
    "import numpy as np\n",
    "import pandas as pd\n",
    "import warnings\n",
    "warnings.filterwarnings('ignore')\n",
    "from scipy.stats import f_oneway\n",
    "import matplotlib.pyplot as plt"
   ]
  },
  {
   "cell_type": "markdown",
   "id": "2b327509-27fa-483f-a689-392616da707f",
   "metadata": {},
   "source": [
    "<hr>\n",
    "<h1>Making a DataFrame for the Dataset</h1>"
   ]
  },
  {
   "cell_type": "code",
   "execution_count": 129,
   "id": "c19b1d9f-efd5-48d6-a784-d7078cc0153e",
   "metadata": {},
   "outputs": [],
   "source": [
    "accident = pd.read_csv('datasets\\\\accident_data.csv')"
   ]
  },
  {
   "cell_type": "markdown",
   "id": "5d7d7a1d-ef82-4b43-9168-11ae7f9be71b",
   "metadata": {},
   "source": [
    "<hr>\n",
    "<h1>Checking if the DataFrame is Working</h1>"
   ]
  },
  {
   "cell_type": "code",
   "execution_count": 130,
   "id": "03042180-7fce-42e6-b6bd-5909dd4db8fd",
   "metadata": {},
   "outputs": [
    {
     "data": {
      "text/html": [
       "<div>\n",
       "<style scoped>\n",
       "    .dataframe tbody tr th:only-of-type {\n",
       "        vertical-align: middle;\n",
       "    }\n",
       "\n",
       "    .dataframe tbody tr th {\n",
       "        vertical-align: top;\n",
       "    }\n",
       "\n",
       "    .dataframe thead th {\n",
       "        text-align: right;\n",
       "    }\n",
       "</style>\n",
       "<table border=\"1\" class=\"dataframe\">\n",
       "  <thead>\n",
       "    <tr style=\"text-align: right;\">\n",
       "      <th></th>\n",
       "      <th>Index</th>\n",
       "      <th>Accident_Severity</th>\n",
       "      <th>Accident Date</th>\n",
       "      <th>Latitude</th>\n",
       "      <th>Light_Conditions</th>\n",
       "      <th>District Area</th>\n",
       "      <th>Longitude</th>\n",
       "      <th>Number_of_Casualties</th>\n",
       "      <th>Number_of_Vehicles</th>\n",
       "      <th>Road_Surface_Conditions</th>\n",
       "      <th>Road_Type</th>\n",
       "      <th>Urban_or_Rural_Area</th>\n",
       "      <th>Weather_Conditions</th>\n",
       "      <th>Vehicle_Type</th>\n",
       "    </tr>\n",
       "  </thead>\n",
       "  <tbody>\n",
       "    <tr>\n",
       "      <th>0</th>\n",
       "      <td>200701BS64157</td>\n",
       "      <td>Serious</td>\n",
       "      <td>05/06/2019</td>\n",
       "      <td>51.506187</td>\n",
       "      <td>Darkness - lights lit</td>\n",
       "      <td>Kensington and Chelsea</td>\n",
       "      <td>-0.209082</td>\n",
       "      <td>1</td>\n",
       "      <td>2</td>\n",
       "      <td>Dry</td>\n",
       "      <td>Single carriageway</td>\n",
       "      <td>Urban</td>\n",
       "      <td>Fine no high winds</td>\n",
       "      <td>Car</td>\n",
       "    </tr>\n",
       "    <tr>\n",
       "      <th>1</th>\n",
       "      <td>200701BS65737</td>\n",
       "      <td>Serious</td>\n",
       "      <td>02/07/2019</td>\n",
       "      <td>51.495029</td>\n",
       "      <td>Daylight</td>\n",
       "      <td>Kensington and Chelsea</td>\n",
       "      <td>-0.173647</td>\n",
       "      <td>1</td>\n",
       "      <td>2</td>\n",
       "      <td>Wet or damp</td>\n",
       "      <td>Single carriageway</td>\n",
       "      <td>Urban</td>\n",
       "      <td>Raining no high winds</td>\n",
       "      <td>Car</td>\n",
       "    </tr>\n",
       "    <tr>\n",
       "      <th>2</th>\n",
       "      <td>200701BS66127</td>\n",
       "      <td>Serious</td>\n",
       "      <td>26/08/2019</td>\n",
       "      <td>51.517715</td>\n",
       "      <td>Darkness - lighting unknown</td>\n",
       "      <td>Kensington and Chelsea</td>\n",
       "      <td>-0.210215</td>\n",
       "      <td>1</td>\n",
       "      <td>3</td>\n",
       "      <td>Dry</td>\n",
       "      <td>NaN</td>\n",
       "      <td>Urban</td>\n",
       "      <td>NaN</td>\n",
       "      <td>Taxi/Private hire car</td>\n",
       "    </tr>\n",
       "    <tr>\n",
       "      <th>3</th>\n",
       "      <td>200701BS66128</td>\n",
       "      <td>Serious</td>\n",
       "      <td>16/08/2019</td>\n",
       "      <td>51.495478</td>\n",
       "      <td>Daylight</td>\n",
       "      <td>Kensington and Chelsea</td>\n",
       "      <td>-0.202731</td>\n",
       "      <td>1</td>\n",
       "      <td>4</td>\n",
       "      <td>Dry</td>\n",
       "      <td>Single carriageway</td>\n",
       "      <td>Urban</td>\n",
       "      <td>Fine no high winds</td>\n",
       "      <td>Bus or coach (17 or more pass seats)</td>\n",
       "    </tr>\n",
       "    <tr>\n",
       "      <th>4</th>\n",
       "      <td>200701BS66837</td>\n",
       "      <td>Slight</td>\n",
       "      <td>03/09/2019</td>\n",
       "      <td>51.488576</td>\n",
       "      <td>Darkness - lights lit</td>\n",
       "      <td>Kensington and Chelsea</td>\n",
       "      <td>-0.192487</td>\n",
       "      <td>1</td>\n",
       "      <td>2</td>\n",
       "      <td>Dry</td>\n",
       "      <td>NaN</td>\n",
       "      <td>Urban</td>\n",
       "      <td>NaN</td>\n",
       "      <td>Other vehicle</td>\n",
       "    </tr>\n",
       "    <tr>\n",
       "      <th>...</th>\n",
       "      <td>...</td>\n",
       "      <td>...</td>\n",
       "      <td>...</td>\n",
       "      <td>...</td>\n",
       "      <td>...</td>\n",
       "      <td>...</td>\n",
       "      <td>...</td>\n",
       "      <td>...</td>\n",
       "      <td>...</td>\n",
       "      <td>...</td>\n",
       "      <td>...</td>\n",
       "      <td>...</td>\n",
       "      <td>...</td>\n",
       "      <td>...</td>\n",
       "    </tr>\n",
       "    <tr>\n",
       "      <th>660674</th>\n",
       "      <td>201091NM01760</td>\n",
       "      <td>Slight</td>\n",
       "      <td>18/02/2022</td>\n",
       "      <td>57.374005</td>\n",
       "      <td>Daylight</td>\n",
       "      <td>Highland</td>\n",
       "      <td>-3.467828</td>\n",
       "      <td>2</td>\n",
       "      <td>1</td>\n",
       "      <td>Dry</td>\n",
       "      <td>Single carriageway</td>\n",
       "      <td>Rural</td>\n",
       "      <td>Fine no high winds</td>\n",
       "      <td>Car</td>\n",
       "    </tr>\n",
       "    <tr>\n",
       "      <th>660675</th>\n",
       "      <td>201091NM01881</td>\n",
       "      <td>Slight</td>\n",
       "      <td>21/02/2022</td>\n",
       "      <td>57.232273</td>\n",
       "      <td>Darkness - no lighting</td>\n",
       "      <td>Highland</td>\n",
       "      <td>-3.809281</td>\n",
       "      <td>1</td>\n",
       "      <td>1</td>\n",
       "      <td>Frost or ice</td>\n",
       "      <td>Single carriageway</td>\n",
       "      <td>Rural</td>\n",
       "      <td>Fine no high winds</td>\n",
       "      <td>Car</td>\n",
       "    </tr>\n",
       "    <tr>\n",
       "      <th>660676</th>\n",
       "      <td>201091NM01935</td>\n",
       "      <td>Slight</td>\n",
       "      <td>23/02/2022</td>\n",
       "      <td>57.585044</td>\n",
       "      <td>Daylight</td>\n",
       "      <td>Highland</td>\n",
       "      <td>-3.862727</td>\n",
       "      <td>1</td>\n",
       "      <td>3</td>\n",
       "      <td>Frost or ice</td>\n",
       "      <td>Single carriageway</td>\n",
       "      <td>Rural</td>\n",
       "      <td>Fine no high winds</td>\n",
       "      <td>Car</td>\n",
       "    </tr>\n",
       "    <tr>\n",
       "      <th>660677</th>\n",
       "      <td>201091NM01964</td>\n",
       "      <td>Serious</td>\n",
       "      <td>23/02/2022</td>\n",
       "      <td>57.214898</td>\n",
       "      <td>Darkness - no lighting</td>\n",
       "      <td>Highland</td>\n",
       "      <td>-3.823997</td>\n",
       "      <td>1</td>\n",
       "      <td>2</td>\n",
       "      <td>Wet or damp</td>\n",
       "      <td>Single carriageway</td>\n",
       "      <td>Rural</td>\n",
       "      <td>Fine no high winds</td>\n",
       "      <td>Motorcycle over 500cc</td>\n",
       "    </tr>\n",
       "    <tr>\n",
       "      <th>660678</th>\n",
       "      <td>201091NM02142</td>\n",
       "      <td>Serious</td>\n",
       "      <td>28/02/2022</td>\n",
       "      <td>57.575210</td>\n",
       "      <td>Daylight</td>\n",
       "      <td>Highland</td>\n",
       "      <td>-3.895673</td>\n",
       "      <td>1</td>\n",
       "      <td>1</td>\n",
       "      <td>Wet or damp</td>\n",
       "      <td>Dual carriageway</td>\n",
       "      <td>Rural</td>\n",
       "      <td>Snowing no high winds</td>\n",
       "      <td>Car</td>\n",
       "    </tr>\n",
       "  </tbody>\n",
       "</table>\n",
       "<p>660679 rows × 14 columns</p>\n",
       "</div>"
      ],
      "text/plain": [
       "                Index Accident_Severity Accident Date   Latitude  \\\n",
       "0       200701BS64157           Serious    05/06/2019  51.506187   \n",
       "1       200701BS65737           Serious    02/07/2019  51.495029   \n",
       "2       200701BS66127           Serious    26/08/2019  51.517715   \n",
       "3       200701BS66128           Serious    16/08/2019  51.495478   \n",
       "4       200701BS66837            Slight    03/09/2019  51.488576   \n",
       "...               ...               ...           ...        ...   \n",
       "660674  201091NM01760            Slight    18/02/2022  57.374005   \n",
       "660675  201091NM01881            Slight    21/02/2022  57.232273   \n",
       "660676  201091NM01935            Slight    23/02/2022  57.585044   \n",
       "660677  201091NM01964           Serious    23/02/2022  57.214898   \n",
       "660678  201091NM02142           Serious    28/02/2022  57.575210   \n",
       "\n",
       "                   Light_Conditions           District Area  Longitude  \\\n",
       "0             Darkness - lights lit  Kensington and Chelsea  -0.209082   \n",
       "1                          Daylight  Kensington and Chelsea  -0.173647   \n",
       "2       Darkness - lighting unknown  Kensington and Chelsea  -0.210215   \n",
       "3                          Daylight  Kensington and Chelsea  -0.202731   \n",
       "4             Darkness - lights lit  Kensington and Chelsea  -0.192487   \n",
       "...                             ...                     ...        ...   \n",
       "660674                     Daylight                Highland  -3.467828   \n",
       "660675       Darkness - no lighting                Highland  -3.809281   \n",
       "660676                     Daylight                Highland  -3.862727   \n",
       "660677       Darkness - no lighting                Highland  -3.823997   \n",
       "660678                     Daylight                Highland  -3.895673   \n",
       "\n",
       "        Number_of_Casualties  Number_of_Vehicles Road_Surface_Conditions  \\\n",
       "0                          1                   2                     Dry   \n",
       "1                          1                   2             Wet or damp   \n",
       "2                          1                   3                     Dry   \n",
       "3                          1                   4                     Dry   \n",
       "4                          1                   2                     Dry   \n",
       "...                      ...                 ...                     ...   \n",
       "660674                     2                   1                     Dry   \n",
       "660675                     1                   1            Frost or ice   \n",
       "660676                     1                   3            Frost or ice   \n",
       "660677                     1                   2             Wet or damp   \n",
       "660678                     1                   1             Wet or damp   \n",
       "\n",
       "                 Road_Type Urban_or_Rural_Area     Weather_Conditions  \\\n",
       "0       Single carriageway               Urban     Fine no high winds   \n",
       "1       Single carriageway               Urban  Raining no high winds   \n",
       "2                      NaN               Urban                    NaN   \n",
       "3       Single carriageway               Urban     Fine no high winds   \n",
       "4                      NaN               Urban                    NaN   \n",
       "...                    ...                 ...                    ...   \n",
       "660674  Single carriageway               Rural     Fine no high winds   \n",
       "660675  Single carriageway               Rural     Fine no high winds   \n",
       "660676  Single carriageway               Rural     Fine no high winds   \n",
       "660677  Single carriageway               Rural     Fine no high winds   \n",
       "660678    Dual carriageway               Rural  Snowing no high winds   \n",
       "\n",
       "                                Vehicle_Type  \n",
       "0                                        Car  \n",
       "1                                        Car  \n",
       "2                      Taxi/Private hire car  \n",
       "3       Bus or coach (17 or more pass seats)  \n",
       "4                              Other vehicle  \n",
       "...                                      ...  \n",
       "660674                                   Car  \n",
       "660675                                   Car  \n",
       "660676                                   Car  \n",
       "660677                 Motorcycle over 500cc  \n",
       "660678                                   Car  \n",
       "\n",
       "[660679 rows x 14 columns]"
      ]
     },
     "execution_count": 130,
     "metadata": {},
     "output_type": "execute_result"
    }
   ],
   "source": [
    "accident"
   ]
  },
  {
   "cell_type": "markdown",
   "id": "80b9d57e-2a32-4ae6-87e9-02183b00fae0",
   "metadata": {},
   "source": [
    "<h1>Cleaning the Inconsistencies on the Accident date</h1>"
   ]
  },
  {
   "cell_type": "code",
   "execution_count": 131,
   "id": "6d97e68b-5c42-46da-bd64-f6d9d60a9270",
   "metadata": {},
   "outputs": [],
   "source": [
    "accident['Accident Date'] = accident['Accident Date'].astype('str')\n",
    "accident['Accident Date'] = accident['Accident Date'].str.strip()\n",
    "accident['Accident Date'] = accident['Accident Date'].str.replace('/', '-')"
   ]
  },
  {
   "cell_type": "markdown",
   "id": "41bb4b4c-42c4-4546-89d7-31c69991debc",
   "metadata": {},
   "source": [
    "<h1>Coverting the Data Type of the Accident Date</h1>"
   ]
  },
  {
   "cell_type": "code",
   "execution_count": 132,
   "id": "2eaa988c-e32f-4830-8e0f-19cb92860f2e",
   "metadata": {},
   "outputs": [],
   "source": [
    "accident['Accident Date'] = pd.to_datetime(accident['Accident Date'], dayfirst=True, errors='coerce')"
   ]
  },
  {
   "cell_type": "markdown",
   "id": "05efdd18-0a73-4414-9763-f16ed1252c1f",
   "metadata": {},
   "source": [
    "<h1>Extracting New Columns from Accident Date</h1>"
   ]
  },
  {
   "cell_type": "code",
   "execution_count": 133,
   "id": "9d175371-5870-4e62-acbf-f5e957fbbb15",
   "metadata": {},
   "outputs": [],
   "source": [
    "accident['Year'] = accident['Accident Date'].dt.year\n",
    "accident['Month_Number'] = accident['Accident Date'].dt.month\n",
    "accident['Month'] = accident['Accident Date'].dt.month_name()\n",
    "accident['Day'] = accident['Accident Date'].dt.day\n",
    "accident['DayofWeek'] = accident['Accident Date'].dt.dayofweek  # Monday=0, Sunday=6"
   ]
  },
  {
   "cell_type": "markdown",
   "id": "b8598230-d36d-4c3e-9a5c-80a2bcbab3dc",
   "metadata": {},
   "source": [
    "<hr>\n",
    "<h1>Checking for Null Values</h1>"
   ]
  },
  {
   "cell_type": "code",
   "execution_count": 134,
   "id": "6e179ed3-1942-49ed-8f76-d7d0a39364a6",
   "metadata": {},
   "outputs": [
    {
     "data": {
      "text/plain": [
       "Index                          0\n",
       "Accident_Severity              0\n",
       "Accident Date                  0\n",
       "Latitude                      25\n",
       "Light_Conditions               0\n",
       "District Area                  0\n",
       "Longitude                     26\n",
       "Number_of_Casualties           0\n",
       "Number_of_Vehicles             0\n",
       "Road_Surface_Conditions      726\n",
       "Road_Type                   4520\n",
       "Urban_or_Rural_Area           15\n",
       "Weather_Conditions         14128\n",
       "Vehicle_Type                   0\n",
       "Year                           0\n",
       "Month_Number                   0\n",
       "Month                          0\n",
       "Day                            0\n",
       "DayofWeek                      0\n",
       "dtype: int64"
      ]
     },
     "execution_count": 134,
     "metadata": {},
     "output_type": "execute_result"
    }
   ],
   "source": [
    "accident.isnull().sum()"
   ]
  },
  {
   "cell_type": "markdown",
   "id": "e10b202d-5874-4ba2-86b4-5f1f0c8fb9cb",
   "metadata": {},
   "source": [
    "<h1>Fixing the Null Values</h1>"
   ]
  },
  {
   "cell_type": "markdown",
   "id": "ae6ed67f-0b28-43dd-b569-8ce9248c5020",
   "metadata": {},
   "source": [
    "<h3>Numerical Null Values</h3>"
   ]
  },
  {
   "cell_type": "code",
   "execution_count": 135,
   "id": "5c2bc6c9-a954-4aea-b57d-9bf0be3cbc1d",
   "metadata": {},
   "outputs": [
    {
     "data": {
      "text/plain": [
       "np.float64(52.553865761110956)"
      ]
     },
     "execution_count": 135,
     "metadata": {},
     "output_type": "execute_result"
    }
   ],
   "source": [
    "accident['Latitude'].mean()"
   ]
  },
  {
   "cell_type": "code",
   "execution_count": 136,
   "id": "4ecc38fb-9aae-4208-aaff-f658c089d215",
   "metadata": {},
   "outputs": [],
   "source": [
    "accident['Latitude'] = accident['Latitude'].fillna(accident['Latitude'].mean())"
   ]
  },
  {
   "cell_type": "code",
   "execution_count": 137,
   "id": "8bfe2109-41fe-4402-bde7-24048c772080",
   "metadata": {},
   "outputs": [
    {
     "data": {
      "text/plain": [
       "np.float64(-1.4312103685020727)"
      ]
     },
     "execution_count": 137,
     "metadata": {},
     "output_type": "execute_result"
    }
   ],
   "source": [
    "accident['Longitude'].mean()"
   ]
  },
  {
   "cell_type": "code",
   "execution_count": 138,
   "id": "50896a52-15d9-4a14-8c5a-79f49c17f039",
   "metadata": {},
   "outputs": [],
   "source": [
    "accident['Longitude'] = accident['Longitude'].fillna(accident['Longitude'].mean())"
   ]
  },
  {
   "cell_type": "markdown",
   "id": "aa786a6a-e24d-4cd8-ba41-cd9ebeb2933b",
   "metadata": {},
   "source": [
    "<h3>-Categorical Null Values-</h3>"
   ]
  },
  {
   "cell_type": "code",
   "execution_count": 139,
   "id": "d4d155a9-e87f-40ac-a787-130c0cf1c685",
   "metadata": {},
   "outputs": [],
   "source": [
    "accident['Road_Surface_Conditions'] = accident['Road_Surface_Conditions'].fillna('unaccounted')"
   ]
  },
  {
   "cell_type": "code",
   "execution_count": 140,
   "id": "4bb00251-f8de-4d63-979c-dfd0fac66b58",
   "metadata": {},
   "outputs": [],
   "source": [
    "accident['Road_Type'] = accident['Road_Type'].fillna('unaccounted')"
   ]
  },
  {
   "cell_type": "code",
   "execution_count": 141,
   "id": "51159b98-83da-4d4c-9993-36eb54b8f15f",
   "metadata": {},
   "outputs": [
    {
     "data": {
      "text/plain": [
       "0    Urban\n",
       "Name: Urban_or_Rural_Area, dtype: object"
      ]
     },
     "execution_count": 141,
     "metadata": {},
     "output_type": "execute_result"
    }
   ],
   "source": [
    "accident['Urban_or_Rural_Area'].mode()"
   ]
  },
  {
   "cell_type": "code",
   "execution_count": 142,
   "id": "e2a122f4-b386-4040-b874-9d331bbf013f",
   "metadata": {},
   "outputs": [],
   "source": [
    "accident['Urban_or_Rural_Area'] = accident['Urban_or_Rural_Area'].fillna(accident['Urban_or_Rural_Area'].mode()[0])"
   ]
  },
  {
   "cell_type": "code",
   "execution_count": 143,
   "id": "9550e822-aaf5-4724-b90d-aced9b1679b2",
   "metadata": {},
   "outputs": [],
   "source": [
    "accident['Weather_Conditions'] = accident['Weather_Conditions'].fillna('unaccounted')"
   ]
  },
  {
   "cell_type": "markdown",
   "id": "f3fac675-95c7-46ea-bfa5-5ba5d08be489",
   "metadata": {},
   "source": [
    "<h1>Checking if there are still Null Values</h1>"
   ]
  },
  {
   "cell_type": "code",
   "execution_count": 144,
   "id": "98d6f815-f321-4fbc-83dc-2b0354a23c56",
   "metadata": {},
   "outputs": [
    {
     "data": {
      "text/plain": [
       "Index                      0\n",
       "Accident_Severity          0\n",
       "Accident Date              0\n",
       "Latitude                   0\n",
       "Light_Conditions           0\n",
       "District Area              0\n",
       "Longitude                  0\n",
       "Number_of_Casualties       0\n",
       "Number_of_Vehicles         0\n",
       "Road_Surface_Conditions    0\n",
       "Road_Type                  0\n",
       "Urban_or_Rural_Area        0\n",
       "Weather_Conditions         0\n",
       "Vehicle_Type               0\n",
       "Year                       0\n",
       "Month_Number               0\n",
       "Month                      0\n",
       "Day                        0\n",
       "DayofWeek                  0\n",
       "dtype: int64"
      ]
     },
     "execution_count": 144,
     "metadata": {},
     "output_type": "execute_result"
    }
   ],
   "source": [
    "accident.isnull().sum()"
   ]
  },
  {
   "cell_type": "markdown",
   "id": "66429a22-f7c7-4b47-b313-3a1dcdaee3e5",
   "metadata": {},
   "source": [
    "<hr>\n",
    "<h1>Checking the Data Type</h1>"
   ]
  },
  {
   "cell_type": "code",
   "execution_count": 145,
   "id": "9104dd56-fd3a-44fb-a2cb-6f2bf5e207ca",
   "metadata": {},
   "outputs": [
    {
     "name": "stdout",
     "output_type": "stream",
     "text": [
      "<class 'pandas.core.frame.DataFrame'>\n",
      "RangeIndex: 660679 entries, 0 to 660678\n",
      "Data columns (total 19 columns):\n",
      " #   Column                   Non-Null Count   Dtype         \n",
      "---  ------                   --------------   -----         \n",
      " 0   Index                    660679 non-null  object        \n",
      " 1   Accident_Severity        660679 non-null  object        \n",
      " 2   Accident Date            660679 non-null  datetime64[ns]\n",
      " 3   Latitude                 660679 non-null  float64       \n",
      " 4   Light_Conditions         660679 non-null  object        \n",
      " 5   District Area            660679 non-null  object        \n",
      " 6   Longitude                660679 non-null  float64       \n",
      " 7   Number_of_Casualties     660679 non-null  int64         \n",
      " 8   Number_of_Vehicles       660679 non-null  int64         \n",
      " 9   Road_Surface_Conditions  660679 non-null  object        \n",
      " 10  Road_Type                660679 non-null  object        \n",
      " 11  Urban_or_Rural_Area      660679 non-null  object        \n",
      " 12  Weather_Conditions       660679 non-null  object        \n",
      " 13  Vehicle_Type             660679 non-null  object        \n",
      " 14  Year                     660679 non-null  int32         \n",
      " 15  Month_Number             660679 non-null  int32         \n",
      " 16  Month                    660679 non-null  object        \n",
      " 17  Day                      660679 non-null  int32         \n",
      " 18  DayofWeek                660679 non-null  int32         \n",
      "dtypes: datetime64[ns](1), float64(2), int32(4), int64(2), object(10)\n",
      "memory usage: 85.7+ MB\n"
     ]
    }
   ],
   "source": [
    "accident.info()"
   ]
  },
  {
   "cell_type": "markdown",
   "id": "8afba6e4-c4f5-4008-9fbf-4b23af5dc01c",
   "metadata": {},
   "source": [
    "<h1>Fixing the Data Type</h1>"
   ]
  },
  {
   "cell_type": "code",
   "execution_count": 146,
   "id": "bfc3d944-da89-4589-b1e9-f995096520fd",
   "metadata": {},
   "outputs": [],
   "source": [
    "accident['Index'] = accident['Index'].astype('category') \n",
    "accident['Accident_Severity'] = accident['Accident_Severity'].astype('category')\n",
    "accident['Light_Conditions'] = accident['Light_Conditions'].astype('category')\n",
    "accident['District Area'] = accident['District Area'].astype('category')\n",
    "accident['Road_Surface_Conditions'] = accident['Road_Surface_Conditions'].astype('category') \n",
    "accident['Road_Type'] = accident['Road_Type'].astype('category') \n",
    "accident['Urban_or_Rural_Area'] = accident['Urban_or_Rural_Area'].astype('category') \n",
    "accident['Weather_Conditions'] = accident['Weather_Conditions'].astype('category') \n",
    "accident['Vehicle_Type'] = accident['Vehicle_Type'].astype('category')\n",
    "accident['Month'] = accident['Month'].astype('category')\n",
    "accident['Year'] = accident['Year'].astype('category')"
   ]
  },
  {
   "cell_type": "markdown",
   "id": "d7200b58-e223-4de0-a0ce-e52919ca2995",
   "metadata": {},
   "source": [
    "<h1>Checking again</h1>"
   ]
  },
  {
   "cell_type": "code",
   "execution_count": 147,
   "id": "e8a8ebbb-0a33-43a0-8883-14887f96574d",
   "metadata": {},
   "outputs": [
    {
     "name": "stdout",
     "output_type": "stream",
     "text": [
      "<class 'pandas.core.frame.DataFrame'>\n",
      "RangeIndex: 660679 entries, 0 to 660678\n",
      "Data columns (total 19 columns):\n",
      " #   Column                   Non-Null Count   Dtype         \n",
      "---  ------                   --------------   -----         \n",
      " 0   Index                    660679 non-null  category      \n",
      " 1   Accident_Severity        660679 non-null  category      \n",
      " 2   Accident Date            660679 non-null  datetime64[ns]\n",
      " 3   Latitude                 660679 non-null  float64       \n",
      " 4   Light_Conditions         660679 non-null  category      \n",
      " 5   District Area            660679 non-null  category      \n",
      " 6   Longitude                660679 non-null  float64       \n",
      " 7   Number_of_Casualties     660679 non-null  int64         \n",
      " 8   Number_of_Vehicles       660679 non-null  int64         \n",
      " 9   Road_Surface_Conditions  660679 non-null  category      \n",
      " 10  Road_Type                660679 non-null  category      \n",
      " 11  Urban_or_Rural_Area      660679 non-null  category      \n",
      " 12  Weather_Conditions       660679 non-null  category      \n",
      " 13  Vehicle_Type             660679 non-null  category      \n",
      " 14  Year                     660679 non-null  category      \n",
      " 15  Month_Number             660679 non-null  int32         \n",
      " 16  Month                    660679 non-null  category      \n",
      " 17  Day                      660679 non-null  int32         \n",
      " 18  DayofWeek                660679 non-null  int32         \n",
      "dtypes: category(11), datetime64[ns](1), float64(2), int32(3), int64(2)\n",
      "memory usage: 61.6 MB\n"
     ]
    }
   ],
   "source": [
    "accident.info()"
   ]
  },
  {
   "cell_type": "markdown",
   "id": "a93fcec4-0079-420e-ab31-a6bd284f1dba",
   "metadata": {},
   "source": [
    "<hr>\n",
    "<h1> Questions and Insights</h1>\n",
    "<hr>"
   ]
  },
  {
   "cell_type": "markdown",
   "id": "3beb076d-b9c6-4ae7-85e4-38bb6d56fc57",
   "metadata": {},
   "source": [
    "<h1>EDA</h1>"
   ]
  },
  {
   "cell_type": "markdown",
   "id": "d5ea8643-da8e-49a8-8d1d-2c6a4491b63e",
   "metadata": {},
   "source": [
    "<h1>1.Which kind of vehicle is the most common?</h1>"
   ]
  },
  {
   "cell_type": "code",
   "execution_count": 148,
   "id": "4605ec78-6b0e-4f47-9ed2-dcaee27ef55d",
   "metadata": {},
   "outputs": [
    {
     "data": {
      "text/plain": [
       "0    Car\n",
       "Name: Vehicle_Type, dtype: category\n",
       "Categories (16, object): ['Agricultural vehicle', 'Bus or coach (17 or more pass seats)', 'Car', 'Data missing or out of range', ..., 'Pedal cycle', 'Ridden horse', 'Taxi/Private hire car', 'Van / Goods 3.5 tonnes mgw or under']"
      ]
     },
     "execution_count": 148,
     "metadata": {},
     "output_type": "execute_result"
    }
   ],
   "source": [
    "accident['Vehicle_Type'].mode()\n"
   ]
  },
  {
   "cell_type": "markdown",
   "id": "a3f08193-1006-4bb0-84d7-a51fd2b470be",
   "metadata": {},
   "source": [
    "<h2><strong>Insight: </strong> The results show that cars are the most common and frequent type of vehicle involved in accidents..</h2>"
   ]
  },
  {
   "cell_type": "markdown",
   "id": "5b964d9f-fdab-4941-b8ab-8438c6e52a47",
   "metadata": {},
   "source": [
    "<hr>\n",
    "<h1>2. What is the usual light condition during the accidents?</h1>"
   ]
  },
  {
   "cell_type": "code",
   "execution_count": 149,
   "id": "8d02caef-856b-4d99-a3d2-87ed0de712b4",
   "metadata": {},
   "outputs": [
    {
     "data": {
      "text/plain": [
       "0    Daylight\n",
       "Name: Light_Conditions, dtype: category\n",
       "Categories (5, object): ['Darkness - lighting unknown', 'Darkness - lights lit', 'Darkness - lights unlit', 'Darkness - no lighting', 'Daylight']"
      ]
     },
     "execution_count": 149,
     "metadata": {},
     "output_type": "execute_result"
    }
   ],
   "source": [
    "accident['Light_Conditions'].mode()\n"
   ]
  },
  {
   "cell_type": "markdown",
   "id": "726f49f0-2790-4fba-9c0f-fc9774eac9bd",
   "metadata": {},
   "source": [
    "<h2> <strong>Insight: </strong> The findings indicate that accidents typically occur during the day.. </h2>"
   ]
  },
  {
   "cell_type": "markdown",
   "id": "60192ad0-1b92-46e1-8063-95cdc7efd8d9",
   "metadata": {},
   "source": [
    "<hr>\n",
    "<h1>3. In terms of road surface conditions, what is the the most frequent?</h1>"
   ]
  },
  {
   "cell_type": "code",
   "execution_count": 150,
   "id": "f58e7db6-f76a-428d-b4e2-09ab902a1648",
   "metadata": {},
   "outputs": [
    {
     "data": {
      "text/plain": [
       "0    Dry\n",
       "Name: Road_Surface_Conditions, dtype: category\n",
       "Categories (6, object): ['Dry', 'Flood over 3cm. deep', 'Frost or ice', 'Snow', 'Wet or damp', 'unaccounted']"
      ]
     },
     "execution_count": 150,
     "metadata": {},
     "output_type": "execute_result"
    }
   ],
   "source": [
    "accident['Road_Surface_Conditions'].mode()"
   ]
  },
  {
   "cell_type": "markdown",
   "id": "6c619a55-57d2-4c39-a497-c7b61d3ddfa7",
   "metadata": {},
   "source": [
    "<h2> <strong>Insight: </strong> \n",
    "    Based on the result, dry road surface condition is prone to accidents. </h2>"
   ]
  },
  {
   "cell_type": "markdown",
   "id": "9f8a1964-0d37-49b1-84f4-2a2117f9e1e6",
   "metadata": {},
   "source": [
    "<hr>\n",
    "<h1>4. How many number of vehicles are mostly being involved during accidents?</h1>"
   ]
  },
  {
   "cell_type": "code",
   "execution_count": 151,
   "id": "da4e9f3c-a55d-41e5-85a2-4172c3674b3b",
   "metadata": {},
   "outputs": [
    {
     "data": {
      "text/plain": [
       "0    2\n",
       "Name: Number_of_Vehicles, dtype: int64"
      ]
     },
     "execution_count": 151,
     "metadata": {},
     "output_type": "execute_result"
    }
   ],
   "source": [
    "accident['Number_of_Vehicles'].mode()"
   ]
  },
  {
   "cell_type": "markdown",
   "id": "5b1ae7eb-5b76-4c98-9f11-dfd2eee2dc68",
   "metadata": {},
   "source": [
    "<h2> <strong>Insight: </strong> Based on the result, two vehicle are most involved in accidents </h2>"
   ]
  },
  {
   "cell_type": "markdown",
   "id": "28d4651e-95d6-452d-94cf-f084cd084786",
   "metadata": {},
   "source": [
    "<hr>\n",
    "<h1>5. What type of road does the accidents usually happen? </h1>"
   ]
  },
  {
   "cell_type": "code",
   "execution_count": 152,
   "id": "35aeaaab-105c-4a99-a0d8-251b0661e7a9",
   "metadata": {},
   "outputs": [
    {
     "data": {
      "text/plain": [
       "0    Single carriageway\n",
       "Name: Road_Type, dtype: category\n",
       "Categories (6, object): ['Dual carriageway', 'One way street', 'Roundabout', 'Single carriageway', 'Slip road', 'unaccounted']"
      ]
     },
     "execution_count": 152,
     "metadata": {},
     "output_type": "execute_result"
    }
   ],
   "source": [
    "accident['Road_Type'].mode()"
   ]
  },
  {
   "cell_type": "markdown",
   "id": "d01b4d78-d96b-4d3e-b36a-154720275215",
   "metadata": {},
   "source": [
    "<h2> <strong>Insight: </strong> According to the result, accidents usually happen on a single carriageway road. </h2>"
   ]
  },
  {
   "cell_type": "markdown",
   "id": "fb6f7cae-8356-4afe-be5b-2b96bccbdb30",
   "metadata": {},
   "source": [
    "<h1>6. How many record of accidents per year?</h1>"
   ]
  },
  {
   "cell_type": "code",
   "execution_count": 153,
   "id": "726480b8-0dae-4c21-8323-ebcb2bdfcbfe",
   "metadata": {},
   "outputs": [
    {
     "data": {
      "text/plain": [
       "Year\n",
       "2019    182115\n",
       "2020    170591\n",
       "2021    163554\n",
       "2022    144419\n",
       "Name: count, dtype: int64"
      ]
     },
     "execution_count": 153,
     "metadata": {},
     "output_type": "execute_result"
    }
   ],
   "source": [
    "accident['Year'].value_counts()"
   ]
  },
  {
   "cell_type": "markdown",
   "id": "e64bfe68-096c-47a0-8420-6b27a05ec8ef",
   "metadata": {},
   "source": [
    "<h2> <strong>Insight: </strong> The results indicate that, with 182,115 incidents, 2019 has the greatest accident record. With 170,591 recordings, 2020 is the second-highest year. With 163,554 records, 2021 comes next. In contrast, 2022 had the fewest records (144,419).\n",
    " </h2>"
   ]
  },
  {
   "cell_type": "markdown",
   "id": "b099f580-99a8-4af1-af0e-9e2a0e2dc746",
   "metadata": {},
   "source": [
    "<h1>7. In terms of weather conditions, when does the least and most accidents record?</h1>"
   ]
  },
  {
   "cell_type": "code",
   "execution_count": 154,
   "id": "c1876650-163a-4832-89ef-74e91c4bfcf7",
   "metadata": {},
   "outputs": [
    {
     "data": {
      "text/plain": [
       "Weather_Conditions\n",
       "Fine no high winds       520885\n",
       "Raining no high winds     79696\n",
       "Other                     17150\n",
       "unaccounted               14128\n",
       "Raining + high winds       9615\n",
       "Fine + high winds          8554\n",
       "Snowing no high winds      6238\n",
       "Fog or mist                3528\n",
       "Snowing + high winds        885\n",
       "Name: count, dtype: int64"
      ]
     },
     "execution_count": 154,
     "metadata": {},
     "output_type": "execute_result"
    }
   ],
   "source": [
    "accident['Weather_Conditions'].value_counts()"
   ]
  },
  {
   "cell_type": "markdown",
   "id": "3b9f1a11-fe33-41a7-a3ec-854695861d83",
   "metadata": {},
   "source": [
    "<h2> <strong>Insight: </strong> Based on the result, accidents usually happen during 'fine no high winds' weather condition, then the least accident record happens during 'snowing + high winds'.</h2>"
   ]
  },
  {
   "cell_type": "markdown",
   "id": "7eca60f3-2b73-40d3-abd3-882cc09cb57a",
   "metadata": {},
   "source": [
    "<h1>AGGREGATION</h1>"
   ]
  },
  {
   "cell_type": "markdown",
   "id": "2a19e178-da4c-4522-9636-166729be8d01",
   "metadata": {},
   "source": [
    "<h1>8. How many accidents occur on each type of road overall??</h1>"
   ]
  },
  {
   "cell_type": "code",
   "execution_count": 155,
   "id": "5418ae0b-1e0c-495d-9cbc-570b06c3d267",
   "metadata": {},
   "outputs": [
    {
     "data": {
      "text/plain": [
       "Road_Type\n",
       "Dual carriageway       99424\n",
       "One way street         13559\n",
       "Roundabout             43992\n",
       "Single carriageway    492143\n",
       "Slip road               7041\n",
       "unaccounted             4520\n",
       "dtype: int64"
      ]
     },
     "execution_count": 155,
     "metadata": {},
     "output_type": "execute_result"
    }
   ],
   "source": [
    "accident.groupby('Road_Type').size()"
   ]
  },
  {
   "cell_type": "markdown",
   "id": "6019b06a-d2a5-437f-888f-6243701c4d14",
   "metadata": {},
   "source": [
    "<h2> <strong>Insight: </strong>The results show that, with 496,663 records, single carriageways were the road type with the most accidents. Dual Carriageway, with 99,424 records, came next. The roundabout came in third place with 43,992 accident reports, followed by the one-way street with 13,559 recordings and the slip road with 7,041 records. </h2>"
   ]
  },
  {
   "cell_type": "markdown",
   "id": "d11a7b90-377c-45e5-b22a-669266820188",
   "metadata": {},
   "source": [
    "<h1>9. How many people are killed in accidents on average, broken down by the severity of the accident?</h1>"
   ]
  },
  {
   "cell_type": "code",
   "execution_count": 156,
   "id": "ddea5649-e4af-4429-8968-fe48fd785b83",
   "metadata": {},
   "outputs": [
    {
     "data": {
      "text/plain": [
       "Accident_Severity\n",
       "Fatal      1.903129\n",
       "Serious    1.467280\n",
       "Slight     1.331402\n",
       "Name: Number_of_Casualties, dtype: float64"
      ]
     },
     "execution_count": 156,
     "metadata": {},
     "output_type": "execute_result"
    }
   ],
   "source": [
    "accident.groupby('Accident_Severity')['Number_of_Casualties'].mean()"
   ]
  },
  {
   "cell_type": "markdown",
   "id": "64a2238e-4bc4-4452-bdea-de422387425d",
   "metadata": {},
   "source": [
    "<h2> <strong>Insight: </strong> The average of accident severity in terms of fatal is 1.903129 (highest), serious is 1.467280, and slight is 1.331402 (lowest). </h2>"
   ]
  },
  {
   "cell_type": "markdown",
   "id": "b0726253-f606-4e62-83ff-e311b7ee91e6",
   "metadata": {},
   "source": [
    "<h1>10. How do accident severities vary across different light conditions?</h1>"
   ]
  },
  {
   "cell_type": "code",
   "execution_count": 157,
   "id": "869d11bf-a606-4dd7-9e22-103bf79a8ac8",
   "metadata": {},
   "outputs": [
    {
     "data": {
      "text/html": [
       "<div>\n",
       "<style scoped>\n",
       "    .dataframe tbody tr th:only-of-type {\n",
       "        vertical-align: middle;\n",
       "    }\n",
       "\n",
       "    .dataframe tbody tr th {\n",
       "        vertical-align: top;\n",
       "    }\n",
       "\n",
       "    .dataframe thead th {\n",
       "        text-align: right;\n",
       "    }\n",
       "</style>\n",
       "<table border=\"1\" class=\"dataframe\">\n",
       "  <thead>\n",
       "    <tr style=\"text-align: right;\">\n",
       "      <th>Light_Conditions</th>\n",
       "      <th>Darkness - lighting unknown</th>\n",
       "      <th>Darkness - lights lit</th>\n",
       "      <th>Darkness - lights unlit</th>\n",
       "      <th>Darkness - no lighting</th>\n",
       "      <th>Daylight</th>\n",
       "    </tr>\n",
       "    <tr>\n",
       "      <th>Accident_Severity</th>\n",
       "      <th></th>\n",
       "      <th></th>\n",
       "      <th></th>\n",
       "      <th></th>\n",
       "      <th></th>\n",
       "    </tr>\n",
       "  </thead>\n",
       "  <tbody>\n",
       "    <tr>\n",
       "      <th>Fatal</th>\n",
       "      <td>68</td>\n",
       "      <td>1860</td>\n",
       "      <td>45</td>\n",
       "      <td>1612</td>\n",
       "      <td>5076</td>\n",
       "    </tr>\n",
       "    <tr>\n",
       "      <th>Serious</th>\n",
       "      <td>794</td>\n",
       "      <td>19130</td>\n",
       "      <td>360</td>\n",
       "      <td>7174</td>\n",
       "      <td>60759</td>\n",
       "    </tr>\n",
       "    <tr>\n",
       "      <th>Slight</th>\n",
       "      <td>5622</td>\n",
       "      <td>108345</td>\n",
       "      <td>2138</td>\n",
       "      <td>28651</td>\n",
       "      <td>419045</td>\n",
       "    </tr>\n",
       "  </tbody>\n",
       "</table>\n",
       "</div>"
      ],
      "text/plain": [
       "Light_Conditions   Darkness - lighting unknown  Darkness - lights lit  \\\n",
       "Accident_Severity                                                       \n",
       "Fatal                                       68                   1860   \n",
       "Serious                                    794                  19130   \n",
       "Slight                                    5622                 108345   \n",
       "\n",
       "Light_Conditions   Darkness - lights unlit  Darkness - no lighting  Daylight  \n",
       "Accident_Severity                                                             \n",
       "Fatal                                   45                    1612      5076  \n",
       "Serious                                360                    7174     60759  \n",
       "Slight                                2138                   28651    419045  "
      ]
     },
     "execution_count": 157,
     "metadata": {},
     "output_type": "execute_result"
    }
   ],
   "source": [
    "accident.groupby(['Accident_Severity', 'Light_Conditions']).size().unstack()"
   ]
  },
  {
   "cell_type": "markdown",
   "id": "05690768-f22b-4e1f-a10e-03c4d06dd511",
   "metadata": {},
   "source": [
    "<h2> <strong>Insight: </strong> We can conclude that all the three types of accident severity happens the most during the daylight, while the three of them also happens the least during darkness - lights unlit.  </h2>"
   ]
  },
  {
   "cell_type": "markdown",
   "id": "7e076ae6-417a-431c-8e8d-2899e6cf7f68",
   "metadata": {},
   "source": [
    "<h1>11. What is the distribution of accidents by road type and road surface condition?</h1>"
   ]
  },
  {
   "cell_type": "code",
   "execution_count": 158,
   "id": "050163a0-8bfd-4685-8129-b5ad58d77c72",
   "metadata": {},
   "outputs": [
    {
     "data": {
      "text/html": [
       "<div>\n",
       "<style scoped>\n",
       "    .dataframe tbody tr th:only-of-type {\n",
       "        vertical-align: middle;\n",
       "    }\n",
       "\n",
       "    .dataframe tbody tr th {\n",
       "        vertical-align: top;\n",
       "    }\n",
       "\n",
       "    .dataframe thead th {\n",
       "        text-align: right;\n",
       "    }\n",
       "</style>\n",
       "<table border=\"1\" class=\"dataframe\">\n",
       "  <thead>\n",
       "    <tr style=\"text-align: right;\">\n",
       "      <th>Road_Surface_Conditions</th>\n",
       "      <th>Dry</th>\n",
       "      <th>Flood over 3cm. deep</th>\n",
       "      <th>Frost or ice</th>\n",
       "      <th>Snow</th>\n",
       "      <th>Wet or damp</th>\n",
       "      <th>unaccounted</th>\n",
       "    </tr>\n",
       "    <tr>\n",
       "      <th>Road_Type</th>\n",
       "      <th></th>\n",
       "      <th></th>\n",
       "      <th></th>\n",
       "      <th></th>\n",
       "      <th></th>\n",
       "      <th></th>\n",
       "    </tr>\n",
       "  </thead>\n",
       "  <tbody>\n",
       "    <tr>\n",
       "      <th>Dual carriageway</th>\n",
       "      <td>66205</td>\n",
       "      <td>302</td>\n",
       "      <td>2408</td>\n",
       "      <td>909</td>\n",
       "      <td>29533</td>\n",
       "      <td>67</td>\n",
       "    </tr>\n",
       "    <tr>\n",
       "      <th>One way street</th>\n",
       "      <td>10068</td>\n",
       "      <td>5</td>\n",
       "      <td>183</td>\n",
       "      <td>76</td>\n",
       "      <td>3195</td>\n",
       "      <td>32</td>\n",
       "    </tr>\n",
       "    <tr>\n",
       "      <th>Roundabout</th>\n",
       "      <td>30698</td>\n",
       "      <td>22</td>\n",
       "      <td>745</td>\n",
       "      <td>232</td>\n",
       "      <td>12209</td>\n",
       "      <td>86</td>\n",
       "    </tr>\n",
       "    <tr>\n",
       "      <th>Single carriageway</th>\n",
       "      <td>332698</td>\n",
       "      <td>672</td>\n",
       "      <td>14918</td>\n",
       "      <td>4585</td>\n",
       "      <td>138743</td>\n",
       "      <td>527</td>\n",
       "    </tr>\n",
       "    <tr>\n",
       "      <th>Slip road</th>\n",
       "      <td>4714</td>\n",
       "      <td>9</td>\n",
       "      <td>178</td>\n",
       "      <td>60</td>\n",
       "      <td>2074</td>\n",
       "      <td>6</td>\n",
       "    </tr>\n",
       "    <tr>\n",
       "      <th>unaccounted</th>\n",
       "      <td>3438</td>\n",
       "      <td>7</td>\n",
       "      <td>85</td>\n",
       "      <td>28</td>\n",
       "      <td>954</td>\n",
       "      <td>8</td>\n",
       "    </tr>\n",
       "  </tbody>\n",
       "</table>\n",
       "</div>"
      ],
      "text/plain": [
       "Road_Surface_Conditions     Dry  Flood over 3cm. deep  Frost or ice  Snow  \\\n",
       "Road_Type                                                                   \n",
       "Dual carriageway          66205                   302          2408   909   \n",
       "One way street            10068                     5           183    76   \n",
       "Roundabout                30698                    22           745   232   \n",
       "Single carriageway       332698                   672         14918  4585   \n",
       "Slip road                  4714                     9           178    60   \n",
       "unaccounted                3438                     7            85    28   \n",
       "\n",
       "Road_Surface_Conditions  Wet or damp  unaccounted  \n",
       "Road_Type                                          \n",
       "Dual carriageway               29533           67  \n",
       "One way street                  3195           32  \n",
       "Roundabout                     12209           86  \n",
       "Single carriageway            138743          527  \n",
       "Slip road                       2074            6  \n",
       "unaccounted                      954            8  "
      ]
     },
     "execution_count": 158,
     "metadata": {},
     "output_type": "execute_result"
    }
   ],
   "source": [
    "accident.groupby(['Road_Type', 'Road_Surface_Conditions']).size().unstack()"
   ]
  },
  {
   "cell_type": "markdown",
   "id": "6b12bc5c-7de2-4edc-bc50-1f24b428817f",
   "metadata": {},
   "source": [
    "<h2> <strong>Insight: </strong> The result shows that all of the road types had the same highest number of accidents in terms of road surface conditions which is dry, they also had the same least number of accidents which is flood over 3cm. deep (road surface condition).  </h2>"
   ]
  },
  {
   "cell_type": "markdown",
   "id": "1097e090-721d-4571-9c86-72b309084e16",
   "metadata": {},
   "source": [
    "<h1>12. What type of area does accidents happen the most?</h1>"
   ]
  },
  {
   "cell_type": "code",
   "execution_count": 159,
   "id": "ca8b80a9-fdb1-4451-a39f-e2fbeb82a23f",
   "metadata": {},
   "outputs": [
    {
     "data": {
      "text/plain": [
       "Urban_or_Rural_Area\n",
       "Rural          238990\n",
       "Unallocated        11\n",
       "Urban          421678\n",
       "dtype: int64"
      ]
     },
     "execution_count": 159,
     "metadata": {},
     "output_type": "execute_result"
    }
   ],
   "source": [
    "accident.groupby('Urban_or_Rural_Area').size()"
   ]
  },
  {
   "cell_type": "markdown",
   "id": "c93b54d5-0d57-49b8-819b-59c5af30c63b",
   "metadata": {},
   "source": [
    "<h2> <strong>Insight: </strong> According to the result, accidents usually happen at urban areas. </h2>"
   ]
  },
  {
   "cell_type": "markdown",
   "id": "d45fe357-72f9-4493-8378-bbe3acd02647",
   "metadata": {},
   "source": [
    "<h1>13. What month does accidents usually happens?</h1>"
   ]
  },
  {
   "cell_type": "code",
   "execution_count": 160,
   "id": "083926c8-6c6d-428b-b2fb-5a28e9a24700",
   "metadata": {},
   "outputs": [
    {
     "data": {
      "text/plain": [
       "Month\n",
       "April        51744\n",
       "August       53913\n",
       "December     51836\n",
       "February     49491\n",
       "January      52872\n",
       "July         57445\n",
       "June         56481\n",
       "March        54086\n",
       "May          56352\n",
       "November     60424\n",
       "October      59580\n",
       "September    56455\n",
       "dtype: int64"
      ]
     },
     "execution_count": 160,
     "metadata": {},
     "output_type": "execute_result"
    }
   ],
   "source": [
    "accident.groupby('Month').size()"
   ]
  },
  {
   "cell_type": "markdown",
   "id": "03add06d-d91d-47d0-93fd-6ea9374cb9da",
   "metadata": {},
   "source": [
    "<h2> <strong>Insight: </strong> The result shows that accidents usually happen during the month of November.\n",
    "</h2>"
   ]
  },
  {
   "cell_type": "markdown",
   "id": "9e2692af-419c-409c-a9bf-4321c4c5ffb7",
   "metadata": {},
   "source": [
    "<h1>14. What is the distribution of accidents by accident severity and vehicle type?</h1>"
   ]
  },
  {
   "cell_type": "code",
   "execution_count": 161,
   "id": "5ea4011b-4426-436e-9d8d-4225add02028",
   "metadata": {},
   "outputs": [
    {
     "data": {
      "text/html": [
       "<div>\n",
       "<style scoped>\n",
       "    .dataframe tbody tr th:only-of-type {\n",
       "        vertical-align: middle;\n",
       "    }\n",
       "\n",
       "    .dataframe tbody tr th {\n",
       "        vertical-align: top;\n",
       "    }\n",
       "\n",
       "    .dataframe thead th {\n",
       "        text-align: right;\n",
       "    }\n",
       "</style>\n",
       "<table border=\"1\" class=\"dataframe\">\n",
       "  <thead>\n",
       "    <tr style=\"text-align: right;\">\n",
       "      <th>Vehicle_Type</th>\n",
       "      <th>Agricultural vehicle</th>\n",
       "      <th>Bus or coach (17 or more pass seats)</th>\n",
       "      <th>Car</th>\n",
       "      <th>Data missing or out of range</th>\n",
       "      <th>Goods 7.5 tonnes mgw and over</th>\n",
       "      <th>Goods over 3.5t. and under 7.5t</th>\n",
       "      <th>Minibus (8 - 16 passenger seats)</th>\n",
       "      <th>Motorcycle 125cc and under</th>\n",
       "      <th>Motorcycle 50cc and under</th>\n",
       "      <th>Motorcycle over 125cc and up to 500cc</th>\n",
       "      <th>Motorcycle over 500cc</th>\n",
       "      <th>Other vehicle</th>\n",
       "      <th>Pedal cycle</th>\n",
       "      <th>Ridden horse</th>\n",
       "      <th>Taxi/Private hire car</th>\n",
       "      <th>Van / Goods 3.5 tonnes mgw or under</th>\n",
       "    </tr>\n",
       "    <tr>\n",
       "      <th>Accident_Severity</th>\n",
       "      <th></th>\n",
       "      <th></th>\n",
       "      <th></th>\n",
       "      <th></th>\n",
       "      <th></th>\n",
       "      <th></th>\n",
       "      <th></th>\n",
       "      <th></th>\n",
       "      <th></th>\n",
       "      <th></th>\n",
       "      <th></th>\n",
       "      <th></th>\n",
       "      <th></th>\n",
       "      <th></th>\n",
       "      <th></th>\n",
       "      <th></th>\n",
       "    </tr>\n",
       "  </thead>\n",
       "  <tbody>\n",
       "    <tr>\n",
       "      <th>Fatal</th>\n",
       "      <td>21</td>\n",
       "      <td>325</td>\n",
       "      <td>6577</td>\n",
       "      <td>0</td>\n",
       "      <td>216</td>\n",
       "      <td>67</td>\n",
       "      <td>29</td>\n",
       "      <td>189</td>\n",
       "      <td>95</td>\n",
       "      <td>105</td>\n",
       "      <td>339</td>\n",
       "      <td>70</td>\n",
       "      <td>6</td>\n",
       "      <td>0</td>\n",
       "      <td>155</td>\n",
       "      <td>467</td>\n",
       "    </tr>\n",
       "    <tr>\n",
       "      <th>Serious</th>\n",
       "      <td>282</td>\n",
       "      <td>3373</td>\n",
       "      <td>66461</td>\n",
       "      <td>0</td>\n",
       "      <td>2321</td>\n",
       "      <td>857</td>\n",
       "      <td>276</td>\n",
       "      <td>2031</td>\n",
       "      <td>1014</td>\n",
       "      <td>1014</td>\n",
       "      <td>3457</td>\n",
       "      <td>767</td>\n",
       "      <td>39</td>\n",
       "      <td>0</td>\n",
       "      <td>1771</td>\n",
       "      <td>4554</td>\n",
       "    </tr>\n",
       "    <tr>\n",
       "      <th>Slight</th>\n",
       "      <td>1644</td>\n",
       "      <td>22180</td>\n",
       "      <td>424954</td>\n",
       "      <td>6</td>\n",
       "      <td>14770</td>\n",
       "      <td>5172</td>\n",
       "      <td>1671</td>\n",
       "      <td>13049</td>\n",
       "      <td>6494</td>\n",
       "      <td>6537</td>\n",
       "      <td>21861</td>\n",
       "      <td>4800</td>\n",
       "      <td>152</td>\n",
       "      <td>4</td>\n",
       "      <td>11368</td>\n",
       "      <td>29139</td>\n",
       "    </tr>\n",
       "  </tbody>\n",
       "</table>\n",
       "</div>"
      ],
      "text/plain": [
       "Vehicle_Type       Agricultural vehicle  Bus or coach (17 or more pass seats)  \\\n",
       "Accident_Severity                                                               \n",
       "Fatal                                21                                   325   \n",
       "Serious                             282                                  3373   \n",
       "Slight                             1644                                 22180   \n",
       "\n",
       "Vehicle_Type          Car  Data missing or out of range  \\\n",
       "Accident_Severity                                         \n",
       "Fatal                6577                             0   \n",
       "Serious             66461                             0   \n",
       "Slight             424954                             6   \n",
       "\n",
       "Vehicle_Type       Goods 7.5 tonnes mgw and over  \\\n",
       "Accident_Severity                                  \n",
       "Fatal                                        216   \n",
       "Serious                                     2321   \n",
       "Slight                                     14770   \n",
       "\n",
       "Vehicle_Type       Goods over 3.5t. and under 7.5t  \\\n",
       "Accident_Severity                                    \n",
       "Fatal                                           67   \n",
       "Serious                                        857   \n",
       "Slight                                        5172   \n",
       "\n",
       "Vehicle_Type       Minibus (8 - 16 passenger seats)  \\\n",
       "Accident_Severity                                     \n",
       "Fatal                                            29   \n",
       "Serious                                         276   \n",
       "Slight                                         1671   \n",
       "\n",
       "Vehicle_Type       Motorcycle 125cc and under  Motorcycle 50cc and under  \\\n",
       "Accident_Severity                                                          \n",
       "Fatal                                     189                         95   \n",
       "Serious                                  2031                       1014   \n",
       "Slight                                  13049                       6494   \n",
       "\n",
       "Vehicle_Type       Motorcycle over 125cc and up to 500cc  \\\n",
       "Accident_Severity                                          \n",
       "Fatal                                                105   \n",
       "Serious                                             1014   \n",
       "Slight                                              6537   \n",
       "\n",
       "Vehicle_Type       Motorcycle over 500cc  Other vehicle  Pedal cycle  \\\n",
       "Accident_Severity                                                      \n",
       "Fatal                                339             70            6   \n",
       "Serious                             3457            767           39   \n",
       "Slight                             21861           4800          152   \n",
       "\n",
       "Vehicle_Type       Ridden horse  Taxi/Private hire car  \\\n",
       "Accident_Severity                                        \n",
       "Fatal                         0                    155   \n",
       "Serious                       0                   1771   \n",
       "Slight                        4                  11368   \n",
       "\n",
       "Vehicle_Type       Van / Goods 3.5 tonnes mgw or under  \n",
       "Accident_Severity                                       \n",
       "Fatal                                              467  \n",
       "Serious                                           4554  \n",
       "Slight                                           29139  "
      ]
     },
     "execution_count": 161,
     "metadata": {},
     "output_type": "execute_result"
    }
   ],
   "source": [
    "accident.groupby(['Accident_Severity','Vehicle_Type']).size().unstack()"
   ]
  },
  {
   "cell_type": "markdown",
   "id": "8ccb4144-3614-48f9-8736-3c605f7e94ca",
   "metadata": {},
   "source": [
    "<h2> <strong>Insight: </strong> According to the result, car is the vehicle type that got the highest accident of all the three types of accident severity, while ridden horse has the least. </h2>"
   ]
  },
  {
   "cell_type": "markdown",
   "id": "f800ccea-1f21-4c08-97dd-654faa6f52a6",
   "metadata": {},
   "source": [
    "<h1>~Correlation~</h1>"
   ]
  },
  {
   "cell_type": "markdown",
   "id": "670bba35-6856-43c4-8884-7d46758d1fa3",
   "metadata": {},
   "source": [
    "<h1>15. Is there a correlation between the number of casualties and number of vehicles?</h1>"
   ]
  },
  {
   "cell_type": "code",
   "execution_count": 162,
   "id": "e6ea8744-1ba5-413c-88f9-e2e3d72c80dc",
   "metadata": {},
   "outputs": [
    {
     "data": {
      "text/plain": [
       "np.float64(0.2288888612692756)"
      ]
     },
     "execution_count": 162,
     "metadata": {},
     "output_type": "execute_result"
    }
   ],
   "source": [
    "accident['Number_of_Casualties'].corr(accident['Number_of_Vehicles'])"
   ]
  },
  {
   "cell_type": "markdown",
   "id": "b410be02-3cd3-4f81-a71d-9554c10708e1",
   "metadata": {},
   "source": [
    "<h2> <strong>Insight: </strong> The result shows that number of casualties and number of vehicles has no correlation.</h2>"
   ]
  },
  {
   "cell_type": "markdown",
   "id": "3c78e0ba-a1a8-4d01-85b0-80aebf1cbcd2",
   "metadata": {},
   "source": [
    "<h1>16. Is there a correlation betweem latitude number of casualties?</h1>"
   ]
  },
  {
   "cell_type": "code",
   "execution_count": 163,
   "id": "ea2afa9a-1d82-42ca-97c8-364997144be2",
   "metadata": {},
   "outputs": [
    {
     "data": {
      "text/plain": [
       "np.float64(0.032200686625906395)"
      ]
     },
     "execution_count": 163,
     "metadata": {},
     "output_type": "execute_result"
    }
   ],
   "source": [
    "accident['Latitude'].corr(accident['Number_of_Casualties'])"
   ]
  },
  {
   "cell_type": "markdown",
   "id": "66e90315-0c43-4f13-816f-9ab7fd2341fb",
   "metadata": {},
   "source": [
    "<h2> <strong>Insight: </strong> Based on the result, there is no correlation between laltitude and number of casualties. </h2>"
   ]
  },
  {
   "cell_type": "markdown",
   "id": "5acdc8e6-1d11-4cea-8fc4-953cf9b0fb32",
   "metadata": {},
   "source": [
    "<h1>17. Is there a correlation between longitude and number of casualties?</h1>"
   ]
  },
  {
   "cell_type": "code",
   "execution_count": 164,
   "id": "c942c2df-f2d4-486d-8356-8b693d7c4eb4",
   "metadata": {},
   "outputs": [
    {
     "data": {
      "text/plain": [
       "np.float64(-0.0404056457884545)"
      ]
     },
     "execution_count": 164,
     "metadata": {},
     "output_type": "execute_result"
    }
   ],
   "source": [
    "accident['Longitude'].corr(accident['Number_of_Casualties'])"
   ]
  },
  {
   "cell_type": "markdown",
   "id": "b550e5d6-5283-4a98-9826-5290aec438fa",
   "metadata": {},
   "source": [
    "<h2> <strong>Insight: </strong> The result shows that there is no correlation between longitude and number of casualties.</h2>"
   ]
  },
  {
   "cell_type": "markdown",
   "id": "0df9161d-20c3-4241-8320-0b3c7ce99699",
   "metadata": {},
   "source": [
    "<h1>18. Is there a significant difference between accident severity and number of vehicles?</h1>"
   ]
  },
  {
   "cell_type": "code",
   "execution_count": 165,
   "id": "094c613a-e624-4154-b7c4-e5efca15853f",
   "metadata": {},
   "outputs": [
    {
     "data": {
      "text/plain": [
       "['Serious', 'Slight', 'Fatal']\n",
       "Categories (3, object): ['Fatal', 'Serious', 'Slight']"
      ]
     },
     "execution_count": 165,
     "metadata": {},
     "output_type": "execute_result"
    }
   ],
   "source": [
    "accident['Accident_Severity'].unique()"
   ]
  },
  {
   "cell_type": "code",
   "execution_count": 166,
   "id": "63f6e2b3-9bde-4523-815f-c7b629797fe2",
   "metadata": {},
   "outputs": [],
   "source": [
    "vehiserious = accident[accident['Accident_Severity'] == 'Serious']['Number_of_Vehicles']\n",
    "vehislight = accident[accident['Accident_Severity'] == 'Slight']['Number_of_Vehicles']\n",
    "vehifatal = accident[accident['Accident_Severity'] == 'Fatal']['Number_of_Vehicles']"
   ]
  },
  {
   "cell_type": "code",
   "execution_count": 167,
   "id": "e11a2589-bea4-44d2-afbf-21eabe04ee74",
   "metadata": {},
   "outputs": [
    {
     "data": {
      "text/plain": [
       "np.float64(0.0)"
      ]
     },
     "execution_count": 167,
     "metadata": {},
     "output_type": "execute_result"
    }
   ],
   "source": [
    "result, pvalue = f_oneway(vehiserious, vehislight, vehifatal)\n",
    "pvalue"
   ]
  },
  {
   "cell_type": "markdown",
   "id": "ba4bbc86-4cbf-43fd-9783-13529d566b3a",
   "metadata": {},
   "source": [
    "<h2> <strong>Insight: </strong>The result shows that there is extremely significance between the accident severity and number of vehicles, it shows that they are very related to each other.</h2>"
   ]
  },
  {
   "cell_type": "markdown",
   "id": "9118be1a-b507-431b-87d0-3d4520a5e2d6",
   "metadata": {},
   "source": [
    "\n",
    "<h1>19. Is there a significant difference between the area and number of casualties?</h1>"
   ]
  },
  {
   "cell_type": "code",
   "execution_count": 168,
   "id": "cbbbc916-a5e6-401f-a610-db3e3b61bc79",
   "metadata": {},
   "outputs": [
    {
     "data": {
      "text/plain": [
       "['Urban', 'Rural', 'Unallocated']\n",
       "Categories (3, object): ['Rural', 'Unallocated', 'Urban']"
      ]
     },
     "execution_count": 168,
     "metadata": {},
     "output_type": "execute_result"
    }
   ],
   "source": [
    "accident['Urban_or_Rural_Area'].unique()"
   ]
  },
  {
   "cell_type": "code",
   "execution_count": 169,
   "id": "ffbd893e-bc17-4dba-a940-40afd5fe533d",
   "metadata": {},
   "outputs": [],
   "source": [
    "urbancasualty = accident[accident['Urban_or_Rural_Area'] == 'Urban']['Number_of_Casualties']\n",
    "ruralcasualty = accident[accident['Urban_or_Rural_Area'] == 'Rural']['Number_of_Casualties']\n",
    "unallocatedcasualty = accident[accident['Urban_or_Rural_Area'] == 'Unallocated']['Number_of_Casualties']"
   ]
  },
  {
   "cell_type": "code",
   "execution_count": 170,
   "id": "3f4b6217-23a7-4d8b-afa4-bf7d756a303a",
   "metadata": {},
   "outputs": [
    {
     "data": {
      "text/plain": [
       "np.float64(0.0)"
      ]
     },
     "execution_count": 170,
     "metadata": {},
     "output_type": "execute_result"
    }
   ],
   "source": [
    "result, pvalue = f_oneway(urbancasualty, ruralcasualty, unallocatedcasualty)\n",
    "pvalue"
   ]
  },
  {
   "cell_type": "markdown",
   "id": "d4b61afb-98b1-46fd-a090-8f89518fafb8",
   "metadata": {},
   "source": [
    "<h2> <strong>Insight: </strong> According to the result, there is a significant difference between the areas and the number of casualties. </h2>"
   ]
  },
  {
   "cell_type": "markdown",
   "id": "e6cd9596-0fb8-4280-8c5c-0303b9cf5793",
   "metadata": {},
   "source": [
    "<h1>20. Is there a significant difference between light conditions and latitude?</h1>"
   ]
  },
  {
   "cell_type": "code",
   "execution_count": 171,
   "id": "7074f0dd-c991-4eb6-914d-66fcc953bebd",
   "metadata": {},
   "outputs": [
    {
     "data": {
      "text/plain": [
       "['Darkness - lights lit', 'Daylight', 'Darkness - lighting unknown', 'Darkness - lights unlit', 'Darkness - no lighting']\n",
       "Categories (5, object): ['Darkness - lighting unknown', 'Darkness - lights lit', 'Darkness - lights unlit', 'Darkness - no lighting', 'Daylight']"
      ]
     },
     "execution_count": 171,
     "metadata": {},
     "output_type": "execute_result"
    }
   ],
   "source": [
    "accident['Light_Conditions'].unique()"
   ]
  },
  {
   "cell_type": "code",
   "execution_count": 172,
   "id": "c696e168-0c2f-474f-b664-4b8adedad374",
   "metadata": {},
   "outputs": [],
   "source": [
    "lighta = accident[accident['Light_Conditions'] == 'Darkness - lights lit']['Latitude']\n",
    "lightb = accident[accident['Light_Conditions'] == 'Daylight']['Latitude']\n",
    "lightc = accident[accident['Light_Conditions'] == 'Darkness - lighting unknown']['Latitude']\n",
    "lightd = accident[accident['Light_Conditions'] == 'Darkness - lights unlit']['Latitude']\n",
    "lighte = accident[accident['Light_Conditions'] == 'Darkness - no lighting']['Latitude']"
   ]
  },
  {
   "cell_type": "code",
   "execution_count": 173,
   "id": "9a6978a2-8c49-4444-b136-ed4fc9800c03",
   "metadata": {},
   "outputs": [
    {
     "data": {
      "text/plain": [
       "np.float64(1.224998791423201e-27)"
      ]
     },
     "execution_count": 173,
     "metadata": {},
     "output_type": "execute_result"
    }
   ],
   "source": [
    "result, pvalue = f_oneway(lighta, lightb, lightc, lightd, lighte)\n",
    "pvalue"
   ]
  },
  {
   "cell_type": "markdown",
   "id": "7ce77989-c53d-47e4-be67-3e7231f6b51d",
   "metadata": {},
   "source": [
    "<h2> <strong>Insight: </strong> The result shows that the difference between light conditions and latitude is very significant, mean the light conditions has an extreme effect on the latitude. </h2>"
   ]
  },
  {
   "cell_type": "markdown",
   "id": "45261672-a44e-489c-bc91-519c32f02da9",
   "metadata": {},
   "source": [
    "<hr>\n",
    "<h1>ADDITIONAL FIVE QUESTIONS ABOUT ACCIDENT DATE</h1>"
   ]
  },
  {
   "cell_type": "markdown",
   "id": "b7b3f5b8-04d5-4edb-9065-09777b281589",
   "metadata": {},
   "source": [
    "<h2>UniVariate</h2>"
   ]
  },
  {
   "cell_type": "markdown",
   "id": "134f696d-7780-41ce-9445-d388da14ca80",
   "metadata": {},
   "source": [
    "<h1>21. Which day of the week had the most accidents record?</h1>"
   ]
  },
  {
   "cell_type": "code",
   "execution_count": 174,
   "id": "93d1a15c-f7de-488f-b176-a4f4f1e165d7",
   "metadata": {},
   "outputs": [
    {
     "data": {
      "text/plain": [
       "DayofWeek\n",
       "5    107178\n",
       "2     99558\n",
       "3     99511\n",
       "4     97900\n",
       "1     94550\n",
       "6     89302\n",
       "0     72680\n",
       "Name: count, dtype: int64"
      ]
     },
     "execution_count": 174,
     "metadata": {},
     "output_type": "execute_result"
    }
   ],
   "source": [
    "accident['DayofWeek'].value_counts()"
   ]
  },
  {
   "cell_type": "markdown",
   "id": "d5ab67ac-100f-4fa4-bdd5-b2f54571851f",
   "metadata": {},
   "source": [
    "<h2> <strong>Insight: </strong> Based on the result, accidents mostly occurs on Saturday, and accidents happen the least during Mondays. </h2>"
   ]
  },
  {
   "cell_type": "markdown",
   "id": "188e45eb-a250-4f18-948c-1f31ee121cfc",
   "metadata": {},
   "source": [
    "<h2>BiVariate</h2>"
   ]
  },
  {
   "cell_type": "markdown",
   "id": "7b3fe77b-ffba-40a1-848c-71399ed8b246",
   "metadata": {},
   "source": [
    "<h1>22. What is the number of accidents per month in each year?</h1>"
   ]
  },
  {
   "cell_type": "code",
   "execution_count": 175,
   "id": "c1654154-927c-499d-baa3-8ec448d42442",
   "metadata": {},
   "outputs": [
    {
     "data": {
      "text/html": [
       "<div>\n",
       "<style scoped>\n",
       "    .dataframe tbody tr th:only-of-type {\n",
       "        vertical-align: middle;\n",
       "    }\n",
       "\n",
       "    .dataframe tbody tr th {\n",
       "        vertical-align: top;\n",
       "    }\n",
       "\n",
       "    .dataframe thead th {\n",
       "        text-align: right;\n",
       "    }\n",
       "</style>\n",
       "<table border=\"1\" class=\"dataframe\">\n",
       "  <thead>\n",
       "    <tr style=\"text-align: right;\">\n",
       "      <th>Year</th>\n",
       "      <th>2019</th>\n",
       "      <th>2020</th>\n",
       "      <th>2021</th>\n",
       "      <th>2022</th>\n",
       "    </tr>\n",
       "    <tr>\n",
       "      <th>Month</th>\n",
       "      <th></th>\n",
       "      <th></th>\n",
       "      <th></th>\n",
       "      <th></th>\n",
       "    </tr>\n",
       "  </thead>\n",
       "  <tbody>\n",
       "    <tr>\n",
       "      <th>April</th>\n",
       "      <td>14125</td>\n",
       "      <td>13394</td>\n",
       "      <td>12715</td>\n",
       "      <td>11510</td>\n",
       "    </tr>\n",
       "    <tr>\n",
       "      <th>August</th>\n",
       "      <td>15044</td>\n",
       "      <td>13366</td>\n",
       "      <td>13415</td>\n",
       "      <td>12088</td>\n",
       "    </tr>\n",
       "    <tr>\n",
       "      <th>December</th>\n",
       "      <td>14708</td>\n",
       "      <td>13794</td>\n",
       "      <td>13709</td>\n",
       "      <td>9625</td>\n",
       "    </tr>\n",
       "    <tr>\n",
       "      <th>February</th>\n",
       "      <td>13253</td>\n",
       "      <td>14353</td>\n",
       "      <td>10950</td>\n",
       "      <td>10935</td>\n",
       "    </tr>\n",
       "    <tr>\n",
       "      <th>January</th>\n",
       "      <td>15355</td>\n",
       "      <td>14133</td>\n",
       "      <td>13417</td>\n",
       "      <td>9967</td>\n",
       "    </tr>\n",
       "    <tr>\n",
       "      <th>July</th>\n",
       "      <td>15862</td>\n",
       "      <td>14630</td>\n",
       "      <td>14300</td>\n",
       "      <td>12653</td>\n",
       "    </tr>\n",
       "    <tr>\n",
       "      <th>June</th>\n",
       "      <td>15528</td>\n",
       "      <td>14205</td>\n",
       "      <td>13936</td>\n",
       "      <td>12812</td>\n",
       "    </tr>\n",
       "    <tr>\n",
       "      <th>March</th>\n",
       "      <td>15049</td>\n",
       "      <td>13494</td>\n",
       "      <td>13202</td>\n",
       "      <td>12341</td>\n",
       "    </tr>\n",
       "    <tr>\n",
       "      <th>May</th>\n",
       "      <td>15833</td>\n",
       "      <td>14336</td>\n",
       "      <td>13811</td>\n",
       "      <td>12372</td>\n",
       "    </tr>\n",
       "    <tr>\n",
       "      <th>November</th>\n",
       "      <td>16559</td>\n",
       "      <td>14770</td>\n",
       "      <td>15473</td>\n",
       "      <td>13622</td>\n",
       "    </tr>\n",
       "    <tr>\n",
       "      <th>October</th>\n",
       "      <td>15528</td>\n",
       "      <td>15684</td>\n",
       "      <td>14834</td>\n",
       "      <td>13534</td>\n",
       "    </tr>\n",
       "    <tr>\n",
       "      <th>September</th>\n",
       "      <td>15271</td>\n",
       "      <td>14432</td>\n",
       "      <td>13792</td>\n",
       "      <td>12960</td>\n",
       "    </tr>\n",
       "  </tbody>\n",
       "</table>\n",
       "</div>"
      ],
      "text/plain": [
       "Year        2019   2020   2021   2022\n",
       "Month                                \n",
       "April      14125  13394  12715  11510\n",
       "August     15044  13366  13415  12088\n",
       "December   14708  13794  13709   9625\n",
       "February   13253  14353  10950  10935\n",
       "January    15355  14133  13417   9967\n",
       "July       15862  14630  14300  12653\n",
       "June       15528  14205  13936  12812\n",
       "March      15049  13494  13202  12341\n",
       "May        15833  14336  13811  12372\n",
       "November   16559  14770  15473  13622\n",
       "October    15528  15684  14834  13534\n",
       "September  15271  14432  13792  12960"
      ]
     },
     "execution_count": 175,
     "metadata": {},
     "output_type": "execute_result"
    }
   ],
   "source": [
    "accidentpermonth = accident.groupby(['Month', 'Year']).size()\n",
    "accidentpermonth.unstack()"
   ]
  },
  {
   "cell_type": "markdown",
   "id": "43808f31-5eb9-45a2-aa3b-7563b99287f3",
   "metadata": {},
   "source": [
    "<h2> Insight 22:The number of accidents steadily decreased from 2019 to 2022 across all months, showing a clear overall decline in road incidents year after year."
   ]
  },
  {
   "cell_type": "markdown",
   "id": "aa607c20-b560-4799-850f-62039f35ecee",
   "metadata": {},
   "source": [
    "<h1>23. What is the state of accident severity across years?</h1>"
   ]
  },
  {
   "cell_type": "code",
   "execution_count": 176,
   "id": "91631def-d82b-47e0-87c6-a96badebb6c7",
   "metadata": {},
   "outputs": [
    {
     "data": {
      "text/html": [
       "<div>\n",
       "<style scoped>\n",
       "    .dataframe tbody tr th:only-of-type {\n",
       "        vertical-align: middle;\n",
       "    }\n",
       "\n",
       "    .dataframe tbody tr th {\n",
       "        vertical-align: top;\n",
       "    }\n",
       "\n",
       "    .dataframe thead th {\n",
       "        text-align: right;\n",
       "    }\n",
       "</style>\n",
       "<table border=\"1\" class=\"dataframe\">\n",
       "  <thead>\n",
       "    <tr style=\"text-align: right;\">\n",
       "      <th>Year</th>\n",
       "      <th>2019</th>\n",
       "      <th>2020</th>\n",
       "      <th>2021</th>\n",
       "      <th>2022</th>\n",
       "    </tr>\n",
       "    <tr>\n",
       "      <th>Accident_Severity</th>\n",
       "      <th></th>\n",
       "      <th></th>\n",
       "      <th></th>\n",
       "      <th></th>\n",
       "    </tr>\n",
       "  </thead>\n",
       "  <tbody>\n",
       "    <tr>\n",
       "      <th>Fatal</th>\n",
       "      <td>2714</td>\n",
       "      <td>2341</td>\n",
       "      <td>2057</td>\n",
       "      <td>1549</td>\n",
       "    </tr>\n",
       "    <tr>\n",
       "      <th>Serious</th>\n",
       "      <td>24322</td>\n",
       "      <td>23121</td>\n",
       "      <td>21997</td>\n",
       "      <td>18777</td>\n",
       "    </tr>\n",
       "    <tr>\n",
       "      <th>Slight</th>\n",
       "      <td>155079</td>\n",
       "      <td>145129</td>\n",
       "      <td>139500</td>\n",
       "      <td>124093</td>\n",
       "    </tr>\n",
       "  </tbody>\n",
       "</table>\n",
       "</div>"
      ],
      "text/plain": [
       "Year                 2019    2020    2021    2022\n",
       "Accident_Severity                                \n",
       "Fatal                2714    2341    2057    1549\n",
       "Serious             24322   23121   21997   18777\n",
       "Slight             155079  145129  139500  124093"
      ]
     },
     "execution_count": 176,
     "metadata": {},
     "output_type": "execute_result"
    }
   ],
   "source": [
    "accident.groupby(['Accident_Severity', 'Year']).size().unstack()"
   ]
  },
  {
   "cell_type": "markdown",
   "id": "8000c40c-c496-4c24-935f-4ed71cf00a48",
   "metadata": {},
   "source": [
    "<h2> <strong>Insight 23: Between 2019 and 2022, there was a consistent decrease in accidents of all severity. There is a downward trend in fatal, serious, and minor cases, indicating safer roads and better driving conditions. All things considered, this shows a trend in the right direction toward lower driving risks.</h2>\n"
   ]
  },
  {
   "cell_type": "markdown",
   "id": "c473d0e0-05df-4a91-8979-413eb5b15960",
   "metadata": {},
   "source": [
    "<h2>MultiVariate</h2>"
   ]
  },
  {
   "cell_type": "markdown",
   "id": "9bf844aa-dd47-490f-af54-d99db536d694",
   "metadata": {},
   "source": [
    "<h1>24. What is the average casualties per month, year, and road surface conditions?</h1>"
   ]
  },
  {
   "cell_type": "code",
   "execution_count": 177,
   "id": "2dbced6e-8b47-4f20-b013-f1a3ffd22ba4",
   "metadata": {},
   "outputs": [
    {
     "data": {
      "text/html": [
       "<div>\n",
       "<style scoped>\n",
       "    .dataframe tbody tr th:only-of-type {\n",
       "        vertical-align: middle;\n",
       "    }\n",
       "\n",
       "    .dataframe tbody tr th {\n",
       "        vertical-align: top;\n",
       "    }\n",
       "\n",
       "    .dataframe thead th {\n",
       "        text-align: right;\n",
       "    }\n",
       "</style>\n",
       "<table border=\"1\" class=\"dataframe\">\n",
       "  <thead>\n",
       "    <tr style=\"text-align: right;\">\n",
       "      <th></th>\n",
       "      <th>Road_Surface_Conditions</th>\n",
       "      <th>Dry</th>\n",
       "      <th>Flood over 3cm. deep</th>\n",
       "      <th>Frost or ice</th>\n",
       "      <th>Snow</th>\n",
       "      <th>Wet or damp</th>\n",
       "      <th>unaccounted</th>\n",
       "    </tr>\n",
       "    <tr>\n",
       "      <th>Month</th>\n",
       "      <th>Year</th>\n",
       "      <th></th>\n",
       "      <th></th>\n",
       "      <th></th>\n",
       "      <th></th>\n",
       "      <th></th>\n",
       "      <th></th>\n",
       "    </tr>\n",
       "  </thead>\n",
       "  <tbody>\n",
       "    <tr>\n",
       "      <th rowspan=\"4\" valign=\"top\">April</th>\n",
       "      <th>2019</th>\n",
       "      <td>1.360358</td>\n",
       "      <td>1.000000</td>\n",
       "      <td>1.200000</td>\n",
       "      <td>NaN</td>\n",
       "      <td>1.385888</td>\n",
       "      <td>1.000000</td>\n",
       "    </tr>\n",
       "    <tr>\n",
       "      <th>2020</th>\n",
       "      <td>1.339197</td>\n",
       "      <td>1.538462</td>\n",
       "      <td>1.560606</td>\n",
       "      <td>1.442308</td>\n",
       "      <td>1.442780</td>\n",
       "      <td>1.000000</td>\n",
       "    </tr>\n",
       "    <tr>\n",
       "      <th>2021</th>\n",
       "      <td>1.353704</td>\n",
       "      <td>1.000000</td>\n",
       "      <td>1.000000</td>\n",
       "      <td>2.000000</td>\n",
       "      <td>1.420137</td>\n",
       "      <td>1.181818</td>\n",
       "    </tr>\n",
       "    <tr>\n",
       "      <th>2022</th>\n",
       "      <td>1.357578</td>\n",
       "      <td>1.000000</td>\n",
       "      <td>1.500000</td>\n",
       "      <td>1.250000</td>\n",
       "      <td>1.485714</td>\n",
       "      <td>1.181818</td>\n",
       "    </tr>\n",
       "    <tr>\n",
       "      <th rowspan=\"4\" valign=\"top\">August</th>\n",
       "      <th>2019</th>\n",
       "      <td>1.383017</td>\n",
       "      <td>1.636364</td>\n",
       "      <td>1.000000</td>\n",
       "      <td>1.000000</td>\n",
       "      <td>1.458948</td>\n",
       "      <td>1.304348</td>\n",
       "    </tr>\n",
       "    <tr>\n",
       "      <th>2020</th>\n",
       "      <td>1.375027</td>\n",
       "      <td>1.578947</td>\n",
       "      <td>1.000000</td>\n",
       "      <td>2.000000</td>\n",
       "      <td>1.450013</td>\n",
       "      <td>1.304348</td>\n",
       "    </tr>\n",
       "    <tr>\n",
       "      <th>2021</th>\n",
       "      <td>1.385929</td>\n",
       "      <td>2.090909</td>\n",
       "      <td>NaN</td>\n",
       "      <td>1.000000</td>\n",
       "      <td>1.463757</td>\n",
       "      <td>1.000000</td>\n",
       "    </tr>\n",
       "    <tr>\n",
       "      <th>2022</th>\n",
       "      <td>1.379569</td>\n",
       "      <td>1.750000</td>\n",
       "      <td>1.500000</td>\n",
       "      <td>2.000000</td>\n",
       "      <td>1.415216</td>\n",
       "      <td>1.400000</td>\n",
       "    </tr>\n",
       "    <tr>\n",
       "      <th rowspan=\"4\" valign=\"top\">December</th>\n",
       "      <th>2019</th>\n",
       "      <td>1.286649</td>\n",
       "      <td>1.531915</td>\n",
       "      <td>1.350850</td>\n",
       "      <td>1.181818</td>\n",
       "      <td>1.422541</td>\n",
       "      <td>1.000000</td>\n",
       "    </tr>\n",
       "    <tr>\n",
       "      <th>2020</th>\n",
       "      <td>1.335708</td>\n",
       "      <td>1.708333</td>\n",
       "      <td>1.345857</td>\n",
       "      <td>1.252427</td>\n",
       "      <td>1.401117</td>\n",
       "      <td>1.142857</td>\n",
       "    </tr>\n",
       "    <tr>\n",
       "      <th>2021</th>\n",
       "      <td>1.274566</td>\n",
       "      <td>1.500000</td>\n",
       "      <td>1.380342</td>\n",
       "      <td>1.374680</td>\n",
       "      <td>1.388427</td>\n",
       "      <td>1.461538</td>\n",
       "    </tr>\n",
       "    <tr>\n",
       "      <th>2022</th>\n",
       "      <td>1.297656</td>\n",
       "      <td>1.600000</td>\n",
       "      <td>1.385561</td>\n",
       "      <td>1.376316</td>\n",
       "      <td>1.415217</td>\n",
       "      <td>1.125000</td>\n",
       "    </tr>\n",
       "    <tr>\n",
       "      <th rowspan=\"4\" valign=\"top\">February</th>\n",
       "      <th>2019</th>\n",
       "      <td>1.315298</td>\n",
       "      <td>1.083333</td>\n",
       "      <td>1.287305</td>\n",
       "      <td>1.312000</td>\n",
       "      <td>1.401046</td>\n",
       "      <td>1.133333</td>\n",
       "    </tr>\n",
       "    <tr>\n",
       "      <th>2020</th>\n",
       "      <td>1.318313</td>\n",
       "      <td>1.600000</td>\n",
       "      <td>1.346648</td>\n",
       "      <td>1.661017</td>\n",
       "      <td>1.383009</td>\n",
       "      <td>1.071429</td>\n",
       "    </tr>\n",
       "    <tr>\n",
       "      <th>2021</th>\n",
       "      <td>1.326901</td>\n",
       "      <td>1.176471</td>\n",
       "      <td>1.364519</td>\n",
       "      <td>1.303318</td>\n",
       "      <td>1.362491</td>\n",
       "      <td>1.272727</td>\n",
       "    </tr>\n",
       "    <tr>\n",
       "      <th>2022</th>\n",
       "      <td>1.325941</td>\n",
       "      <td>1.714286</td>\n",
       "      <td>1.317593</td>\n",
       "      <td>1.402632</td>\n",
       "      <td>1.388079</td>\n",
       "      <td>1.187500</td>\n",
       "    </tr>\n",
       "    <tr>\n",
       "      <th rowspan=\"4\" valign=\"top\">January</th>\n",
       "      <th>2019</th>\n",
       "      <td>1.301965</td>\n",
       "      <td>1.358974</td>\n",
       "      <td>1.331887</td>\n",
       "      <td>1.278571</td>\n",
       "      <td>1.403802</td>\n",
       "      <td>1.150000</td>\n",
       "    </tr>\n",
       "    <tr>\n",
       "      <th>2020</th>\n",
       "      <td>1.305425</td>\n",
       "      <td>1.515625</td>\n",
       "      <td>1.308008</td>\n",
       "      <td>1.301887</td>\n",
       "      <td>1.369336</td>\n",
       "      <td>1.217391</td>\n",
       "    </tr>\n",
       "    <tr>\n",
       "      <th>2021</th>\n",
       "      <td>1.331680</td>\n",
       "      <td>1.333333</td>\n",
       "      <td>1.315061</td>\n",
       "      <td>1.346535</td>\n",
       "      <td>1.387118</td>\n",
       "      <td>1.357143</td>\n",
       "    </tr>\n",
       "    <tr>\n",
       "      <th>2022</th>\n",
       "      <td>1.285207</td>\n",
       "      <td>1.111111</td>\n",
       "      <td>1.336806</td>\n",
       "      <td>1.334642</td>\n",
       "      <td>1.347077</td>\n",
       "      <td>1.222222</td>\n",
       "    </tr>\n",
       "    <tr>\n",
       "      <th rowspan=\"4\" valign=\"top\">July</th>\n",
       "      <th>2019</th>\n",
       "      <td>1.342417</td>\n",
       "      <td>1.538462</td>\n",
       "      <td>1.000000</td>\n",
       "      <td>1.400000</td>\n",
       "      <td>1.459278</td>\n",
       "      <td>1.444444</td>\n",
       "    </tr>\n",
       "    <tr>\n",
       "      <th>2020</th>\n",
       "      <td>1.324689</td>\n",
       "      <td>1.583333</td>\n",
       "      <td>1.000000</td>\n",
       "      <td>1.000000</td>\n",
       "      <td>1.445199</td>\n",
       "      <td>1.500000</td>\n",
       "    </tr>\n",
       "    <tr>\n",
       "      <th>2021</th>\n",
       "      <td>1.340411</td>\n",
       "      <td>1.444444</td>\n",
       "      <td>1.000000</td>\n",
       "      <td>NaN</td>\n",
       "      <td>1.474479</td>\n",
       "      <td>1.066667</td>\n",
       "    </tr>\n",
       "    <tr>\n",
       "      <th>2022</th>\n",
       "      <td>1.339222</td>\n",
       "      <td>1.750000</td>\n",
       "      <td>1.000000</td>\n",
       "      <td>1.000000</td>\n",
       "      <td>1.470771</td>\n",
       "      <td>1.000000</td>\n",
       "    </tr>\n",
       "    <tr>\n",
       "      <th rowspan=\"4\" valign=\"top\">June</th>\n",
       "      <th>2019</th>\n",
       "      <td>1.336180</td>\n",
       "      <td>1.506667</td>\n",
       "      <td>1.000000</td>\n",
       "      <td>1.000000</td>\n",
       "      <td>1.447362</td>\n",
       "      <td>1.117647</td>\n",
       "    </tr>\n",
       "    <tr>\n",
       "      <th>2020</th>\n",
       "      <td>1.333754</td>\n",
       "      <td>1.166667</td>\n",
       "      <td>1.000000</td>\n",
       "      <td>NaN</td>\n",
       "      <td>1.416375</td>\n",
       "      <td>1.076923</td>\n",
       "    </tr>\n",
       "    <tr>\n",
       "      <th>2021</th>\n",
       "      <td>1.329111</td>\n",
       "      <td>1.555556</td>\n",
       "      <td>NaN</td>\n",
       "      <td>1.333333</td>\n",
       "      <td>1.442604</td>\n",
       "      <td>1.714286</td>\n",
       "    </tr>\n",
       "    <tr>\n",
       "      <th>2022</th>\n",
       "      <td>1.339122</td>\n",
       "      <td>2.000000</td>\n",
       "      <td>1.000000</td>\n",
       "      <td>NaN</td>\n",
       "      <td>1.399510</td>\n",
       "      <td>1.000000</td>\n",
       "    </tr>\n",
       "    <tr>\n",
       "      <th rowspan=\"4\" valign=\"top\">March</th>\n",
       "      <th>2019</th>\n",
       "      <td>1.330359</td>\n",
       "      <td>1.294118</td>\n",
       "      <td>1.231579</td>\n",
       "      <td>1.411111</td>\n",
       "      <td>1.435946</td>\n",
       "      <td>1.062500</td>\n",
       "    </tr>\n",
       "    <tr>\n",
       "      <th>2020</th>\n",
       "      <td>1.333562</td>\n",
       "      <td>1.352941</td>\n",
       "      <td>1.452555</td>\n",
       "      <td>1.352381</td>\n",
       "      <td>1.405273</td>\n",
       "      <td>1.450000</td>\n",
       "    </tr>\n",
       "    <tr>\n",
       "      <th>2021</th>\n",
       "      <td>1.334661</td>\n",
       "      <td>1.200000</td>\n",
       "      <td>1.346939</td>\n",
       "      <td>1.678571</td>\n",
       "      <td>1.413530</td>\n",
       "      <td>1.250000</td>\n",
       "    </tr>\n",
       "    <tr>\n",
       "      <th>2022</th>\n",
       "      <td>1.325219</td>\n",
       "      <td>1.333333</td>\n",
       "      <td>1.246914</td>\n",
       "      <td>1.500000</td>\n",
       "      <td>1.411477</td>\n",
       "      <td>1.227273</td>\n",
       "    </tr>\n",
       "    <tr>\n",
       "      <th rowspan=\"4\" valign=\"top\">May</th>\n",
       "      <th>2019</th>\n",
       "      <td>1.346532</td>\n",
       "      <td>1.684211</td>\n",
       "      <td>1.000000</td>\n",
       "      <td>1.000000</td>\n",
       "      <td>1.442656</td>\n",
       "      <td>1.100000</td>\n",
       "    </tr>\n",
       "    <tr>\n",
       "      <th>2020</th>\n",
       "      <td>1.337205</td>\n",
       "      <td>1.400000</td>\n",
       "      <td>1.500000</td>\n",
       "      <td>1.333333</td>\n",
       "      <td>1.457971</td>\n",
       "      <td>1.352941</td>\n",
       "    </tr>\n",
       "    <tr>\n",
       "      <th>2021</th>\n",
       "      <td>1.354493</td>\n",
       "      <td>1.666667</td>\n",
       "      <td>1.500000</td>\n",
       "      <td>1.333333</td>\n",
       "      <td>1.417683</td>\n",
       "      <td>1.071429</td>\n",
       "    </tr>\n",
       "    <tr>\n",
       "      <th>2022</th>\n",
       "      <td>1.338688</td>\n",
       "      <td>1.250000</td>\n",
       "      <td>1.333333</td>\n",
       "      <td>1.000000</td>\n",
       "      <td>1.500753</td>\n",
       "      <td>1.250000</td>\n",
       "    </tr>\n",
       "    <tr>\n",
       "      <th rowspan=\"4\" valign=\"top\">November</th>\n",
       "      <th>2019</th>\n",
       "      <td>1.290865</td>\n",
       "      <td>1.260870</td>\n",
       "      <td>1.369295</td>\n",
       "      <td>1.428571</td>\n",
       "      <td>1.400236</td>\n",
       "      <td>1.043478</td>\n",
       "    </tr>\n",
       "    <tr>\n",
       "      <th>2020</th>\n",
       "      <td>1.300952</td>\n",
       "      <td>1.583333</td>\n",
       "      <td>1.434132</td>\n",
       "      <td>1.384615</td>\n",
       "      <td>1.387696</td>\n",
       "      <td>1.200000</td>\n",
       "    </tr>\n",
       "    <tr>\n",
       "      <th>2021</th>\n",
       "      <td>1.294445</td>\n",
       "      <td>1.452381</td>\n",
       "      <td>1.243243</td>\n",
       "      <td>1.923077</td>\n",
       "      <td>1.393972</td>\n",
       "      <td>1.421053</td>\n",
       "    </tr>\n",
       "    <tr>\n",
       "      <th>2022</th>\n",
       "      <td>1.318023</td>\n",
       "      <td>1.444444</td>\n",
       "      <td>1.356423</td>\n",
       "      <td>1.371429</td>\n",
       "      <td>1.389572</td>\n",
       "      <td>1.142857</td>\n",
       "    </tr>\n",
       "    <tr>\n",
       "      <th rowspan=\"4\" valign=\"top\">October</th>\n",
       "      <th>2019</th>\n",
       "      <td>1.330498</td>\n",
       "      <td>1.272727</td>\n",
       "      <td>1.400000</td>\n",
       "      <td>1.000000</td>\n",
       "      <td>1.393419</td>\n",
       "      <td>1.153846</td>\n",
       "    </tr>\n",
       "    <tr>\n",
       "      <th>2020</th>\n",
       "      <td>1.314318</td>\n",
       "      <td>1.518519</td>\n",
       "      <td>1.347150</td>\n",
       "      <td>1.485714</td>\n",
       "      <td>1.397198</td>\n",
       "      <td>1.090909</td>\n",
       "    </tr>\n",
       "    <tr>\n",
       "      <th>2021</th>\n",
       "      <td>1.324756</td>\n",
       "      <td>1.533333</td>\n",
       "      <td>2.200000</td>\n",
       "      <td>1.000000</td>\n",
       "      <td>1.426586</td>\n",
       "      <td>1.076923</td>\n",
       "    </tr>\n",
       "    <tr>\n",
       "      <th>2022</th>\n",
       "      <td>1.336587</td>\n",
       "      <td>1.705882</td>\n",
       "      <td>1.188679</td>\n",
       "      <td>1.714286</td>\n",
       "      <td>1.388816</td>\n",
       "      <td>1.210526</td>\n",
       "    </tr>\n",
       "    <tr>\n",
       "      <th rowspan=\"4\" valign=\"top\">September</th>\n",
       "      <th>2019</th>\n",
       "      <td>1.339429</td>\n",
       "      <td>1.250000</td>\n",
       "      <td>1.000000</td>\n",
       "      <td>1.500000</td>\n",
       "      <td>1.435417</td>\n",
       "      <td>1.307692</td>\n",
       "    </tr>\n",
       "    <tr>\n",
       "      <th>2020</th>\n",
       "      <td>1.323790</td>\n",
       "      <td>1.509804</td>\n",
       "      <td>1.000000</td>\n",
       "      <td>1.000000</td>\n",
       "      <td>1.395795</td>\n",
       "      <td>1.083333</td>\n",
       "    </tr>\n",
       "    <tr>\n",
       "      <th>2021</th>\n",
       "      <td>1.328964</td>\n",
       "      <td>2.111111</td>\n",
       "      <td>NaN</td>\n",
       "      <td>1.500000</td>\n",
       "      <td>1.401223</td>\n",
       "      <td>1.411765</td>\n",
       "    </tr>\n",
       "    <tr>\n",
       "      <th>2022</th>\n",
       "      <td>1.332019</td>\n",
       "      <td>1.400000</td>\n",
       "      <td>1.000000</td>\n",
       "      <td>2.000000</td>\n",
       "      <td>1.408525</td>\n",
       "      <td>1.636364</td>\n",
       "    </tr>\n",
       "  </tbody>\n",
       "</table>\n",
       "</div>"
      ],
      "text/plain": [
       "Road_Surface_Conditions       Dry  Flood over 3cm. deep  Frost or ice  \\\n",
       "Month     Year                                                          \n",
       "April     2019           1.360358              1.000000      1.200000   \n",
       "          2020           1.339197              1.538462      1.560606   \n",
       "          2021           1.353704              1.000000      1.000000   \n",
       "          2022           1.357578              1.000000      1.500000   \n",
       "August    2019           1.383017              1.636364      1.000000   \n",
       "          2020           1.375027              1.578947      1.000000   \n",
       "          2021           1.385929              2.090909           NaN   \n",
       "          2022           1.379569              1.750000      1.500000   \n",
       "December  2019           1.286649              1.531915      1.350850   \n",
       "          2020           1.335708              1.708333      1.345857   \n",
       "          2021           1.274566              1.500000      1.380342   \n",
       "          2022           1.297656              1.600000      1.385561   \n",
       "February  2019           1.315298              1.083333      1.287305   \n",
       "          2020           1.318313              1.600000      1.346648   \n",
       "          2021           1.326901              1.176471      1.364519   \n",
       "          2022           1.325941              1.714286      1.317593   \n",
       "January   2019           1.301965              1.358974      1.331887   \n",
       "          2020           1.305425              1.515625      1.308008   \n",
       "          2021           1.331680              1.333333      1.315061   \n",
       "          2022           1.285207              1.111111      1.336806   \n",
       "July      2019           1.342417              1.538462      1.000000   \n",
       "          2020           1.324689              1.583333      1.000000   \n",
       "          2021           1.340411              1.444444      1.000000   \n",
       "          2022           1.339222              1.750000      1.000000   \n",
       "June      2019           1.336180              1.506667      1.000000   \n",
       "          2020           1.333754              1.166667      1.000000   \n",
       "          2021           1.329111              1.555556           NaN   \n",
       "          2022           1.339122              2.000000      1.000000   \n",
       "March     2019           1.330359              1.294118      1.231579   \n",
       "          2020           1.333562              1.352941      1.452555   \n",
       "          2021           1.334661              1.200000      1.346939   \n",
       "          2022           1.325219              1.333333      1.246914   \n",
       "May       2019           1.346532              1.684211      1.000000   \n",
       "          2020           1.337205              1.400000      1.500000   \n",
       "          2021           1.354493              1.666667      1.500000   \n",
       "          2022           1.338688              1.250000      1.333333   \n",
       "November  2019           1.290865              1.260870      1.369295   \n",
       "          2020           1.300952              1.583333      1.434132   \n",
       "          2021           1.294445              1.452381      1.243243   \n",
       "          2022           1.318023              1.444444      1.356423   \n",
       "October   2019           1.330498              1.272727      1.400000   \n",
       "          2020           1.314318              1.518519      1.347150   \n",
       "          2021           1.324756              1.533333      2.200000   \n",
       "          2022           1.336587              1.705882      1.188679   \n",
       "September 2019           1.339429              1.250000      1.000000   \n",
       "          2020           1.323790              1.509804      1.000000   \n",
       "          2021           1.328964              2.111111           NaN   \n",
       "          2022           1.332019              1.400000      1.000000   \n",
       "\n",
       "Road_Surface_Conditions      Snow  Wet or damp  unaccounted  \n",
       "Month     Year                                               \n",
       "April     2019                NaN     1.385888     1.000000  \n",
       "          2020           1.442308     1.442780     1.000000  \n",
       "          2021           2.000000     1.420137     1.181818  \n",
       "          2022           1.250000     1.485714     1.181818  \n",
       "August    2019           1.000000     1.458948     1.304348  \n",
       "          2020           2.000000     1.450013     1.304348  \n",
       "          2021           1.000000     1.463757     1.000000  \n",
       "          2022           2.000000     1.415216     1.400000  \n",
       "December  2019           1.181818     1.422541     1.000000  \n",
       "          2020           1.252427     1.401117     1.142857  \n",
       "          2021           1.374680     1.388427     1.461538  \n",
       "          2022           1.376316     1.415217     1.125000  \n",
       "February  2019           1.312000     1.401046     1.133333  \n",
       "          2020           1.661017     1.383009     1.071429  \n",
       "          2021           1.303318     1.362491     1.272727  \n",
       "          2022           1.402632     1.388079     1.187500  \n",
       "January   2019           1.278571     1.403802     1.150000  \n",
       "          2020           1.301887     1.369336     1.217391  \n",
       "          2021           1.346535     1.387118     1.357143  \n",
       "          2022           1.334642     1.347077     1.222222  \n",
       "July      2019           1.400000     1.459278     1.444444  \n",
       "          2020           1.000000     1.445199     1.500000  \n",
       "          2021                NaN     1.474479     1.066667  \n",
       "          2022           1.000000     1.470771     1.000000  \n",
       "June      2019           1.000000     1.447362     1.117647  \n",
       "          2020                NaN     1.416375     1.076923  \n",
       "          2021           1.333333     1.442604     1.714286  \n",
       "          2022                NaN     1.399510     1.000000  \n",
       "March     2019           1.411111     1.435946     1.062500  \n",
       "          2020           1.352381     1.405273     1.450000  \n",
       "          2021           1.678571     1.413530     1.250000  \n",
       "          2022           1.500000     1.411477     1.227273  \n",
       "May       2019           1.000000     1.442656     1.100000  \n",
       "          2020           1.333333     1.457971     1.352941  \n",
       "          2021           1.333333     1.417683     1.071429  \n",
       "          2022           1.000000     1.500753     1.250000  \n",
       "November  2019           1.428571     1.400236     1.043478  \n",
       "          2020           1.384615     1.387696     1.200000  \n",
       "          2021           1.923077     1.393972     1.421053  \n",
       "          2022           1.371429     1.389572     1.142857  \n",
       "October   2019           1.000000     1.393419     1.153846  \n",
       "          2020           1.485714     1.397198     1.090909  \n",
       "          2021           1.000000     1.426586     1.076923  \n",
       "          2022           1.714286     1.388816     1.210526  \n",
       "September 2019           1.500000     1.435417     1.307692  \n",
       "          2020           1.000000     1.395795     1.083333  \n",
       "          2021           1.500000     1.401223     1.411765  \n",
       "          2022           2.000000     1.408525     1.636364  "
      ]
     },
     "execution_count": 177,
     "metadata": {},
     "output_type": "execute_result"
    }
   ],
   "source": [
    "accident.groupby(['Month', 'Year', 'Road_Surface_Conditions'])['Number_of_Casualties'].mean().unstack()"
   ]
  },
  {
   "cell_type": "markdown",
   "id": "3341efd7-182b-4f9f-9cbd-18c39bfa3231",
   "metadata": {},
   "source": [
    "<h2> <strong>Insight 24: Driving becomes riskier in bad weather, as evidenced by the average casualties, which remain relatively constant over months and years but tend to increase slightly in wet or snowy road conditions. </h2>\n"
   ]
  },
  {
   "cell_type": "markdown",
   "id": "64b5aee1-a46d-452f-88a7-ca30a18e7fed",
   "metadata": {},
   "source": [
    "<h1>25. What is the distribution of accidents by year, month, and rural/urban area?</h1>"
   ]
  },
  {
   "cell_type": "code",
   "execution_count": 178,
   "id": "647be0d7-2993-4554-a5f0-2f39bb02df80",
   "metadata": {},
   "outputs": [
    {
     "data": {
      "text/html": [
       "<div>\n",
       "<style scoped>\n",
       "    .dataframe tbody tr th:only-of-type {\n",
       "        vertical-align: middle;\n",
       "    }\n",
       "\n",
       "    .dataframe tbody tr th {\n",
       "        vertical-align: top;\n",
       "    }\n",
       "\n",
       "    .dataframe thead th {\n",
       "        text-align: right;\n",
       "    }\n",
       "</style>\n",
       "<table border=\"1\" class=\"dataframe\">\n",
       "  <thead>\n",
       "    <tr style=\"text-align: right;\">\n",
       "      <th></th>\n",
       "      <th>Month</th>\n",
       "      <th>April</th>\n",
       "      <th>August</th>\n",
       "      <th>December</th>\n",
       "      <th>February</th>\n",
       "      <th>January</th>\n",
       "      <th>July</th>\n",
       "      <th>June</th>\n",
       "      <th>March</th>\n",
       "      <th>May</th>\n",
       "      <th>November</th>\n",
       "      <th>October</th>\n",
       "      <th>September</th>\n",
       "    </tr>\n",
       "    <tr>\n",
       "      <th>Urban_or_Rural_Area</th>\n",
       "      <th>Year</th>\n",
       "      <th></th>\n",
       "      <th></th>\n",
       "      <th></th>\n",
       "      <th></th>\n",
       "      <th></th>\n",
       "      <th></th>\n",
       "      <th></th>\n",
       "      <th></th>\n",
       "      <th></th>\n",
       "      <th></th>\n",
       "      <th></th>\n",
       "      <th></th>\n",
       "    </tr>\n",
       "  </thead>\n",
       "  <tbody>\n",
       "    <tr>\n",
       "      <th rowspan=\"4\" valign=\"top\">Rural</th>\n",
       "      <th>2019</th>\n",
       "      <td>5169</td>\n",
       "      <td>6001</td>\n",
       "      <td>5499</td>\n",
       "      <td>4874</td>\n",
       "      <td>5807</td>\n",
       "      <td>6047</td>\n",
       "      <td>5835</td>\n",
       "      <td>5350</td>\n",
       "      <td>5802</td>\n",
       "      <td>5974</td>\n",
       "      <td>5518</td>\n",
       "      <td>5682</td>\n",
       "    </tr>\n",
       "    <tr>\n",
       "      <th>2020</th>\n",
       "      <td>4752</td>\n",
       "      <td>5204</td>\n",
       "      <td>5167</td>\n",
       "      <td>5226</td>\n",
       "      <td>5182</td>\n",
       "      <td>5415</td>\n",
       "      <td>5105</td>\n",
       "      <td>4947</td>\n",
       "      <td>5184</td>\n",
       "      <td>5251</td>\n",
       "      <td>5415</td>\n",
       "      <td>5143</td>\n",
       "    </tr>\n",
       "    <tr>\n",
       "      <th>2021</th>\n",
       "      <td>4555</td>\n",
       "      <td>5256</td>\n",
       "      <td>5106</td>\n",
       "      <td>4144</td>\n",
       "      <td>4925</td>\n",
       "      <td>5277</td>\n",
       "      <td>4943</td>\n",
       "      <td>4391</td>\n",
       "      <td>4873</td>\n",
       "      <td>5456</td>\n",
       "      <td>5260</td>\n",
       "      <td>4830</td>\n",
       "    </tr>\n",
       "    <tr>\n",
       "      <th>2022</th>\n",
       "      <td>3956</td>\n",
       "      <td>4537</td>\n",
       "      <td>3589</td>\n",
       "      <td>3896</td>\n",
       "      <td>3626</td>\n",
       "      <td>4476</td>\n",
       "      <td>4317</td>\n",
       "      <td>4118</td>\n",
       "      <td>4266</td>\n",
       "      <td>4671</td>\n",
       "      <td>4593</td>\n",
       "      <td>4380</td>\n",
       "    </tr>\n",
       "    <tr>\n",
       "      <th rowspan=\"4\" valign=\"top\">Unallocated</th>\n",
       "      <th>2019</th>\n",
       "      <td>0</td>\n",
       "      <td>0</td>\n",
       "      <td>2</td>\n",
       "      <td>0</td>\n",
       "      <td>1</td>\n",
       "      <td>1</td>\n",
       "      <td>1</td>\n",
       "      <td>0</td>\n",
       "      <td>0</td>\n",
       "      <td>0</td>\n",
       "      <td>0</td>\n",
       "      <td>0</td>\n",
       "    </tr>\n",
       "    <tr>\n",
       "      <th>2020</th>\n",
       "      <td>1</td>\n",
       "      <td>0</td>\n",
       "      <td>1</td>\n",
       "      <td>0</td>\n",
       "      <td>0</td>\n",
       "      <td>0</td>\n",
       "      <td>1</td>\n",
       "      <td>1</td>\n",
       "      <td>2</td>\n",
       "      <td>0</td>\n",
       "      <td>0</td>\n",
       "      <td>0</td>\n",
       "    </tr>\n",
       "    <tr>\n",
       "      <th>2021</th>\n",
       "      <td>0</td>\n",
       "      <td>0</td>\n",
       "      <td>0</td>\n",
       "      <td>0</td>\n",
       "      <td>0</td>\n",
       "      <td>0</td>\n",
       "      <td>0</td>\n",
       "      <td>0</td>\n",
       "      <td>0</td>\n",
       "      <td>0</td>\n",
       "      <td>0</td>\n",
       "      <td>0</td>\n",
       "    </tr>\n",
       "    <tr>\n",
       "      <th>2022</th>\n",
       "      <td>0</td>\n",
       "      <td>0</td>\n",
       "      <td>0</td>\n",
       "      <td>0</td>\n",
       "      <td>0</td>\n",
       "      <td>0</td>\n",
       "      <td>0</td>\n",
       "      <td>0</td>\n",
       "      <td>0</td>\n",
       "      <td>0</td>\n",
       "      <td>0</td>\n",
       "      <td>0</td>\n",
       "    </tr>\n",
       "    <tr>\n",
       "      <th rowspan=\"4\" valign=\"top\">Urban</th>\n",
       "      <th>2019</th>\n",
       "      <td>8956</td>\n",
       "      <td>9043</td>\n",
       "      <td>9207</td>\n",
       "      <td>8379</td>\n",
       "      <td>9547</td>\n",
       "      <td>9814</td>\n",
       "      <td>9692</td>\n",
       "      <td>9699</td>\n",
       "      <td>10031</td>\n",
       "      <td>10585</td>\n",
       "      <td>10010</td>\n",
       "      <td>9589</td>\n",
       "    </tr>\n",
       "    <tr>\n",
       "      <th>2020</th>\n",
       "      <td>8641</td>\n",
       "      <td>8162</td>\n",
       "      <td>8626</td>\n",
       "      <td>9127</td>\n",
       "      <td>8951</td>\n",
       "      <td>9215</td>\n",
       "      <td>9099</td>\n",
       "      <td>8546</td>\n",
       "      <td>9150</td>\n",
       "      <td>9519</td>\n",
       "      <td>10269</td>\n",
       "      <td>9289</td>\n",
       "    </tr>\n",
       "    <tr>\n",
       "      <th>2021</th>\n",
       "      <td>8160</td>\n",
       "      <td>8159</td>\n",
       "      <td>8603</td>\n",
       "      <td>6806</td>\n",
       "      <td>8492</td>\n",
       "      <td>9023</td>\n",
       "      <td>8993</td>\n",
       "      <td>8811</td>\n",
       "      <td>8938</td>\n",
       "      <td>10017</td>\n",
       "      <td>9574</td>\n",
       "      <td>8962</td>\n",
       "    </tr>\n",
       "    <tr>\n",
       "      <th>2022</th>\n",
       "      <td>7554</td>\n",
       "      <td>7551</td>\n",
       "      <td>6036</td>\n",
       "      <td>7039</td>\n",
       "      <td>6341</td>\n",
       "      <td>8177</td>\n",
       "      <td>8495</td>\n",
       "      <td>8223</td>\n",
       "      <td>8106</td>\n",
       "      <td>8951</td>\n",
       "      <td>8941</td>\n",
       "      <td>8580</td>\n",
       "    </tr>\n",
       "  </tbody>\n",
       "</table>\n",
       "</div>"
      ],
      "text/plain": [
       "Month                     April  August  December  February  January  July  \\\n",
       "Urban_or_Rural_Area Year                                                     \n",
       "Rural               2019   5169    6001      5499      4874     5807  6047   \n",
       "                    2020   4752    5204      5167      5226     5182  5415   \n",
       "                    2021   4555    5256      5106      4144     4925  5277   \n",
       "                    2022   3956    4537      3589      3896     3626  4476   \n",
       "Unallocated         2019      0       0         2         0        1     1   \n",
       "                    2020      1       0         1         0        0     0   \n",
       "                    2021      0       0         0         0        0     0   \n",
       "                    2022      0       0         0         0        0     0   \n",
       "Urban               2019   8956    9043      9207      8379     9547  9814   \n",
       "                    2020   8641    8162      8626      9127     8951  9215   \n",
       "                    2021   8160    8159      8603      6806     8492  9023   \n",
       "                    2022   7554    7551      6036      7039     6341  8177   \n",
       "\n",
       "Month                     June  March    May  November  October  September  \n",
       "Urban_or_Rural_Area Year                                                    \n",
       "Rural               2019  5835   5350   5802      5974     5518       5682  \n",
       "                    2020  5105   4947   5184      5251     5415       5143  \n",
       "                    2021  4943   4391   4873      5456     5260       4830  \n",
       "                    2022  4317   4118   4266      4671     4593       4380  \n",
       "Unallocated         2019     1      0      0         0        0          0  \n",
       "                    2020     1      1      2         0        0          0  \n",
       "                    2021     0      0      0         0        0          0  \n",
       "                    2022     0      0      0         0        0          0  \n",
       "Urban               2019  9692   9699  10031     10585    10010       9589  \n",
       "                    2020  9099   8546   9150      9519    10269       9289  \n",
       "                    2021  8993   8811   8938     10017     9574       8962  \n",
       "                    2022  8495   8223   8106      8951     8941       8580  "
      ]
     },
     "execution_count": 178,
     "metadata": {},
     "output_type": "execute_result"
    }
   ],
   "source": [
    "accident.groupby(['Urban_or_Rural_Area','Year', 'Month']).size().unstack()"
   ]
  },
  {
   "cell_type": "markdown",
   "id": "c94bf17c-7e4b-42ab-a148-a7f06282b95d",
   "metadata": {},
   "source": [
    "<h2> <strong>Insight 25: Accidents happen far more often in urban areas than in rural ones, but both have shown a steady decline from 2019 to 2022, suggesting overall safer roads over time.</strong></h2>\n"
   ]
  },
  {
   "cell_type": "code",
   "execution_count": 179,
   "id": "85e74c80-d311-4e27-a56b-568579c86100",
   "metadata": {},
   "outputs": [],
   "source": [
    "#district = accident.groupby(['Year', 'District Area']).size().unstack()\n",
    "# district.plot(kind='bar', figsize=(15, 7))\n",
    "#district"
   ]
  },
  {
   "cell_type": "markdown",
   "id": "9cadefe7-ffed-447e-9899-bc8ef2e4a4fd",
   "metadata": {},
   "source": [
    "<hr>\n",
    "<h1>DATA VISUALIZATION</h1>"
   ]
  },
  {
   "cell_type": "code",
   "execution_count": 180,
   "id": "27be2074-a9ac-4769-8f84-b72d17d570d5",
   "metadata": {},
   "outputs": [
    {
     "data": {
      "image/png": "[encoded data removed]",
      "text/plain": [
       "<Figure size 600x400 with 1 Axes>"
      ]
     },
     "metadata": {},
     "output_type": "display_data"
    }
   ],
   "source": [
    "import pandas as pd\n",
    "import matplotlib.pyplot as plt\n",
    "\n",
    "leeds_data = accident[accident['District Area'] == \"Leeds\"]\n",
    "severity_counts = leeds_data['Accident_Severity'].value_counts()\n",
    "\n",
    "severity_counts.plot(kind='bar', color=['lightblue', 'yellow', 'orange'], figsize=(6, 4))\n",
    "\n",
    "plt.title(\"Accident Severity in Leeds\")\n",
    "plt.xlabel(\"Accident Severity\")\n",
    "plt.ylabel(\"Number of Accidents\")\n",
    "plt.xticks(rotation=0)\n",
    "plt.tight_layout()\n",
    "plt.show()"
   ]
  },
  {
   "cell_type": "markdown",
   "id": "c0e0eef4-51a0-4ac6-bf85-b844101b029f",
   "metadata": {},
   "source": [
    "<h3>INSIGHT #26</h3>"
   ]
  },
  {
   "cell_type": "markdown",
   "id": "72a146b6-1694-4e71-96c9-162a07b6350e",
   "metadata": {},
   "source": [
    "<h3>In Leeds, most road accidents are slight. Serious and fatal accidents occur less frequently, suggesting minor incidents dominate the city’s road safety concerns.</h3>"
   ]
  },
  {
   "cell_type": "markdown",
   "id": "8280ffb5-92d6-4290-99ea-33a0736db0fc",
   "metadata": {},
   "source": [
    "<hr>"
   ]
  },
  {
   "cell_type": "code",
   "execution_count": 181,
   "id": "55391255-6918-49a0-a8bf-95a8d8e905f7",
   "metadata": {},
   "outputs": [
    {
     "data": {
      "image/png": "[encoded data removed]",
      "text/plain": [
       "<Figure size 600x400 with 1 Axes>"
      ]
     },
     "metadata": {},
     "output_type": "display_data"
    }
   ],
   "source": [
    "york_data = accident[accident['District Area'] == \"York\"]\n",
    "yearly_counts = york_data.groupby('Year').size()\n",
    "\n",
    "yearly_counts.plot(kind='line', marker='o', color='green', figsize=(6, 4))\n",
    "\n",
    "plt.title(\"Accident Trend in York (by Year)\")\n",
    "plt.xlabel(\"Year\")\n",
    "plt.ylabel(\"Number of Accidents\")\n",
    "plt.grid(True)\n",
    "plt.tight_layout()\n",
    "plt.show()"
   ]
  },
  {
   "cell_type": "markdown",
   "id": "cbe162c3-78b1-4e0d-ab6f-ea428acd82cc",
   "metadata": {},
   "source": [
    "<h3>INSIGHT #27</h3>"
   ]
  },
  {
   "cell_type": "markdown",
   "id": "ca2f4f8f-6700-4aa0-a5ea-0ab3ae1eb01e",
   "metadata": {},
   "source": [
    "<h3>York shows a gradual decline in accident numbers over the years, which may reflect better road safety measures or changing traffic patterns.</h3>"
   ]
  },
  {
   "cell_type": "markdown",
   "id": "cd88ce4f-e374-45d1-9364-eadffd1e732d",
   "metadata": {},
   "source": [
    "<hr>"
   ]
  },
  {
   "cell_type": "code",
   "execution_count": 182,
   "id": "0cb62bcd-7e87-4d1d-84b8-c86fa44c4e18",
   "metadata": {},
   "outputs": [
    {
     "data": {
      "image/png": "[encoded data removed]",
      "text/plain": [
       "<Figure size 640x480 with 1 Axes>"
      ]
     },
     "metadata": {},
     "output_type": "display_data"
    }
   ],
   "source": [
    "sheffield_data = accident[accident['District Area'] == \"Sheffield\"]\n",
    "severity_counts = sheffield_data['Accident_Severity'].value_counts()\n",
    "\n",
    "plt.pie(severity_counts,\n",
    "        labels=severity_counts.index,\n",
    "        autopct='%1.1f%%',\n",
    "        colors=['lightblue', 'orange', 'red'])\n",
    "plt.title(\"Accident Severity in Sheffield\")\n",
    "plt.tight_layout()\n",
    "plt.show()\n"
   ]
  },
  {
   "cell_type": "markdown",
   "id": "3429b374-a869-4fb3-9fa7-06b5a077cf44",
   "metadata": {},
   "source": [
    "<h3>INSIGHT #28</h3>"
   ]
  },
  {
   "cell_type": "markdown",
   "id": "b167aacd-178c-4989-853f-c9d34d9f85ca",
   "metadata": {},
   "source": [
    "<H3>In Sheffield, slight accidents make up the majority, followed by serious and very few fatal incidents — similar to patterns seen in other UK cities.</H3>"
   ]
  },
  {
   "cell_type": "markdown",
   "id": "8da6c1e9-dd1b-4215-bec4-ccd2f7058e58",
   "metadata": {},
   "source": [
    "<HR>"
   ]
  },
  {
   "cell_type": "code",
   "execution_count": 183,
   "id": "3af7be63-5e26-4131-9469-17166b7f1909",
   "metadata": {},
   "outputs": [
    {
     "data": {
      "image/png": "[encoded data removed]",
      "text/plain": [
       "<Figure size 800x500 with 1 Axes>"
      ]
     },
     "metadata": {},
     "output_type": "display_data"
    }
   ],
   "source": [
    "manchester_data = accident[accident['District Area'] == \"Manchester\"]\n",
    "severity_year = manchester_data.groupby(['Year', 'Accident_Severity']).size().unstack()\n",
    "\n",
    "severity_year.plot(kind='bar', figsize=(8, 5), colormap='Set2')\n",
    "\n",
    "plt.title(\"Accident Severity by Year in Manchester\")\n",
    "plt.xlabel(\"Year\")\n",
    "plt.ylabel(\"Number of Accidents\")\n",
    "plt.legend(title=\"Severity\")\n",
    "plt.tight_layout()\n",
    "plt.show()\n"
   ]
  },
  {
   "cell_type": "markdown",
   "id": "d631cca5-f3a7-412e-a546-82e8c704a51a",
   "metadata": {},
   "source": [
    "<h3>INSIGHT #29</h3>"
   ]
  },
  {
   "cell_type": "markdown",
   "id": "1c8aaa0b-aadd-454d-ba39-b934c78f802a",
   "metadata": {},
   "source": [
    "<h3>In Manchester, slight accidents are most common each year, with serious and fatal accidents remaining much lower and relatively stable.</h3>"
   ]
  },
  {
   "cell_type": "markdown",
   "id": "52e6e66f-6c84-4c55-88ef-f596ae707caa",
   "metadata": {},
   "source": [
    "<hr>"
   ]
  },
  {
   "cell_type": "code",
   "execution_count": 184,
   "id": "1dd7cf38-a5c5-4c66-b490-33b879be5b23",
   "metadata": {},
   "outputs": [
    {
     "data": {
      "image/png": "[encoded data removed]",
      "text/plain": [
       "<Figure size 600x400 with 1 Axes>"
      ]
     },
     "metadata": {},
     "output_type": "display_data"
    }
   ],
   "source": [
    "fatal_data = accident[accident['Accident_Severity'] == \"Fatal\"]\n",
    "fatal_city_counts = fatal_data['District Area'].value_counts().head(5)\n",
    "\n",
    "fatal_city_counts.plot(kind='barh', color='crimson', figsize=(6, 4))\n",
    "\n",
    "plt.title(\"Top 5 Cities with Most Fatal Accidents\")\n",
    "plt.xlabel(\"Number of Fatal Accidents\")\n",
    "plt.ylabel(\"City\")\n",
    "plt.tight_layout()\n",
    "plt.show()"
   ]
  },
  {
   "cell_type": "markdown",
   "id": "86fdfa41-4d50-496f-a413-eba9e0225942",
   "metadata": {},
   "source": [
    "<h3>INSIGHT #30</h3>"
   ]
  },
  {
   "cell_type": "markdown",
   "id": "2cc6120a-aff7-4b38-aeb4-08edb3f88516",
   "metadata": {},
   "source": [
    "<H3>Some cities have higher fatal accident counts, which may indicate dangerous road conditions or heavier traffic. These areas may benefit from targeted safety improvements.</H3>"
   ]
  },
  {
   "cell_type": "markdown",
   "id": "079f9d2b-4106-4cb6-808c-6dbf8a556512",
   "metadata": {},
   "source": [
    "<hr>"
   ]
  },
  {
   "cell_type": "code",
   "execution_count": 185,
   "id": "fa7315cf-9645-471c-a64f-c3fa0beb7495",
   "metadata": {},
   "outputs": [
    {
     "data": {
      "image/png": "[encoded data removed]",
      "text/plain": [
       "<Figure size 600x400 with 1 Axes>"
      ]
     },
     "metadata": {},
     "output_type": "display_data"
    }
   ],
   "source": [
    "cities = ['Leeds', 'Sheffield', 'Birmingham']\n",
    "city_data = accident[accident['District Area'].isin(cities)]\n",
    "city_counts = city_data['District Area'].value_counts()[cities]  # keep only these 3 in order\n",
    "\n",
    "# Bar chart\n",
    "plt.figure(figsize=(6, 4))\n",
    "city_counts.plot(kind='bar', color='purple')\n",
    "\n",
    "plt.title(\"Total Accidents in 3 Cities\")\n",
    "plt.xlabel(\"City\")\n",
    "plt.ylabel(\"Number of Accidents\")\n",
    "plt.xticks(rotation=0)\n",
    "plt.tight_layout()\n",
    "plt.show()\n"
   ]
  },
  {
   "cell_type": "markdown",
   "id": "9c525aa7-a28f-4e5d-92df-015f2f46d8cd",
   "metadata": {},
   "source": [
    "<h3>INSIGHT #31</h3>"
   ]
  },
  {
   "cell_type": "markdown",
   "id": "88cdbfdf-3732-48c0-86b1-5138025f1f43",
   "metadata": {},
   "source": [
    "<h3>Leeds records the most accidents, making it a key focus for road safety, while Sheffield and Birmingham show fewer but still notable cases..</h3>"
   ]
  },
  {
   "cell_type": "code",
   "execution_count": 198,
   "id": "292a0a47-0d01-442f-a86a-317b352d9cd9",
   "metadata": {},
   "outputs": [
    {
     "data": {
      "text/html": [
       "<div style=\"width:100%;\"><div style=\"position:relative;width:100%;height:0;padding-bottom:60%;\"><span style=\"color:#565656\">Make this Notebook Trusted to load map: File -> Trust Notebook</span><iframe srcdoc=\"&lt;!DOCTYPE html&gt;\n",
       "&lt;html&gt;\n",
       "&lt;head&gt;\n",
       "    \n",
       "    &lt;meta http-equiv=&quot;content-type&quot; content=&quot;text/html; charset=UTF-8&quot; /&gt;\n",
       "    &lt;script src=&quot;https://cdn.jsdelivr.net/npm/leaflet@1.9.3/dist/leaflet.js&quot;&gt;&lt;/script&gt;\n",
       "    &lt;script src=&quot;https://code.jquery.com/jquery-3.7.1.min.js&quot;&gt;&lt;/script&gt;\n",
       "    &lt;script src=&quot;https://cdn.jsdelivr.net/npm/bootstrap@5.2.2/dist/js/bootstrap.bundle.min.js&quot;&gt;&lt;/script&gt;\n",
       "    &lt;script src=&quot;https://cdnjs.cloudflare.com/ajax/libs/Leaflet.awesome-markers/2.0.2/leaflet.awesome-markers.js&quot;&gt;&lt;/script&gt;\n",
       "    &lt;link rel=&quot;stylesheet&quot; href=&quot;https://cdn.jsdelivr.net/npm/leaflet@1.9.3/dist/leaflet.css&quot;/&gt;\n",
       "    &lt;link rel=&quot;stylesheet&quot; href=&quot;https://cdn.jsdelivr.net/npm/bootstrap@5.2.2/dist/css/bootstrap.min.css&quot;/&gt;\n",
       "    &lt;link rel=&quot;stylesheet&quot; href=&quot;https://netdna.bootstrapcdn.com/bootstrap/3.0.0/css/bootstrap-glyphicons.css&quot;/&gt;\n",
       "    &lt;link rel=&quot;stylesheet&quot; href=&quot;https://cdn.jsdelivr.net/npm/@fortawesome/fontawesome-free@6.2.0/css/all.min.css&quot;/&gt;\n",
       "    &lt;link rel=&quot;stylesheet&quot; href=&quot;https://cdnjs.cloudflare.com/ajax/libs/Leaflet.awesome-markers/2.0.2/leaflet.awesome-markers.css&quot;/&gt;\n",
       "    &lt;link rel=&quot;stylesheet&quot; href=&quot;https://cdn.jsdelivr.net/gh/python-visualization/folium/folium/templates/leaflet.awesome.rotate.min.css&quot;/&gt;\n",
       "    \n",
       "            &lt;meta name=&quot;viewport&quot; content=&quot;width=device-width,\n",
       "                initial-scale=1.0, maximum-scale=1.0, user-scalable=no&quot; /&gt;\n",
       "            &lt;style&gt;\n",
       "                #map_ca7cd6b280dcdf84606aab2cafc5f083 {\n",
       "                    position: relative;\n",
       "                    width: 100.0%;\n",
       "                    height: 100.0%;\n",
       "                    left: 0.0%;\n",
       "                    top: 0.0%;\n",
       "                }\n",
       "                .leaflet-container { font-size: 1rem; }\n",
       "            &lt;/style&gt;\n",
       "\n",
       "            &lt;style&gt;html, body {\n",
       "                width: 100%;\n",
       "                height: 100%;\n",
       "                margin: 0;\n",
       "                padding: 0;\n",
       "            }\n",
       "            &lt;/style&gt;\n",
       "\n",
       "            &lt;style&gt;#map {\n",
       "                position:absolute;\n",
       "                top:0;\n",
       "                bottom:0;\n",
       "                right:0;\n",
       "                left:0;\n",
       "                }\n",
       "            &lt;/style&gt;\n",
       "\n",
       "            &lt;script&gt;\n",
       "                L_NO_TOUCH = false;\n",
       "                L_DISABLE_3D = false;\n",
       "            &lt;/script&gt;\n",
       "\n",
       "        \n",
       "    &lt;script src=&quot;https://cdn.jsdelivr.net/gh/python-visualization/folium@main/folium/templates/leaflet_heat.min.js&quot;&gt;&lt;/script&gt;\n",
       "&lt;/head&gt;\n",
       "&lt;body&gt;\n",
       "    \n",
       "    \n",
       "            &lt;div class=&quot;folium-map&quot; id=&quot;map_ca7cd6b280dcdf84606aab2cafc5f083&quot; &gt;&lt;/div&gt;\n",
       "        \n",
       "&lt;/body&gt;\n",
       "&lt;script&gt;\n",
       "    \n",
       "    \n",
       "            var map_ca7cd6b280dcdf84606aab2cafc5f083 = L.map(\n",
       "                &quot;map_ca7cd6b280dcdf84606aab2cafc5f083&quot;,\n",
       "                {\n",
       "                    center: [56.00644350657895, -3.78570566995614],\n",
       "                    crs: L.CRS.EPSG3857,\n",
       "                    ...{\n",
       "  &quot;zoom&quot;: 10,\n",
       "  &quot;zoomControl&quot;: true,\n",
       "  &quot;preferCanvas&quot;: false,\n",
       "}\n",
       "\n",
       "                }\n",
       "            );\n",
       "\n",
       "            \n",
       "\n",
       "        \n",
       "    \n",
       "            var tile_layer_8d755501f3dc4cdab1c9a19720a46bea = L.tileLayer(\n",
       "                &quot;https://tile.openstreetmap.org/{z}/{x}/{y}.png&quot;,\n",
       "                {\n",
       "  &quot;minZoom&quot;: 0,\n",
       "  &quot;maxZoom&quot;: 19,\n",
       "  &quot;maxNativeZoom&quot;: 19,\n",
       "  &quot;noWrap&quot;: false,\n",
       "  &quot;attribution&quot;: &quot;\\u0026copy; \\u003ca href=\\&quot;https://www.openstreetmap.org/copyright\\&quot;\\u003eOpenStreetMap\\u003c/a\\u003e contributors&quot;,\n",
       "  &quot;subdomains&quot;: &quot;abc&quot;,\n",
       "  &quot;detectRetina&quot;: false,\n",
       "  &quot;tms&quot;: false,\n",
       "  &quot;opacity&quot;: 1,\n",
       "}\n",
       "\n",
       "            );\n",
       "        \n",
       "    \n",
       "            tile_layer_8d755501f3dc4cdab1c9a19720a46bea.addTo(map_ca7cd6b280dcdf84606aab2cafc5f083);\n",
       "        \n",
       "    \n",
       "            var heat_map_93d6937d55fbc5ce63a6b848c5a12cfc = L.heatLayer(\n",
       "                [[55.999665, -3.698019], [56.013746, -3.788954], [55.98836, -3.677003], [56.06848, -3.769801], [56.003585, -3.813985], [56.005204, -3.64742], [55.979788, -3.74427], [55.966431, -3.748316], [56.014105, -3.788971], [56.003922, -3.628922], [56.024022, -3.823609], [55.988627, -3.804467], [56.014548, -3.620385], [56.006496, -3.730236], [55.981469, -3.733446], [56.008063, -3.727419], [56.005876, -3.78009], [55.986561, -3.670512], [55.990505, -3.958152], [56.019026, -3.886911], [56.01529, -3.769132], [56.006285, -3.831916], [56.02282, -5.074239], [56.0039, -3.742309], [56.048147, -3.758915], [56.041248, -3.77626], [56.003585, -3.813985], [55.937259, -3.74588], [56.016922, -3.918415], [56.008568, -3.906612], [55.987704, -3.750077], [56.00466, -3.764637], [56.011255, -3.611104], [56.00091, -3.67931], [56.010015, -3.748359], [56.031196, -3.830688], [56.020232, -3.919382], [56.01898, -3.913222], [55.992497, -3.928749], [56.028979, -3.785807], [56.017769, -3.851231], [56.017601, -3.606876], [55.994988, -3.799633], [56.026574, -3.752959], [56.003762, -3.814154], [56.006551, -3.745476], [56.002176, -3.730685], [56.034198, -3.809964], [55.993873, -3.7898], [55.987022, -3.682876], [56.032237, -3.944695], [56.006256, -3.784919], [55.998443, -3.778305], [56.017364, -3.711309], [55.991803, -3.727014], [56.015313, -3.767529], [56.022843, -3.907476], [56.027279, -3.816059], [56.0035, -3.819755], [55.988785, -3.743553], [56.001339, -3.832163], [55.998798, -3.910782], [55.99774, -3.783404], [56.054118, -3.818124], [56.018192, -3.9119], [56.010676, -3.614128], [55.993458, -3.941946], [56.002585, -3.783948], [56.018868, -3.914661], [56.000457, -3.78818], [56.003753, -3.814795], [55.987482, -3.682095], [55.994989, -3.895521], [55.993072, -3.856143], [56.00956, -3.84731], [55.987914, -3.74159], [55.99389, -3.788678], [56.007029, -3.711334], [56.011618, -3.786931], [56.019291, -3.839591], [55.936006, -3.838203], [56.011557, -3.7218], [56.009641, -3.7238], [56.013889, -3.876072], [55.966378, -3.826344], [56.000695, -3.784182], [56.059124, -3.745281], [56.001051, -3.886997], [55.952294, -3.836733], [56.00039, -3.786573], [55.974913, -3.634433], [56.006532, -3.784451], [56.029529, -3.78503], [55.979897, -3.780659], [55.999041, -3.561687], [55.982731, -3.943973], [56.01277, -3.788107], [56.028356, -3.917056], [55.972792, -3.698283], [55.940209, -3.833599], [56.011126, -3.726914], [56.000632, -3.788509], [55.997611, -3.71653], [55.99694, -3.725961], [56.024741, -3.792993], [55.999533, -3.752376], [55.99217, -3.868286], [56.023824, -3.908006], [55.992298, -3.554842], [55.99217, -3.868286], [56.020063, -3.736779], [56.011255, -3.611104], [56.058269, -3.761142], [56.023003, -3.920321], [56.020423, -3.72396], [55.989323, -3.964665], [56.003444, -3.75544], [56.005554, -3.777509], [56.00233, -3.909031], [55.999156, -3.815702], [56.001834, -3.786159], [56.00399, -3.767493], [56.062479, -3.768402], [56.011255, -3.611104], [56.006665, -3.836585], [56.00082, -3.79413], [56.02389, -3.795842], [56.02254, -3.897994], [56.007552, -3.605657], [55.998544, -3.814551], [55.978004, -3.730566], [55.998623, -3.796915], [55.982169, -3.715525], [56.025355, -3.812439], [55.978403, -3.778347], [56.004209, -3.783542], [56.008505, -3.784702], [56.034929, -3.922037], [56.002172, -3.731005], [55.998431, -3.911245], [56.010852, -3.79636], [56.011884, -3.717644], [56.011817, -3.760632], [56.055894, -3.751238], [55.99217, -3.868286], [56.006224, -3.645057], [55.987287, -3.683208], [56.053555, -3.757716], [56.002564, -3.810089], [56.01037, -3.690628], [56.014643, -3.795252], [56.001372, -3.918607], [56.02366, -3.823752], [56.011179, -3.786269], [55.993115, -3.561288], [56.01345, -3.863538], [56.005572, -3.646794], [55.999324, -3.741782], [55.996286, -3.772112], [55.980422, -3.718333], [56.015602, -3.784869], [56.032905, -3.830609], [56.018925, -3.721807], [55.969023, -3.755643], [55.99122, -3.941352], [55.946846, -3.747913], [56.002658, -3.809772], [56.023932, -3.823605], [56.0331, -3.755341], [56.001325, -3.88669], [55.975402, -3.774523], [56.039218, -3.859161], [56.002759, -3.916109], [55.989894, -3.683161], [55.992873, -3.927646], [56.006496, -3.730236], [56.015869, -3.910983], [55.98692, -3.716376], [55.999531, -3.752536], [56.008388, -3.906603], [56.0078, -3.726926], [56.007163, -3.784319], [55.991803, -3.727014], [56.023996, -3.794724], [56.04021, -3.917644], [55.988334, -3.678925], [55.997043, -3.763167], [55.990628, -4.055482], [56.010178, -3.723984], [56.003907, -3.609515], [56.000222, -3.792018], [55.997241, -3.723729], [56.004111, -3.915856], [55.955323, -3.838478], [56.029866, -4.019528], [55.99943, -3.815394], [56.031619, -3.915292], [56.015366, -3.770098], [56.021218, -3.836955], [55.982797, -3.663137], [56.002084, -3.775104], [56.013193, -3.726846], [55.978228, -3.778018], [56.012891, -3.876666], [56.014883, -3.594731], [56.000367, -3.788176], [56.010988, -3.610932], [56.005554, -3.777509], [55.9866, -3.713477], [56.015061, -3.910943], [56.016847, -3.791986], [55.997644, -3.820763], [56.02119, -3.892312], [56.028114, -3.915279], [55.987832, -3.772527], [56.017464, -3.792816], [56.022233, -3.923653], [56.00885, -3.917373], [55.993027, -3.561124], [56.02426, -3.891339], [56.006588, -3.73008], [56.011192, -3.615914], [56.014238, -3.609784], [55.998654, -3.788578], [56.011621, -3.786771], [56.030046, -4.019538], [56.020003, -3.728273], [56.001788, -3.801713], [55.986867, -3.94386], [56.025863, -3.752445], [55.989223, -3.744374], [56.016884, -3.856323], [56.117524, -3.933071], [55.982256, -3.715689], [56.059124, -3.745281], [56.003537, -3.774048], [55.996343, -3.736517], [55.981784, -3.710859], [55.97279, -3.685303], [56.001975, -3.891212], [56.006838, -3.884713], [55.99925, -3.740657], [56.012352, -3.696811], [55.978069, -3.66053], [56.005648, -3.826432], [56.002676, -3.771443], [56.003935, -3.814643], [56.008748, -3.624152], [56.00504, -3.763211], [55.988207, -3.681645], [56.028744, -3.783389], [55.999025, -3.787793], [55.992402, -3.683751], [56.002627, -3.805761], [56.008877, -3.707726], [55.987814, -3.773809], [56.021579, -3.750326], [56.023571, -3.823748], [56.025806, -3.818397], [56.019116, -3.886915], [56.029683, -3.924184], [55.993753, -3.89995], [56.005337, -3.79867], [55.985243, -3.944259], [56.008927, -3.717031], [56.019026, -3.886911], [56.047424, -3.995397], [56.027035, -3.814283], [56.017367, -3.604139], [56.000478, -3.786737], [56.000988, -3.819477], [56.00305, -3.782847], [55.935526, -3.840262], [55.944075, -3.675728], [56.01454, -3.720489], [56.068742, -3.770295], [55.997863, -3.717824], [55.981219, -3.782483], [56.003005, -3.761033], [55.994666, -3.559426], [55.997883, -3.716381], [56.01211, -3.77781], [55.986103, -3.780303], [56.000728, -3.705603], [56.023739, -3.793909], [55.995251, -3.800126], [55.986464, -3.786412], [56.016515, -3.856947], [56.004274, -3.766544], [56.016892, -3.831776], [55.995338, -3.80029], [55.929112, -3.86637], [56.014214, -3.878334], [56.018863, -3.844224], [56.016617, -3.879895], [56.159354, -3.723737], [56.013728, -3.826974], [56.022563, -3.831082], [56.008442, -3.885593], [55.986615, -3.800686], [56.028165, -3.816904], [55.988397, -3.732794], [55.988417, -3.67941], [55.99797, -3.716546], [56.000898, -3.776333], [56.000972, -3.796062], [55.997166, -3.828758], [56.039308, -3.859165], [56.013037, -3.744325], [55.992086, -3.94348], [55.999618, -3.777878], [55.991714, -3.72701], [55.95401, -3.836173], [56.026776, -3.776558], [56.029549, -3.844733], [56.022125, -3.907441], [56.028113, -3.78352], [56.008243, -3.904351], [56.018113, -3.747602], [56.00182, -3.78712], [56.016711, -3.719463], [55.945764, -3.677083], [56.044041, -3.806732], [56.013212, -3.744653], [56.022214, -3.812131], [56.025974, -3.794655], [56.008442, -3.770423], [56.008932, -3.716711], [55.946282, -3.749649], [56.0186, -3.908711], [56.030842, -3.781239], [56.009506, -3.641507], [55.992113, -3.724142], [56.022438, -3.898791], [56.046251, -3.857573], [56.019978, -3.723619], [56.014124, -3.87833], [56.04125, -3.7761], [56.03071, -3.827134], [55.960931, -3.691676], [55.937337, -3.833303], [56.028753, -3.920446], [56.022931, -3.907641], [56.010809, -3.768286], [56.009264, -3.619041], [55.990398, -3.705308], [56.029753, -3.913916], [56.010049, -3.856637], [55.975611, -3.821811], [56.004199, -3.759163], [56.00335, -3.780776], [56.000124, -3.906357], [55.995518, -3.896188], [55.937259, -3.74588], [55.998894, -3.933398], [56.025615, -3.819191], [56.005986, -3.734544], [56.012967, -3.871696], [56.023051, -3.810245], [56.024175, -3.908505], [55.986405, -3.668742], [56.019821, -3.722007], [56.008243, -3.727427], [56.03413, -3.796157], [56.034406, -3.844484], [56.019701, -3.836241], [56.004985, -3.798173], [56.009411, -3.796614], [56.026834, -3.815718], [55.999636, -3.713091], [56.028666, -3.914504], [56.002962, -3.719493], [56.049292, -3.816291], [55.998071, -3.715748], [56.0092, -3.610216], [56.060645, -3.814255], [55.983677, -3.940974], [56.000336, -3.880868], [56.004591, -3.76319], [56.024859, -3.759781], [55.964515, -3.824654], [56.029302, -3.914054], [56.00315, -3.78221], [55.992814, -3.73187], [55.972709, -3.671518], [56.000439, -3.783208], [55.991895, -3.726858], [56.047875, -3.857169], [55.990585, -3.743313], [56.004057, -3.78161], [56.041878, -3.788651], [56.04046, -3.860184], [56.012526, -3.906326], [56.026865, -3.776562], [56.019207, -3.910185], [55.996341, -3.717435], [56.002524, -3.672965], [56.015557, -3.794172], [56.008651, -3.918647], [55.936101, -3.837887], [55.998012, -3.707086], [56.00276, -3.784277], [56.041158, -3.776256], [56.029763, -3.818263], [55.997769, -3.818363], [56.009411, -3.796614], [55.984423, -3.701999], [55.988711, -3.817136], [55.993384, -3.561299], [55.98836, -3.677003], [56.00812, -3.610332], [56.029232, -3.924322], [56.002385, -3.911279], [55.93734, -3.833143], [56.001333, -3.886209], [56.001931, -3.894096], [56.006577, -3.907476], [56.017218, -3.608625], [55.954737, -3.717194], [55.991081, -3.93878], [55.992614, -3.72689], [56.002599, -3.813779], [56.00438, -3.777936], [56.02244, -3.916121], [55.993312, -3.785124], [56.010202, -3.785422], [55.996426, -3.71776], [56.020863, -3.818486], [56.01424, -3.609624], [55.999375, -3.788451], [55.987066, -3.718788], [55.952487, -3.684901], [55.989438, -3.683622], [56.020778, -3.907374], [56.053461, -3.758033], [55.996287, -3.753191], [56.018793, -3.718432], [55.996884, -3.761717], [56.006179, -3.572721], [56.013741, -3.585701], [55.997461, -3.727267], [55.987559, -3.68306], [56.096528, -3.812405], [56.037284, -3.801761], [56.011879, -3.743631], [56.006198, -3.75765], [56.01473, -3.745364], [56.030418, -3.754417], [56.001436, -3.902893], [56.011621, -3.786771], [56.003436, -3.877971], [55.998555, -3.801562], [55.994166, -3.78821], [56.01215, -3.787437], [56.004159, -3.774558], [56.00466, -3.764637], [56.007613, -3.682007], [56.006586, -3.73024], [55.995658, -3.753163], [56.002111, -3.616336], [55.976809, -3.776671], [56.008479, -3.610347], [55.992909, -3.942559], [55.98684, -3.683029], [56.026894, -3.786995], [55.999661, -3.774833], [56.007612, -3.78434], [55.97425, -3.657161], [56.009799, -3.95993], [56.062799, -3.764883], [56.031662, -3.829587], [56.04021, -3.917644], [56.051018, -3.759206], [56.002171, -3.830598], [56.06856, -3.770448], [56.0313, -3.847866], [56.000576, -3.822986], [55.99109, -3.955295], [55.99223, -3.893782], [56.019893, -3.823254], [56.013448, -3.863698], [55.981754, -3.719514], [56.016367, -3.830789], [56.01453, -3.875301], [56.072143, -3.77752], [56.007572, -3.842082], [56.008503, -3.784862], [55.998063, -3.716389], [55.999546, -3.74516], [55.950635, -3.80302], [56.01132, -3.885412], [56.000372, -3.787855], [55.991331, -3.934303], [56.000325, -3.682653], [56.005337, -3.79867], [55.981032, -3.71323], [55.946999, -3.678737], [55.978233, -3.714229], [56.030834, -3.854906], [56.017112, -3.609904], [56.017812, -3.907389], [55.975217, -3.756084], [56.089188, -3.804345], [55.989855, -3.948178], [56.0054, -3.824977], [56.011523, -3.704795], [56.001152, -3.903841], [56.019701, -3.836241], [56.018023, -3.747598], [56.00251, -3.764218], [56.006534, -3.721096], [55.994793, -3.878995], [55.997046, -3.718429], [56.026673, -3.789873], [56.002278, -3.91817], [56.030672, -3.853775], [55.998069, -3.928706], [56.014268, -3.701226], [56.013271, -3.601242], [56.022138, -3.912416], [55.984792, -3.814708], [56.017119, -3.791838], [56.033052, -3.850839], [55.990505, -3.958152], [55.990856, -3.736912], [55.99703, -3.725965], [56.019791, -3.836246], [55.9745, -3.704768], [56.00157, -3.888305], [56.009206, -3.748323], [55.993673, -3.741047], [56.011467, -3.721796], [56.000408, -3.791545], [56.010088, -3.72398], [56.002521, -3.673126], [56.006589, -3.859679], [56.020102, -3.727636], [55.943172, -3.734457], [56.011279, -3.709436], [55.990636, -3.944209], [56.02329, -3.793889], [56.024079, -3.807565], [56.000501, -3.741194], [56.008237, -3.7085], [55.997234, -3.717796], [55.99584, -3.808972], [56.000268, -3.879421], [56.094054, -3.933985], [55.989169, -3.683611], [56.026263, -3.817937], [55.999704, -3.79055], [56.012434, -3.906482], [56.002121, -3.708871], [55.984677, -3.636768], [56.029419, -3.92385], [56.012203, -3.593498], [56.087186, -3.80602], [56.005355, -3.815833], [56.000724, -3.705923], [56.017823, -3.792833], [56.028655, -3.795742], [55.98354, -3.944013], [56.014082, -3.621649], [56.066919, -3.765874], [55.982708, -3.785116], [56.001952, -3.784239], [56.032405, -3.968138], [55.98702, -3.683036], [55.944695, -3.676396], [56.008686, -3.615167], [56.02028, -3.833541], [55.991401, -3.946973], [55.989493, -3.750639], [55.996425, -3.743416], [56.028492, -3.837301], [56.002869, -3.813791], [55.948709, -3.749599], [56.016693, -3.593683], [55.999224, -3.780265], [56.07974, -3.811296], [56.00511, -3.647736], [56.083325, -3.781089], [56.033579, -3.821492], [55.996377, -3.784464], [56.026767, -3.789557], [56.040248, -3.783278], [56.006574, -3.679075], [56.024828, -3.811612], [56.001937, -3.772852], [56.011255, -3.611104], [56.010814, -3.630976], [56.082468, -3.796799], [55.98528, -3.787479], [56.003884, -3.711355], [56.009123, -3.766765], [56.019663, -3.73965], [56.012867, -3.743675], [56.003034, -3.783969], [56.043898, -3.785694], [55.983342, -3.945125], [55.983811, -3.783404], [56.019251, -3.907299], [56.075362, -3.778633], [55.977083, -3.712896], [56.010045, -3.856957], [56.000708, -3.789474], [56.006582, -3.711153], [56.018596, -3.885606], [56.007222, -3.610295], [56.00315, -3.90827], [56.079196, -3.811591], [56.016024, -3.906819], [55.946734, -3.678406], [56.005366, -3.733875], [56.017796, -3.719029], [55.972975, -3.736752], [56.005266, -3.760013], [56.00918, -3.711749], [56.044806, -3.803557], [55.972095, -3.76075], [56.012332, -3.74333], [56.007565, -3.890041], [56.008822, -3.818401], [56.006532, -3.784451], [55.986587, -3.714438], [55.997798, -3.716057], [55.993623, -3.861301], [56.010967, -3.612536], [55.996282, -3.809474], [56.01808, -3.848519], [56.025738, -3.900398], [56.030597, -3.754425], [55.98368, -3.940814], [56.001631, -3.787753], [55.981558, -3.73345], [55.997699, -3.716694], [56.003205, -3.916292], [55.998355, -3.821277], [55.9938, -3.788674], [56.002585, -3.783948], [56.002851, -3.915954], [56.043771, -3.75695], [55.987752, -3.7403], [56.012344, -3.906477], [55.983493, -3.941286], [56.006882, -3.864023], [56.002112, -3.804133], [56.001631, -3.787753], [56.016711, -3.719463], [55.991803, -3.727014], [55.993534, -3.861296], [55.993534, -3.861296], [55.996426, -3.71776], [56.001318, -3.88717], [55.979546, -3.684154], [55.998533, -3.778309], [55.986465, -3.969169], [56.010637, -3.859392], [56.015635, -3.770111], [56.003594, -3.908613], [56.020719, -3.728465], [55.997034, -3.763808], [56.003049, -3.770497], [56.023357, -3.832082], [56.019492, -3.783123], [55.998192, -3.707094], [56.006582, -3.711153], [55.989197, -3.944297], [55.958966, -3.690789], [56.010969, -3.878979], [55.944165, -3.675732], [56.014643, -3.795252], [56.017114, -3.609744], [56.031652, -3.836327], [56.082088, -3.779586], [56.024776, -3.809042], [55.99703, -3.725965], [56.013622, -3.869963], [56.013639, -3.868841], [55.9756, -3.650328], [56.024645, -3.913021], [56.021306, -3.831022], [55.967226, -3.697879], [56.018906, -3.710254], [55.989648, -3.694533], [56.01277, -3.788107], [56.025636, -3.817748], [56.022843, -3.907476], [55.998379, -3.71945], [55.969469, -3.698138], [56.021761, -3.919297], [56.002224, -3.784092], [56.018596, -3.885606], [56.012243, -3.743326], [56.000034, -3.780142], [55.982283, -3.94395], [56.000478, -3.786737], [55.97117, -3.768881], [56.004452, -3.816111], [55.982617, -3.683005], [56.023027, -3.811848], [56.019552, -3.721995], [56.016622, -3.719459], [56.004112, -3.784018], [56.002634, -3.895093], [55.935007, -3.808537], [56.017795, -3.908511], [55.999708, -3.752705], [56.000579, -3.810637], [56.006173, -3.784434], [55.996281, -3.608557], [56.017743, -3.792187], [56.004117, -3.814492], [55.996995, -3.77904], [56.001483, -3.766898], [55.991446, -3.733251], [55.997901, -3.790948], [55.998155, -3.716233], [56.005376, -3.897954], [55.990796, -3.709013], [56.002119, -3.803653], [56.031778, -3.803431], [56.003327, -3.813171], [55.99703, -3.725965], [56.005973, -3.735506], [55.978322, -3.714233], [55.999431, -3.695443], [56.005659, -3.757625], [55.971262, -3.768725], [56.020778, -3.907374], [56.028138, -3.830864], [56.011621, -3.786771], [56.008246, -3.796399], [56.019362, -3.754558], [56.014217, -3.878174], [56.012312, -3.867493], [56.042763, -3.820319], [55.981204, -3.720291], [56.000372, -3.787855], [55.988213, -3.972304], [56.051018, -3.759206], [56.007041, -3.929635], [55.996482, -3.720168], [55.989866, -3.805808], [56.026354, -3.805585], [56.024003, -3.908015], [55.993153, -3.726914], [56.011877, -3.743791], [56.015651, -3.830594], [55.985279, -3.64561], [56.027364, -3.785572], [55.997032, -3.725804], [55.997212, -3.725812], [56.006226, -3.829828], [56.000239, -3.815432], [56.008505, -3.784702], [56.000879, -3.765106], [55.997302, -3.725816], [56.042505, -3.757534], [56.023351, -3.81427], [56.020332, -3.787173], [56.009653, -3.722999], [55.999658, -3.698499], [56.003177, -3.755267], [55.99726, -3.79172], [55.996725, -3.722103], [55.996792, -3.723709], [56.025762, -3.815346], [56.007372, -3.855385], [56.016015, -3.611302], [55.986693, -3.713321], [56.007207, -3.711502], [56.013711, -3.75382], [55.987285, -3.683368], [56.029806, -3.772043], [55.99217, -3.868286], [56.018852, -3.777638], [56.013972, -3.870622], [55.987779, -3.673451], [56.001316, -3.887331], [55.993534, -3.861296], [55.996461, -3.608564], [56.016532, -3.788923], [56.006305, -3.860627], [55.960482, -3.691656], [56.001964, -3.783438], [55.948709, -3.749599], [56.019712, -3.74254], [56.010897, -3.860046], [55.993029, -3.798419], [56.015218, -3.786616], [55.981644, -3.50088], [55.997214, -3.725652], [55.991465, -3.942968], [56.000491, -3.79203], [56.024538, -3.794588], [55.996965, -3.724198], [56.007826, -3.756922], [56.005094, -3.916225], [56.006743, -3.837391], [55.992043, -3.876617], [56.00875, -3.767711], [56.000329, -3.682332], [56.018115, -3.747442], [55.986558, -3.923484], [55.997469, -3.707383], [56.01871, -3.907433], [56.013435, -3.785571], [55.959827, -3.843818], [56.02093, -3.832128], [56.025192, -3.811308], [56.019163, -3.842152], [55.978225, -3.778178], [56.08919, -3.804184], [55.993429, -3.789459], [56.008056, -3.784681], [56.005968, -3.779934], [56.016539, -3.591752], [55.981039, -3.738396], [56.002663, -3.669283], [56.010138, -3.627739], [56.015426, -3.601331], [56.024086, -3.9085], [56.007314, -3.841268], [56.021543, -3.720961], [55.982394, -3.725152], [56.012023, -3.75246], [56.009793, -3.81957], [56.019702, -3.793401], [56.008896, -3.626564], [56.025497, -3.821111], [56.00587, -3.895091], [56.005022, -3.897616], [56.058269, -3.761142], [56.004159, -3.774558], [56.000728, -3.705603], [56.003555, -3.779021], [55.98902, -3.944128], [56.002836, -3.715639], [56.019793, -3.836085], [56.009918, -3.748836], [55.934848, -3.744811], [55.960213, -3.691645], [56.005087, -3.708842], [56.003914, -3.87607], [56.027035, -3.814283], [56.007052, -3.754481], [56.028412, -3.836655], [55.991425, -3.951143], [56.014754, -3.611571], [56.005758, -3.625951], [56.026723, -3.792604], [55.996018, -3.708281], [55.998284, -3.776854], [56.022639, -3.825951], [56.010194, -3.748367], [56.025783, -3.820001], [55.99543, -3.800134], [55.983677, -3.940974], [55.9908, -3.956563], [55.988485, -3.732958], [56.020654, -3.832596], [56.003354, -3.755436], [56.041972, -3.788334], [55.997031, -3.78273], [56.002215, -3.708555], [56.007503, -3.70959], [55.971956, -3.68719], [55.985167, -3.988501], [56.01144, -3.589938], [55.988564, -3.681821], [56.025161, -3.807295], [56.026939, -3.777689], [56.006443, -3.778191], [56.048158, -3.758113], [55.977963, -3.714217], [55.98396, -3.663508], [55.987591, -3.680657], [56.004677, -3.819169], [56.018023, -3.747598], [56.015471, -3.830586], [56.001185, -3.787572], [56.018221, -3.77777], [56.014383, -3.619255], [55.99543, -3.800134], [56.018178, -3.730277], [56.013448, -3.863698], [56.019882, -3.79341], [55.99773, -3.790299], [55.986791, -3.976881], [55.998893, -3.714823], [56.002197, -3.804458], [56.062924, -3.7371], [56.002096, -3.617458], [56.013134, -3.743848], [55.998842, -3.534579], [56.011292, -3.78467], [55.974896, -3.708632], [56.05572, -3.819163], [56.000621, -3.783056], [56.00051, -3.784494], [55.997026, -3.932182], [56.03375, -3.797584], [55.95374, -3.83616], [55.955323, -3.838478], [55.992443, -3.789253], [56.026957, -3.91458], [56.056913, -3.77425], [56.000359, -3.782562], [55.95275, -3.685393], [56.001328, -3.707714], [55.983088, -3.627885]],\n",
       "                {\n",
       "  &quot;minOpacity&quot;: 0.5,\n",
       "  &quot;maxZoom&quot;: 18,\n",
       "  &quot;radius&quot;: 25,\n",
       "  &quot;blur&quot;: 15,\n",
       "}\n",
       "            );\n",
       "        \n",
       "    \n",
       "            heat_map_93d6937d55fbc5ce63a6b848c5a12cfc.addTo(map_ca7cd6b280dcdf84606aab2cafc5f083);\n",
       "        \n",
       "    \n",
       "            tile_layer_8d755501f3dc4cdab1c9a19720a46bea.addTo(map_ca7cd6b280dcdf84606aab2cafc5f083);\n",
       "        \n",
       "    \n",
       "            heat_map_93d6937d55fbc5ce63a6b848c5a12cfc.addTo(map_ca7cd6b280dcdf84606aab2cafc5f083);\n",
       "        \n",
       "&lt;/script&gt;\n",
       "&lt;/html&gt;\" style=\"position:absolute;width:100%;height:100%;left:0;top:0;border:none !important;\" allowfullscreen webkitallowfullscreen mozallowfullscreen></iframe></div></div>"
      ],
      "text/plain": [
       "<folium.folium.Map at 0x2325dadde50>"
      ]
     },
     "execution_count": 198,
     "metadata": {},
     "output_type": "execute_result"
    }
   ],
   "source": [
    "import folium\n",
    "from folium.plugins import HeatMap\n",
    "\n",
    "Falkirk_df = accident[accident['District Area'] == 'Falkirk']\n",
    "\n",
    "loc = list(zip(Falkirk_df['Latitude'], Falkirk_df['Longitude']))\n",
    "Fal_map = folium.Map(location=[Falkirk_df['Latitude'].mean(),Falkirk_df['Longitude'].mean()], zoom_start=10)\n",
    "HeatMap(loc).add_to(Fal_map)\n",
    "\n",
    "Fal_map.save(\"Fal_heatmap.html\")\n",
    "\n",
    "Fal_map"
   ]
  },
  {
   "cell_type": "markdown",
   "id": "c9e2298e-519f-4e76-a4b3-92441a2e9f19",
   "metadata": {},
   "source": [
    "<h3>INSIGHT #32</h3>"
   ]
  },
  {
   "cell_type": "markdown",
   "id": "97a9d6cd-3d07-4757-8b39-6cf9ac1d3806",
   "metadata": {},
   "source": [
    "<H3>Accidents are highly concentrated in central and southern Falkirk, especially along major transport routes, while rural areas see fewer incidents.</H3>"
   ]
  },
  {
   "cell_type": "code",
   "execution_count": 187,
   "id": "4d2dc27e-8276-4e13-9b65-43302c9e8899",
   "metadata": {},
   "outputs": [
    {
     "data": {
      "text/html": [
       "<div style=\"width:100%;\"><div style=\"position:relative;width:100%;height:0;padding-bottom:60%;\"><span style=\"color:#565656\">Make this Notebook Trusted to load map: File -> Trust Notebook</span><iframe srcdoc=\"&lt;!DOCTYPE html&gt;\n",
       "&lt;html&gt;\n",
       "&lt;head&gt;\n",
       "    \n",
       "    &lt;meta http-equiv=&quot;content-type&quot; content=&quot;text/html; charset=UTF-8&quot; /&gt;\n",
       "    &lt;script src=&quot;https://cdn.jsdelivr.net/npm/leaflet@1.9.3/dist/leaflet.js&quot;&gt;&lt;/script&gt;\n",
       "    &lt;script src=&quot;https://code.jquery.com/jquery-3.7.1.min.js&quot;&gt;&lt;/script&gt;\n",
       "    &lt;script src=&quot;https://cdn.jsdelivr.net/npm/bootstrap@5.2.2/dist/js/bootstrap.bundle.min.js&quot;&gt;&lt;/script&gt;\n",
       "    &lt;script src=&quot;https://cdnjs.cloudflare.com/ajax/libs/Leaflet.awesome-markers/2.0.2/leaflet.awesome-markers.js&quot;&gt;&lt;/script&gt;\n",
       "    &lt;link rel=&quot;stylesheet&quot; href=&quot;https://cdn.jsdelivr.net/npm/leaflet@1.9.3/dist/leaflet.css&quot;/&gt;\n",
       "    &lt;link rel=&quot;stylesheet&quot; href=&quot;https://cdn.jsdelivr.net/npm/bootstrap@5.2.2/dist/css/bootstrap.min.css&quot;/&gt;\n",
       "    &lt;link rel=&quot;stylesheet&quot; href=&quot;https://netdna.bootstrapcdn.com/bootstrap/3.0.0/css/bootstrap-glyphicons.css&quot;/&gt;\n",
       "    &lt;link rel=&quot;stylesheet&quot; href=&quot;https://cdn.jsdelivr.net/npm/@fortawesome/fontawesome-free@6.2.0/css/all.min.css&quot;/&gt;\n",
       "    &lt;link rel=&quot;stylesheet&quot; href=&quot;https://cdnjs.cloudflare.com/ajax/libs/Leaflet.awesome-markers/2.0.2/leaflet.awesome-markers.css&quot;/&gt;\n",
       "    &lt;link rel=&quot;stylesheet&quot; href=&quot;https://cdn.jsdelivr.net/gh/python-visualization/folium/folium/templates/leaflet.awesome.rotate.min.css&quot;/&gt;\n",
       "    \n",
       "            &lt;meta name=&quot;viewport&quot; content=&quot;width=device-width,\n",
       "                initial-scale=1.0, maximum-scale=1.0, user-scalable=no&quot; /&gt;\n",
       "            &lt;style&gt;\n",
       "                #map_a363ba151c91323938d435b47e925898 {\n",
       "                    position: relative;\n",
       "                    width: 100.0%;\n",
       "                    height: 100.0%;\n",
       "                    left: 0.0%;\n",
       "                    top: 0.0%;\n",
       "                }\n",
       "                .leaflet-container { font-size: 1rem; }\n",
       "            &lt;/style&gt;\n",
       "\n",
       "            &lt;style&gt;html, body {\n",
       "                width: 100%;\n",
       "                height: 100%;\n",
       "                margin: 0;\n",
       "                padding: 0;\n",
       "            }\n",
       "            &lt;/style&gt;\n",
       "\n",
       "            &lt;style&gt;#map {\n",
       "                position:absolute;\n",
       "                top:0;\n",
       "                bottom:0;\n",
       "                right:0;\n",
       "                left:0;\n",
       "                }\n",
       "            &lt;/style&gt;\n",
       "\n",
       "            &lt;script&gt;\n",
       "                L_NO_TOUCH = false;\n",
       "                L_DISABLE_3D = false;\n",
       "            &lt;/script&gt;\n",
       "\n",
       "        \n",
       "    &lt;script src=&quot;https://cdn.jsdelivr.net/gh/python-visualization/folium@main/folium/templates/leaflet_heat.min.js&quot;&gt;&lt;/script&gt;\n",
       "&lt;/head&gt;\n",
       "&lt;body&gt;\n",
       "    \n",
       "    \n",
       "            &lt;div class=&quot;folium-map&quot; id=&quot;map_a363ba151c91323938d435b47e925898&quot; &gt;&lt;/div&gt;\n",
       "        \n",
       "&lt;/body&gt;\n",
       "&lt;script&gt;\n",
       "    \n",
       "    \n",
       "            var map_a363ba151c91323938d435b47e925898 = L.map(\n",
       "                &quot;map_a363ba151c91323938d435b47e925898&quot;,\n",
       "                {\n",
       "                    center: [57.727316210526325, -4.106611684210527],\n",
       "                    crs: L.CRS.EPSG3857,\n",
       "                    ...{\n",
       "  &quot;zoom&quot;: 9,\n",
       "  &quot;zoomControl&quot;: true,\n",
       "  &quot;preferCanvas&quot;: false,\n",
       "}\n",
       "\n",
       "                }\n",
       "            );\n",
       "\n",
       "            \n",
       "\n",
       "        \n",
       "    \n",
       "            var tile_layer_99a1e2f2662d91cf51bb8363739f9c5c = L.tileLayer(\n",
       "                &quot;https://tile.openstreetmap.org/{z}/{x}/{y}.png&quot;,\n",
       "                {\n",
       "  &quot;minZoom&quot;: 0,\n",
       "  &quot;maxZoom&quot;: 19,\n",
       "  &quot;maxNativeZoom&quot;: 19,\n",
       "  &quot;noWrap&quot;: false,\n",
       "  &quot;attribution&quot;: &quot;\\u0026copy; \\u003ca href=\\&quot;https://www.openstreetmap.org/copyright\\&quot;\\u003eOpenStreetMap\\u003c/a\\u003e contributors&quot;,\n",
       "  &quot;subdomains&quot;: &quot;abc&quot;,\n",
       "  &quot;detectRetina&quot;: false,\n",
       "  &quot;tms&quot;: false,\n",
       "  &quot;opacity&quot;: 1,\n",
       "}\n",
       "\n",
       "            );\n",
       "        \n",
       "    \n",
       "            tile_layer_99a1e2f2662d91cf51bb8363739f9c5c.addTo(map_a363ba151c91323938d435b47e925898);\n",
       "        \n",
       "    \n",
       "            var heat_map_0438a2c579afc237cf9a10e93d33ac9d = L.heatLayer(\n",
       "                [[57.479262, -6.345396], [57.698206, -4.143577], [58.595396, -3.658035], [58.320931, -3.203144], [58.006917, -4.395937], [57.545519, -3.886443], [57.305781, -3.574669], [57.100234, -4.993506], [58.180308, -5.004196], [57.415749, -4.093071], [57.281897, -3.684469], [57.265069, -3.517216], [57.3121, -4.359677], [57.558948, -4.335335], [58.044708, -3.82356], [58.249523, -3.421541], [58.030243, -3.848566], [58.548771, -3.481927], [56.879446, -4.255357]],\n",
       "                {\n",
       "  &quot;minOpacity&quot;: 0.5,\n",
       "  &quot;maxZoom&quot;: 18,\n",
       "  &quot;radius&quot;: 25,\n",
       "  &quot;blur&quot;: 15,\n",
       "}\n",
       "            );\n",
       "        \n",
       "    \n",
       "            heat_map_0438a2c579afc237cf9a10e93d33ac9d.addTo(map_a363ba151c91323938d435b47e925898);\n",
       "        \n",
       "    \n",
       "            tile_layer_99a1e2f2662d91cf51bb8363739f9c5c.addTo(map_a363ba151c91323938d435b47e925898);\n",
       "        \n",
       "    \n",
       "            heat_map_0438a2c579afc237cf9a10e93d33ac9d.addTo(map_a363ba151c91323938d435b47e925898);\n",
       "        \n",
       "&lt;/script&gt;\n",
       "&lt;/html&gt;\" style=\"position:absolute;width:100%;height:100%;left:0;top:0;border:none !important;\" allowfullscreen webkitallowfullscreen mozallowfullscreen></iframe></div></div>"
      ],
      "text/plain": [
       "<folium.folium.Map at 0x2325330b050>"
      ]
     },
     "execution_count": 187,
     "metadata": {},
     "output_type": "execute_result"
    }
   ],
   "source": [
    "import folium\n",
    "from folium.plugins import HeatMap\n",
    "\n",
    "\n",
    "Highland_df = accident[(accident['District Area'] == 'Highland') & (accident['Weather_Conditions'] == 'Snowing + high winds')]\n",
    "loc = list(zip(Highland_df['Latitude'], Highland_df['Longitude']))\n",
    "Highland_map = folium.Map(location=[Highland_df['Latitude'].mean(),Highland_df['Longitude'].mean()],zoom_start=9)\n",
    "HeatMap(loc).add_to(Highland_map)\n",
    "\n",
    "Highland_map.save(\"highland_heatmap.html\")\n",
    "\n",
    "Highland_map"
   ]
  },
  {
   "cell_type": "markdown",
   "id": "3a2fe18e-0833-4f6f-a25c-15c575e1862b",
   "metadata": {},
   "source": [
    "<h3>Insight #33</h3>"
   ]
  },
  {
   "cell_type": "markdown",
   "id": "aad240aa-c95e-450d-b213-8fe8e6636a4f",
   "metadata": {},
   "source": [
    "<h3>Severe weather in the Highlands makes major roads around Inverness, Skye, and northern routes the most accident-prone areas.</h3>"
   ]
  },
  {
   "cell_type": "code",
   "execution_count": 188,
   "id": "779bc731-51fd-42b7-a606-6095d1071fe4",
   "metadata": {},
   "outputs": [
    {
     "data": {
      "text/html": [
       "<div style=\"width:100%;\"><div style=\"position:relative;width:100%;height:0;padding-bottom:60%;\"><span style=\"color:#565656\">Make this Notebook Trusted to load map: File -> Trust Notebook</span><iframe srcdoc=\"&lt;!DOCTYPE html&gt;\n",
       "&lt;html&gt;\n",
       "&lt;head&gt;\n",
       "    \n",
       "    &lt;meta http-equiv=&quot;content-type&quot; content=&quot;text/html; charset=UTF-8&quot; /&gt;\n",
       "    &lt;script src=&quot;https://cdn.jsdelivr.net/npm/leaflet@1.9.3/dist/leaflet.js&quot;&gt;&lt;/script&gt;\n",
       "    &lt;script src=&quot;https://code.jquery.com/jquery-3.7.1.min.js&quot;&gt;&lt;/script&gt;\n",
       "    &lt;script src=&quot;https://cdn.jsdelivr.net/npm/bootstrap@5.2.2/dist/js/bootstrap.bundle.min.js&quot;&gt;&lt;/script&gt;\n",
       "    &lt;script src=&quot;https://cdnjs.cloudflare.com/ajax/libs/Leaflet.awesome-markers/2.0.2/leaflet.awesome-markers.js&quot;&gt;&lt;/script&gt;\n",
       "    &lt;link rel=&quot;stylesheet&quot; href=&quot;https://cdn.jsdelivr.net/npm/leaflet@1.9.3/dist/leaflet.css&quot;/&gt;\n",
       "    &lt;link rel=&quot;stylesheet&quot; href=&quot;https://cdn.jsdelivr.net/npm/bootstrap@5.2.2/dist/css/bootstrap.min.css&quot;/&gt;\n",
       "    &lt;link rel=&quot;stylesheet&quot; href=&quot;https://netdna.bootstrapcdn.com/bootstrap/3.0.0/css/bootstrap-glyphicons.css&quot;/&gt;\n",
       "    &lt;link rel=&quot;stylesheet&quot; href=&quot;https://cdn.jsdelivr.net/npm/@fortawesome/fontawesome-free@6.2.0/css/all.min.css&quot;/&gt;\n",
       "    &lt;link rel=&quot;stylesheet&quot; href=&quot;https://cdnjs.cloudflare.com/ajax/libs/Leaflet.awesome-markers/2.0.2/leaflet.awesome-markers.css&quot;/&gt;\n",
       "    &lt;link rel=&quot;stylesheet&quot; href=&quot;https://cdn.jsdelivr.net/gh/python-visualization/folium/folium/templates/leaflet.awesome.rotate.min.css&quot;/&gt;\n",
       "    \n",
       "            &lt;meta name=&quot;viewport&quot; content=&quot;width=device-width,\n",
       "                initial-scale=1.0, maximum-scale=1.0, user-scalable=no&quot; /&gt;\n",
       "            &lt;style&gt;\n",
       "                #map_ca4d80721ee4cbde145bb9cfca8c5de3 {\n",
       "                    position: relative;\n",
       "                    width: 100.0%;\n",
       "                    height: 100.0%;\n",
       "                    left: 0.0%;\n",
       "                    top: 0.0%;\n",
       "                }\n",
       "                .leaflet-container { font-size: 1rem; }\n",
       "            &lt;/style&gt;\n",
       "\n",
       "            &lt;style&gt;html, body {\n",
       "                width: 100%;\n",
       "                height: 100%;\n",
       "                margin: 0;\n",
       "                padding: 0;\n",
       "            }\n",
       "            &lt;/style&gt;\n",
       "\n",
       "            &lt;style&gt;#map {\n",
       "                position:absolute;\n",
       "                top:0;\n",
       "                bottom:0;\n",
       "                right:0;\n",
       "                left:0;\n",
       "                }\n",
       "            &lt;/style&gt;\n",
       "\n",
       "            &lt;script&gt;\n",
       "                L_NO_TOUCH = false;\n",
       "                L_DISABLE_3D = false;\n",
       "            &lt;/script&gt;\n",
       "\n",
       "        \n",
       "    &lt;script src=&quot;https://cdn.jsdelivr.net/gh/python-visualization/folium@main/folium/templates/leaflet_heat.min.js&quot;&gt;&lt;/script&gt;\n",
       "&lt;/head&gt;\n",
       "&lt;body&gt;\n",
       "    \n",
       "    \n",
       "            &lt;div class=&quot;folium-map&quot; id=&quot;map_ca4d80721ee4cbde145bb9cfca8c5de3&quot; &gt;&lt;/div&gt;\n",
       "        \n",
       "&lt;/body&gt;\n",
       "&lt;script&gt;\n",
       "    \n",
       "    \n",
       "            var map_ca4d80721ee4cbde145bb9cfca8c5de3 = L.map(\n",
       "                &quot;map_ca4d80721ee4cbde145bb9cfca8c5de3&quot;,\n",
       "                {\n",
       "                    center: [57.301687184974085, -2.328926336787565],\n",
       "                    crs: L.CRS.EPSG3857,\n",
       "                    ...{\n",
       "  &quot;zoom&quot;: 10,\n",
       "  &quot;zoomControl&quot;: true,\n",
       "  &quot;preferCanvas&quot;: false,\n",
       "}\n",
       "\n",
       "                }\n",
       "            );\n",
       "\n",
       "            \n",
       "\n",
       "        \n",
       "    \n",
       "            var tile_layer_cdd683b00a7018ed3a736f9c45cf13c5 = L.tileLayer(\n",
       "                &quot;https://tile.openstreetmap.org/{z}/{x}/{y}.png&quot;,\n",
       "                {\n",
       "  &quot;minZoom&quot;: 0,\n",
       "  &quot;maxZoom&quot;: 19,\n",
       "  &quot;maxNativeZoom&quot;: 19,\n",
       "  &quot;noWrap&quot;: false,\n",
       "  &quot;attribution&quot;: &quot;\\u0026copy; \\u003ca href=\\&quot;https://www.openstreetmap.org/copyright\\&quot;\\u003eOpenStreetMap\\u003c/a\\u003e contributors&quot;,\n",
       "  &quot;subdomains&quot;: &quot;abc&quot;,\n",
       "  &quot;detectRetina&quot;: false,\n",
       "  &quot;tms&quot;: false,\n",
       "  &quot;opacity&quot;: 1,\n",
       "}\n",
       "\n",
       "            );\n",
       "        \n",
       "    \n",
       "            tile_layer_cdd683b00a7018ed3a736f9c45cf13c5.addTo(map_ca4d80721ee4cbde145bb9cfca8c5de3);\n",
       "        \n",
       "    \n",
       "            var heat_map_8435de93aa3fb4cf479939a7aae89184 = L.heatLayer(\n",
       "                [[57.539095, -2.461152], [56.913628, -2.338284], [57.450062, -1.813337], [57.525384, -1.980093], [57.676661, -2.581943], [57.319697, -2.66911], [57.635406, -2.163421], [57.058749, -2.466557], [57.516998, -2.276742], [57.689586, -2.010026], [57.391938, -2.804521], [57.347926, -2.553635], [57.044269, -2.494393], [57.573889, -1.973379], [57.67116, -1.943802], [57.328683, -2.291933], [57.573889, -1.973379], [57.434209, -1.981642], [57.039878, -3.169179], [57.146161, -2.664983], [56.966512, -2.277417], [57.574254, -1.852161], [57.238849, -2.32966], [57.401084, -2.685902], [57.595745, -2.197372], [57.234862, -2.455525], [57.044434, -2.151588], [57.285007, -2.396924], [57.337425, -2.317086], [57.070659, -2.973541], [57.360379, -2.580918], [57.415129, -2.712468], [57.141675, -2.320202], [57.425199, -1.915039], [57.303859, -2.050252], [57.290179, -2.380223], [57.270098, -2.396266], [57.125388, -2.685587], [57.337399, -2.198144], [57.379683, -2.521683], [57.508038, -1.780497], [57.066682, -2.50574], [57.378245, -2.214329], [57.36609, -2.087909], [57.053825, -2.570848], [57.362338, -1.950093], [57.367885, -2.090573], [57.384742, -2.126709], [57.673253, -2.688183], [57.483675, -2.460286], [56.847595, -2.477042], [57.484405, -2.693468], [57.485996, -2.281845], [57.627681, -2.062921], [56.911832, -2.338268], [57.052187, -2.24723], [57.508403, -1.84475], [57.697562, -2.068914], [57.110027, -2.420642], [57.50729, -1.819053], [57.058028, -2.513207], [57.692101, -2.004324], [57.077091, -2.894032], [57.301031, -2.242259], [57.692011, -2.006672], [57.139084, -2.3486], [57.113479, -2.880707], [57.285814, -2.212299], [57.382087, -1.923455], [57.695604, -2.010028], [57.319531, -2.442127], [57.079994, -2.267211], [56.984644, -2.188697], [57.484405, -2.693468], [57.505516, -1.776674], [57.151397, -2.312518], [56.922859, -2.312248], [57.09092, -2.239732], [56.964015, -2.223293], [57.43969, -1.988302], [57.690215, -2.004995], [57.304288, -2.378377], [56.837811, -2.450693], [57.061723, -2.439058], [57.626881, -2.478673], [57.057105, -2.42367], [57.374461, -2.059494], [57.617967, -2.085503], [57.660663, -2.00432], [57.31813, -2.270763], [57.382967, -2.103085], [56.918313, -2.208894], [57.227919, -2.382563], [57.326217, -2.166032], [57.66201, -2.522209], [57.546254, -2.514705], [57.34792, -2.191554], [57.234359, -2.391741], [57.685271, -2.031995], [57.525116, -2.001967], [57.664038, -2.592133], [57.498214, -2.412082], [57.303859, -2.050252], [57.435926, -1.856716], [57.474378, -1.795539], [57.218598, -2.074311], [56.894548, -2.381612], [57.225696, -2.072835], [57.161117, -2.30483], [57.451924, -2.949654], [57.161117, -2.30483], [57.668276, -2.527496], [57.303859, -2.050252], [57.629927, -2.642652], [57.50624, -1.779673], [57.681767, -2.691866], [57.667704, -2.467309], [57.08338, -2.800964], [57.492286, -1.816959], [57.238209, -2.449271], [57.146441, -2.280911], [57.453928, -2.106617], [57.589672, -2.459951], [57.663984, -2.522908], [57.517471, -1.950883], [57.358723, -2.08972], [57.350601, -2.3285], [57.490063, -1.832817], [57.683917, -2.05195], [56.925306, -2.30389], [56.88639, -2.431748], [57.441287, -2.785279], [56.944582, -2.352536], [57.13004, -2.36999], [57.408009, -2.700679], [57.003054, -3.338429], [57.23549, -2.403184], [57.062077, -2.355628], [56.837811, -2.450693], [57.442295, -1.989967], [57.066682, -2.50574], [57.573889, -1.973379], [57.565488, -2.112627], [56.774131, -2.420477], [57.498285, -1.803914], [57.653387, -1.998287], [57.112669, -2.409444], [56.835341, -2.462628], [57.515498, -2.427969], [57.68841, -2.045248], [57.447081, -2.792401], [56.96367, -2.214739], [56.844134, -2.489129], [57.423018, -1.883574], [57.487479, -2.000297], [57.174082, -2.292532], [57.050756, -3.148914], [57.214894, -2.856133], [57.250929, -2.0878], [57.585091, -2.085259], [57.647965, -2.680165], [57.087244, -2.711449], [57.115947, -2.395775], [56.951078, -2.223709], [57.10332, -2.185008], [57.546254, -2.514705], [56.980967, -2.237873], [57.288364, -2.386342], [57.236289, -2.406174], [57.100754, -2.303013], [57.522152, -2.000464], [57.662754, -2.493559], [57.363838, -2.096548], [57.663459, -2.20612], [57.444036, -2.791003], [57.278866, -2.087701], [56.939548, -3.410775], [57.343749, -2.824403], [56.788279, -2.379059], [57.007034, -2.174157], [57.350601, -2.3285], [57.488134, -2.861016], [57.505722, -1.792526], [57.64521, -2.026431], [57.253668, -2.138524], [57.038862, -2.153708], [57.600294, -2.263989], [57.284162, -2.379829], [57.610214, -2.120464], [57.509039, -1.788502], [57.506599, -1.779504], [57.44611, -2.789715], [57.448472, -2.785433], [57.276895, -2.376769], [57.678827, -2.780347], [57.137961, -2.364616], [57.542445, -2.428284], [56.918313, -2.208894], [57.24345, -2.630279], [57.15365, -2.723964], [57.559875, -2.153724], [57.278866, -2.087701], [57.661186, -1.936611], [57.660663, -2.00432], [57.303864, -2.035314], [57.427045, -1.867575], [57.507824, -1.893151], [57.10332, -2.185008], [57.270539, -2.369408], [57.538366, -2.105194], [57.184449, -2.507017], [57.030769, -2.15977], [56.920477, -2.330297], [57.377886, -2.026738], [57.214002, -2.380432], [56.982213, -2.192469], [57.373371, -2.080942], [57.141335, -2.433555], [57.378245, -2.214329], [56.75336, -2.451317], [57.510773, -2.19491], [57.600808, -1.911618], [57.201935, -2.327013], [57.489401, -1.809634], [57.697372, -2.085522], [56.845333, -2.481112], [57.544346, -2.423796], [57.461786, -1.976461], [57.379853, -2.340902], [57.43978, -1.988469], [57.597657, -2.098672], [57.542445, -2.428284], [57.20169, -2.590837], [57.140374, -2.794924], [57.228407, -2.15433], [57.664038, -2.592133], [56.761486, -2.439964], [57.233025, -2.32381], [57.073156, -2.345342], [57.454871, -1.999963], [57.52938, -2.110177], [57.225319, -2.098504], [57.178464, -2.301003], [57.542445, -2.428284], [57.106378, -2.868322], [57.328768, -2.293926], [57.596376, -2.326196], [57.062043, -2.397015], [57.299694, -2.236773], [57.542445, -2.428284], [57.291723, -2.430843], [56.890958, -2.408986], [56.837811, -2.450693], [57.344211, -2.365661], [57.31285, -2.152359], [57.417653, -2.086701], [57.239603, -2.277808], [57.220305, -2.074977], [56.995287, -2.217884], [57.374461, -2.059494], [57.441565, -1.839702], [56.872901, -2.408789], [57.062043, -2.397015], [57.507325, -1.844754], [57.300214, -2.358752], [57.660983, -2.592251], [57.291723, -2.430843], [57.033199, -2.155991], [57.634956, -2.064943], [57.364663, -2.072279], [57.350601, -2.3285], [56.785799, -2.423881], [57.454966, -2.809738], [57.345249, -2.089687], [56.966512, -2.277417], [57.285955, -2.380843], [56.933523, -2.285882], [57.296314, -2.158431], [57.676166, -2.681196], [57.501885, -1.808234], [57.497808, -1.994791], [57.231178, -2.067876], [57.164511, -2.274599], [57.511017, -1.789492], [57.559698, -1.986258], [56.929404, -3.417951], [57.35301, -2.561689], [57.220725, -2.240904], [57.652555, -2.527771], [57.578957, -2.534899], [56.844134, -2.489129], [57.694975, -2.014389], [57.487085, -1.823156], [57.302096, -2.129246], [57.681794, -2.130762], [56.788279, -2.379059], [57.109201, -2.425916], [57.449674, -1.860662], [57.389437, -2.100109], [56.96476, -2.207838], [57.251899, -2.412644], [57.380314, -1.990816], [57.49854, -1.79507], [57.573889, -1.973379], [56.863067, -2.421474], [57.52089, -2.153893], [57.009923, -2.221921], [57.141263, -2.603094], [57.504555, -2.780963], [56.77406, -2.414913], [57.508526, -2.417539], [57.534603, -2.092991], [57.09939, -2.168318], [57.091458, -2.240065], [57.444417, -2.773017], [57.495266, -2.678491], [57.161117, -2.30483], [57.573889, -1.973379], [56.837811, -2.450693], [57.507335, -1.853766], [57.508069, -1.799523], [57.054113, -2.481006], [57.325823, -2.285433], [57.239501, -2.112128], [57.248995, -2.205458], [57.256547, -2.134225], [57.228528, -2.649735], [57.026908, -2.217904], [57.077526, -2.120382], [57.171075, -3.2317], [57.451924, -2.949654], [57.525371, -2.060741], [57.610242, -2.085485], [57.509409, -1.794675], [56.785834, -2.5725], [56.826176, -2.645211], [57.487114, -1.84484], [57.550068, -2.481508], [57.497866, -2.895283], [56.928021, -2.205827], [57.510387, -1.788494], [57.612058, -1.951425], [57.559875, -2.153389], [57.168748, -3.230795], [57.20704, -2.448561], [57.010358, -2.229334], [57.225766, -2.10099], [56.9777, -2.205607], [57.079814, -2.341445], [57.231066, -2.101667], [57.660663, -2.00432], [56.915823, -2.38692], [57.553411, -2.002636], [57.664937, -2.097682], [57.682128, -2.026794], [57.668133, -2.540066], [57.002549, -2.566605], [57.291723, -2.430843], [57.082369, -2.514203], [57.051088, -3.049684], [56.96661, -2.228572], [57.297606, -2.127903], [57.364393, -2.072444], [57.509019, -1.776652], [57.080728, -2.212446], [57.155943, -2.289579], [57.255484, -2.119801], [57.350601, -2.3285], [56.926749, -2.301437], [57.547274, -2.378887], [57.683834, -2.812655], [57.268382, -2.369552], [57.218417, -2.169191], [57.501143, -1.793554], [56.994804, -2.182659], [57.611838, -2.533875], [57.435814, -2.373237], [57.333243, -1.995644], [57.394579, -2.164677], [57.301031, -2.242259], [57.649884, -2.639487], [57.211373, -2.28786], [57.256974, -2.369603], [57.595037, -2.466711], [57.594243, -2.317143], [57.024323, -2.393812], [57.657051, -2.457452], [57.297666, -2.036304], [57.349659, -2.624786], [57.238107, -2.263383], [57.349659, -2.624786], [57.668995, -2.527339], [57.680873, -2.001807], [57.230773, -2.700131], [57.221463, -2.347555], [57.010913, -3.300341], [57.61565, -1.948073], [57.255501, -2.180632], [57.036079, -2.151719], [57.347934, -2.663475], [57.506971, -1.994956], [57.680693, -2.005161], [56.842308, -2.449108], [57.490405, -2.743961], [56.834634, -2.568656], [57.20423, -2.307502], [57.101495, -2.293611], [57.609407, -2.118787], [57.282565, -2.373177], [57.004614, -2.226829], [57.54193, -2.363129], [57.510612, -2.182224], [57.365028, -2.061473], [57.670419, -2.093841], [57.331739, -2.833767], [57.340705, -2.836463], [57.055776, -2.249232], [57.368811, -2.036541], [57.354491, -2.437561], [56.888891, -2.549784], [57.625541, -1.993265], [57.456654, -2.059627], [57.698012, -2.067573], [57.011075, -3.409859], [57.223905, -2.16226], [57.522018, -1.816309], [57.081923, -2.246603], [57.684238, -2.110311], [57.656082, -2.000298], [57.48122, -2.777463], [56.998065, -2.221851], [57.225766, -2.10099], [57.504653, -1.797539], [57.697562, -2.068914], [57.378245, -2.214329], [57.678377, -2.687442], [57.279653, -2.385422], [57.51707, -1.811326], [57.682927, -2.056309], [57.364937, -2.063967], [57.263459, -2.139224], [57.112706, -2.425295], [57.378245, -2.214329], [57.518796, -2.089444], [57.558456, -2.618162], [56.788917, -2.566327], [56.828886, -2.459107], [56.955596, -3.405791], [57.206653, -2.308515], [57.539455, -2.460989], [57.491436, -2.424351], [56.817257, -2.576911], [57.322031, -2.44664], [57.476412, -2.62428], [57.677933, -2.291381], [56.909908, -2.351717], [57.548313, -2.130952], [57.180303, -2.464117], [57.687789, -2.015393], [57.624912, -1.995275], [57.243604, -2.734343], [57.543792, -2.339759], [57.284056, -2.647561], [57.062013, -2.642536], [57.51038, -1.784655], [57.542911, -2.449172], [57.574787, -2.026715], [57.56221, -2.54418], [57.602388, -2.32876], [57.202656, -2.699929], [57.525385, -2.003803], [57.67116, -1.943802], [57.056189, -2.428606], [57.280953, -2.371502], [57.494575, -1.998962], [57.255429, -2.073722], [57.461569, -2.410336], [56.800263, -2.539972], [56.918313, -2.208894], [57.506965, -2.783351], [57.059287, -2.415781], [57.678301, -2.748476], [57.624373, -1.993601], [57.40123, -2.675421], [57.332922, -2.241472], [57.371222, -2.069797], [57.670151, -2.485445], [57.101959, -2.19375], [57.350601, -2.3285], [57.664715, -2.519734], [57.288044, -2.402597], [57.482245, -2.077848], [57.429656, -1.873395], [57.460216, -2.72968], [57.319287, -2.275752], [57.241655, -2.113791], [57.026539, -2.166012], [57.699888, -2.084186], [57.048946, -3.160068], [57.693358, -2.010027], [57.024022, -2.166989], [57.086589, -2.536041], [57.419835, -1.846956], [57.635226, -2.163756], [57.343091, -2.626834], [57.66201, -2.004991], [57.37555, -2.026403], [57.352488, -2.328185], [57.500936, -1.835771], [57.649092, -2.580162], [57.221193, -2.918215], [57.291374, -2.048078], [57.268914, -2.054681], [57.376719, -2.023744], [57.342166, -2.614025], [57.114966, -2.140318], [57.4034, -1.991975], [57.292855, -2.648546], [57.286312, -2.381676], [57.087648, -2.734723], [57.652262, -2.186285], [56.911831, -2.338597], [57.361744, -2.127794], [56.932998, -2.279469], [56.966512, -2.277417], [56.937622, -2.260112], [56.944019, -2.328533], [57.153095, -2.277986], [56.869022, -2.413668], [57.448022, -2.78559], [57.609014, -2.476262], [57.506946, -1.77266], [57.589371, -1.87652], [56.969791, -2.579102], [57.161117, -2.30483], [57.593874, -2.465525], [57.225497, -2.101155], [57.562858, -2.61807], [57.181897, -2.470258], [57.403435, -2.649], [57.084707, -2.246951], [56.935444, -2.270285], [57.286134, -2.381342], [57.071538, -2.504487], [57.153236, -2.295012], [56.920198, -2.20989], [57.66304, -2.512], [57.16273, -3.221501], [57.106995, -2.117175], [57.094075, -2.315831], [57.659475, -2.071523], [57.663544, -2.520555], [57.112607, -2.159462], [57.693448, -2.012208], [56.867398, -2.415946], [57.384295, -2.595767], [57.549355, -2.546328], [57.58872, -2.619846], [57.055035, -2.151137], [56.761391, -2.441435], [57.491425, -2.865764], [57.530483, -2.075111], [57.460623, -1.788782], [57.33212, -2.383645], [57.421122, -2.444183], [56.772508, -2.422259], [57.50499, -1.78402], [57.24374, -2.0906], [57.054322, -2.518596], [57.081143, -2.506432], [57.287957, -2.219611], [57.276436, -2.379915], [56.96368, -2.209312], [57.539365, -2.460988], [57.694525, -2.016402], [57.300267, -2.427789], [57.441287, -2.785279], [57.053922, -2.528317], [57.445303, -2.775035], [57.438942, -2.757409], [57.691562, -2.003821], [57.438336, -2.797376], [57.507915, -2.664706], [57.612803, -2.580085], [57.36154, -2.582432], [57.666591, -2.008009], [57.537558, -2.463972], [56.912729, -2.217731], [57.397665, -2.617449], [57.519715, -1.946707], [57.691293, -2.00684], [57.420306, -2.446171], [57.275057, -2.36], [57.558885, -1.844535], [57.49621, -1.797919], [57.0752, -2.109817], [57.502731, -1.776691], [57.054047, -2.150968], [57.273933, -2.344401], [57.447007, -3.015677], [56.942234, -2.244858], [56.872812, -2.408788], [57.254437, -2.08035], [57.125522, -2.378699], [57.180571, -2.532273], [57.544295, -2.319048], [57.221653, -2.074317], [57.403892, -2.803452], [57.509574, -1.786162], [57.434939, -2.496651], [57.535921, -2.444409], [56.869652, -2.413346], [57.331467, -2.328661], [57.334713, -2.324039], [57.414609, -1.930046], [56.842039, -2.449105], [57.681052, -2.009856], [57.133014, -2.298982], [57.602636, -2.583605], [57.289861, -2.396146], [57.17731, -2.447043], [57.059431, -2.620068], [57.235737, -2.181198], [57.236184, -2.410812], [57.343729, -2.078717], [57.678111, -2.130581], [57.514526, -1.79281], [57.081659, -2.512048], [56.960966, -2.22015], [57.088798, -2.690523], [57.058342, -3.124746], [57.079233, -2.120882], [57.34498, -2.31333], [57.100999, -2.813064], [56.949726, -2.226002], [57.536034, -2.46295], [57.294283, -2.389723], [57.441143, -2.779445], [57.441143, -2.779445], [56.799456, -2.334472], [57.444215, -2.791007], [57.651593, -2.542837], [57.230044, -2.2032], [57.154093, -2.693226], [57.683923, -2.031826], [56.961787, -2.212591], [57.562399, -2.620068], [57.057573, -3.130328], [57.367552, -2.038368], [57.337502, -2.189838], [57.518979, -2.172917], [57.432129, -2.403178], [57.513441, -1.78881], [57.225676, -2.101155], [57.514664, -1.824525], [57.52519, -2.062912], [57.087994, -2.73704], [57.288859, -2.046581], [57.291723, -2.430843], [57.411549, -2.710235], [56.86201, -2.533481], [57.019107, -2.395569], [57.141154, -2.813448], [57.065118, -2.131555], [57.65432, -2.614429], [57.509899, -1.904328], [57.524717, -1.819468], [57.266558, -2.089164], [57.519108, -2.255889], [57.535945, -2.462949], [57.155844, -2.329747], [57.155844, -2.329747], [57.287132, -2.377869], [56.96449, -2.208166], [57.218227, -2.348352], [56.963861, -2.208327], [57.04662, -2.124072], [56.998513, -2.222347], [57.426794, -2.385468], [56.963771, -2.208491], [57.49334, -1.800938], [57.501457, -1.82292], [57.495498, -2.778267], [57.32172, -2.345512], [57.537399, -2.168829], [57.067817, -2.326163], [57.081142, -2.506597], [57.223169, -2.348068], [57.099045, -2.217667], [57.011885, -2.17418], [57.652935, -2.58458], [57.573117, -2.416105], [57.230822, -2.691352], [57.289441, -2.386851], [57.383397, -2.595586], [57.310085, -2.362168], [57.506804, -1.794523], [56.933363, -2.277007], [57.053687, -2.150967], [57.045355, -2.249492], [57.204871, -2.638229], [57.436366, -1.986138], [57.514893, -1.797482], [56.934453, -2.271592], [56.975977, -2.215139], [57.242643, -2.114623], [57.353052, -2.438042], [56.915352, -2.332059], [57.250153, -2.474607], [57.402881, -2.669127], [57.557166, -1.835351], [56.824744, -2.436609], [57.551914, -1.876647], [57.524604, -2.444104], [57.126087, -2.426605], [57.399468, -2.361386], [57.562481, -2.621573], [57.070512, -2.128275], [57.335355, -2.318896], [56.822523, -2.478853], [57.14079, -2.379846], [57.284366, -2.051054], [56.800991, -2.331538], [57.086052, -2.248445], [57.275739, -2.372777], [57.394446, -2.358341], [57.314866, -2.355242], [57.501368, -1.823087], [57.244476, -2.062598], [57.536581, -1.823752], [57.075996, -2.287966], [57.063855, -2.329921], [57.01881, -2.168119], [57.469245, -1.788232], [57.232375, -2.447875], [57.076038, -2.268832], [57.435566, -1.856385], [56.799176, -2.542085], [57.356389, -2.77183], [56.919788, -2.319122], [57.373196, -2.072628], [57.460963, -1.836617], [57.558888, -2.153051], [57.260453, -2.40644], [56.896234, -2.555145], [57.067008, -2.957613], [57.246426, -2.437108], [57.662392, -2.670043], [57.507187, -1.810042], [57.364841, -2.075438], [57.144573, -2.79865], [57.059078, -2.150659], [57.08765, -2.734393], [57.010331, -2.554044], [57.692281, -2.004492], [56.913509, -3.4093], [56.787464, -2.569579], [57.442492, -2.793635], [57.036825, -2.247293], [56.962954, -2.213091], [56.953076, -3.406189], [57.19748, -2.378111], [57.403846, -1.973502], [57.411042, -2.36616], [57.13329, -2.296175], [57.410719, -1.891603], [57.436988, -2.753704], [57.444602, -1.82686], [57.243023, -2.741456], [57.510822, -1.780146], [57.331286, -2.329158], [57.04686, -2.150774], [57.47474, -1.797204], [57.413498, -1.885602], [57.105844, -2.178748], [57.689495, -2.01489], [57.144173, -2.290644], [57.553411, -2.002636], [57.235044, -2.402351], [57.036706, -2.153205], [57.460085, -1.789451], [56.80217, -2.535251], [57.538092, -2.465315], [57.399514, -2.606664], [56.979654, -2.21878], [57.310845, -2.43422], [57.499971, -2.423782], [57.013429, -3.392162], [57.66137, -2.524882], [57.32776, -2.337763], [57.337933, -2.616281], [57.158686, -2.341841], [57.518796, -2.089444], [57.069192, -2.942166], [57.338484, -2.46744], [56.953796, -3.406052], [57.164996, -2.366205], [56.886, -2.553352], [57.392854, -2.46131], [57.086701, -2.486708], [57.073987, -2.301806], [57.018541, -2.168117], [57.227845, -2.34629], [57.170811, -3.155613], [56.859809, -2.267279], [56.964438, -2.237439], [57.421004, -1.976653], [57.260753, -2.148331], [57.271632, -2.140416], [57.154918, -2.305274], [57.394025, -1.908789], [57.313604, -2.35689], [57.224868, -2.100491], [57.46574, -1.999463], [57.062161, -2.357937], [57.142779, -2.309801], [57.359354, -2.086895], [57.6157, -2.683412], [57.138837, -2.824303], [57.22424, -2.50806], [57.507366, -1.809707], [57.231875, -2.180682], [57.051587, -2.506359], [57.058345, -3.124416], [56.833893, -2.286597], [57.354794, -2.811188], [57.587341, -2.458751], [57.510711, -1.908832], [57.66478, -2.567506], [57.089566, -2.322558], [57.520317, -1.81999], [56.811193, -2.40566], [57.669099, -1.957049], [57.10931, -2.633944], [57.351979, -2.4367], [57.288713, -2.38983], [57.679883, -2.02042], [57.600938, -2.256799], [57.505812, -1.792526], [56.967081, -2.216404], [57.653397, -2.655132], [57.234839, -2.181028], [57.530857, -2.454034], [57.507239, -2.78269], [57.279155, -2.052706], [57.077723, -2.661943], [57.085833, -2.722477], [57.34301, -2.547912], [57.067228, -2.376126], [57.098915, -3.158162], [57.604003, -2.471344], [57.284194, -2.398408], [57.068453, -2.32353], [57.511315, -1.80735], [57.049827, -3.039263], [56.81451, -2.483501], [57.049002, -3.041218], [57.149388, -2.288536], [57.224078, -2.503751], [56.99813, -2.181523], [57.349851, -2.052475], [56.963679, -2.209641], [57.487428, -1.811812], [57.308621, -2.371283], [57.620149, -1.974182], [57.59432, -2.4662], [57.15758, -2.318356], [57.669164, -2.090653], [57.223143, -2.19306], [57.60297, -1.920147], [57.616997, -1.948908], [57.421936, -1.879082], [57.507772, -2.043856], [57.233606, -2.221772], [57.244566, -2.062764], [57.419742, -2.370909], [57.181341, -2.397135], [57.223465, -2.155634], [57.337699, -2.277219], [57.200697, -2.591814], [57.33758, -2.197813], [57.450987, -2.785487], [57.287781, -2.046912], [57.254601, -2.727931], [57.184845, -2.541268], [57.443427, -2.787824], [57.154352, -2.277995], [57.523221, -1.954382], [57.61601, -1.949579], [57.595023, -2.199208], [56.966347, -2.225445], [56.845501, -2.278325], [57.538755, -2.455969], [57.015435, -2.391907], [57.053328, -2.15113], [57.352947, -2.122279], [57.50314, -1.806558], [57.092429, -3.140466], [57.07883, -2.767047], [57.666659, -2.310735], [57.664401, -2.315744], [57.116399, -2.394954], [57.069441, -2.554265], [57.358929, -1.962897], [56.762566, -2.43965], [57.203875, -2.306009], [57.422205, -1.878748], [57.653836, -1.998957], [56.854917, -2.285446], [57.56539, -2.12065], [57.254088, -2.062283], [57.285074, -2.375193], [57.656961, -1.930083], [57.642758, -2.712399], [57.04866, -3.161872], [57.242947, -2.797793], [57.508009, -1.899159], [57.145274, -2.727601], [57.524756, -1.986772], [57.052899, -2.469451], [57.098139, -2.221788], [57.091644, -2.236766], [57.061702, -2.251086], [57.477215, -2.625294], [57.598163, -2.201568], [57.26802, -2.370543], [57.558786, -1.837182], [57.174617, -2.330576], [57.210764, -2.381723], [57.055042, -2.145367], [57.28483, -2.146438], [56.817811, -2.553821], [56.867488, -2.415783], [57.69174, -2.022272], [57.048286, -2.50071], [57.405682, -2.465965], [57.333444, -2.131848], [57.518889, -2.172917], [57.344617, -2.43545], [57.359074, -2.100358], [57.512198, -1.79733], [57.413052, -2.11116], [56.93291, -2.278647], [57.226009, -2.198706], [57.44612, -2.788049], [57.410173, -2.466188], [57.51405, -1.933695], [57.224685, -2.462853], [57.12126, -2.701036], [57.314104, -2.263096], [57.60351, -1.921986], [56.8473, -2.277191], [57.379354, -2.468126], [57.327584, -2.582393], [57.155934, -2.329748], [57.526833, -2.448974], [57.381257, -2.552641], [56.898061, -2.378693], [57.176854, -2.449023], [57.559879, -2.006314], [57.172811, -2.29831], [57.333122, -2.230843], [57.419741, -2.371075], [57.383223, -2.243466], [57.308801, -2.046772], [57.315712, -2.267425], [57.664211, -2.511178], [56.939977, -2.25076], [57.667561, -2.50452], [57.674602, -2.136102], [57.490135, -1.819972], [57.060506, -2.427172], [57.512788, -2.481851], [57.576413, -1.854827], [57.69219, -2.012711], [57.527948, -2.510105], [57.435903, -2.502827], [57.546254, -2.514705], [57.527993, -2.450992], [57.08185, -2.663007], [57.081659, -2.512048], [57.540172, -2.461332], [57.689046, -2.016735], [57.448204, -2.799591], [57.538097, -2.463979], [57.296388, -2.405675], [57.084403, -2.52182], [57.515491, -1.94087], [57.409753, -2.800084], [56.799267, -2.541759], [57.062775, -2.138802], [57.047684, -3.03772], [56.822611, -2.479346], [57.22472, -2.157295], [57.163655, -2.718207], [57.545592, -2.154165], [57.068963, -2.983557], [57.089118, -2.116789], [57.230805, -2.694334], [57.489196, -1.793287], [57.510711, -1.908665], [57.090742, -2.551943], [57.523495, -1.96824], [57.529856, -2.07177], [57.439043, -2.403921], [57.278526, -2.052539], [57.199961, -2.683659], [57.153817, -2.276504], [57.234572, -2.43614], [57.255615, -2.061954], [57.500336, -2.422118], [57.617529, -1.932502], [57.508939, -1.782327], [57.442988, -2.786149], [57.019472, -2.578721], [57.129789, -2.295321], [57.668732, -2.525826], [57.666731, -2.552785], [57.230861, -2.359735], [57.677011, -2.261193], [57.327751, -2.454681], [57.330119, -2.391597], [57.134625, -2.301638], [57.518979, -2.172917], [57.65167, -2.049894], [57.230347, -2.101665], [57.230974, -2.696324], [57.671249, -1.943467], [57.412951, -1.876781], [57.691562, -2.002311], [57.350262, -2.439505], [57.282136, -2.145929], [57.097687, -2.223766], [57.000096, -2.572494], [57.255789, -2.072728], [57.276367, -2.373115], [57.506431, -1.786514], [57.506719, -1.797694], [57.290401, -2.39582], [57.588329, -2.458764], [57.371596, -2.032719], [57.380975, -2.192391], [56.944632, -2.211014], [57.440592, -2.766772], [57.425114, -1.921201], [57.566583, -2.590383], [57.676967, -2.730675], [57.025999, -2.166339], [57.149227, -2.727679], [57.64648, -2.474072], [57.393482, -2.461484], [57.005159, -3.40058], [57.624358, -1.938182], [57.368742, -2.136796], [57.065723, -2.336533], [57.066195, -2.132383], [57.35648, -2.274203], [57.23834, -2.104669], [57.617618, -2.587695], [57.235427, -2.703201], [57.040086, -3.240876], [57.547977, -2.41231], [57.056736, -2.426304], [56.926674, -2.205327], [56.963861, -2.208162], [57.313604, -2.35689], [57.050348, -2.501892], [57.382068, -2.236639], [57.589317, -2.458943], [57.264893, -2.394552], [57.65158, -2.050061], [57.46044, -1.99863], [57.69282, -2.006672], [57.275566, -2.338777], [57.346204, -2.614924], [57.164724, -2.367029], [57.459852, -2.730506], [57.663329, -2.084939], [56.978053, -2.209558], [57.505879, -1.779008], [57.052943, -2.504234], [57.016983, -2.385335], [57.362251, -1.955745], [57.463154, -2.793583], [57.019285, -2.3959], [57.558888, -2.152884], [57.374629, -2.080114], [57.078964, -2.120551], [57.508939, -1.782494], [57.075998, -2.286811], [57.267207, -2.054844], [57.051655, -2.489381], [57.374719, -2.080114], [57.507501, -2.783864], [56.941596, -2.249456], [56.993769, -2.300004], [57.208945, -2.325917], [57.319621, -2.442294], [57.407028, -2.699328], [57.390604, -2.100611], [57.342255, -2.614193], [57.374632, -2.074959], [57.23299, -2.721045], [57.508939, -1.782494], [56.840766, -2.453351], [57.297718, -2.280403], [57.668984, -2.09082], [57.570076, -2.43864], [57.287779, -2.218946], [56.839368, -2.612492], [56.80602, -2.494856], [57.338514, -2.434048], [57.051532, -2.150463], [56.970372, -2.234845], [57.046344, -2.249334], [57.230719, -2.693669], [57.052025, -2.486584], [57.691739, -2.025962], [57.240902, -2.423788], [57.538658, -2.457805], [57.678433, -2.771284], [57.365021, -2.074939], [57.154309, -2.297004], [57.65574, -2.447214], [57.560235, -2.153057], [57.268418, -2.466883], [57.058682, -2.549488], [57.58865, -1.874348], [57.266119, -2.167088], [57.69989, -2.080663], [57.359204, -2.007609], [57.569511, -2.419742], [57.670642, -2.497857], [57.044973, -2.151755], [57.67724, -2.101236], [57.285891, -2.372382], [57.509989, -1.904661], [57.301928, -2.242928], [57.114882, -2.135034], [57.356494, -2.502572], [57.063586, -2.136331], [57.600358, -1.909946], [57.059078, -2.150494], [57.020207, -2.555344], [57.69264, -2.001976], [57.524068, -2.44343], [56.900406, -2.456536], [57.539651, -2.456481], [57.308056, -2.094078], [57.1322, -2.36869], [56.920241, -2.317318], [56.90958, -2.220176], [57.335351, -2.320224], [57.45059, -2.805808], [57.508446, -2.284855], [57.253318, -2.632934], [57.063489, -2.142597], [57.679302, -2.776165], [57.208909, -2.477554], [57.022944, -2.167314], [57.087134, -2.760784], [57.69273, -2.007008], [57.062539, -2.530088], [57.327138, -2.581722], [57.6648, -2.520908], [57.092637, -2.570289], [57.284705, -2.378341], [57.265434, -2.393729], [57.505266, -1.78819], [57.520226, -2.099966], [57.390967, -2.461286], [57.494844, -1.999462], [57.268017, -2.371704], [56.992287, -2.183469], [56.942032, -2.207876], [57.537506, -2.453615], [57.508925, -1.774316], [57.520585, -1.819488], [57.498931, -2.897145], [57.198739, -2.377627], [57.577971, -2.613644], [57.28474, -2.146437], [57.346253, -1.937653], [57.328831, -2.052112], [56.845934, -2.552925], [57.335172, -2.320057], [57.68689, -2.021766], [56.898232, -2.23587], [57.295682, -2.753799], [57.563831, -1.997456], [57.416606, -2.72132], [57.195786, -2.307597], [57.062493, -2.39669], [56.828521, -2.460741], [57.402423, -2.670783], [57.112836, -2.413409], [57.104044, -2.18105], [57.195336, -2.307759], [57.220973, -2.470589], [57.228275, -2.282195], [57.687161, -2.006168], [56.810175, -2.489178], [57.506603, -1.782174], [57.384341, -2.455548], [57.429179, -1.978813], [57.285252, -2.375859], [57.335355, -2.31873], [57.332345, -1.997472], [57.476537, -1.797694], [57.59347, -2.302917], [57.484405, -2.693468], [57.406057, -2.096825], [56.829694, -2.459117], [57.61869, -2.227461], [57.13211, -2.368689], [57.54226, -2.161167], [57.591098, -2.101164], [57.474018, -1.79504], [57.17908, -2.401908], [57.335478, -2.054281], [57.373197, -2.072462], [57.224615, -2.168888], [57.684013, -2.031994], [57.190501, -3.2388], [56.907642, -2.358756], [56.800353, -2.539973], [57.012785, -2.172537], [57.025909, -2.166339], [57.624373, -1.993935], [57.13432, -2.893594], [57.224201, -2.51783], [57.100765, -2.449093], [57.394019, -2.46199], [57.448374, -2.274557], [57.218586, -2.348356], [57.313846, -2.849632], [57.509089, -1.902494], [57.69998, -2.080663], [57.072744, -2.363812], [57.151218, -2.273509], [57.248831, -2.804881], [57.454708, -2.900728], [57.418755, -2.370566], [57.401474, -2.099642], [57.586128, -2.617126], [57.626814, -2.393779], [57.249518, -2.705624], [57.464015, -2.827275], [57.507772, -1.782501], [57.411521, -2.190055], [57.551651, -2.44176], [56.918309, -2.211687], [57.482621, -2.783331], [57.621098, -2.573186], [57.188053, -2.547271], [57.241137, -2.229936], [57.075563, -2.786939], [57.507055, -2.783353], [57.137789, -2.819653], [57.320182, -2.507722], [57.508312, -1.783499], [57.149571, -2.287215], [57.406626, -1.955026], [57.221795, -2.466957], [57.081232, -2.506433], [57.115486, -2.655681], [57.250659, -2.088131], [57.284179, -2.374189], [57.217596, -2.460777], [57.612869, -2.478488], [56.829694, -2.459117], [57.144654, -2.785761], [57.283818, -2.374683], [57.014244, -2.369827], [57.351836, -1.976365], [57.152202, -2.313847], [57.319673, -2.040975], [57.29829, -2.049414], [57.081143, -2.506432], [56.798528, -2.503926], [57.091694, -2.145015], [57.503589, -1.806723], [57.158568, -2.712322], [57.66955, -1.964424], [57.491574, -2.857093], [57.419919, -2.797642], [57.256424, -2.061127], [57.446211, -1.821021], [57.362183, -2.393268], [57.381637, -2.345243], [57.09175, -3.16553], [57.673505, -2.025781], [57.528706, -2.025345], [57.052391, -2.48494], [57.06856, -2.989154], [57.340145, -2.54571], [57.249998, -2.358761], [57.292385, -2.393187], [56.82234, -2.479834], [57.31011, -2.487663], [57.239984, -2.063916], [57.36836, -2.04186], [57.548022, -2.004307], [57.664721, -2.560465], [57.30429, -2.377713], [57.558246, -1.836516], [57.202151, -2.378159], [57.233604, -2.066556], [57.57191, -2.65768], [57.051379, -2.491026], [57.444217, -2.79084], [57.675214, -2.005999], [57.306721, -2.376078], [57.218777, -2.075305], [57.068543, -2.32353], [57.67674, -2.020418], [57.227314, -2.374772], [57.694436, -2.016402], [56.843028, -2.448789], [56.949816, -2.226003], [57.338514, -2.434048], [57.500671, -1.839777], [57.495589, -1.803428], [57.220683, -2.153304], [57.523494, -1.966069], [57.284266, -2.375019], [57.234423, -2.399859], [57.513252, -2.040858], [57.366831, -2.046347], [57.333034, -2.313062], [57.059623, -2.365497], [57.155934, -2.329748], [57.033289, -2.156321], [57.102051, -2.1921], [56.964397, -2.20981], [57.07613, -2.915124], [57.591187, -2.101499], [57.60036, -2.230526], [57.488267, -2.071355], [57.344147, -2.613062], [57.40629, -2.252772], [57.385326, -2.456392], [57.608923, -1.986574], [57.259706, -2.286414], [57.512018, -1.796997], [56.793025, -2.509418], [57.483575, -2.509653], [56.977432, -2.204783], [56.829784, -2.459282], [57.529494, -2.077447], [57.51474, -2.184749], [57.587392, -1.873349], [57.087651, -2.734228], [57.697167, -2.116726], [56.798924, -2.471512], [57.077732, -2.50556], [57.253522, -2.182445], [57.603643, -2.471339], [57.52146, -2.125847], [57.258491, -2.060136], [57.334137, -2.302939], [56.931367, -2.285865], [57.538637, -2.463651], [57.681504, -2.690687], [57.355966, -1.966556], [57.046771, -2.150609], [57.45059, -2.805808], [57.692997, -2.024286], [56.901697, -2.421417], [57.56539, -2.120817], [57.381978, -2.236638], [56.953235, -2.223229], [57.536344, -2.00464], [57.255346, -2.062119], [57.454342, -2.901719], [57.654014, -2.657489], [57.250294, -2.828613], [56.831618, -2.473398], [56.951784, -2.230454], [57.284704, -2.378673], [56.786494, -2.45597], [57.465466, -2.522571], [56.825233, -2.397783], [57.055302, -3.092669], [57.321572, -2.145421], [56.984825, -2.187711], [57.506581, -1.769491], [57.396851, -2.256202], [57.295234, -2.401514], [57.321079, -2.461407], [56.90232, -2.448843], [57.693269, -2.003821], [57.298443, -2.096045], [57.588124, -2.188131], [57.589252, -1.99829], [57.656157, -2.060457], [57.281901, -2.384947], [57.132029, -2.297652], [57.679491, -2.697356], [57.058617, -2.705955], [56.967098, -2.206536], [57.161664, -3.1922], [57.083629, -2.247109], [57.551027, -2.648615], [57.286611, -2.401088], [57.230117, -2.151852], [57.4241, -2.730293], [57.444224, -2.775179], [57.518887, -2.17492], [57.135099, -2.700306], [57.035897, -2.153531], [57.319768, -2.521166], [57.520675, -1.819488], [57.22481, -2.157296], [57.455327, -1.855307], [57.012212, -3.396563], [56.90466, -2.364967], [57.065364, -3.006879], [57.506245, -1.782844], [57.224719, -2.158455], [57.666407, -2.032649], [57.56029, -2.628723], [57.054234, -2.5181], [57.694525, -2.016402], [57.507556, -1.816548], [56.914349, -2.215606], [57.524846, -2.001299], [57.559337, -2.153053], [57.298689, -2.388276], [57.694436, -2.016234], [57.098682, -2.219481], [56.886302, -2.43109], [57.09958, -2.453865], [57.594511, -2.317982], [57.054282, -3.106488], [56.752547, -2.452615], [57.149406, -2.727683], [57.614851, -1.987409], [57.474558, -1.796205], [57.574352, -2.654547], [57.084979, -2.631054], [57.154921, -2.304117], [57.078933, -2.861907], [57.230646, -2.903045], [57.66295, -2.511999], [57.060278, -2.554293], [57.560325, -2.153057], [57.164168, -2.372811], [57.661448, -2.527732], [57.667472, -2.504519], [57.02633, -2.239481], [57.58577, -2.616786], [57.39734, -2.802643], [57.326291, -2.277133], [57.426188, -1.91587], [57.312193, -2.43407], [57.335853, -2.334681], [57.485707, -1.802481], [57.223286, -2.154971], [57.222403, -2.718851], [57.23439, -2.181025], [57.666501, -2.008009], [57.69129, -2.028813], [57.320813, -2.176303], [57.108723, -2.175625], [57.664705, -2.006332], [57.14269, -2.309635], [56.964041, -2.208328], [57.666824, -2.530995], [57.604542, -2.471183], [57.26962, -2.376197], [57.564303, -2.558587], [57.50186, -1.792548], [57.206459, -2.930596], [56.963951, -2.208327], [57.562487, -2.620403], [56.760215, -2.443711], [57.414699, -1.930379], [57.517196, -1.93853], [56.818397, -2.305154], [57.02157, -2.591272], [57.25425, -2.506649], [57.26532, -2.056168], [57.049902, -3.041078], [57.220285, -2.182281], [57.224272, -2.156631], [57.0353, -3.057478], [57.374719, -2.08028], [57.070141, -2.763075], [56.904771, -2.245598], [57.362507, -2.072939], [57.504548, -1.788695], [57.319403, -2.47716], [57.032937, -2.150388], [56.934907, -2.269459], [57.103862, -2.18237], [57.075341, -2.793698], [57.683923, -2.031826], [56.912099, -2.217892], [57.086052, -2.248445], [57.446318, -2.78522], [57.252996, -2.085485], [57.516869, -2.765033], [57.326065, -2.449014], [57.279115, -2.385084], [57.529783, -2.452851], [57.492833, -1.822294], [57.333243, -1.995644], [57.356499, -2.05049], [56.964218, -2.20948], [57.668382, -2.565383], [57.442226, -2.984223], [57.216289, -2.146663], [57.083124, -2.229288], [57.349659, -2.624786], [57.320378, -2.503574], [57.125908, -2.426273], [57.081232, -2.506598], [57.542991, -2.00464], [57.334044, -2.303935], [57.066731, -2.79137], [57.217094, -2.149315], [57.322652, -2.448806], [57.063864, -2.575784], [57.533972, -2.461922], [57.256424, -2.061293], [56.912369, -2.217729], [57.238175, -2.346552], [57.320477, -2.50125], [57.350031, -2.052641], [57.333232, -2.054444], [57.117211, -2.652244], [56.887921, -2.403701], [57.450679, -2.80581], [57.543796, -2.370331], [57.488314, -1.803467], [56.977071, -2.205933], [57.300173, -2.160936], [57.515551, -2.18325], [57.489479, -2.778306], [57.049556, -2.149961], [56.935814, -2.265522], [57.443438, -2.771497], [57.320988, -2.461738], [57.091734, -2.236437], [57.17444, -2.293362], [57.359872, -2.440285], [57.088689, -2.75603], [56.923701, -2.579866], [57.255814, -2.36694], [57.487428, -1.811645], [56.762261, -2.423779], [57.093982, -2.235296], [57.503364, -1.778856], [57.236074, -2.41694], [57.237199, -2.06474], [57.063498, -2.391259], [56.987659, -2.26046], [57.364968, -2.203779], [57.072248, -2.177761], [57.114612, -2.633539], [57.250654, -2.814699], [57.014448, -3.297335], [57.389775, -2.59569], [57.144556, -2.28007], [57.693258, -2.051964], [57.529947, -2.070768], [56.91861, -2.322725], [57.045509, -2.619506], [57.223993, -2.524452], [57.075959, -2.926172], [57.391434, -2.343173], [56.872269, -2.409766], [57.425524, -2.389618], [57.032302, -2.154999], [57.557269, -1.845712], [57.236995, -2.181038], [57.528704, -2.33845], [57.534781, -2.461932], [57.304704, -2.247594], [56.930735, -2.287339], [57.344437, -2.435614], [57.245893, -2.435445], [57.23898, -2.347554], [57.054231, -2.147342], [57.203854, -2.379335], [57.564744, -2.560265], [57.386118, -2.093612], [57.418845, -2.3704], [57.412861, -1.876782], [57.512967, -1.925351], [57.235622, -2.444104], [57.153452, -2.279146], [56.806021, -2.494692], [57.223583, -2.633087], [57.633692, -2.169108], [57.246804, -2.168327], [57.518999, -1.842367], [57.539521, -2.491224], [57.512247, -2.482345], [57.056483, -2.141746], [57.118629, -2.42718], [57.170583, -2.390074], [57.654947, -2.442847], [57.449256, -2.107437], [57.495662, -2.496975], [57.547669, -2.396267], [57.333959, -2.301941], [57.088612, -2.754048], [57.365491, -2.020245], [57.149126, -2.533143], [57.078159, -2.773962], [57.539557, -2.45765], [57.489479, -2.778306], [57.389877, -2.803644], [57.05655, -2.42828], [56.976434, -2.210536], [57.041743, -3.218516], [56.877707, -2.257562], [57.322277, -2.041642], [56.840919, -2.607599], [57.557812, -1.849052], [57.236288, -2.406671], [57.691556, -2.041394], [57.035396, -2.414361], [57.080403, -3.149006], [57.541104, -2.301814], [57.673214, -2.078256], [57.023907, -2.411268], [57.087051, -2.118432], [57.3831, -2.582275], [57.003354, -3.344038], [57.132388, -2.297655], [57.292991, -2.047582], [57.057669, -3.129672], [57.644045, -2.006663], [57.486661, -1.842006], [57.593804, -2.347586], [57.33125, -2.164228], [57.346294, -2.197029], [56.776656, -2.513942], [57.088821, -2.143684], [57.609106, -2.211168], [57.406501, -1.896442], [57.284618, -2.377677], [57.242811, -2.74692], [57.150319, -2.273833], [57.358798, -2.438942], [57.325106, -2.574383], [56.966164, -2.22676], [57.449989, -2.99093], [57.226121, -2.184132], [57.337964, -2.181202], [57.313836, -2.262597], [57.265404, -2.164764], [57.564722, -2.156418], [57.472773, -2.127014], [57.588689, -2.458601], [57.609016, -2.211669], [57.09101, -2.239402], [57.490538, -2.424173], [57.168836, -2.402954], [57.086267, -2.725126], [57.242638, -2.630928], [57.389124, -2.20857], [57.178618, -2.458142], [57.608384, -1.986407], [57.217155, -2.377484], [57.54556, -2.680428], [57.148653, -2.652301], [57.014769, -3.3848], [57.185689, -3.099493], [57.490662, -2.682576], [57.48984, -1.803292], [57.321762, -2.446305], [57.326677, -2.048788], [57.261361, -2.546202], [57.096137, -2.462075], [57.366886, -2.280931], [57.243394, -2.223985], [57.196443, -2.718347], [57.361982, -1.95774], [57.235019, -2.181194], [57.630553, -1.930971], [57.5213, -1.816479], [56.845591, -2.278326], [57.061943, -2.400146], [57.402581, -2.691256], [57.320514, -2.443633], [57.66285, -2.514679], [57.679672, -2.697025], [57.279156, -2.37165], [57.520047, -2.099298], [57.058988, -2.150329], [57.072945, -2.243904], [57.236742, -2.457371], [56.968066, -2.218548], [57.559337, -2.153053], [57.44353, -1.831363], [57.330024, -2.203751], [57.585106, -2.455713], [57.323601, -2.62617], [57.69219, -2.012711], [57.319531, -2.442293], [57.371155, -2.21063], [56.841948, -2.449268], [57.591197, -2.46064], [57.525923, -2.017829], [56.886301, -2.431255], [57.348467, -2.817197], [57.59566, -2.468225], [57.186737, -2.734703], [57.320183, -2.507556], [57.100933, -2.303345], [57.17689, -2.412304], [56.950446, -2.225349], [57.319866, -2.423036], [57.37012, -2.104878], [57.444215, -2.791007], [57.504094, -2.782789], [57.327107, -2.172513], [57.090155, -2.476027], [57.525189, -2.064748], [57.059056, -3.063594], [57.154519, -2.320975], [56.931752, -3.41689], [57.229552, -2.905337], [57.283665, -2.39525], [57.086454, -2.675629], [57.151935, -2.274176], [57.489414, -1.818808], [57.624104, -1.994103], [57.104044, -2.181215], [56.907732, -2.358757], [57.073019, -2.135706], [57.570614, -2.43898], [57.183902, -2.508995], [57.37008, -2.208795], [57.058347, -3.124251], [57.451161, -2.527866], [57.350248, -2.196053], [57.499889, -2.421445], [57.663802, -2.523408], [57.38166, -2.476138], [57.681231, -2.019582], [57.521959, -2.057897], [57.545441, -2.445026], [57.385197, -2.513278], [57.311047, -2.045613], [57.068569, -2.988], [57.444242, -2.229876], [57.675321, -2.687887], [57.236106, -2.407332], [57.429483, -2.805178], [57.504129, -1.807054], [57.386721, -2.59564], [57.333997, -2.533991], [57.381637, -2.345243], [57.469683, -2.707861], [56.777757, -2.410699], [57.274753, -2.340428], [57.310266, -2.361672], [57.222231, -2.47044], [57.460081, -1.998796], [57.679256, -2.004322], [57.419771, -1.869433], [57.05401, -3.096588], [56.913151, -3.409122], [57.10077, -2.207113], [56.978432, -3.388387], [57.538647, -2.460812], [56.908987, -2.4683], [57.23916, -2.347556], [57.055715, -2.436019], [57.176454, -2.408495], [57.361533, -1.958905], [57.48957, -2.596813], [57.505529, -1.784016], [57.485797, -1.80248], [57.233342, -2.218458], [57.322119, -2.446973], [56.932118, -3.416247], [57.126176, -2.426771], [57.404526, -2.802633], [57.216791, -2.379136], [57.520316, -2.099799], [57.481019, -2.143886], [56.965903, -2.222318], [57.663172, -2.21651], [57.255436, -2.06212], [57.235108, -2.181195], [57.205686, -2.654465], [57.055776, -2.249232], [57.052617, -2.472744], [57.34555, -1.990991], [57.271345, -2.370245], [56.991577, -2.314798], [57.069924, -2.94037], [56.963232, -2.208159], [56.864387, -2.268788], [57.322277, -2.041642], [57.58295, -2.059834], [56.992916, -2.183473], [57.657429, -2.001639], [57.23252, -2.676475], [57.679017, -2.778675], [57.440162, -2.763598], [57.234659, -2.181192], [57.333695, -2.299945], [57.09092, -2.239567], [57.339648, -2.359303], [57.47779, -2.985513], [57.518979, -2.172917], [57.149817, -2.297299], [57.320289, -2.503406], [57.540533, -1.8239], [56.870014, -2.412694], [57.645529, -2.630196], [56.855289, -2.529614], [57.430203, -2.805027], [57.158597, -2.34184], [57.29906, -2.239259], [57.2122, -2.382235], [57.060389, -2.408374], [57.370475, -2.592717], [57.278634, -2.144754], [57.509304, -1.785663], [57.486197, -2.505353], [57.255436, -2.06212], [57.308801, -2.046938], [56.947647, -2.233058], [56.818428, -2.631972], [57.515948, -2.036854], [56.863066, -2.421638], [57.183544, -2.485829], [57.508837, -1.775151], [57.015699, -2.538479], [57.255525, -2.06212], [57.325205, -2.438043], [57.339891, -1.997969], [57.066759, -2.742721], [57.185044, -2.390888], [57.455853, -2.811591], [57.609407, -2.118453], [56.941991, -3.409224], [56.801081, -2.331539], [57.093761, -2.718505], [57.092616, -2.574909], [57.287244, -2.370405], [56.949816, -2.226003], [56.97716, -2.205933], [57.454788, -2.809567], [57.255076, -2.061953], [57.039386, -2.502238], [57.378445, -2.420384], [57.512875, -1.920845], [57.359872, -2.440285], [57.540909, -2.163499], [57.51281, -1.997626], [57.629395, -2.046514], [57.531116, -1.834633], [57.242455, -2.123404], [57.092907, -2.234134], [57.622487, -1.992429], [57.689675, -2.014723], [57.187549, -2.559672], [57.299913, -2.031826], [57.399268, -1.997467], [57.054047, -2.150968], [57.665477, -2.096342], [57.589216, -2.095137], [57.511019, -1.790327], [57.321463, -2.545101], [57.046344, -2.249334], [57.125433, -2.378368], [57.059977, -3.039547], [57.350786, -2.196887], [57.403489, -1.991975], [57.063584, -2.13765], [57.597365, -2.468748], [57.253522, -2.182445], [57.066647, -2.129746], [57.594216, -2.198702], [57.077988, -2.772639], [57.313567, -2.262097], [57.053621, -2.29043], [57.562371, -2.076347], [57.371252, -2.448236], [57.511157, -2.233468], [57.532392, -2.003971], [56.840256, -2.515305], [57.539587, -1.857479], [57.075998, -2.287141], [57.081143, -2.506432], [57.041938, -3.235334], [57.284969, -2.380335], [56.840256, -2.515141], [57.36656, -2.049506], [57.66182, -2.586063], [57.335175, -2.31906], [57.648954, -2.435737], [57.2249, -2.157296], [57.060506, -2.427172], [57.612178, -2.200641], [57.324551, -2.515753], [57.649132, -2.436242], [56.933454, -2.276843], [57.580327, -2.408495], [56.911652, -2.338431], [56.936447, -2.263226], [57.127072, -2.427607], [57.421992, -1.84728], [57.51793, -1.999295], [57.187706, -2.564804], [57.454716, -1.802314], [57.089474, -2.698291], [57.540695, -2.113385], [57.510566, -1.788326], [57.679004, -2.687789], [57.330012, -2.520314], [57.312036, -2.851583], [57.012875, -2.172538], [57.52305, -2.004471], [57.462284, -2.411678], [57.069039, -2.158615], [57.235898, -2.357465], [57.60057, -2.260979], [57.654914, -1.999125], [57.518979, -2.172917], [57.622038, -1.992094]],\n",
       "                {\n",
       "  &quot;minOpacity&quot;: 0.5,\n",
       "  &quot;maxZoom&quot;: 18,\n",
       "  &quot;radius&quot;: 25,\n",
       "  &quot;blur&quot;: 15,\n",
       "}\n",
       "            );\n",
       "        \n",
       "    \n",
       "            heat_map_8435de93aa3fb4cf479939a7aae89184.addTo(map_ca4d80721ee4cbde145bb9cfca8c5de3);\n",
       "        \n",
       "    \n",
       "            tile_layer_cdd683b00a7018ed3a736f9c45cf13c5.addTo(map_ca4d80721ee4cbde145bb9cfca8c5de3);\n",
       "        \n",
       "    \n",
       "            heat_map_8435de93aa3fb4cf479939a7aae89184.addTo(map_ca4d80721ee4cbde145bb9cfca8c5de3);\n",
       "        \n",
       "&lt;/script&gt;\n",
       "&lt;/html&gt;\" style=\"position:absolute;width:100%;height:100%;left:0;top:0;border:none !important;\" allowfullscreen webkitallowfullscreen mozallowfullscreen></iframe></div></div>"
      ],
      "text/plain": [
       "<folium.folium.Map at 0x2325330ba50>"
      ]
     },
     "execution_count": 188,
     "metadata": {},
     "output_type": "execute_result"
    }
   ],
   "source": [
    "import folium\n",
    "from folium.plugins import HeatMap\n",
    "\n",
    "aber_df = accident[accident['District Area'] == 'Aberdeenshire']\n",
    "\n",
    "loc = list(zip(aber_df['Latitude'], aber_df['Longitude']))\n",
    "aber_map = folium.Map(location=[aber_df['Latitude'].mean(), aber_df['Longitude'].mean()], zoom_start=10)\n",
    "HeatMap(loc).add_to(aber_map)\n",
    "\n",
    "aber_map.save(\"aber_heatmap.html\")\n",
    "\n",
    "aber_map"
   ]
  },
  {
   "cell_type": "markdown",
   "id": "7546eefa-c391-4bbc-b5c3-b39f49c87668",
   "metadata": {},
   "source": [
    "<h3>INSIGHT #34</h3>"
   ]
  },
  {
   "cell_type": "markdown",
   "id": "eb33bcd3-1f6d-4d4d-9b87-a378479f7821",
   "metadata": {},
   "source": []
  },
  {
   "cell_type": "raw",
   "id": "90958ebd-b2e4-4ae3-99ae-2cf088a8a044",
   "metadata": {},
   "source": [
    "<H3>Most accidents are heavily concentrated in and around Aberdeen City and spread widely across the eastern part of Aberdeenshire. This suggests that busier urban centers and coastal routes carry higher risks, likely due to heavier traffic volumes compared to rural and inland areas, which show fewer accident hotspots.</H3>"
   ]
  },
  {
   "cell_type": "code",
   "execution_count": 189,
   "id": "32bd4114-bfa6-45c0-b946-0da05c022776",
   "metadata": {},
   "outputs": [
    {
     "data": {
      "text/html": [
       "<div style=\"width:100%;\"><div style=\"position:relative;width:100%;height:0;padding-bottom:60%;\"><span style=\"color:#565656\">Make this Notebook Trusted to load map: File -> Trust Notebook</span><iframe srcdoc=\"&lt;!DOCTYPE html&gt;\n",
       "&lt;html&gt;\n",
       "&lt;head&gt;\n",
       "    \n",
       "    &lt;meta http-equiv=&quot;content-type&quot; content=&quot;text/html; charset=UTF-8&quot; /&gt;\n",
       "    &lt;script src=&quot;https://cdn.jsdelivr.net/npm/leaflet@1.9.3/dist/leaflet.js&quot;&gt;&lt;/script&gt;\n",
       "    &lt;script src=&quot;https://code.jquery.com/jquery-3.7.1.min.js&quot;&gt;&lt;/script&gt;\n",
       "    &lt;script src=&quot;https://cdn.jsdelivr.net/npm/bootstrap@5.2.2/dist/js/bootstrap.bundle.min.js&quot;&gt;&lt;/script&gt;\n",
       "    &lt;script src=&quot;https://cdnjs.cloudflare.com/ajax/libs/Leaflet.awesome-markers/2.0.2/leaflet.awesome-markers.js&quot;&gt;&lt;/script&gt;\n",
       "    &lt;link rel=&quot;stylesheet&quot; href=&quot;https://cdn.jsdelivr.net/npm/leaflet@1.9.3/dist/leaflet.css&quot;/&gt;\n",
       "    &lt;link rel=&quot;stylesheet&quot; href=&quot;https://cdn.jsdelivr.net/npm/bootstrap@5.2.2/dist/css/bootstrap.min.css&quot;/&gt;\n",
       "    &lt;link rel=&quot;stylesheet&quot; href=&quot;https://netdna.bootstrapcdn.com/bootstrap/3.0.0/css/bootstrap-glyphicons.css&quot;/&gt;\n",
       "    &lt;link rel=&quot;stylesheet&quot; href=&quot;https://cdn.jsdelivr.net/npm/@fortawesome/fontawesome-free@6.2.0/css/all.min.css&quot;/&gt;\n",
       "    &lt;link rel=&quot;stylesheet&quot; href=&quot;https://cdnjs.cloudflare.com/ajax/libs/Leaflet.awesome-markers/2.0.2/leaflet.awesome-markers.css&quot;/&gt;\n",
       "    &lt;link rel=&quot;stylesheet&quot; href=&quot;https://cdn.jsdelivr.net/gh/python-visualization/folium/folium/templates/leaflet.awesome.rotate.min.css&quot;/&gt;\n",
       "    \n",
       "            &lt;meta name=&quot;viewport&quot; content=&quot;width=device-width,\n",
       "                initial-scale=1.0, maximum-scale=1.0, user-scalable=no&quot; /&gt;\n",
       "            &lt;style&gt;\n",
       "                #map_f4d601b5bb7330a7cccea3dd316a59b0 {\n",
       "                    position: relative;\n",
       "                    width: 100.0%;\n",
       "                    height: 100.0%;\n",
       "                    left: 0.0%;\n",
       "                    top: 0.0%;\n",
       "                }\n",
       "                .leaflet-container { font-size: 1rem; }\n",
       "            &lt;/style&gt;\n",
       "\n",
       "            &lt;style&gt;html, body {\n",
       "                width: 100%;\n",
       "                height: 100%;\n",
       "                margin: 0;\n",
       "                padding: 0;\n",
       "            }\n",
       "            &lt;/style&gt;\n",
       "\n",
       "            &lt;style&gt;#map {\n",
       "                position:absolute;\n",
       "                top:0;\n",
       "                bottom:0;\n",
       "                right:0;\n",
       "                left:0;\n",
       "                }\n",
       "            &lt;/style&gt;\n",
       "\n",
       "            &lt;script&gt;\n",
       "                L_NO_TOUCH = false;\n",
       "                L_DISABLE_3D = false;\n",
       "            &lt;/script&gt;\n",
       "\n",
       "        \n",
       "    &lt;script src=&quot;https://cdn.jsdelivr.net/gh/python-visualization/folium@main/folium/templates/leaflet_heat.min.js&quot;&gt;&lt;/script&gt;\n",
       "&lt;/head&gt;\n",
       "&lt;body&gt;\n",
       "    \n",
       "    \n",
       "            &lt;div class=&quot;folium-map&quot; id=&quot;map_f4d601b5bb7330a7cccea3dd316a59b0&quot; &gt;&lt;/div&gt;\n",
       "        \n",
       "&lt;/body&gt;\n",
       "&lt;script&gt;\n",
       "    \n",
       "    \n",
       "            var map_f4d601b5bb7330a7cccea3dd316a59b0 = L.map(\n",
       "                &quot;map_f4d601b5bb7330a7cccea3dd316a59b0&quot;,\n",
       "                {\n",
       "                    center: [52.58606025060827, -2.120250675182482],\n",
       "                    crs: L.CRS.EPSG3857,\n",
       "                    ...{\n",
       "  &quot;zoom&quot;: 10,\n",
       "  &quot;zoomControl&quot;: true,\n",
       "  &quot;preferCanvas&quot;: false,\n",
       "}\n",
       "\n",
       "                }\n",
       "            );\n",
       "\n",
       "            \n",
       "\n",
       "        \n",
       "    \n",
       "            var tile_layer_98b468f03962693a3a0b20a650b21459 = L.tileLayer(\n",
       "                &quot;https://tile.openstreetmap.org/{z}/{x}/{y}.png&quot;,\n",
       "                {\n",
       "  &quot;minZoom&quot;: 0,\n",
       "  &quot;maxZoom&quot;: 19,\n",
       "  &quot;maxNativeZoom&quot;: 19,\n",
       "  &quot;noWrap&quot;: false,\n",
       "  &quot;attribution&quot;: &quot;\\u0026copy; \\u003ca href=\\&quot;https://www.openstreetmap.org/copyright\\&quot;\\u003eOpenStreetMap\\u003c/a\\u003e contributors&quot;,\n",
       "  &quot;subdomains&quot;: &quot;abc&quot;,\n",
       "  &quot;detectRetina&quot;: false,\n",
       "  &quot;tms&quot;: false,\n",
       "  &quot;opacity&quot;: 1,\n",
       "}\n",
       "\n",
       "            );\n",
       "        \n",
       "    \n",
       "            tile_layer_98b468f03962693a3a0b20a650b21459.addTo(map_f4d601b5bb7330a7cccea3dd316a59b0);\n",
       "        \n",
       "    \n",
       "            var heat_map_da83d02c6bbcb530168544442525ddaa = L.heatLayer(\n",
       "                [[52.566873, -2.115782], [52.582952, -2.127927], [52.634572, -2.110937], [52.605624, -2.111602], [52.606184, -2.086648], [52.591086, -2.078942], [52.584036, -2.123059], [52.572534, -2.118305], [52.59873, -2.164145], [52.56837, -2.143966], [52.55484, -2.100853], [52.589067, -2.126468], [52.547923, -2.094349], [52.584663, -2.125422], [52.567437, -2.086276], [52.601843, -2.1866], [52.598001, -2.089879], [52.620274, -2.114593], [52.557558, -2.072244], [52.622695, -2.12169], [52.585792, -2.158783], [52.59782, -2.091651], [52.597296, -2.160891], [52.55475, -2.100706], [52.619187, -2.123453], [52.568517, -2.168901], [52.585388, -2.119816], [52.564481, -2.07019], [52.582505, -2.192569], [52.596953, -2.148636], [52.566957, -2.121831], [52.575294, -2.142513], [52.618602, -2.161413], [52.580786, -2.135447], [52.571988, -2.125239], [52.591961, -2.109648], [52.560717, -2.153382], [52.584829, -2.137673], [52.612943, -2.059191], [52.56864, -2.143524], [52.583894, -2.079076], [52.568796, -2.070934], [52.606077, -2.107321], [52.586099, -2.127788], [52.629353, -2.115504], [52.58197, -2.121578], [52.584832, -2.135459], [52.547923, -2.094349], [52.56116, -2.061776], [52.610096, -2.133618], [52.583045, -2.125713], [52.598544, -2.168426], [52.585056, -2.088525], [52.568759, -2.117705], [52.573209, -2.057071], [52.573018, -2.077139], [52.574942, -2.136019], [52.616682, -2.111039], [52.562775, -2.066352], [52.559633, -2.156918], [52.573478, -2.058547], [52.575211, -2.13661], [52.587532, -2.132663], [52.569236, -2.168904], [52.578274, -2.131012], [52.629505, -2.141803], [52.587159, -2.144175], [52.55484, -2.100853], [52.603298, -2.098897], [52.613077, -2.120039], [52.566147, -2.121976], [52.566776, -2.122568], [52.558269, -2.083898], [52.558717, -2.086111], [52.573002, -2.097944], [52.579359, -2.125555], [52.635367, -2.124976], [52.613096, -2.09951], [52.563571, -2.170062], [52.565465, -2.078453], [52.584434, -2.07893], [52.627723, -2.127318], [52.615062, -2.113251], [52.569434, -2.054411], [52.58314, -2.12099], [52.585585, -2.17797], [52.565195, -2.078748], [52.590068, -2.114367], [52.583392, -2.137078], [52.576887, -2.070948], [52.597745, -2.161779], [52.574016, -2.060761], [52.584676, -2.112582], [52.569236, -2.085099], [52.562775, -2.066352], [52.58241, -2.130877], [52.610696, -2.059631], [52.561841, -2.112671], [52.578532, -2.141343], [52.551613, -2.0889], [52.56722, -2.127438], [52.607638, -2.061103], [52.576753, -2.124367], [52.591428, -2.102561], [52.580621, -2.122754], [52.562775, -2.066352], [52.573209, -2.057071], [52.574674, -2.134395], [52.582136, -2.198766], [52.585544, -2.141218], [52.585994, -2.141367], [52.61898, -2.147382], [52.581311, -2.148141], [52.568991, -2.150607], [52.582143, -2.128367], [52.586056, -2.163064], [52.583858, -2.122026], [52.548732, -2.094793], [52.555032, -2.085219], [52.590955, -2.126326], [52.599267, -2.078661], [52.58353, -2.085422], [52.58739, -2.093105], [52.565736, -2.075946], [52.56963, -2.142642], [52.618512, -2.161412], [52.593225, -2.103303], [52.577023, -2.124368], [52.611083, -2.13495], [52.54612, -2.100391], [52.607428, -2.104814], [52.566078, -2.099994], [52.566147, -2.121976], [52.554413, -2.068846], [52.592411, -2.108911], [52.561776, -2.08243], [52.601553, -2.135363], [52.597745, -2.161779], [52.577034, -2.184428], [52.573224, -2.144425], [52.60818, -2.056674], [52.612488, -2.069528], [52.593721, -2.144787], [52.571743, -2.099122], [52.59185, -2.130167], [52.609858, -2.102013], [52.587783, -2.148163], [52.587543, -2.190524], [52.553608, -2.062651], [52.584473, -2.13472], [52.615321, -2.123147], [52.583049, -2.122023], [52.562021, -2.113114], [52.581508, -2.133678], [52.586731, -2.125576], [52.580262, -2.121573], [52.598461, -2.163701], [52.55954, -2.159426], [52.58395, -2.11996], [52.583712, -2.082028], [52.59507, -2.144054], [52.585146, -2.08882], [52.58578, -2.167196], [52.583858, -2.121878], [52.594036, -2.101091], [52.580528, -2.125411], [52.615327, -2.117978], [52.607457, -2.063023], [52.589221, -2.148463], [52.625915, -2.136177], [52.596001, -2.115416], [52.555298, -2.171358], [52.596632, -2.113351], [52.560352, -2.058087], [52.634385, -2.118472], [52.569721, -2.142495], [52.585193, -2.134575], [52.585386, -2.121587], [52.599963, -2.107896], [52.610287, -2.123133], [52.548013, -2.094496], [52.547473, -2.095085], [52.589337, -2.126764], [52.573756, -2.150476], [52.574876, -2.113885], [52.574196, -2.060466], [52.570259, -2.14353], [52.557621, -2.10794], [52.599531, -2.170201], [52.592394, -2.126183], [52.589068, -2.126026], [52.597631, -2.10228], [52.607411, -2.121943], [52.576528, -2.070062], [52.570556, -2.118743], [52.593506, -2.08987], [52.584656, -2.131769], [52.571848, -2.079055], [52.584768, -2.182985], [52.606203, -2.156199], [52.566956, -2.122864], [52.57793, -2.116697], [52.562775, -2.066352], [52.568254, -2.164179], [52.586731, -2.125576], [52.585376, -2.131181], [52.581777, -2.133827], [52.607367, -2.064352], [52.581059, -2.132791], [52.585738, -2.129116], [52.626299, -2.113575], [52.604311, -2.062871], [52.586726, -2.130152], [52.577508, -2.08364], [52.583437, -2.090145], [52.576948, -2.18251], [52.561657, -2.117833], [52.585782, -2.16572], [52.61461, -2.115612], [52.566783, -2.115929], [52.59489, -2.144939], [52.608626, -2.063615], [52.576716, -2.155651], [52.607904, -2.161226], [52.597874, -2.129446], [52.569057, -2.084361], [52.598461, -2.163701], [52.571604, -2.146337], [52.604919, -2.095062], [52.583315, -2.125419], [52.612109, -2.097736], [52.560627, -2.153529], [52.568105, -2.139834], [52.587159, -2.144175], [52.599264, -2.168133], [52.578549, -2.126143], [52.598724, -2.084713], [52.611567, -2.100245], [52.569966, -2.068281], [52.617741, -2.130539], [52.572437, -2.125683], [52.592321, -2.108911], [52.58218, -2.088224], [52.581255, -2.117738], [52.608121, -2.130806], [52.607458, -2.062875], [52.598281, -2.07423], [52.617021, -2.131128], [52.596992, -2.112761], [52.593185, -2.142128], [52.600084, -2.160163], [52.594216, -2.101387], [52.590514, -2.118206], [52.609953, -2.095073], [52.587921, -2.103143], [52.601861, -2.175378], [52.558807, -2.086407], [52.590639, -2.07466], [52.568573, -2.124049], [52.57372, -2.099864], [52.588352, -2.122481], [52.570034, -2.177022], [52.561776, -2.083315], [52.582505, -2.192569], [52.594933, -2.103012], [52.56507, -2.120793], [52.605066, -2.129911], [52.580528, -2.125411], [52.592231, -2.109058], [52.587981, -2.132812], [52.56864, -2.143672], [52.587633, -2.122626], [52.581775, -2.135745], [52.562021, -2.112966], [52.59491, -2.127223], [52.568519, -2.081704], [52.607638, -2.060956], [52.573002, -2.098091], [52.594606, -2.155862], [52.573451, -2.099273], [52.582545, -2.079517], [52.568213, -2.1239], [52.605449, -2.106285], [52.566956, -2.122716], [52.603402, -2.07985], [52.580431, -2.131756], [52.606242, -2.190605], [52.558005, -2.164288], [52.584833, -2.134131], [52.573691, -2.12908], [52.577023, -2.124368], [52.570847, -2.095283], [52.585738, -2.129263], [52.567664, -2.132751], [52.562775, -2.066352], [52.58332, -2.120548], [52.594953, -2.076734], [52.637164, -2.125868], [52.569523, -2.056181], [52.595306, -2.087217], [52.555032, -2.085219], [52.615042, -2.13186], [52.570739, -2.114907], [52.597364, -2.099622], [52.563754, -2.083318], [52.584742, -2.135754], [52.574803, -2.094849], [52.571161, -2.140729], [52.573357, -2.103552], [52.589517, -2.12647], [52.617927, -2.124336], [52.597361, -2.10228], [52.629065, -2.133232], [52.598493, -2.138897], [52.584673, -2.115386], [52.617111, -2.131128], [52.583035, -2.134273], [52.61177, -2.160797], [52.595375, -2.111428], [52.582118, -2.149472], [52.566878, -2.110176], [52.597042, -2.148932], [52.573209, -2.057071], [52.605547, -2.096097], [52.570673, -2.170237], [52.576663, -2.124367], [52.591671, -2.129576], [52.577023, -2.124368], [52.570271, -2.132906], [52.583348, -2.087931], [52.603748, -2.097865], [52.584156, -2.171618], [52.572464, -2.095877], [52.586695, -2.155834], [52.568886, -2.07064], [52.603298, -2.098897], [52.605215, -2.052978], [52.57949, -2.077298], [52.605605, -2.13006], [52.571119, -2.091595], [52.588594, -2.147132], [52.592574, -2.126183], [52.600255, -2.079696], [52.586731, -2.125576], [52.582298, -2.14903], [52.625645, -2.136767], [52.569735, -2.130249], [52.565809, -2.098813], [52.571515, -2.145157], [52.592321, -2.108911], [52.580522, -2.130724], [52.588894, -2.119973], [52.576212, -2.126284], [52.567135, -2.123012], [52.61288, -2.136284], [52.582955, -2.12586], [52.616782, -2.099814], [52.604012, -2.10451], [52.553492, -2.100408], [52.569123, -2.113132], [52.568993, -2.149427], [52.591428, -2.102561], [52.559334, -2.101454], [52.582047, -2.133385], [52.599554, -2.152927], [52.611041, -2.08267], [52.606237, -2.193559], [52.617978, -2.156979], [52.584256, -2.075092], [52.565869, -2.13009], [52.563845, -2.080663], [52.575122, -2.136462], [52.589427, -2.126322], [52.6114, -2.083556], [52.589067, -2.126468], [52.594557, -2.120579], [52.612453, -2.114573], [52.566783, -2.115782], [52.58474, -2.137378], [52.559449, -2.160015], [52.557825, -2.164877], [52.597427, -2.127231], [52.583251, -2.097672], [52.566786, -2.112093], [52.583602, -2.107266], [52.555289, -2.101002], [52.592298, -2.131349], [52.569521, -2.158282], [52.577368, -2.137798], [52.595428, -2.145974], [52.593496, -2.101533], [52.568254, -2.164474], [52.623685, -2.11992], [52.5789, -2.133965], [52.559633, -2.157066], [52.597245, -2.129297], [52.574844, -2.143102], [52.587442, -2.132663], [52.590497, -2.134444], [52.612992, -2.11487], [52.568519, -2.081704], [52.589599, -2.133408], [52.577174, -2.14916], [52.616355, -2.068205], [52.564139, -2.148525], [52.562111, -2.113114], [52.567665, -2.131718], [52.594933, -2.103012], [52.627903, -2.127171], [52.576411, -2.10651], [52.569478, -2.118002], [52.613187, -2.098624], [52.599978, -2.171827], [52.607458, -2.062432], [52.597425, -2.129298], [52.60374, -2.180701], [52.591072, -2.097984], [52.58736, -2.126021], [52.593745, -2.123529], [52.579089, -2.125997], [52.577025, -2.122154], [52.611581, -2.082818], [52.629612, -2.126142], [52.575047, -2.122591], [52.572975, -2.126127], [52.596193, -2.102129], [52.585546, -2.140185], [52.627992, -2.12791], [52.588352, -2.122776], [52.591601, -2.11009], [52.583766, -2.123649], [52.548539, -2.109982], [52.605256, -2.119575], [52.569388, -2.118002], [52.587159, -2.144175], [52.567577, -2.13039], [52.583894, -2.079076], [52.572027, -2.166406], [52.576253, -2.078177], [52.575175, -2.078028], [52.58474, -2.13723], [52.565728, -2.088043], [52.626898, -2.141351], [52.576163, -2.078177], [52.58043, -2.132789], [52.585907, -2.138858], [52.59708, -2.115123], [52.583858, -2.121878], [52.597745, -2.161779], [52.585286, -2.131771], [52.585285, -2.131919], [52.590407, -2.134443], [52.590298, -2.150533], [52.608409, -2.113381], [52.588977, -2.126763], [52.572285, -2.095286], [52.607457, -2.063023], [52.581791, -2.120987], [52.579848, -2.166288], [52.595799, -2.136084], [52.592131, -2.119391], [52.58924, -2.132964], [52.584124, -2.125273], [52.582732, -2.068005], [52.570122, -2.102069], [52.565464, -2.166381], [52.622867, -2.128782], [52.566783, -2.115929], [52.571151, -2.148844], [52.62882, -2.109001], [52.598673, -2.138455], [52.601463, -2.135511], [52.616264, -2.161404], [52.560717, -2.153529], [52.589006, -2.095913], [52.59471, -2.144938], [52.587711, -2.133402], [52.582943, -2.136634], [52.580707, -2.125559], [52.589599, -2.133555], [52.559542, -2.157803], [52.614413, -2.132006], [52.560709, -2.064136], [52.624277, -2.15257], [52.598105, -2.068767], [52.59742, -2.133284], [52.614826, -2.161251], [52.595621, -2.134902], [52.579911, -2.11316], [52.614539, -2.094049], [52.556006, -2.104101], [52.587723, -2.122332], [52.616361, -2.05698], [52.580427, -2.135151], [52.575972, -2.094557], [52.58739, -2.093105], [52.598011, -2.074377], [52.56795, -2.116965], [52.633674, -2.1099], [52.59582, -2.116154], [52.620619, -2.129514], [52.557279, -2.085519], [52.574763, -2.135281], [52.574932, -2.144725], [52.572872, -2.138521], [52.561267, -2.14527], [52.557788, -2.120331], [52.558546, -2.163405], [52.61882, -2.130247], [52.572792, -2.129668], [52.598926, -2.152039], [52.581228, -2.141942], [52.582316, -2.133976], [52.578952, -2.076116], [52.627616, -2.142831], [52.555826, -2.103953], [52.573002, -2.098091], [52.592124, -2.126034], [52.54846, -2.097742], [52.564481, -2.07019], [52.547923, -2.094349], [52.586731, -2.125576], [52.565614, -2.115926], [52.576737, -2.139271], [52.60392, -2.181145], [52.570939, -2.172451], [52.574975, -2.104293], [52.567495, -2.123308], [52.606243, -2.19031], [52.571212, -2.170387], [52.583252, -2.096934], [52.596347, -2.128704], [52.618405, -2.094205], [52.581255, -2.117738], [52.631861, -2.125262], [52.564109, -2.089515], [52.571538, -2.124942], [52.570509, -2.062084], [52.613117, -2.162131], [52.572054, -2.145306], [52.578641, -2.124372], [52.586642, -2.191554], [52.60818, -2.056378], [52.592573, -2.126478], [52.587981, -2.132812], [52.551334, -2.100845], [52.559268, -2.161047], [52.617111, -2.131128], [52.593406, -2.101532], [52.58305, -2.120695], [52.566194, -2.062373], [52.616155, -2.096563], [52.590602, -2.11983], [52.596723, -2.11276], [52.587718, -2.193477], [52.562225, -2.083315], [52.556039, -2.055132], [52.592823, -2.144341], [52.576122, -2.126284], [52.56498, -2.120793], [52.595459, -2.117629], [52.593292, -2.12648], [52.580348, -2.125705], [52.594004, -2.133126], [52.596167, -2.128851], [52.585009, -2.138264], [52.616515, -2.096121], [52.564841, -2.070781], [52.579971, -2.140757], [52.61479, -2.115613], [52.561167, -2.152793], [52.566955, -2.123749], [52.610785, -2.059778], [52.617054, -2.096122], [52.569611, -2.060755], [52.616657, -2.134671], [52.592344, -2.079977], [52.593185, -2.142128], [52.603478, -2.098455], [52.581731, -2.087337], [52.552345, -2.070465], [52.58646, -2.126756], [52.59782, -2.091503], [52.548013, -2.094349], [52.597202, -2.074967], [52.586103, -2.123655], [52.584124, -2.125273], [52.587724, -2.189639], [52.593223, -2.10537], [52.569291, -2.124346], [52.598493, -2.138897], [52.626927, -2.114168], [52.597745, -2.161779], [52.607638, -2.061103], [52.604036, -2.07232], [52.618202, -2.119019], [52.599375, -2.152779], [52.592538, -2.156003], [52.603568, -2.09816], [52.582945, -2.134273], [52.61822, -2.099522], [52.586731, -2.125724], [52.594771, -2.080129], [52.596166, -2.129441], [52.58106, -2.132201], [52.617021, -2.131128], [52.60606, -2.192081], [52.611187, -2.122102], [52.579931, -2.089547], [52.586821, -2.125429], [52.561931, -2.112966], [52.574214, -2.143985], [52.553335, -2.06796], [52.557825, -2.164582], [52.593313, -2.10537], [52.584653, -2.135164], [52.555826, -2.103953], [52.577368, -2.137798], [52.571359, -2.124942], [52.599264, -2.168133], [52.557738, -2.071064], [52.589338, -2.125436], [52.604347, -2.129613], [52.547923, -2.094349], [52.59736, -2.179051], [52.583712, -2.082766], [52.559694, -2.101455], [52.569672, -2.10192], [52.584297, -2.131473], [52.617111, -2.131128], [52.574336, -2.114031], [52.598223, -2.138896], [52.596042, -2.157934], [52.58097, -2.132496], [52.570931, -2.102366], [52.586401, -2.172955], [52.57147, -2.102662], [52.55918, -2.065461], [52.583619, -2.086898], [52.591691, -2.110238], [52.602517, -2.15589], [52.60482, -2.105398], [52.618045, -2.094647], [52.588894, -2.119825], [52.595593, -2.157194], [52.563845, -2.080663], [52.620708, -2.129662], [52.562021, -2.112966], [52.572401, -2.155341], [52.601707, -2.056665], [52.586056, -2.162917], [52.621588, -2.145913], [52.606077, -2.107321], [52.592214, -2.126182], [52.61732, -2.100997], [52.586146, -2.162769], [52.561567, -2.117833], [52.598863, -2.129597], [52.574057, -2.123326], [52.5622, -2.113262], [52.590568, -2.149943], [52.56952, -2.158724], [52.624674, -2.120514], [52.566866, -2.122716], [52.58384, -2.138261], [52.609059, -2.089459], [52.595887, -2.13756], [52.593223, -2.105223], [52.547923, -2.094349], [52.598551, -2.163849], [52.573926, -2.060319], [52.585286, -2.131771], [52.593326, -2.089575], [52.592827, -2.140503], [52.584434, -2.07893], [52.567664, -2.132603], [52.588971, -2.132372], [52.618783, -2.065993], [52.597559, -2.079101], [52.568759, -2.117705], [52.589067, -2.126468], [52.568017, -2.138801], [52.595593, -2.157194], [52.563605, -2.144393], [52.593475, -2.124267], [52.599531, -2.170201], [52.574402, -2.13705], [52.59915, -2.184521], [52.580522, -2.130871], [52.586897, -2.13768], [52.584294, -2.134572], [52.584029, -2.129996], [52.586546, -2.130151], [52.575122, -2.136462], [52.589336, -2.126912], [52.618202, -2.119019], [52.593136, -2.102713], [52.57078, -2.060019], [52.583001, -2.069039], [52.576717, -2.155356], [52.621515, -2.131732], [52.601829, -2.130344], [52.608968, -2.089902], [52.580258, -2.12541], [52.596526, -2.129442], [52.581472, -2.070955], [52.629088, -2.111071], [52.612807, -2.120334], [52.603106, -2.111743], [52.567176, -2.074768], [52.585546, -2.140037], [52.596706, -2.129148], [52.554328, -2.060587], [52.585783, -2.165425], [52.583228, -2.122024], [52.575122, -2.136462], [52.56834, -2.080819], [52.611761, -2.081933], [52.557262, -2.107054], [52.590413, -2.128686], [52.579179, -2.125407], [52.585642, -2.134576], [52.585897, -2.14668], [52.595799, -2.136527], [52.609858, -2.101718], [52.581777, -2.133827], [52.609138, -2.102455], [52.572082, -2.12037], [52.579121, -2.090579], [52.621479, -2.160832], [52.560446, -2.154119], [52.580269, -2.114637], [52.609858, -2.101718], [52.588413, -2.148165], [52.612825, -2.101134], [52.552796, -2.067369], [52.621516, -2.131437], [52.587361, -2.124987], [52.605074, -2.122232], [52.574214, -2.143985], [52.580707, -2.126149], [52.575774, -2.114772], [52.582838, -2.148736], [52.548822, -2.094793], [52.587713, -2.131631], [52.556174, -2.116934], [52.584832, -2.135607], [52.579641, -2.11375], [52.598593, -2.129596], [52.566449, -2.085536], [52.619187, -2.123453], [52.566507, -2.12242], [52.585685, -2.089707], [52.568849, -2.117558], [52.568613, -2.076983], [52.592737, -2.140503], [52.559713, -2.075345], [52.576285, -2.140598], [52.605271, -2.104513], [52.629243, -2.13471], [52.57809, -2.134553], [52.569256, -2.154592], [52.590587, -2.134592], [52.569326, -2.085395], [52.608726, -2.151039], [52.616242, -2.099813], [52.555109, -2.101001], [52.567315, -2.12316], [52.569973, -2.055297], [52.576196, -2.140303], [52.594395, -2.101387], [52.631861, -2.125262], [52.570566, -2.107972], [52.609585, -2.105262], [52.582141, -2.130433], [52.611852, -2.080161], [52.566783, -2.115487], [52.606356, -2.097132], [52.610511, -2.161383], [52.585372, -2.135314], [52.567042, -2.125962], [52.586009, -2.128231], [52.59906, -2.184521], [52.563217, -2.078597], [52.584209, -2.129849], [52.611567, -2.100245], [52.564824, -2.09468], [52.560442, -2.058382], [52.612209, -2.084001], [52.578459, -2.126143], [52.565614, -2.115779], [52.583769, -2.120402], [52.562091, -2.132439], [52.561656, -2.118866], [52.572347, -2.125682], [52.57827, -2.134406], [52.585738, -2.129116], [52.615698, -2.105867], [52.551785, -2.098929], [52.596706, -2.129148], [52.597654, -2.161926], [52.56338, -2.101316], [52.58512, -2.118487], [52.60978, -2.087245], [52.579795, -2.137953], [52.552436, -2.067073], [52.598724, -2.08368], [52.575244, -2.104442], [52.612076, -2.131704], [52.565101, -2.084354], [52.586014, -2.122917], [52.586557, -2.119524], [52.589337, -2.126469], [52.575184, -2.158302], [52.590339, -2.113777], [52.577925, -2.121566], [52.579435, -2.137804], [52.624732, -2.147992], [52.561776, -2.082725], [52.580348, -2.125263], [52.560532, -2.05912], [52.575594, -2.114772], [52.604192, -2.104363], [52.590429, -2.113777], [52.604399, -2.160032], [52.620432, -2.135717], [52.572776, -2.14339], [52.569631, -2.1422], [52.566782, -2.116224], [52.593439, -2.154529], [52.593962, -2.07998], [52.568251, -2.080524], [52.564576, -2.061781], [52.559541, -2.159131], [52.574594, -2.126279], [52.566956, -2.122864], [52.594287, -2.121464], [52.575345, -2.172321], [52.605844, -2.052684], [52.621728, -2.097609], [52.573458, -2.089829], [52.59082, -2.073332], [52.573694, -2.126424], [52.629065, -2.13338], [52.616354, -2.161257], [52.566782, -2.116372], [52.616791, -2.087555], [52.595952, -2.157786], [52.607357, -2.080743], [52.616121, -2.131568], [52.606903, -2.087535], [52.568742, -2.133934], [52.607801, -2.088423], [52.596706, -2.129148], [52.579718, -2.125851], [52.583602, -2.107413], [52.602965, -2.057848], [52.583739, -2.147411], [52.564392, -2.069895], [52.578913, -2.190044], [52.580348, -2.125705], [52.584733, -2.143577], [52.557005, -2.172249], [52.580521, -2.131314], [52.584066, -2.171617], [52.56507, -2.120793], [52.550187, -2.069872], [52.580763, -2.154633], [52.585323, -2.17236], [52.579848, -2.166731], [52.59573, -2.116596], [52.549903, -2.090814], [52.602952, -2.079701], [52.578639, -2.126291], [52.575211, -2.13661], [52.578938, -2.173811], [52.568105, -2.139834], [52.574051, -2.129081], [52.585372, -2.134576], [52.613006, -2.099362], [52.571179, -2.124794], [52.569431, -2.06105], [52.594168, -2.14656], [52.580137, -2.151826], [52.58473, -2.145643], [52.564908, -2.101467], [52.588839, -2.077904], [52.580737, -2.093534], [52.567042, -2.125815], [52.57069, -2.059871], [52.600507, -2.103321], [52.593925, -2.123087], [52.603208, -2.099045], [52.595911, -2.115711], [52.563173, -2.129492], [52.580527, -2.125853], [52.604583, -2.059327], [52.595888, -2.137117], [52.566866, -2.122716], [52.587902, -2.12307], [52.585372, -2.134576], [52.582315, -2.198914], [52.58196, -2.131171], [52.580537, -2.115966], [52.58873, -2.178721], [52.576411, -2.10651], [52.569461, -2.133494], [52.566613, -2.105159], [52.570531, -2.141612], [52.587966, -2.145949], [52.596902, -2.112908], [52.562111, -2.113114], [52.551523, -2.089195], [52.593439, -2.154529], [52.583257, -2.090292], [52.579941, -2.163927], [52.593223, -2.105223], [52.581345, -2.117886], [52.563853, -2.068566], [52.605209, -2.160034], [52.593468, -2.130762], [52.580707, -2.125706], [52.591162, -2.098132], [52.557172, -2.107054], [52.597803, -2.111434], [52.578529, -2.143852], [52.585044, -2.103875], [52.606237, -2.193559], [52.559815, -2.155886], [52.582595, -2.192569], [52.594094, -2.133421], [52.576947, -2.182657], [52.565974, -2.11578], [52.58043, -2.132789], [52.551785, -2.098929], [52.582096, -2.079516], [52.564198, -2.090548], [52.580348, -2.125558], [52.572755, -2.064596], [52.636805, -2.125424], [52.596033, -2.163987], [52.612584, -2.05919], [52.622395, -2.147836], [52.565828, -2.073438], [52.584564, -2.134278], [52.598281, -2.07423], [52.596311, -2.158526], [52.628819, -2.110036], [52.569498, -2.174659], [52.587721, -2.124103], [52.565653, -2.065766], [52.572885, -2.126717], [52.5581, -2.067377], [52.580448, -2.115375], [52.575182, -2.065633], [52.566543, -2.165943], [52.591291, -2.147289], [52.62464, -2.150355], [52.57971, -2.133378], [52.579885, -2.137953], [52.587292, -2.103289], [52.575223, -2.126133], [52.614799, -2.104979], [52.554576, -2.173125], [52.595977, -2.137413], [52.609328, -2.089755], [52.552326, -2.09716], [52.578623, -2.140458], [52.618045, -2.094647], [52.557788, -2.120331], [52.566783, -2.115782], [52.571031, -2.171271], [52.562382, -2.11164], [52.571604, -2.14619], [52.570777, -2.065773], [52.557918, -2.070622], [52.609858, -2.101718], [52.58332, -2.120548], [52.588531, -2.123662], [52.58353, -2.085275], [52.567042, -2.12611], [52.613437, -2.119745], [52.57639, -2.127908], [52.554656, -2.104983], [52.619545, -2.124636], [52.583602, -2.107118], [52.557735, -2.164877], [52.627004, -2.127021], [52.583624, -2.079961], [52.566274, -2.166089], [52.614621, -2.103058], [52.576356, -2.156093], [52.621248, -2.12922], [52.591495, -2.126328], [52.581525, -2.117296], [52.565918, -2.0727], [52.568993, -2.149575], [52.588172, -2.122628], [52.594664, -2.103159], [52.560442, -2.058235], [52.569521, -2.060903], [52.590083, -2.097687], [52.583437, -2.089997], [52.570276, -2.128332], [52.567894, -2.164767], [52.584124, -2.125273], [52.598551, -2.163701], [52.57028, -2.124644], [52.577025, -2.122302], [52.610064, -2.064208], [52.583424, -2.105199], [52.581775, -2.135893], [52.597442, -2.112024], [52.557788, -2.120331], [52.60129, -2.130047], [52.592862, -2.107731], [52.600803, -2.160018], [52.558907, -2.162226], [52.586941, -2.092366], [52.584675, -2.11391], [52.57639, -2.127908], [52.586731, -2.125428], [52.612209, -2.084001], [52.576232, -2.106067], [52.558537, -2.086111], [52.586284, -2.123066], [52.602276, -2.13256], [52.587678, -2.160413], [52.58405, -2.10889], [52.569161, -2.061345], [52.566957, -2.121241], [52.588594, -2.14728], [52.55954, -2.159426], [52.559723, -2.157509], [52.557288, -2.072686], [52.615972, -2.100994], [52.583251, -2.097229], [52.595684, -2.156457], [52.58353, -2.085275], [52.570634, -2.129809], [52.552153, -2.088163], [52.57639, -2.127908], [52.576411, -2.10651], [52.589978, -2.114662], [52.581345, -2.117886], [52.569523, -2.056181], [52.611477, -2.100245], [52.581165, -2.117738], [52.598411, -2.131958], [52.58325, -2.099295], [52.566959, -2.119471], [52.599894, -2.082501], [52.568816, -2.146918], [52.585648, -2.129558], [52.58332, -2.120548], [52.57962, -2.133377], [52.597385, -2.162073], [52.564389, -2.07432], [52.570811, -2.132465], [52.60491, -2.105398], [52.606645, -2.068485], [52.576528, -2.070062], [52.581826, -2.079515], [52.580672, -2.15537], [52.590949, -2.131788], [52.606239, -2.19282], [52.598185, -2.167981], [52.621965, -2.13129], [52.571628, -2.124943], [52.616721, -2.054469], [52.57639, -2.127908], [52.556185, -2.104839], [52.593185, -2.142128], [52.591053, -2.188325], [52.594031, -2.180957], [52.609858, -2.101718], [52.575212, -2.136463], [52.585456, -2.139742], [52.594895, -2.14051], [52.591484, -2.136218], [52.589421, -2.132226], [52.565191, -2.084501], [52.567428, -2.175683], [52.626916, -2.125248], [52.588881, -2.13252], [52.590798, -2.103593], [52.589246, -2.127797], [52.569431, -2.158429], [52.599264, -2.168429], [52.582865, -2.12586], [52.606645, -2.068485], [52.599352, -2.169167], [52.560442, -2.058087], [52.574324, -2.126426], [52.564481, -2.070042], [52.57639, -2.127908], [52.586012, -2.125426], [52.5922, -2.138287], [52.583939, -2.129996], [52.587451, -2.124692], [52.604976, -2.12991], [52.577118, -2.119055], [52.581608, -2.191679], [52.589067, -2.126468], [52.580704, -2.128363], [52.568071, -2.079491], [52.583408, -2.122024], [52.603042, -2.079702], [52.55484, -2.101001], [52.594434, -2.149957], [52.605286, -2.085021], [52.601619, -2.155149], [52.593314, -2.104042], [52.56687, -2.118733], [52.58353, -2.085275], [52.56417, -2.121381], [52.607288, -2.151329], [52.586666, -2.176055], [52.60854, -2.054754], [52.593225, -2.103894], [52.571759, -2.077727], [52.584564, -2.134278], [52.579311, -2.077002], [52.569426, -2.06946], [52.581016, -2.166735], [52.58106, -2.132201], [52.589849, -2.149793], [52.580891, -2.12246], [52.585472, -2.125425], [52.581049, -2.141794], [52.606024, -2.052536], [52.576857, -2.182952], [52.583845, -2.134128], [52.562021, -2.112819], [52.580438, -2.125706], [52.610871, -2.161237], [52.573634, -2.095142], [52.572285, -2.094991], [52.595447, -2.129735], [52.577023, -2.124368], [52.585282, -2.134575], [52.57873, -2.125258], [52.585557, -2.130148], [52.598008, -2.166209], [52.601949, -2.099337], [52.606916, -2.160631], [52.595264, -2.132244], [52.597451, -2.101985], [52.621964, -2.132472], [52.55484, -2.100853], [52.57406, -2.120818], [52.566696, -2.112536], [52.587118, -2.174581], [52.55493, -2.101001], [52.585021, -2.193465], [52.566008, -2.073438], [52.613989, -2.106749], [52.590892, -2.097984], [52.597323, -2.140075], [52.567534, -2.076834], [52.587451, -2.124692], [52.550251, -2.104825], [52.577023, -2.124368], [52.579742, -2.177651], [52.595593, -2.157194], [52.614826, -2.161251], [52.586133, -2.090446], [52.598281, -2.07423], [52.574975, -2.103703], [52.595301, -2.093269], [52.608666, -2.125786], [52.561656, -2.118866], [52.580427, -2.135151], [52.575274, -2.158302], [52.570597, -2.066363], [52.592214, -2.126182], [52.554202, -2.110586], [52.617651, -2.130834], [52.56981, -2.142495], [52.58043, -2.132789], [52.561776, -2.082725], [52.582118, -2.149472], [52.57962, -2.133377], [52.598461, -2.07423], [52.6132, -2.166857], [52.568899, -2.15282], [52.565653, -2.064733], [52.609858, -2.101718], [52.609858, -2.101718], [52.578631, -2.133965], [52.591431, -2.17637], [52.616515, -2.096121], [52.550066, -2.111461], [52.619629, -2.130101], [52.593856, -2.101238], [52.556548, -2.1013], [52.574866, -2.123771], [52.60615, -2.191934], [52.550259, -2.095976], [52.589338, -2.125141], [52.592827, -2.140356], [52.588162, -2.132518], [52.596077, -2.128408], [52.595425, -2.148041], [52.584297, -2.131768], [52.58318, -2.071105], [52.618585, -2.093614], [52.583424, -2.105199], [52.611747, -2.100098], [52.588352, -2.122776], [52.565653, -2.064733], [52.575944, -2.12407], [52.605359, -2.106138], [52.562111, -2.113114], [52.56116, -2.061776], [52.575971, -2.095589], [52.561708, -2.15191], [52.585385, -2.122915], [52.574975, -2.103998], [52.588594, -2.147132], [52.597745, -2.161779], [52.581057, -2.134415], [52.581731, -2.087337], [52.587083, -2.132514], [52.58332, -2.120548], [52.564292, -2.16859], [52.59591, -2.116006], [52.596759, -2.159561], [52.621338, -2.12922], [52.607254, -2.09802], [52.584666, -2.122766], [52.55954, -2.159426], [52.57372, -2.099864], [52.582885, -2.10505], [52.600564, -2.136246], [52.575296, -2.141037], [52.58642, -2.159376], [52.6106, -2.161531], [52.629585, -2.149486], [52.577344, -2.156391], [52.57147, -2.102662], [52.580147, -2.144005], [52.583424, -2.105199], [52.595526, -2.13874], [52.607367, -2.063613], [52.600121, -2.129748], [52.609059, -2.089607], [52.589368, -2.173262], [52.600684, -2.106865], [52.584383, -2.134572], [52.582145, -2.126153], [52.606777, -2.127258], [52.56687, -2.119028], [52.604361, -2.115585], [52.617111, -2.131128], [52.566257, -2.10147], [52.58709, -2.126167], [52.575184, -2.158302], [52.561686, -2.082872], [52.571209, -2.09189], [52.620978, -2.129515], [52.604469, -2.096094], [52.580398, -2.159059], [52.590387, -2.150681], [52.58718, -2.126168], [52.570846, -2.095873], [52.586621, -2.142993], [52.547743, -2.094201], [52.585382, -2.12572], [52.612464, -2.102906], [52.570673, -2.170237], [52.616946, -2.1168], [52.565527, -2.112533], [52.577187, -2.138387], [52.598281, -2.07423], [52.571341, -2.140582], [52.582954, -2.126156], [52.593708, -2.154826], [52.570186, -2.128775], [52.573926, -2.060466], [52.583939, -2.129848], [52.58727, -2.12543], [52.587361, -2.12484], [52.607497, -2.126521], [52.580298, -2.078775], [52.587966, -2.145949], [52.576761, -2.186788], [52.584124, -2.125273], [52.589517, -2.12647], [52.575122, -2.136462], [52.586551, -2.125575], [52.584652, -2.135311], [52.58658, -2.173546], [52.585023, -2.125719], [52.596257, -2.128851], [52.590477, -2.150829], [52.587802, -2.132812], [52.5939, -2.145526], [52.599454, -2.160604], [52.594007, -2.130468], [52.613097, -2.098772], [52.586368, -2.12897], [52.586464, -2.122918], [52.593095, -2.141833], [52.566613, -2.105454], [52.575852, -2.126283], [52.576411, -2.10651], [52.570866, -2.160795], [52.567752, -2.134669], [52.576017, -2.139712], [52.571179, -2.124794], [52.57756, -2.126288], [52.597925, -2.161632], [52.58465, -2.137082], [52.589828, -2.078349], [52.577488, -2.108431], [52.580348, -2.125263], [52.606246, -2.18839], [52.57015, -2.060313], [52.585224, -2.10358], [52.55475, -2.100853], [52.57103, -2.091447], [52.555138, -2.057785], [52.551423, -2.101583], [52.553608, -2.062651], [52.584919, -2.137674], [52.564931, -2.070043], [52.597883, -2.189388], [52.583602, -2.107266], [52.612634, -2.113097], [52.54818, -2.109391], [52.603473, -2.104066], [52.617741, -2.130539], [52.60099, -2.154999], [52.625393, -2.120516], [52.601675, -2.103619], [52.62864, -2.109001], [52.58709, -2.126167], [52.577841, -2.186203], [52.58587, -2.167492], [52.579365, -2.188718], [52.563335, -2.144245], [52.606432, -2.111899], [52.599174, -2.083386], [52.582145, -2.126006], [52.562136, -2.08243], [52.601797, -2.057404], [52.56843, -2.081557], [52.57905, -2.062096], [52.551787, -2.095979], [52.607352, -2.087979], [52.606077, -2.107321], [52.613591, -2.142785], [52.573634, -2.095142], [52.57809, -2.134553], [52.598365, -2.167982], [52.589755, -2.153188], [52.563755, -2.166965], [52.568155, -2.170522], [52.613831, -2.165531], [52.580979, -2.123641], [52.571575, -2.16788], [52.594287, -2.121464], [52.582905, -2.07937], [52.580549, -2.103421], [52.617111, -2.131128], [52.570317, -2.167727], [52.579528, -2.135148], [52.633033, -2.121571], [52.592107, -2.140944], [52.575003, -2.064747], [52.604709, -2.127252], [52.580857, -2.151091], [52.555041, -2.071797], [52.5939, -2.145378], [52.572106, -2.094696], [52.593926, -2.122939], [52.594941, -2.093269], [52.5841, -2.146084], [52.563004, -2.119017], [52.562105, -2.118867], [52.580767, -2.151238], [52.564288, -2.090696], [52.61551, -2.114581], [52.593406, -2.101532], [52.559587, -2.119303], [52.59408, -2.145379], [52.609149, -2.089459], [52.575092, -2.159925], [52.596167, -2.128999], [52.599177, -2.078661], [52.619187, -2.123453], [52.577448, -2.145914], [52.600594, -2.106864], [52.619724, -2.125523], [52.585003, -2.142545], [52.591043, -2.128541], [52.561528, -2.151762], [52.57949, -2.077445], [52.56864, -2.143672], [52.592362, -2.153345], [52.627004, -2.127021], [52.593406, -2.102418], [52.588056, -2.145949], [52.603027, -2.099487], [52.596647, -2.09593], [52.588251, -2.132518], [52.575881, -2.095737], [52.580438, -2.125706], [52.584785, -2.171915], [52.627004, -2.127021], [52.568704, -2.163885], [52.570405, -2.168908], [52.614809, -2.093163], [52.600684, -2.106717], [52.598281, -2.07423], [52.606903, -2.087535], [52.56843, -2.081409], [52.582987, -2.171613], [52.55466, -2.100705], [52.582319, -2.131319], [52.597459, -2.093274], [52.588172, -2.122628], [52.610827, -2.122839], [52.597361, -2.10228], [52.58557, -2.118193], [52.579544, -2.189014], [52.582142, -2.129105], [52.558817, -2.162373], [52.564337, -2.133036], [52.567665, -2.131718], [52.589599, -2.133408], [52.599106, -2.152335], [52.56834, -2.080819], [52.571837, -2.093515], [52.578956, -2.161562], [52.601675, -2.103619], [52.574302, -2.145166], [52.583252, -2.096048], [52.58205, -2.130876], [52.585009, -2.138264], [52.586074, -2.149338], [52.583862, -2.11745], [52.590766, -2.135035], [52.561708, -2.15191], [52.597145, -2.138598], [52.584294, -2.134572], [52.572527, -2.124945], [52.565561, -2.069011], [52.606685, -2.194447], [52.56116, -2.061776], [52.607621, -2.088275], [52.586099, -2.127788], [52.598265, -2.175216], [52.60818, -2.056674], [52.596311, -2.158378], [52.583378, -2.148295], [52.598914, -2.160897], [52.571747, -2.093219], [52.566952, -2.12611], [52.598911, -2.074084], [52.550978, -2.096273], [52.58277, -2.13073], [52.612827, -2.099362], [52.586492, -2.172217], [52.598543, -2.086632], [52.595328, -2.153355], [52.593856, -2.101238], [52.583894, -2.079076], [52.579179, -2.125407], [52.596319, -2.15203], [52.585738, -2.128968], [52.564805, -2.115629], [52.602825, -2.191476], [52.584919, -2.137969], [52.61535, -2.091835], [52.589455, -2.096652], [52.584383, -2.13472], [52.58362, -2.085422], [52.584906, -2.1483], [52.592658, -2.131203], [52.611477, -2.100245], [52.584124, -2.125273], [52.591266, -2.07909], [52.600254, -2.081764], [52.57046, -2.124792], [52.573926, -2.060761], [52.606167, -2.107321], [52.584564, -2.134278], [52.595503, -2.157046], [52.593728, -2.139178], [52.585835, -2.122917], [52.568759, -2.117705], [52.606506, -2.194298], [52.576323, -2.179408], [52.588082, -2.123218], [52.566866, -2.123011], [52.583939, -2.129996], [52.59522, -2.080573], [52.610329, -2.072035], [52.591511, -2.110237], [52.58474, -2.13723], [52.581255, -2.117738], [52.605637, -2.096392], [52.57818, -2.134701], [52.564119, -2.073877], [52.583858, -2.121878], [52.617471, -2.130834], [52.601495, -2.103913], [52.60818, -2.056526], [52.579291, -2.102976], [52.577448, -2.145767], [52.610488, -2.101129], [52.628425, -2.142242], [52.5979, -2.103167], [52.597745, -2.161779], [52.611357, -2.131406], [52.57668, -2.106954], [52.59469, -2.160291], [52.622087, -2.098497], [52.594974, -2.149663], [52.566954, -2.124044], [52.569749, -2.11638], [52.580078, -2.125557], [52.597385, -2.162073], [52.57639, -2.127908], [52.600068, -2.17168], [52.619863, -2.159054], [52.608357, -2.158569], [52.602937, -2.099783], [52.580438, -2.125706], [52.616838, -2.133638], [52.575096, -2.05914], [52.593815, -2.141687], [52.607993, -2.161964], [52.593225, -2.102861], [52.594722, -2.134161], [52.628729, -2.110331], [52.582865, -2.125565], [52.610998, -2.131257], [52.617021, -2.131128], [52.593685, -2.090314], [52.588894, -2.120563], [52.595346, -2.139035], [52.589336, -2.126912], [52.57055, -2.124792], [52.567577, -2.130685], [52.596669, -2.159413], [52.590429, -2.11363], [52.582235, -2.126006], [52.585781, -2.166901], [52.627795, -2.142684], [52.582143, -2.128662], [52.574482, -2.145462], [52.596429, -2.135643], [52.579449, -2.125555], [52.614889, -2.105274], [52.596165, -2.130475], [52.572554, -2.096172], [52.565293, -2.065028], [52.576947, -2.182805], [52.56864, -2.143672], [52.605066, -2.129911], [52.569521, -2.158282], [52.597653, -2.072015], [52.565031, -2.15443], [52.559349, -2.08331], [52.583804, -2.078929], [52.572954, -2.144571], [52.569811, -2.142348], [52.549559, -2.068691], [52.55954, -2.159426], [52.58043, -2.132789], [52.576806, -2.155652], [52.634123, -2.110344], [52.582595, -2.192569], [52.563483, -2.084498], [52.621316, -2.14798], [52.595211, -2.092974], [52.616137, -2.116207], [52.617036, -2.1168], [52.585834, -2.123064], [52.56834, -2.080819], [52.579666, -2.168058], [52.553224, -2.098637], [52.587966, -2.145949], [52.582388, -2.149178], [52.58176, -2.148437], [52.603766, -2.073206], [52.59961, -2.177731], [52.583628, -2.07273], [52.589337, -2.126764], [52.569516, -2.069903], [52.56444, -2.121382], [52.589427, -2.126469], [52.598281, -2.07423], [52.593904, -2.142278], [52.567487, -2.13039], [52.610646, -2.123281], [52.56981, -2.142495], [52.573478, -2.058547], [52.587353, -2.197018], [52.619187, -2.123453], [52.588269, -2.186542], [52.611997, -2.121218], [52.627006, -2.125544], [52.58646, -2.126756], [52.623474, -2.147544], [52.597543, -2.099918], [52.61579, -2.102618], [52.596167, -2.128851], [52.58371, -2.085423], [52.589648, -2.078349], [52.59014, -2.132081], [52.564791, -2.129792], [52.583533, -2.08129], [52.560066, -2.169163], [52.555379, -2.101002], [52.58691, -2.125872], [52.580307, -2.159649], [52.574795, -2.103408], [52.567432, -2.173175], [52.585282, -2.134575], [52.586371, -2.125427], [52.619187, -2.123453], [52.597393, -2.155725], [52.565653, -2.065766], [52.575122, -2.136462], [52.557828, -2.071064], [52.596902, -2.113056], [52.596165, -2.130475], [52.592058, -2.100939], [52.54809, -2.109539], [52.565383, -2.064733], [52.570847, -2.095136], [52.555671, -2.069733], [52.596616, -2.129147], [52.607457, -2.063023], [52.567045, -2.122864], [52.59571, -2.135345], [52.588594, -2.147132], [52.569202, -2.124346], [52.569326, -2.08569], [52.634474, -2.119359], [52.556283, -2.174016], [52.619187, -2.123453], [52.618045, -2.094647], [52.596526, -2.129442], [52.584573, -2.12557], [52.589427, -2.126469], [52.568991, -2.151198], [52.626119, -2.113427], [52.576285, -2.140598], [52.610952, -2.082522], [52.575819, -2.154025], [52.621164, -2.124345], [52.587697, -2.145358], [52.617486, -2.116654], [52.568849, -2.117705], [52.578369, -2.126142], [52.596077, -2.128851], [52.566449, -2.085536], [52.600084, -2.160163], [52.583859, -2.120697], [52.600684, -2.106865], [52.57014, -2.165809], [52.601675, -2.103619], [52.569973, -2.055001], [52.569519, -2.159757], [52.585073, -2.15819], [52.55954, -2.159426], [52.607814, -2.161078], [52.595061, -2.151435], [52.5905, -2.131934], [52.55469, -2.156016], [52.562775, -2.066352], [52.620799, -2.128628], [52.569326, -2.08569], [52.582631, -2.085863], [52.568573, -2.124049], [52.555737, -2.10351], [52.583225, -2.125418], [52.571667, -2.079497], [52.599159, -2.102727], [52.569684, -2.170233], [52.591585, -2.12618], [52.564945, -2.150889], [52.587993, -2.12248], [52.547923, -2.094349], [52.594789, -2.153648], [52.567577, -2.130538], [52.576323, -2.179408], [52.568336, -2.087163], [52.584033, -2.126159], [52.583708, -2.088227], [52.579628, -2.125851], [52.61204, -2.067755], [52.59366, -2.188336], [52.607447, -2.080743], [52.582388, -2.149178], [52.568629, -2.152819], [52.599984, -2.082354], [52.589895, -2.181382], [52.605988, -2.107025], [52.59525, -2.144497], [52.605, -2.105694], [52.588352, -2.122776], [52.570312, -2.089528], [52.607458, -2.062284], [52.583678, -2.122025], [52.603447, -2.130496], [52.565822, -2.167858], [52.583902, -2.1604], [52.570946, -2.167877], [52.615665, -2.138065], [52.585899, -2.145647], [52.587966, -2.145949], [52.584652, -2.135311], [52.56475, -2.071518], [52.59882, -2.074526], [52.629975, -2.12304], [52.576152, -2.094409], [52.606638, -2.080742], [52.578811, -2.13367], [52.583602, -2.107118], [52.58772, -2.192444], [52.566866, -2.122273], [52.58043, -2.132789], [52.587929, -2.093992], [52.594751, -2.180369], [52.626916, -2.125248], [52.58465, -2.137082], [52.615242, -2.112217], [52.574686, -2.123623], [52.582145, -2.126006], [52.567432, -2.173323], [52.583602, -2.107118], [52.567042, -2.125962], [52.620709, -2.128775], [52.595294, -2.101832], [52.577187, -2.138387], [52.612995, -2.111916], [52.569078, -2.152821], [52.583894, -2.079224], [52.56479, -2.129939], [52.574671, -2.137051], [52.566783, -2.115782], [52.585472, -2.125572], [52.604346, -2.129909], [52.583558, -2.148296], [52.585188, -2.138855], [52.591961, -2.109353], [52.586311, -2.173102], [52.549179, -2.097448], [52.593562, -2.126629], [52.602233, -2.079848], [52.5722, -2.089384], [52.591842, -2.137105], [52.605299, -2.063906], [52.594992, -2.133867], [52.599, -2.074379], [52.615642, -2.156528], [52.58353, -2.085275], [52.585652, -2.125721], [52.588968, -2.135325], [52.627827, -2.113283], [52.576266, -2.156092], [52.615599, -2.115172], [52.576323, -2.179556], [52.607621, -2.088275], [52.573694, -2.126424], [52.584319, -2.109777], [52.580527, -2.125853], [52.595131, -2.079835], [52.55466, -2.100558], [52.624766, -2.118151], [52.585898, -2.145795], [52.581775, -2.135745], [52.606347, -2.107617], [52.581059, -2.132791], [52.594941, -2.093269], [52.584832, -2.135459], [52.624823, -2.147697], [52.583619, -2.087193], [52.579539, -2.125555], [52.563767, -2.06178], [52.566275, -2.077274], [52.605909, -2.093735], [52.588517, -2.136356], [52.609858, -2.101718], [52.582118, -2.149472], [52.580031, -2.163927], [52.580528, -2.125411], [52.572581, -2.053087], [52.598184, -2.169015], [52.600344, -2.081321], [52.55163, -2.062058], [52.591484, -2.136366], [52.59185, -2.130167], [52.590297, -2.15068], [52.580622, -2.121574], [52.595329, -2.15306], [52.621479, -2.160832], [52.570583, -2.169942], [52.617111, -2.13098], [52.586821, -2.125429], [52.550174, -2.089339], [52.591489, -2.131642], [52.582732, -2.068005], [52.587801, -2.132959], [52.55493, -2.100854], [52.560266, -2.154413], [52.604462, -2.104363], [52.571988, -2.125239], [52.579131, -2.076559], [52.603231, -2.160175], [52.585276, -2.139741], [52.586448, -2.13694], [52.574276, -2.077584], [52.585683, -2.172657], [52.602129, -2.176117], [52.588351, -2.123514], [52.586369, -2.127199], [52.570729, -2.12494], [52.580617, -2.126149], [52.578938, -2.173811], [52.586146, -2.162917], [52.596311, -2.158378], [52.547923, -2.094349], [52.598153, -2.189389], [52.564297, -2.077861], [52.578361, -2.134259], [52.562105, -2.118867], [52.610189, -2.13096], [52.580879, -2.132791], [52.596167, -2.128556], [52.582676, -2.134125], [52.590248, -2.11422], [52.588773, -2.147723], [52.62094, -2.160535], [52.583944, -2.12542], [52.599176, -2.080285], [52.587721, -2.123955], [52.590953, -2.128393], [52.598343, -2.110402], [52.596782, -2.140959], [52.573092, -2.098239], [52.571641, -2.112548], [52.605898, -2.107025], [52.566345, -2.102945], [52.590178, -2.172527], [52.584294, -2.134572], [52.548013, -2.094349], [52.592298, -2.131349], [52.602099, -2.130197], [52.588773, -2.147723], [52.584409, -2.11022], [52.605898, -2.107025], [52.581777, -2.133827], [52.580168, -2.12541], [52.593984, -2.15025], [52.583425, -2.103871], [52.566784, -2.115044], [52.58034, -2.132346], [52.549527, -2.110722], [52.575455, -2.157713], [52.600614, -2.080731], [52.585744, -2.123802], [52.557825, -2.075637], [52.555736, -2.103658], [52.592148, -2.101087], [52.599447, -2.078661], [52.585343, -2.158339], [52.584434, -2.078782], [52.58646, -2.126904], [52.628262, -2.128059], [52.586401, -2.172955], [52.594979, -2.145234], [52.605808, -2.106877], [52.562315, -2.083316], [52.590407, -2.134443], [52.58976, -2.149498], [52.603402, -2.079112], [52.589696, -2.126765], [52.587966, -2.145949], [52.608211, -2.130954], [52.564985, -2.115629], [52.599249, -2.102727], [52.555916, -2.103953], [52.582242, -2.119217], [52.598663, -2.146871], [52.549385, -2.057925], [52.585546, -2.140037], [52.626834, -2.117565], [52.5939, -2.145526], [52.603405, -2.164458], [52.584832, -2.135312], [52.594973, -2.149811], [52.595593, -2.157047], [52.577931, -2.115221], [52.58405, -2.109186], [52.57827, -2.134406], [52.557621, -2.10794], [52.58689, -2.143584], [52.583602, -2.107118], [52.591521, -2.098576], [52.582059, -2.122316], [52.598904, -2.083385], [52.602517, -2.15589], [52.585545, -2.14107], [52.618471, -2.120202], [52.571584, -2.161388], [52.590297, -2.15068], [52.580704, -2.128806], [52.574132, -2.137492], [52.597745, -2.161779], [52.610061, -2.161381], [52.576403, -2.114774], [52.587117, -2.175319], [52.589067, -2.126616], [52.604009, -2.181588], [52.566782, -2.116667], [52.590808, -2.171644], [52.590477, -2.150829], [52.566955, -2.123897], [52.587532, -2.132811], [52.584208, -2.130735], [52.607402, -2.130656], [52.584201, -2.137081], [52.588352, -2.122776], [52.589599, -2.133408], [52.623039, -2.135873], [52.584843, -2.125571], [52.586429, -2.153176], [52.591141, -2.120865], [52.571121, -2.170977], [52.613209, -2.160654], [52.606506, -2.194298], [52.629972, -2.1257], [52.607074, -2.097872], [52.590679, -2.131935], [52.589708, -2.115252], [52.58709, -2.12602], [52.58655, -2.126609], [52.603627, -2.130349], [52.567664, -2.132456], [52.593925, -2.123087], [52.587721, -2.124398], [52.576212, -2.126284], [52.601469, -2.130195], [52.590387, -2.150828], [52.57738, -2.126287], [52.590977, -2.103446], [52.596669, -2.159413], [52.571359, -2.124942], [52.590727, -2.078793], [52.593406, -2.101532], [52.554765, -2.081531], [52.617865, -2.094794], [52.584297, -2.131178], [52.603231, -2.160175], [52.592838, -2.131055], [52.613693, -2.132152], [52.551244, -2.100993], [52.568823, -2.140869], [52.620959, -2.145911], [52.565121, -2.15443], [52.554028, -2.104096], [52.593496, -2.101533], [52.600833, -2.136099], [52.588801, -2.123368], [52.630254, -2.114324], [52.565112, -2.068273], [52.607367, -2.063613], [52.575274, -2.158302], [52.61222, -2.160651], [52.561528, -2.152057], [52.6009, -2.154999], [52.592231, -2.109058], [52.592058, -2.100939], [52.5699, -2.142643], [52.55439, -2.100705], [52.593766, -2.101238], [52.597008, -2.094749], [52.601977, -2.057109], [52.566963, -2.11593], [52.583337, -2.102395], [52.575191, -2.15299], [52.590416, -2.126472], [52.566783, -2.115782], [52.589484, -2.154073], [52.621766, -2.14813], [52.558007, -2.072835], [52.569704, -2.054116], [52.562136, -2.08243], [52.580525, -2.127624], [52.564616, -2.12507], [52.582388, -2.149178], [52.606061, -2.191491], [52.555826, -2.103953], [52.574542, -2.083486], [52.605515, -2.129912], [52.611477, -2.100245], [52.58949, -2.149054], [52.603216, -2.089004], [52.612897, -2.120039], [52.604102, -2.10451], [52.574551, -2.161251], [52.582415, -2.192863], [52.577039, -2.107545], [52.58681, -2.13517], [52.625665, -2.118153], [52.551785, -2.098929], [52.617305, -2.117244], [52.582908, -2.074942], [52.584308, -2.121584], [52.584036, -2.123354], [52.558896, -2.170339], [52.565614, -2.115779], [52.568251, -2.166244], [52.565557, -2.075503], [52.629774, -2.141656], [52.584652, -2.135902], [52.573478, -2.058547], [52.546031, -2.098769], [52.566596, -2.12242], [52.604852, -2.059918], [52.581046, -2.14445], [52.567664, -2.133193], [52.566257, -2.10147], [52.560584, -2.111488], [52.558727, -2.162668], [52.591212, -2.137693], [52.576122, -2.126284], [52.601949, -2.099337], [52.554329, -2.057932], [52.575122, -2.136462], [52.575154, -2.104146], [52.573515, -2.126276], [52.597173, -2.111285], [52.575121, -2.13661], [52.565653, -2.065766], [52.588863, -2.147723], [52.569516, -2.16138], [52.619636, -2.123454], [52.580703, -2.195217], [52.573284, -2.082599], [52.586369, -2.127199], [52.593023, -2.126332], [52.576806, -2.155504], [52.586759, -2.173989], [52.597199, -2.079248], [52.566956, -2.122864], [52.603943, -2.077931], [52.582059, -2.122759], [52.585546, -2.140037], [52.604859, -2.152798], [52.604111, -2.093731], [52.596705, -2.129443], [52.592524, -2.080125], [52.604299, -2.082952], [52.600661, -2.129898], [52.591351, -2.086471], [52.569973, -2.055739], [52.573656, -2.061351], [52.569236, -2.168904], [52.593315, -2.102861], [52.567045, -2.122864], [52.575361, -2.066371], [52.607639, -2.060513], [52.58386, -2.119812], [52.608969, -2.089459], [52.56855, -2.143672], [52.592214, -2.126182], [52.628887, -2.13205], [52.570061, -2.060313], [52.567895, -2.074179], [52.587607, -2.14521], [52.568519, -2.081704], [52.593406, -2.101532], [52.573567, -2.059138], [52.597893, -2.111287], [52.582955, -2.125713], [52.566959, -2.119618], [52.574751, -2.145905], [52.607814, -2.161078], [52.559905, -2.155149], [52.583251, -2.097229], [52.583251, -2.097524], [52.569255, -2.155182], [52.624853, -2.121105], [52.610053, -2.082077], [52.589595, -2.136655], [52.585021, -2.193465], [52.624771, -2.113423], [52.579137, -2.065934], [52.610928, -2.111172], [52.601765, -2.103619], [52.597654, -2.161926], [52.548665, -2.059694], [52.558698, -2.109418], [52.572733, -2.09691], [52.593315, -2.103156], [52.553407, -2.094066], [52.622701, -2.115043], [52.616182, -2.155791], [52.601675, -2.103619], [52.607729, -2.060217], [52.580348, -2.125705], [52.583209, -2.139882], [52.566359, -2.085536], [52.582732, -2.068005], [52.59023, -2.131933], [52.60129, -2.129899], [52.575281, -2.046154], [52.591495, -2.126328], [52.615598, -2.11591], [52.598465, -2.161191], [52.573361, -2.098978], [52.599261, -2.170053], [52.62783, -2.110624], [52.612904, -2.11295], [52.584294, -2.134277], [52.591581, -2.129428], [52.616234, -2.109561], [52.582732, -2.068005], [52.598477, -2.151447], [52.581255, -2.117738], [52.566958, -2.120651], [52.607186, -2.067157], [52.591374, -2.15216], [52.566095, -2.077422], [52.585738, -2.128968], [52.55819, -2.068115], [52.556931, -2.067375], [52.631951, -2.125114], [52.56981, -2.142495], [52.565743, -2.065618], [52.585898, -2.146533], [52.620172, -2.127149], [52.562496, -2.082136], [52.572415, -2.144717], [52.580298, -2.078775], [52.595788, -2.14568], [52.572574, -2.160506], [52.610871, -2.067606], [52.570687, -2.066068], [52.587203, -2.177829], [52.604706, -2.12991], [52.615242, -2.112217], [52.585653, -2.124392], [52.584124, -2.125273], [52.561596, -2.167842], [52.613096, -2.09951], [52.580844, -2.068445], [52.581559, -2.164228], [52.587966, -2.145949], [52.606357, -2.09536], [52.585721, -2.14358], [52.601739, -2.129901], [52.587569, -2.093548], [52.553335, -2.067812], [52.613736, -2.085924], [52.604919, -2.094914], [52.61194, -2.083558], [52.58718, -2.125725], [52.596166, -2.129441], [52.594762, -2.092825], [52.56511, -2.070781], [52.585098, -2.13856], [52.598175, -2.175363], [52.584572, -2.193463], [52.61604, -2.123444], [52.607458, -2.06258], [52.580348, -2.125705], [52.59185, -2.130167], [52.613392, -2.060077], [52.589167, -2.116874], [52.593721, -2.144492], [52.588594, -2.14728], [52.555826, -2.103953], [52.590387, -2.150681], [52.580844, -2.069035], [52.565653, -2.064733], [52.583399, -2.130437], [52.56952, -2.158872], [52.568016, -2.139539], [52.588711, -2.123368], [52.593185, -2.142128], [52.587812, -2.122922], [52.607096, -2.067305], [52.59649, -2.158969], [52.562111, -2.112967], [52.585907, -2.139005], [52.595239, -2.152764], [52.589019, -2.077905], [52.593224, -2.104189], [52.580844, -2.068445], [52.598633, -2.085599], [52.572196, -2.094696], [52.601553, -2.135363], [52.585653, -2.124392], [52.624682, -2.111798], [52.587812, -2.122775], [52.584191, -2.145494], [52.55954, -2.159426], [52.572792, -2.129815], [52.562316, -2.082431], [52.583468, -2.148148], [52.556301, -2.070029], [52.57477, -2.129083], [52.590438, -2.10374], [52.565021, -2.069601], [52.585544, -2.141366], [52.603627, -2.130349], [52.577562, -2.124517], [52.587442, -2.133106], [52.584387, -2.131768], [52.586731, -2.125576], [52.563304, -2.083613], [52.571026, -2.17437], [52.561026, -2.119012], [52.566954, -2.124044], [52.593856, -2.101238], [52.566257, -2.10147], [52.56864, -2.143672], [52.61702, -2.132014], [52.586038, -2.097678], [52.586641, -2.125576], [52.593315, -2.102713], [52.56688, -2.1087], [52.580176, -2.117588], [52.58689, -2.143584], [52.615935, -2.137476], [52.617755, -2.116655], [52.57428, -2.162135], [52.593766, -2.101533], [52.58503, -2.118634], [52.576411, -2.10651], [52.575274, -2.158597], [52.567351, -2.08067], [52.618605, -2.062448], [52.576618, -2.070209], [52.575122, -2.136462], [52.617036, -2.1168], [52.582029, -2.148586], [52.596669, -2.159413], [52.575905, -2.156829], [52.611203, -2.106004], [52.594134, -2.090757], [52.563173, -2.129492], [52.555032, -2.085219], [52.585742, -2.125573], [52.572196, -2.094843], [52.564475, -2.080222], [52.585285, -2.131919], [52.596383, -2.089286], [52.555916, -2.103806], [52.580836, -2.166882], [52.602937, -2.099635], [52.574366, -2.077584], [52.571261, -2.131729], [52.59134, -2.176665], [52.593685, -2.090314], [52.57818, -2.134701], [52.59522, -2.080573], [52.60156, -2.1299], [52.58727, -2.12602], [52.559724, -2.156181], [52.569973, -2.055149], [52.599892, -2.085306], [52.563752, -2.085531], [52.574106, -2.060614], [52.597008, -2.094749], [52.589067, -2.126764], [52.574273, -2.167152], [52.613818, -2.09641], [52.564028, -2.076533], [52.57019, -2.124643], [52.617215, -2.117096], [52.585365, -2.14107], [52.587863, -2.156134], [52.598343, -2.110107], [52.593647, -2.130763], [52.572758, -2.058989], [52.555916, -2.103953], [52.568017, -2.138949], [52.587719, -2.126169], [52.61898, -2.147382], [52.593185, -2.142128], [52.581044, -2.146074], [52.585653, -2.12454], [52.607368, -2.06317], [52.597745, -2.161779], [52.621159, -2.129072], [52.570528, -2.143973], [52.569246, -2.069902], [52.596992, -2.112761], [52.579727, -2.117439], [52.587607, -2.145062], [52.580201, -2.089253], [52.611199, -2.109991], [52.626389, -2.113575], [52.545847, -2.104667], [52.618851, -2.097455], [52.573209, -2.056924], [52.584394, -2.125422], [52.56916, -2.064148], [52.562111, -2.113114], [52.554418, -2.060439], [52.566091, -2.082733], [52.580288, -2.092647], [52.57855, -2.12511], [52.602139, -2.085754], [52.565105, -2.078895], [52.580707, -2.125706], [52.548988, -2.110278], [52.591585, -2.126328], [52.611387, -2.100245], [52.55457, -2.100705], [52.585691, -2.166605], [52.56484, -2.071223], [52.561618, -2.151762], [52.573424, -2.127014], [52.629505, -2.141359], [52.563483, -2.084203], [52.583713, -2.081142], [52.593685, -2.090314], [52.617685, -2.095089], [52.569594, -2.087166], [52.570694, -2.15445], [52.567577, -2.13039], [52.568073, -2.165358], [52.607424, -2.109244], [52.571021, -2.178059], [52.574104, -2.159183], [52.594417, -2.072304], [52.595593, -2.157194], [52.577444, -2.149308], [52.55628, -2.175934], [52.577117, -2.120679], [52.58362, -2.085422], [52.587802, -2.132812], [52.592568, -2.131202], [52.572375, -2.095434], [52.581687, -2.133679], [52.594596, -2.072748], [52.625665, -2.118153], [52.577699, -2.065931], [52.603765, -2.074239], [52.579179, -2.125554], [52.570021, -2.114167], [52.584829, -2.137673], [52.59381, -2.145526], [52.580427, -2.135151], [52.581777, -2.133827], [52.599177, -2.078661], [52.583527, -2.08985], [52.58362, -2.085422], [52.584029, -2.129848], [52.575378, -2.147531], [52.581592, -2.138254], [52.619187, -2.123453], [52.565339, -2.121089], [52.616137, -2.116355], [52.557558, -2.072244], [52.603293, -2.179518], [52.592478, -2.13135], [52.569697, -2.067985], [52.576741, -2.135287], [52.580614, -2.128805], [52.572796, -2.125979], [52.588977, -2.127059], [52.58314, -2.120843], [52.589337, -2.126764], [52.607904, -2.161226], [52.572576, -2.062973], [52.56374, -2.101169], [52.592828, -2.140208], [52.554039, -2.090822], [52.57962, -2.133377], [52.626647, -2.124656], [52.559865, -2.110748], [52.576579, -2.118464], [52.561618, -2.151762], [52.572347, -2.125682], [52.566866, -2.123011], [52.589067, -2.126468], [52.593225, -2.103599], [52.613591, -2.142785], [52.61846, -2.130393], [52.566603, -2.115929], [52.590429, -2.11363], [52.564931, -2.070043], [52.606167, -2.107321], [52.557536, -2.10145], [52.582137, -2.133975], [52.58465, -2.137082], [52.61499, -2.092425], [52.582953, -2.127336], [52.570843, -2.099267], [52.558175, -2.171074], [52.550978, -2.096568], [52.592058, -2.100939], [52.608138, -2.114414], [52.602473, -2.115876], [52.577255, -2.156243], [52.563573, -2.083908], [52.570739, -2.114907], [52.594992, -2.133867], [52.584576, -2.122766], [52.575931, -2.135875], [52.575942, -2.126283], [52.588438, -2.126319], [52.559138, -2.119597], [52.581696, -2.125857], [52.627286, -2.11535], [52.57855, -2.12511], [52.555032, -2.085219], [52.598673, -2.138455], [52.57809, -2.134553], [52.603464, -2.113516], [52.575522, -2.094703], [52.581065, -2.193743], [52.567713, -2.077719], [52.568363, -2.149573], [52.565653, -2.064733], [52.627364, -2.126726], [52.580844, -2.068445], [52.609326, -2.092266], [52.586189, -2.127493], [52.575397, -2.131446], [52.609265, -2.151336], [52.623744, -2.147545], [52.587451, -2.124692], [52.557621, -2.10794], [52.615519, -2.104537], [52.586281, -2.125427], [52.610928, -2.111172], [52.590699, -2.112745], [52.594717, -2.138442], [52.597442, -2.112024], [52.57809, -2.134553], [52.596654, -2.087072], [52.566613, -2.105159], [52.582047, -2.133975], [52.566866, -2.122273], [52.57639, -2.127908], [52.569164, -2.054558], [52.573364, -2.095141], [52.576286, -2.14045], [52.560621, -2.060005], [52.594675, -2.171216], [52.563933, -2.083466], [52.585198, -2.129409], [52.591669, -2.131495], [52.599627, -2.078809], [52.589978, -2.11481], [52.583424, -2.105347], [52.604711, -2.124889], [52.587075, -2.139599], [52.613447, -2.109259], [52.580436, -2.127181], [52.601559, -2.130196], [52.583318, -2.122024], [52.575122, -2.136462]],\n",
       "                {\n",
       "  &quot;minOpacity&quot;: 0.5,\n",
       "  &quot;maxZoom&quot;: 18,\n",
       "  &quot;radius&quot;: 25,\n",
       "  &quot;blur&quot;: 15,\n",
       "}\n",
       "            );\n",
       "        \n",
       "    \n",
       "            heat_map_da83d02c6bbcb530168544442525ddaa.addTo(map_f4d601b5bb7330a7cccea3dd316a59b0);\n",
       "        \n",
       "    \n",
       "            tile_layer_98b468f03962693a3a0b20a650b21459.addTo(map_f4d601b5bb7330a7cccea3dd316a59b0);\n",
       "        \n",
       "    \n",
       "            heat_map_da83d02c6bbcb530168544442525ddaa.addTo(map_f4d601b5bb7330a7cccea3dd316a59b0);\n",
       "        \n",
       "&lt;/script&gt;\n",
       "&lt;/html&gt;\" style=\"position:absolute;width:100%;height:100%;left:0;top:0;border:none !important;\" allowfullscreen webkitallowfullscreen mozallowfullscreen></iframe></div></div>"
      ],
      "text/plain": [
       "<folium.folium.Map at 0x2325330af50>"
      ]
     },
     "execution_count": 189,
     "metadata": {},
     "output_type": "execute_result"
    }
   ],
   "source": [
    "import folium\n",
    "from folium.plugins import HeatMap\n",
    "\n",
    "Wolverhampton_df = accident[accident['District Area'] == 'Wolverhampton']\n",
    "\n",
    "loc = list(zip(Wolverhampton_df['Latitude'], Wolverhampton_df['Longitude']))\n",
    "Wolver_map = folium.Map(location=[Wolverhampton_df['Latitude'].mean(),Wolverhampton_df['Longitude'].mean()], zoom_start=10)\n",
    "HeatMap(loc).add_to(Wolver_map)\n",
    "\n",
    "Wolver_map.save(\"Wolver_heatmap.html\")\n",
    "\n",
    "Wolver_map"
   ]
  },
  {
   "cell_type": "markdown",
   "id": "854a4022-28af-46f7-9664-91fba20b19b0",
   "metadata": {},
   "source": [
    "<h3>INSIGHT #35</h3>"
   ]
  },
  {
   "cell_type": "markdown",
   "id": "962821f4-ea78-4703-8ee6-4fd7a41c1d6f",
   "metadata": {},
   "source": [
    "<H3>The accidents are highly concentrated in the heart of Wolverhampton, showing that the busiest central routes and intersections are the most accident-prone. Surrounding areas have fewer incidents, suggesting that traffic congestion and urban activity play a major role in the higher accident rates.</H3>"
   ]
  },
  {
   "cell_type": "code",
   "execution_count": 190,
   "id": "69c2e156-172e-4747-aca2-458ba22b7450",
   "metadata": {},
   "outputs": [
    {
     "data": {
      "text/html": [
       "<div style=\"width:100%;\"><div style=\"position:relative;width:100%;height:0;padding-bottom:60%;\"><span style=\"color:#565656\">Make this Notebook Trusted to load map: File -> Trust Notebook</span><iframe srcdoc=\"&lt;!DOCTYPE html&gt;\n",
       "&lt;html&gt;\n",
       "&lt;head&gt;\n",
       "    \n",
       "    &lt;meta http-equiv=&quot;content-type&quot; content=&quot;text/html; charset=UTF-8&quot; /&gt;\n",
       "    &lt;script src=&quot;https://cdn.jsdelivr.net/npm/leaflet@1.9.3/dist/leaflet.js&quot;&gt;&lt;/script&gt;\n",
       "    &lt;script src=&quot;https://code.jquery.com/jquery-3.7.1.min.js&quot;&gt;&lt;/script&gt;\n",
       "    &lt;script src=&quot;https://cdn.jsdelivr.net/npm/bootstrap@5.2.2/dist/js/bootstrap.bundle.min.js&quot;&gt;&lt;/script&gt;\n",
       "    &lt;script src=&quot;https://cdnjs.cloudflare.com/ajax/libs/Leaflet.awesome-markers/2.0.2/leaflet.awesome-markers.js&quot;&gt;&lt;/script&gt;\n",
       "    &lt;link rel=&quot;stylesheet&quot; href=&quot;https://cdn.jsdelivr.net/npm/leaflet@1.9.3/dist/leaflet.css&quot;/&gt;\n",
       "    &lt;link rel=&quot;stylesheet&quot; href=&quot;https://cdn.jsdelivr.net/npm/bootstrap@5.2.2/dist/css/bootstrap.min.css&quot;/&gt;\n",
       "    &lt;link rel=&quot;stylesheet&quot; href=&quot;https://netdna.bootstrapcdn.com/bootstrap/3.0.0/css/bootstrap-glyphicons.css&quot;/&gt;\n",
       "    &lt;link rel=&quot;stylesheet&quot; href=&quot;https://cdn.jsdelivr.net/npm/@fortawesome/fontawesome-free@6.2.0/css/all.min.css&quot;/&gt;\n",
       "    &lt;link rel=&quot;stylesheet&quot; href=&quot;https://cdnjs.cloudflare.com/ajax/libs/Leaflet.awesome-markers/2.0.2/leaflet.awesome-markers.css&quot;/&gt;\n",
       "    &lt;link rel=&quot;stylesheet&quot; href=&quot;https://cdn.jsdelivr.net/gh/python-visualization/folium/folium/templates/leaflet.awesome.rotate.min.css&quot;/&gt;\n",
       "    \n",
       "            &lt;meta name=&quot;viewport&quot; content=&quot;width=device-width,\n",
       "                initial-scale=1.0, maximum-scale=1.0, user-scalable=no&quot; /&gt;\n",
       "            &lt;style&gt;\n",
       "                #map_8202a7d29139d84fce1ecad7c9b6d7a5 {\n",
       "                    position: relative;\n",
       "                    width: 100.0%;\n",
       "                    height: 100.0%;\n",
       "                    left: 0.0%;\n",
       "                    top: 0.0%;\n",
       "                }\n",
       "                .leaflet-container { font-size: 1rem; }\n",
       "            &lt;/style&gt;\n",
       "\n",
       "            &lt;style&gt;html, body {\n",
       "                width: 100%;\n",
       "                height: 100%;\n",
       "                margin: 0;\n",
       "                padding: 0;\n",
       "            }\n",
       "            &lt;/style&gt;\n",
       "\n",
       "            &lt;style&gt;#map {\n",
       "                position:absolute;\n",
       "                top:0;\n",
       "                bottom:0;\n",
       "                right:0;\n",
       "                left:0;\n",
       "                }\n",
       "            &lt;/style&gt;\n",
       "\n",
       "            &lt;script&gt;\n",
       "                L_NO_TOUCH = false;\n",
       "                L_DISABLE_3D = false;\n",
       "            &lt;/script&gt;\n",
       "\n",
       "        \n",
       "    &lt;script src=&quot;https://cdn.jsdelivr.net/gh/python-visualization/folium@main/folium/templates/leaflet_heat.min.js&quot;&gt;&lt;/script&gt;\n",
       "&lt;/head&gt;\n",
       "&lt;body&gt;\n",
       "    \n",
       "    \n",
       "            &lt;div class=&quot;folium-map&quot; id=&quot;map_8202a7d29139d84fce1ecad7c9b6d7a5&quot; &gt;&lt;/div&gt;\n",
       "        \n",
       "&lt;/body&gt;\n",
       "&lt;script&gt;\n",
       "    \n",
       "    \n",
       "            var map_8202a7d29139d84fce1ecad7c9b6d7a5 = L.map(\n",
       "                &quot;map_8202a7d29139d84fce1ecad7c9b6d7a5&quot;,\n",
       "                {\n",
       "                    center: [52.477738681916044, -1.8801847378902043],\n",
       "                    crs: L.CRS.EPSG3857,\n",
       "                    ...{\n",
       "  &quot;zoom&quot;: 10,\n",
       "  &quot;zoomControl&quot;: true,\n",
       "  &quot;preferCanvas&quot;: false,\n",
       "}\n",
       "\n",
       "                }\n",
       "            );\n",
       "\n",
       "            \n",
       "\n",
       "        \n",
       "    \n",
       "            var tile_layer_830eac374223c230003b7d8ba42595c6 = L.tileLayer(\n",
       "                &quot;https://tile.openstreetmap.org/{z}/{x}/{y}.png&quot;,\n",
       "                {\n",
       "  &quot;minZoom&quot;: 0,\n",
       "  &quot;maxZoom&quot;: 19,\n",
       "  &quot;maxNativeZoom&quot;: 19,\n",
       "  &quot;noWrap&quot;: false,\n",
       "  &quot;attribution&quot;: &quot;\\u0026copy; \\u003ca href=\\&quot;https://www.openstreetmap.org/copyright\\&quot;\\u003eOpenStreetMap\\u003c/a\\u003e contributors&quot;,\n",
       "  &quot;subdomains&quot;: &quot;abc&quot;,\n",
       "  &quot;detectRetina&quot;: false,\n",
       "  &quot;tms&quot;: false,\n",
       "  &quot;opacity&quot;: 1,\n",
       "}\n",
       "\n",
       "            );\n",
       "        \n",
       "    \n",
       "            tile_layer_830eac374223c230003b7d8ba42595c6.addTo(map_8202a7d29139d84fce1ecad7c9b6d7a5);\n",
       "        \n",
       "    \n",
       "            var heat_map_354a6caa93fc2b4cd8fcce368bd35b9e = L.heatLayer(\n",
       "                [[52.47513, -1.845672], [52.473164, -1.854954], [52.509191, -1.837302], [52.471927, -1.873655], [52.493001, -1.831765], [52.495702, -1.834553], [52.543044, -1.878759], [52.509371, -1.837154], [52.466448, -1.810522], [52.492855, -1.857541], [52.463972, -1.837763], [52.492685, -1.865347], [52.508228, -1.795756], [52.522358, -1.870415], [52.5351, -1.850622], [52.476048, -1.860981], [52.464876, -1.841734], [52.555918, -1.898931], [52.506726, -1.880922], [52.498252, -1.860027], [52.528586, -1.896046], [52.516594, -1.861148], [52.496436, -1.844861], [52.470295, -1.861294], [52.516807, -1.819295], [52.521574, -1.896504], [52.477862, -1.80797], [52.521016, -1.877199], [52.537453, -1.863146], [52.500514, -1.872836], [52.556004, -1.819872], [52.467406, -1.851735], [52.477118, -1.853911], [52.495415, -1.770186], [52.553348, -1.84879], [52.528256, -1.841506], [52.566868, -1.879431], [52.541342, -1.885547], [52.501694, -1.883292], [52.503064, -1.827307], [52.489002, -1.803503], [52.503193, -1.857065], [52.550687, -1.88036], [52.478009, -1.847282], [52.488096, -1.862121], [52.560292, -1.8023], [52.510029, -1.859253], [52.494854, -1.875946], [52.469035, -1.860856], [52.463245, -1.832467], [52.468504, -1.868218], [52.479864, -1.823569], [52.482451, -1.760829], [52.468504, -1.868218], [52.573183, -1.824671], [52.497845, -1.771352], [52.451835, -1.782038], [52.487826, -1.861975], [52.587665, -1.830222], [52.473204, -1.767505], [52.48871, -1.849749], [52.477865, -1.760413], [52.475045, -1.849795], [52.556996, -1.897748], [52.46826, -1.767972], [52.477024, -1.791042], [52.54568, -1.829646], [52.526656, -1.85581], [52.486114, -1.797037], [52.513134, -1.828004], [52.53106, -1.854764], [52.508177, -1.894473], [52.516628, -1.819738], [52.513568, -1.890776], [52.482932, -1.831803], [52.478022, -1.796485], [52.454913, -1.793943], [52.525796, -1.767522], [52.524592, -1.858617], [52.497306, -1.824678], [52.492724, -1.826316], [52.563329, -1.790927], [52.465871, -1.845999], [52.460302, -1.849992], [52.504508, -1.830984], [52.515754, -1.83713], [52.467494, -1.790793], [52.470217, -1.871746], [52.488075, -1.845185], [52.514603, -1.850544], [52.537889, -1.851645], [52.554128, -1.827844], [52.544046, -1.89306], [52.590185, -1.832721], [52.553927, -1.884186], [52.472096, -1.864527], [52.521484, -1.896357], [52.499915, -1.772814], [52.511771, -1.892254], [52.534064, -1.889251], [52.512394, -1.885474], [52.48437, -1.831209], [52.542198, -1.847207], [52.471749, -1.808291], [52.526093, -1.837534], [52.540576, -1.843821], [52.534496, -1.871559], [52.464155, -1.840118], [52.477693, -1.815186], [52.460482, -1.850581], [52.469104, -1.84378], [52.470458, -1.848191], [52.493881, -1.818505], [52.508085, -1.891674], [52.51497, -1.856732], [52.50862, -1.887105], [52.497255, -1.852665], [52.475957, -1.797967], [52.464966, -1.842175], [52.551524, -1.912362], [52.46899, -1.826115], [52.508934, -1.846733], [52.473968, -1.851271], [52.492765, -1.857246], [52.464344, -1.847771], [52.466873, -1.857183], [52.466807, -1.809932], [52.494168, -1.776379], [52.52071, -1.84566], [52.522811, -1.807332], [52.474861, -1.846557], [52.468146, -1.868955], [52.496131, -1.768415], [52.470903, -1.844215], [52.498982, -1.803901], [52.451836, -1.782332], [52.471657, -1.873656], [52.480318, -1.773504], [52.502424, -1.894634], [52.538953, -1.840731], [52.513172, -1.856738], [52.491562, -1.776687], [52.513044, -1.828152], [52.551071, -1.907201], [52.535135, -1.812143], [52.558737, -1.787409], [52.510805, -1.834054], [52.494982, -1.833967], [52.463245, -1.832173], [52.470129, -1.873954], [52.477409, -1.871872], [52.479253, -1.780577], [52.485658, -1.852999], [52.514641, -1.814294], [52.541612, -1.885546], [52.532084, -1.88675], [52.511766, -1.886655], [52.52681, -1.835616], [52.562213, -1.823682], [52.525473, -1.844317], [52.525643, -1.836799], [52.534896, -1.832194], [52.479545, -1.853166], [52.480507, -1.832843], [52.480235, -1.831666], [52.543131, -1.87581], [52.548189, -1.823738], [52.522322, -1.784342], [52.469493, -1.803149], [52.522774, -1.843295], [52.51411, -1.893427], [52.510833, -1.855125], [52.485898, -1.830761], [52.463815, -1.794637], [52.555559, -1.898932], [52.455498, -1.769805], [52.473968, -1.851271], [52.563032, -1.830169], [52.548718, -1.817247], [52.502612, -1.825541], [52.464809, -1.859545], [52.472187, -1.864968], [52.505477, -1.890944], [52.478185, -1.844484], [52.525914, -1.838125], [52.47504, -1.845967], [52.556187, -1.897898], [52.465599, -1.844823], [52.558447, -1.830187], [52.481382, -1.766136], [52.468415, -1.868366], [52.560683, -1.822065], [52.513774, -1.835517], [52.46578, -1.845705], [52.475844, -1.841695], [52.497307, -1.824825], [52.493342, -1.818655], [52.487607, -1.831344], [52.535848, -1.874946], [52.538895, -1.865943], [52.502424, -1.894339], [52.444221, -1.859169], [52.441785, -1.97893], [52.405691, -1.896923], [52.403843, -1.962926], [52.402677, -2.025543], [52.419391, -1.95012], [52.458798, -1.871043], [52.460868, -1.873245], [52.452589, -1.865617], [52.441198, -1.891985], [52.436024, -1.846692], [52.451704, -1.87901], [52.438169, -1.927739], [52.403574, -1.966895], [52.431805, -1.97511], [52.463294, -1.871619], [52.444369, -1.83504], [52.434412, -1.972755], [52.40892, -1.887801], [52.388205, -1.998939], [52.407143, -1.912795], [52.444662, -1.977016], [52.45407, -1.829117], [52.424297, -1.89232], [52.4206, -1.880566], [52.459563, -1.922994], [52.454859, -1.886654], [52.450357, -1.880191], [52.458274, -1.885468], [52.464573, -1.891928], [52.408871, -1.947339], [52.405693, -1.898246], [52.404458, -1.931322], [52.425144, -1.947908], [52.46277, -1.887075], [52.467008, -1.901196], [52.463407, -1.895022], [52.423859, -1.905998], [52.441695, -1.978194], [52.411488, -1.977327], [52.412656, -1.972769], [52.414987, -1.95233], [52.434415, -1.853905], [52.452777, -1.873268], [52.452337, -1.882393], [52.46626, -1.870727], [52.432299, -1.893183], [52.43927, -1.992318], [52.458903, -1.885025], [52.448607, -1.946261], [52.443135, -1.984814], [52.453309, -1.866056], [52.455733, -1.863106], [52.415894, -1.984823], [52.395577, -2.0129], [52.403663, -1.96322], [52.449115, -1.821632], [52.42886, -1.870101], [52.392339, -1.978806], [52.397005, -1.948529], [52.391076, -1.962202], [52.444189, -1.834599], [52.45555, -1.861046], [52.45414, -1.88695], [52.447578, -1.887997], [52.425424, -1.986143], [52.407602, -1.92676], [52.419515, -1.874981], [52.459361, -1.89459], [52.428467, -1.842747], [52.447128, -1.887998], [52.442987, -1.812241], [52.429411, -1.88113], [52.449115, -1.821632], [52.413282, -1.961889], [52.395396, -1.978658], [52.405914, -1.977918], [52.434457, -1.893178], [52.387936, -1.998351], [52.425544, -1.879964], [52.455416, -1.906961], [52.458798, -1.871043], [52.434955, -1.99732], [52.463029, -1.876035], [52.459613, -1.876634], [52.446895, -1.841357], [52.406634, -1.984385], [52.416341, -1.969679], [52.431294, -1.876713], [52.388025, -1.998645], [52.442595, -1.986432], [52.428981, -1.902457], [52.44587, -1.88859], [52.425506, -1.95526], [52.445241, -1.816646], [52.434315, -1.846109], [52.457925, -1.821891], [52.396655, -1.983801], [52.464852, -1.902231], [52.443198, -1.832984], [52.465384, -1.893987], [52.438166, -1.835357], [52.405916, -2.012168], [52.395665, -1.979539], [52.440962, -1.938179], [52.415393, -1.888078], [52.465548, -1.877353], [52.420102, -1.932621], [52.44316, -1.87565], [52.430517, -1.912014], [52.452185, -1.831332], [52.456555, -1.808063], [52.42674, -1.910845], [52.456646, -1.876495], [52.440426, -1.844175], [52.417046, -1.934537], [52.442503, -1.851671], [52.455038, -1.886506], [52.440432, -1.848883], [52.465367, -1.876912], [52.438257, -1.835651], [52.444982, -1.823856], [52.440782, -1.938327], [52.449445, -1.867834], [52.442022, -1.828428], [52.444533, -1.901687], [52.430266, -1.843623], [52.445136, -1.873584], [52.402679, -2.015548], [52.446595, -1.820318], [52.42866, -1.852894], [52.404639, -1.933526], [52.406225, -1.890454], [52.429885, -1.909074], [52.433056, -1.845525], [52.423018, -1.871589], [52.434277, -1.892885], [52.405239, -1.894131], [52.423689, -1.833205], [52.409033, -1.916467], [52.421631, -1.840418], [52.45028, -1.819273], [52.43672, -1.830067], [52.435846, -1.956721], [52.458922, -1.827185], [52.459243, -1.866627], [52.420094, -1.921004], [52.416431, -1.969826], [52.458798, -1.871043], [52.442949, -1.84858], [52.422009, -1.854681], [52.484808, -1.900419], [52.458049, -1.950665], [52.492628, -1.898782], [52.477201, -1.956827], [52.476645, -1.925173], [52.475016, -1.909717], [52.510527, -1.909644], [52.512884, -1.939257], [52.484478, -1.946807], [52.490471, -1.899228], [52.44798, -1.950971], [52.472956, -1.91929], [52.459012, -1.907248], [52.475199, -1.914133], [52.480394, -1.890269], [52.469276, -1.929749], [52.497595, -1.928673], [52.480948, -1.907643], [52.481488, -1.908231], [52.475274, -1.895582], [52.476629, -1.902646], [52.483718, -1.887611], [52.479228, -1.892923], [52.485064, -1.885398], [52.473484, -1.903978], [52.484284, -1.920742], [52.481781, -1.94681], [52.484081, -1.891586], [52.468443, -1.896335], [52.475828, -1.913396], [52.49901, -1.897736], [52.524116, -1.930251], [52.527149, -1.897081], [52.477323, -1.875848], [52.536612, -1.930084], [52.48373, -1.901747], [52.477351, -1.906326], [52.503983, -1.938091], [52.507919, -1.908765], [52.498134, -1.929261], [52.458951, -1.958759], [52.448619, -2.013357], [52.503604, -1.90789], [52.465472, -1.891631], [52.500918, -1.923511], [52.534627, -1.918735], [52.486231, -1.883333], [52.503342, -1.918793], [52.505312, -1.908181], [52.447529, -1.946116], [52.471705, -1.931953], [52.515196, -1.902266], [52.494452, -1.935306], [52.486634, -1.94327], [52.504434, -1.940742], [52.491469, -1.911156], [52.508935, -1.955618], [52.479942, -1.887473], [52.476531, -1.892782], [52.47563, -1.891017], [52.479585, -1.890566], [52.510007, -1.940145], [52.477189, -1.932681], [52.484539, -1.900567], [52.512874, -1.922459], [52.492808, -1.899223], [52.477714, -1.910889], [52.455272, -1.986281], [52.504434, -1.940448], [52.504163, -1.939417], [52.481578, -1.90882], [52.486719, -1.933255], [52.501463, -1.932791], [52.486152, -1.895262], [52.467653, -1.921655], [52.463489, -1.887073], [52.469341, -1.895596], [52.458051, -1.954197], [52.482204, -1.903518], [52.474768, -1.944757], [52.50219, -1.94929], [52.502884, -1.906861], [52.476706, -1.887628], [52.515204, -1.912287], [52.477186, -1.92635], [52.485255, -1.897768], [52.4657, -1.984659], [52.472856, -1.906777], [52.48663, -1.934581], [52.507041, -1.940444], [52.502811, -1.933084], [52.483191, -1.90219], [52.476254, -1.885568], [52.48579, -1.891876], [52.471621, -1.942847], [52.47698, -1.892634], [52.507828, -1.906555], [52.470708, -1.919442], [52.486898, -1.93193], [52.473245, -1.956831], [52.492266, -1.895542], [52.482733, -1.891736], [52.475457, -1.898674], [52.472505, -1.917083], [52.467458, -1.901047], [52.511265, -1.939407], [52.514953, -1.942496], [52.462554, -2.003941], [52.452843, -1.975393], [52.471882, -1.927242], [52.538307, -1.910619], [52.458141, -1.955522], [52.471062, -1.911786], [52.491719, -1.887885], [52.536432, -1.929937], [52.474927, -1.909864], [52.49499, -1.932801], [52.500918, -1.923511], [52.51369, -1.934099], [52.472398, -1.896325], [52.478881, -1.907648], [52.465744, -1.895163], [52.488608, -1.935462], [52.473663, -1.903536], [52.517198, -1.937483], [52.513146, -1.9257], [52.492356, -1.895542], [52.499015, -1.903333], [52.468918, -1.932252], [52.478067, -1.90176], [52.451046, -1.988195], [52.50252, -1.901853], [52.47662, -1.892782], [52.472163, -1.95006], [52.463489, -1.887073], [52.512102, -1.864404], [52.511023, -1.863523], [52.530476, -1.898547], [52.514114, -1.769794], [52.546674, -1.918418], [52.517144, -1.870431], [52.504927, -1.88019], [52.499046, -1.788728], [52.479684, -1.82357], [52.51702, -1.785547], [52.550291, -1.848948], [52.51693, -1.785547], [52.5261, -1.842841], [52.482753, -1.831804], [52.502117, -1.797405], [52.559545, -1.786372], [52.476139, -1.861717], [52.528166, -1.841359], [52.498299, -1.773706], [52.55197, -1.907642], [52.530834, -1.89604], [52.535488, -1.874947], [52.47021, -1.865563], [52.495526, -1.837352], [52.471835, -1.757354], [52.507863, -1.852335], [52.498105, -1.817751], [52.477862, -1.80797], [52.503373, -1.85677], [52.501843, -1.855596], [52.487217, -1.811611], [52.512847, -1.88901], [52.485649, -1.787908], [52.55092, -1.848061], [52.53174, -1.825425], [52.487817, -1.793789], [52.49239, -1.787287], [52.549051, -1.863848], [52.464856, -1.827309], [52.548236, -1.858689], [52.489885, -1.85431], [52.499249, -1.866948], [52.550069, -1.892308], [52.49635, -1.848102], [52.464695, -1.840852], [52.521736, -1.809253], [52.542307, -1.862836], [52.465978, -1.79816], [52.463516, -1.778595], [52.483506, -1.796018], [52.524512, -1.867019], [52.473614, -1.855394], [52.46708, -1.812139], [52.465095, -1.807731], [52.55092, -1.848061], [52.517255, -1.818262], [52.512358, -1.85232], [52.562213, -1.823534], [52.54071, -1.882157], [52.494403, -1.807309], [52.53471, -1.827772], [52.495594, -1.76989], [52.465006, -1.808026], [52.460743, -1.786115], [52.478185, -1.844189], [52.49215, -1.869915], [52.546885, -1.857071], [52.552489, -1.884338], [52.502946, -1.876512], [52.470284, -1.852461], [52.483506, -1.796018], [52.513664, -1.89726], [52.55086, -1.873871], [52.500596, -1.865323], [52.526429, -1.896788], [52.477861, -1.807676], [52.539465, -1.896905], [52.541432, -1.885399], [52.469497, -1.871748], [52.530559, -1.890881], [52.496707, -1.787855], [52.475308, -1.844641], [52.46841, -1.863949], [52.507056, -1.793994], [52.473524, -1.855248], [52.48254, -1.760682], [52.524503, -1.859207], [52.497693, -1.843973], [52.519626, -1.84198], [52.487787, -1.831343], [52.53798, -1.852971], [52.497616, -1.854432], [52.469565, -1.853052], [52.48103, -1.769672], [52.504737, -1.87032], [52.468825, -1.836862], [52.487054, -1.822215], [52.537585, -1.826582], [52.470744, -1.861145], [52.550282, -1.841722], [52.522875, -1.851401], [52.502424, -1.894339], [52.495256, -1.837059], [52.465746, -1.821565], [52.515106, -1.901677], [52.478273, -1.843306], [52.466573, -1.778874], [52.540724, -1.896902], [52.478401, -1.807968], [52.532871, -1.865667], [52.492507, -1.866821], [52.524682, -1.859059], [52.493453, -1.833236], [52.508175, -1.891674], [52.5302, -1.89103], [52.596495, -1.845246], [52.522631, -1.806743], [52.549497, -1.860897], [52.543054, -1.889671], [52.48871, -1.849159], [52.550304, -1.797183], [52.474153, -1.85554], [52.508477, -1.840988], [52.545627, -1.857665], [52.457856, -1.780684], [52.469662, -1.858646], [52.533538, -1.82586], [52.543848, -1.874038], [52.490959, -1.850625], [52.473349, -1.859223], [52.536321, -1.822753], [52.48789, -1.841357], [52.469837, -1.854229], [52.472417, -1.834052], [52.487985, -1.845186], [52.495748, -1.870935], [52.482451, -1.760829], [52.533363, -1.828957], [52.451835, -1.782185], [52.478273, -1.843158], [52.467625, -1.815522], [52.52563, -1.827955], [52.510028, -1.797074], [52.462734, -1.854253], [52.546254, -1.855598], [52.504508, -1.830984], [52.523977, -1.871442], [52.520171, -1.846104], [52.560292, -1.8023], [52.465057, -1.842469], [52.467226, -1.851147], [52.511165, -1.834053], [52.486381, -1.856678], [52.495748, -1.870935], [52.499611, -1.803603], [52.48659, -1.882302], [52.519453, -1.846696], [52.471556, -1.863351], [52.539791, -1.800328], [52.511772, -1.893433], [52.513027, -1.889304], [52.508544, -1.903165], [52.508455, -1.903313], [52.487799, -1.840326], [52.55095, -1.873723], [52.535076, -1.832636], [52.473901, -1.870852], [52.483595, -1.796017], [52.493634, -1.833824], [52.534771, -1.876718], [52.541049, -1.800175], [52.50079, -1.810227], [52.548597, -1.797633], [52.567876, -1.822921], [52.557079, -1.890226], [52.473332, -1.787526], [52.473801, -1.799007], [52.509368, -1.834944], [52.49653, -1.848102], [52.50895, -1.859257], [52.527081, -1.836646], [52.451283, -1.775419], [52.466538, -1.810375], [52.527178, -1.785055], [52.499009, -1.821136], [52.546507, -1.842473], [52.509219, -1.858519], [52.516399, -1.849065], [52.562114, -1.817634], [52.517442, -1.900051], [52.518699, -1.897837], [52.508439, -1.885632], [52.521286, -1.876756], [52.543577, -1.873302], [52.468375, -1.781073], [52.497307, -1.824825], [52.535069, -1.827476], [52.492994, -1.773586], [52.486321, -1.813382], [52.494415, -1.764741], [52.563632, -1.879735], [52.442987, -1.812241], [52.445095, -1.934348], [52.454388, -1.866789], [52.468244, -1.87661], [52.449402, -1.919775], [52.4325, -1.919364], [52.454534, -1.933304], [52.408314, -1.916468], [52.405285, -1.978359], [52.436254, -1.892586], [52.401303, -1.918539], [52.441602, -1.850056], [52.455326, -1.907255], [52.45856, -1.904305], [52.465634, -1.873673], [52.435127, -1.958634], [52.430132, -1.882599], [52.459433, -1.876634], [52.452544, -1.91403], [52.448926, -1.887993], [52.430057, -1.89966], [52.41631, -1.90866], [52.463659, -1.876622], [52.45838, -1.904453], [52.455236, -1.907108], [52.453286, -1.847368], [52.445185, -1.934201], [52.464669, -1.899434], [52.44291, -1.821069], [52.456998, -1.869283], [52.424404, -1.91335], [52.44325, -1.87565], [52.463126, -1.883542], [52.464179, -1.859547], [52.385149, -2.001877], [52.462333, -1.823787], [52.46373, -1.859695], [52.420486, -1.858509], [52.422769, -1.892177], [52.441787, -1.988933], [52.445512, -1.81738], [52.457922, -1.893857], [52.394496, -1.975131], [52.411218, -1.978503], [52.421105, -1.968205], [52.444279, -1.834746], [52.462243, -1.823787], [52.466106, -1.897665], [52.447398, -1.887997], [52.424763, -1.912172], [52.441517, -2.010265], [52.412656, -1.973357], [52.40124, -1.982917], [52.443624, -1.817682], [52.464759, -1.899287], [52.41797, -1.859988], [52.460666, -1.854112], [52.447068, -1.836648], [52.461062, -1.886932], [52.460948, -1.864414], [52.429885, -1.909074], [52.454767, -1.885183], [52.455108, -1.867375], [52.457922, -1.893857], [52.456361, -1.862073], [52.45774, -1.892092], [52.455868, -1.91005], [52.426468, -1.908639], [52.440409, -1.831671], [52.460334, -1.878398], [52.438895, -1.94083], [52.43379, -1.857437], [52.414492, -1.886022], [52.455688, -1.910051], [52.444993, -1.914781], [52.441106, -1.816663], [52.4369, -1.829919], [52.450069, -1.863565], [52.436372, -1.930095], [52.43, -1.950696], [52.464109, -1.876768], [52.458978, -1.87119], [52.416341, -1.969973], [52.430816, -1.972904], [52.431341, -1.840678], [52.455688, -1.910198], [52.434505, -1.99732], [52.417856, -1.840579], [52.431582, -1.89598], [52.423889, -1.957027], [52.459333, -1.866627], [52.439517, -1.837117], [52.458798, -1.870749], [52.45745, -1.871636], [52.456998, -1.869283], [52.461146, -1.880456], [52.435392, -1.945689], [52.439255, -1.940094], [52.431718, -2.001732], [52.456566, -1.885914], [52.447199, -1.869312], [52.420102, -1.932621], [52.426928, -1.922169], [52.456746, -1.885913], [52.449025, -1.821927], [52.458491, -1.935653], [52.458528, -1.87075], [52.421348, -1.913797], [52.411937, -1.975415], [52.463156, -1.832909], [52.41068, -1.983649], [52.416431, -1.969679], [52.462497, -1.883691], [52.446397, -1.876376], [52.428255, -1.895105], [52.461178, -1.918723], [52.434793, -1.869495], [52.451467, -1.831923], [52.451429, -1.873125], [52.414886, -1.930865], [52.390003, -1.995265], [52.45305, -1.875769], [52.434557, -1.905093], [52.421445, -1.836008], [52.472467, -1.874242], [52.458184, -1.885321], [52.446895, -1.841504], [52.452173, -1.898874], [52.43676, -1.860075], [52.434457, -1.893031], [52.433648, -1.893033], [52.453188, -1.840893], [52.435995, -1.904207], [52.429937, -1.869069], [52.413668, -1.871616], [52.434181, -1.88656], [52.407624, -2.009669], [52.432797, -2.007616], [52.446531, -1.930374], [52.436932, -1.989817], [52.429885, -1.909074], [52.41115, -1.870741], [52.447079, -1.945822], [52.4325, -1.919217], [52.464468, -1.876914], [52.452123, -1.851492], [52.414042, -1.885435], [52.434405, -1.846256], [52.393419, -1.99115], [52.437688, -1.816088], [52.444931, -1.976574], [52.424756, -1.903202], [52.429096, -1.842892], [52.437529, -1.911412], [52.440459, -1.87198], [52.419825, -1.922181], [52.407201, -1.876927], [52.452365, -1.831037], [52.421988, -1.838653], [52.426404, -1.950994], [52.429281, -1.951432], [52.431438, -1.949224], [52.411218, -1.978503], [52.467554, -1.908554], [52.490479, -1.909832], [52.485887, -1.900711], [52.481024, -1.891299], [52.48726, -1.935758], [52.479435, -1.929585], [52.512963, -1.921575], [52.475308, -1.946376], [52.476466, -1.92532], [52.515647, -1.903592], [52.50803, -1.94059], [52.511621, -1.931744], [52.455891, -1.949932], [52.520226, -1.896655], [52.473457, -1.87527], [52.46602, -1.901787], [52.470949, -1.884993], [52.477995, -1.927674], [52.518182, -1.928197], [52.472679, -1.909722], [52.487265, -1.946362], [52.475532, -1.88292], [52.526887, -1.906957], [52.468441, -1.894421], [52.478324, -1.888213], [52.474544, -1.883364], [52.480884, -1.950198], [52.470146, -1.891473], [52.476535, -1.897788], [52.467368, -1.900753], [52.474926, -1.90957], [52.460386, -1.949485], [52.486163, -1.907632], [52.490578, -1.922204], [52.472062, -1.927831], [52.469875, -1.889854], [52.479777, -1.904554], [52.469648, -1.954185], [52.471705, -1.931659], [52.455181, -1.982308], [52.45805, -1.95405], [52.508455, -1.904049], [52.502148, -1.887564], [52.471972, -1.927684], [52.509734, -1.933221], [52.504434, -1.940595], [52.542905, -1.929336], [52.48013, -1.896749], [52.480947, -1.905434], [52.477418, -1.880706], [52.447079, -1.945822], [52.474555, -1.894995], [52.479236, -1.902935], [52.453474, -1.993787], [52.464078, -1.965083], [52.508745, -1.933959], [52.503171, -1.93382], [52.512884, -1.939257], [52.479057, -1.903966], [52.480579, -1.896159], [52.4725, -1.911489], [52.458141, -1.955227], [52.490029, -1.909097], [52.475009, -1.900736], [52.451937, -1.953615], [52.480021, -1.877018], [52.474121, -1.915166], [52.48391, -1.901305], [52.484, -1.90101], [52.47617, -1.891899], [52.512978, -1.948098], [52.474661, -1.915312], [52.470689, -1.894563], [52.481114, -1.891004], [52.475675, -1.966252], [52.47493, -1.914575], [52.473749, -1.899414], [52.471885, -1.931659], [52.457962, -1.956993], [52.452926, -1.954644], [52.476299, -1.949467], [52.480669, -1.896159], [52.450683, -1.966124], [52.449065, -1.966713], [52.513848, -1.902122], [52.479318, -1.892922], [52.484903, -1.906604], [52.48843, -1.937966], [52.475095, -1.895583], [52.481575, -1.90455], [52.517198, -1.937483], [52.454534, -1.933304], [52.47217, -1.968315], [52.509019, -1.940589], [52.512785, -1.924375], [52.474725, -1.885278], [52.50261, -1.902442], [52.501098, -1.9241], [52.511253, -1.918926], [52.460664, -1.97583], [52.516659, -1.938663], [52.477328, -1.880854], [52.515742, -1.910223], [52.473299, -1.897795], [52.500654, -1.932645], [52.477249, -1.892339], [52.541818, -1.9171], [52.463629, -1.968027], [52.471152, -1.911638], [52.484277, -1.911318], [52.484553, -1.919416], [52.514146, -1.947213], [52.458588, -1.94934], [52.495348, -1.931033], [52.5028, -1.915995], [52.50236, -1.929696], [52.46579, -1.984364], [52.480407, -1.905141], [52.545782, -1.929037], [52.514326, -1.946476], [52.469826, -1.949769], [52.482822, -1.891441], [52.482822, -1.891441], [52.482376, -1.895271], [52.479435, -1.929585], [52.475902, -1.893372], [52.479408, -1.893069], [52.486175, -1.925304], [52.538397, -1.910324], [52.516725, -1.902558], [52.478058, -1.891748], [52.486898, -1.931341], [52.47171, -1.94167], [52.528316, -1.895751], [52.532275, -1.899575], [52.528406, -1.895604], [52.506967, -1.855432], [52.506033, -1.82921], [52.509739, -1.786024], [52.494506, -1.887583], [52.461016, -1.845869], [52.476851, -1.855678], [52.473384, -1.819031], [52.516544, -1.901084], [52.45563, -1.792615], [52.472107, -1.873802], [52.472187, -1.864968], [52.466628, -1.810374], [52.462769, -1.814512], [52.483922, -1.777609], [52.492528, -1.887735], [52.49138, -1.775804], [52.512358, -1.85232], [52.49635, -1.848102], [52.522784, -1.850517], [52.473366, -1.874534], [52.524761, -1.790815], [52.52637, -1.84284], [52.528373, -1.800085], [52.543565, -1.799426], [52.509221, -1.86014], [52.466808, -1.810815], [52.461471, -1.850724], [52.482128, -1.779827], [52.469482, -1.858058], [52.503379, -1.861926], [52.527418, -1.896785], [52.55278, -1.908967], [52.514652, -1.896815], [52.548236, -1.859279], [52.507329, -1.796055], [52.484102, -1.777608], [52.512358, -1.85232], [52.497675, -1.830569], [52.500058, -1.802128], [52.509025, -1.847174], [52.455521, -1.781872], [52.468308, -1.854087], [52.51173, -1.853354], [52.48006, -1.834759], [52.516724, -1.901084], [52.487177, -1.787607], [52.539916, -1.89823], [52.497212, -1.76944], [52.513929, -1.892249], [52.472309, -1.821686], [52.482899, -1.809421], [52.5392, -1.902213], [52.508078, -1.884454], [52.472899, -1.859225], [52.510744, -1.856009], [52.548738, -1.830519], [52.485738, -1.787466], [52.547915, -1.896], [52.470253, -1.829643], [52.516384, -1.837718], [52.559376, -1.792568], [52.523044, -1.843294], [52.517127, -1.856136], [52.552959, -1.908377], [52.482387, -1.773935], [52.466158, -1.860276], [52.476047, -1.86054], [52.506037, -1.831715], [52.49558, -1.76282], [52.490116, -1.826179], [52.509332, -1.811075], [52.477843, -1.796633], [52.482838, -1.775111], [52.502475, -1.796225], [52.513716, -1.797941], [52.476492, -1.85671], [52.546834, -1.893348], [52.490607, -1.856664], [52.559874, -1.822658], [52.522774, -1.843295], [52.50724, -1.796055], [52.487643, -1.79703], [52.522183, -1.808219], [52.467077, -1.810225], [52.504916, -1.804316], [52.50026, -1.816269], [52.470113, -1.859675], [52.464563, -1.812444], [52.492241, -1.870946], [52.54828, -1.824475], [52.480527, -1.789111], [52.485149, -1.880244], [52.485897, -1.830467], [52.486876, -1.823541], [52.490422, -1.852246], [52.461112, -1.851167], [52.451284, -1.77586], [52.479841, -1.87643], [52.489163, -1.852103], [52.509026, -1.847911], [52.496785, -1.781374], [52.478009, -1.847282], [52.541629, -1.825534], [52.531298, -1.776927], [52.49635, -1.848102], [52.52968, -1.776788], [52.489048, -1.833105], [52.510419, -1.887984], [52.512358, -1.85232], [52.480587, -1.826217], [52.478008, -1.84684], [52.477843, -1.796633], [52.515376, -1.901677], [52.473053, -1.838613], [52.465509, -1.844529], [52.508085, -1.891821], [52.48871, -1.849749], [52.474169, -1.86879], [52.551361, -1.842013], [52.523851, -1.84167], [52.484877, -1.809854], [52.451835, -1.782038], [52.506019, -1.819781], [52.528856, -1.89575], [52.495692, -1.82763], [52.55125, -1.907201], [52.48137, -1.877604], [52.491771, -1.853273], [52.466245, -1.858215], [52.499073, -1.870336], [52.5147, -1.795431], [52.530828, -1.889996], [52.464179, -1.859547], [52.46656, -1.8248], [52.508814, -1.903459], [52.488186, -1.799089], [52.505947, -1.831568], [52.495231, -1.819384], [52.526539, -1.835322], [52.489468, -1.884209], [52.546092, -1.87064], [52.471737, -1.864822], [52.455701, -1.782019], [52.473164, -1.854954], [52.464808, -1.858956], [52.523597, -1.854051], [52.473294, -1.818737], [52.488948, -1.826626], [52.482362, -1.761566], [52.473801, -1.799007], [52.507456, -1.892412], [52.465057, -1.842469], [52.546943, -1.918417], [52.47984, -1.875988], [52.489253, -1.852692], [52.497888, -1.855609], [52.543488, -1.873892], [52.514338, -1.854819], [52.587128, -1.83229], [52.539271, -1.881866], [52.506449, -1.874145], [52.502112, -1.855154], [52.508455, -1.903313], [52.460772, -1.80304], [52.493237, -1.877276], [52.453195, -1.788506], [52.484787, -1.809854], [52.526818, -1.784762], [52.525599, -1.87468], [52.502888, -1.829665], [52.47513, -1.845525], [52.505217, -1.901847], [52.480378, -1.874514], [52.547932, -1.917678], [52.550577, -1.862221], [52.463746, -1.807001], [52.467959, -1.862626], [52.508544, -1.903018], [52.521053, -1.833721], [52.492816, -1.827789], [52.478541, -1.784556], [52.464269, -1.859252], [52.523134, -1.843146], [52.502584, -1.874893], [52.523993, -1.815581], [52.502517, -1.898317], [52.558974, -1.821482], [52.468719, -1.825675], [52.562932, -1.823236], [52.54364, -1.850151], [52.443498, -1.856082], [52.399437, -1.961313], [52.407302, -1.888834], [52.446001, -1.844744], [52.450529, -1.87298], [52.446469, -1.860044], [52.406148, -1.905301], [52.397907, -1.95764], [52.401596, -2.032303], [52.41688, -1.96909], [52.417028, -1.90763], [52.463767, -1.896051], [52.444354, -1.824594], [52.414676, -1.891021], [52.446531, -1.930226], [52.39727, -1.939416], [52.445533, -1.831799], [52.455488, -1.886358], [52.41936, -1.900567], [52.466287, -1.898548], [52.452962, -1.878124], [52.423108, -1.871589], [52.407892, -1.976006], [52.391798, -1.970871], [52.455837, -1.876644], [52.447993, -1.856214], [52.447607, -1.925369], [52.459998, -1.903125], [52.437259, -1.829329], [52.433405, -1.837581], [52.448207, -1.887995], [52.455288, -1.867522], [52.442976, -1.871531], [52.452283, -1.927274], [52.440589, -1.83167], [52.442206, -1.914786], [52.466106, -1.897812], [52.448059, -1.838116], [52.441713, -1.867268], [52.443405, -1.853875], [52.458798, -1.871043], [52.432511, -1.938191], [52.437292, -2.010264], [52.436297, -1.960545], [52.413283, -1.965858], [52.452961, -1.876799], [52.4575, -1.839111], [52.446356, -1.841653], [52.412908, -1.931015], [52.433373, -1.887739], [52.448539, -1.861804], [52.424418, -1.933938], [52.453143, -1.879006], [52.428377, -1.842453], [52.388383, -1.977779], [52.41976, -1.982322], [52.411218, -1.978503], [52.439345, -1.940388], [52.404685, -1.878992], [52.43686, -1.869342], [52.440322, -1.834172], [52.444039, -1.857551], [52.457636, -1.876934], [52.472558, -1.87542], [52.463299, -1.876329], [52.407201, -1.876927], [52.420597, -1.877919], [52.429788, -1.823181], [52.464269, -1.859546], [52.458374, -1.821153], [52.409866, -1.963803], [52.45708, -1.862218], [52.428571, -1.986289], [52.43857, -1.871102], [52.441516, -1.97893], [52.418942, -1.951591], [52.431059, -1.915543], [52.421293, -1.856742], [52.462572, -1.869413], [52.43675, -1.976284], [52.440872, -1.938474], [52.431655, -1.878036], [52.406974, -1.929701], [52.437873, -1.892729], [52.461149, -1.884136], [52.458798, -1.871043], [52.461362, -1.836301], [52.414723, -1.97115], [52.448877, -1.946261], [52.443285, -1.915225], [52.424609, -1.84879], [52.45285, -1.858406], [52.395126, -1.977335], [52.45244, -1.896225], [52.422968, -1.916294], [52.445701, -1.823264], [52.40124, -1.982623], [52.415165, -1.948949], [52.405456, -1.948813], [52.455688, -1.910345], [52.406515, -1.914561], [52.446442, -1.930668], [52.45199, -1.896226], [52.445632, -1.838272], [52.454028, -1.866495], [52.442747, -1.832398], [52.443943, -1.982018], [52.449542, -1.807505], [52.407017, -1.873252], [52.41411, -1.864558], [52.463104, -1.862935], [52.461884, -1.901649], [52.446961, -1.824142], [52.461452, -1.836153], [52.415165, -1.948801], [52.412656, -1.973063], [52.415426, -1.931158], [52.453541, -1.925212], [52.447607, -1.925369], [52.46277, -1.887075], [52.413624, -1.925721], [52.405695, -1.901627], [52.41742, -1.969972], [52.430275, -1.850094], [52.429023, -1.855687], [52.405683, -1.887368], [52.427994, -1.90496], [52.414131, -1.885141], [52.41936, -1.900567], [52.422257, -1.837475], [52.458798, -1.871043], [52.409779, -1.851928], [52.455508, -1.910198], [52.433039, -1.83317], [52.492266, -1.895837], [52.516634, -1.901232], [52.473245, -1.956684], [52.475899, -1.890575], [52.465107, -1.88648], [52.48672, -1.934875], [52.515851, -1.940285], [52.473336, -1.959923], [52.477086, -1.911774], [52.489868, -1.938111], [52.482681, -1.946956], [52.449065, -1.966861], [52.504614, -1.94251], [52.505338, -1.952675], [52.475808, -1.888808], [52.471621, -1.944025], [52.475637, -1.898673], [52.480948, -1.907643], [52.478163, -1.910005], [52.457962, -1.957141], [52.492446, -1.895836], [52.476171, -1.892783], [52.476719, -1.903088], [52.475188, -1.899558], [52.481922, -1.890266], [52.513143, -1.921869], [52.480308, -1.89454], [52.452395, -1.985252], [52.512794, -1.939257], [52.473941, -1.914725], [52.49068, -1.943559], [52.478074, -1.910447], [52.484277, -1.911318], [52.475267, -1.887338], [52.503088, -1.946932], [52.47447, -1.900443], [52.499189, -1.896704], [52.508028, -1.936759], [52.458581, -1.935653], [52.47464, -1.889548], [52.476178, -1.901469], [52.492356, -1.895542], [52.478869, -1.893365], [52.483727, -1.897771], [52.461535, -1.914749], [52.460395, -1.977155], [52.47572, -1.891164], [52.494542, -1.935306], [52.493279, -1.928385], [52.498134, -1.929261], [52.490108, -1.894958], [52.475999, -1.90147], [52.482822, -1.891441], [52.478699, -1.905734], [52.48277, -1.946662], [52.498386, -1.903629], [52.475128, -1.945787], [52.509476, -1.958122], [52.475628, -1.888956], [52.478791, -1.908089], [52.475538, -1.888515], [52.475267, -1.88719], [52.486631, -1.937232], [52.473945, -1.920466], [52.516195, -1.914495], [52.503629, -1.94973], [52.502148, -1.887564], [52.50245, -1.930433], [52.48635, -1.918088], [52.519956, -1.896803], [52.460383, -1.94242], [52.508839, -1.940589], [52.489689, -1.938111], [52.484081, -1.891586], [52.471972, -1.927242], [52.472918, -1.875713], [52.479084, -1.946813], [52.477625, -1.911184], [52.501729, -1.926898], [52.479236, -1.902935], [52.486709, -1.917645], [52.484639, -1.914115], [52.483092, -1.891735], [52.498732, -1.888161], [52.517298, -1.96003], [52.486517, -1.901299], [52.497116, -1.891112], [52.47357, -1.899709], [52.499658, -1.921156], [52.486541, -1.937085], [52.473851, -1.914578], [52.502908, -1.947226], [52.47689, -1.892781], [52.484823, -1.91971], [52.47089, -1.922974], [52.486809, -1.933108], [52.509995, -1.919075], [52.502991, -1.933084], [52.474122, -1.916049], [52.492266, -1.895542], [52.504604, -1.924536], [52.484823, -1.91971], [52.504975, -1.943983], [52.474215, -1.921202], [52.474302, -1.916049], [52.475007, -1.897791], [52.467625, -1.886768], [52.482209, -1.910438], [52.464753, -1.891927], [52.492356, -1.895836], [52.487428, -1.917349], [52.474035, -1.920319], [52.499368, -1.896115], [52.465472, -1.891631], [52.50245, -1.930138], [52.485273, -1.921035], [52.526887, -1.906957], [52.529065, -1.937171], [52.474211, -1.915313], [52.471621, -1.943436], [52.518726, -1.936449], [52.513312, -1.773629], [52.586526, -1.79244], [52.583374, -1.789503], [52.506812, -1.877533], [52.506385, -1.82361], [52.510124, -1.863821], [52.509583, -1.862496], [52.514173, -1.86705], [52.508965, -1.806361], [52.473343, -1.854218], [52.46562, -1.86175], [52.470043, -1.809624], [52.560578, -1.812625], [52.503571, -1.872386], [52.477693, -1.815186], [52.493237, -1.877276], [52.601288, -1.80374], [52.526835, -1.85522], [52.472345, -1.788709], [52.453738, -1.790416], [52.480798, -1.789993], [52.466202, -1.772841], [52.50715, -1.796056], [52.472387, -1.81403], [52.549242, -1.873875], [52.55095, -1.873871], [52.478097, -1.845662], [52.504508, -1.831132], [52.502787, -1.898906], [52.485594, -1.876119], [52.482707, -1.866556], [52.500702, -1.811259], [52.547611, -1.862672], [52.468398, -1.854087], [52.465436, -1.796396], [52.464798, -1.851155], [52.473791, -1.853186], [52.524865, -1.861269], [52.462866, -1.893845], [52.458252, -1.801286], [52.409509, -1.974094], [52.459433, -1.876634], [52.430343, -1.920839], [52.453051, -1.809108], [52.405971, -1.908535], [52.439884, -1.940388], [52.445653, -1.993788], [52.449115, -1.821632], [52.439311, -1.892578], [52.421193, -1.961882], [52.455688, -1.910345], [52.4337, -1.857584], [52.446061, -1.823704], [52.401596, -2.032303], [52.452825, -1.838393], [52.435422, -1.869346], [52.435305, -1.846547], [52.458798, -1.871043], [52.412918, -1.949098], [52.440041, -1.905081], [52.448207, -1.887995], [52.443565, -1.931408], [52.408048, -1.921467], [52.394767, -2.014075], [52.42929, -1.985995], [52.409391, -1.913673], [52.394033, -1.938686], [52.415629, -1.856907], [52.433595, -1.845818], [52.439165, -1.940536], [52.415891, -1.968944], [52.444189, -1.834599], [52.456995, -1.866781], [52.461501, -1.808777], [52.459974, -1.877663], [52.453189, -1.84207], [52.449491, -1.919628], [52.455326, -1.907108], [52.455868, -1.91005], [52.480845, -1.891593], [52.475189, -1.900588], [52.486157, -1.900711], [52.455091, -1.981131], [52.476008, -1.913101], [52.50758, -1.940591], [52.468875, -1.878521], [52.471622, -1.944467], [52.473192, -1.880423], [52.478943, -1.877905], [52.475367, -1.899116], [52.475189, -1.900588], [52.472505, -1.917966], [52.448799, -2.013063], [52.492825, -1.921611], [52.488309, -1.893931], [52.485467, -1.944891], [52.476264, -1.896463], [52.552309, -1.884486], [52.586061, -1.840708], [52.514791, -1.85688], [52.55092, -1.848061], [52.553949, -1.828435], [52.560598, -1.825458], [52.587575, -1.830222], [52.524512, -1.867461], [52.507727, -1.819185], [52.536327, -1.826881], [52.543852, -1.877725], [52.541968, -1.882006], [52.521697, -1.844478], [52.549989, -1.825058], [52.530759, -1.776635], [52.517663, -1.793354], [52.549775, -1.867975], [52.559545, -1.786372], [52.52474, -1.834002], [52.5227, -1.794363], [52.565007, -1.828391], [52.522092, -1.874248], [52.516717, -1.819443], [52.518836, -1.85672], [52.587569, -1.826384], [52.571023, -1.823056], [52.526539, -1.835322], [52.524413, -1.859207], [52.507773, -1.852925], [52.509281, -1.837007], [52.518026, -1.856428], [52.52285, -1.832683], [52.50733, -1.796202], [52.530124, -1.827201], [52.548593, -1.856328], [52.523223, -1.842556], [52.563201, -1.822793], [52.556608, -1.868987], [52.564007, -1.821019], [52.524389, -1.784037], [52.551451, -1.84216], [52.554128, -1.827844], [52.553592, -1.829763], [52.5094, -1.860139], [52.542133, -1.868145], [52.508949, -1.858962], [52.536566, -1.873764], [52.572878, -1.802686], [52.526307, -1.801273], [52.512447, -1.852025], [52.564199, -1.829132], [52.515821, -1.821068], [52.454337, -1.907699], [52.414238, -1.903666], [52.471705, -1.931659], [52.440615, -1.969809], [52.415331, -1.923218], [52.439531, -1.954658], [52.470711, -1.923858], [52.464852, -1.902231], [52.435189, -1.908033], [52.405593, -1.887221], [52.436013, -1.931126], [52.464262, -1.993196], [52.423518, -1.933792], [52.466737, -1.899871], [52.435943, -1.995849], [52.426126, -1.935112], [52.461435, -1.901944], [52.415725, -1.862494], [52.475136, -1.965074], [52.469008, -1.931957], [52.460575, -1.982453], [52.452926, -1.954644], [52.461203, -1.974505], [52.395573, -1.96646], [52.440707, -1.984667], [52.4657, -1.984512], [52.400326, -1.937795], [52.446531, -1.930374], [52.443135, -1.984814], [52.437918, -1.972753], [52.427186, -1.90702], [52.46981, -1.920179], [52.471885, -1.931806], [52.473695, -1.959628], [52.430321, -1.892894], [52.444483, -1.979958], [52.427202, -1.928786], [52.427403, -2.002467], [52.45608, -1.98113], [52.476299, -1.949467], [52.426973, -1.870989], [52.434955, -1.99732], [52.471803, -1.947852], [52.408936, -1.906324], [52.415156, -1.930864], [52.407691, -1.926172], [52.449957, -1.949055], [52.471621, -1.942995], [52.431805, -1.97511], [52.47171, -1.941375], [52.451405, -1.981426], [52.471983, -1.948883], [52.400609, -1.974687], [52.423038, -1.892324], [52.440074, -1.965249], [52.431691, -1.919366], [52.419663, -1.95556], [52.417956, -1.960561], [52.441784, -1.971279], [52.41742, -1.969972], [52.455236, -1.906961], [52.439, -2.009529], [52.473155, -1.955801], [52.423341, -1.938204], [52.395937, -1.996146], [52.41751, -1.969972], [52.440424, -1.940681], [52.426631, -1.888638], [52.430156, -1.91025], [52.407245, -1.932493], [52.47264, -1.868206], [52.442614, -1.869031], [52.46021, -1.848521], [52.48835, -1.849308], [52.492966, -1.808788], [52.443805, -1.891684], [52.502033, -1.800646], [52.456505, -1.779219], [52.442569, -1.833575], [52.442976, -1.871384], [52.492765, -1.857099], [52.459599, -1.863535], [52.446087, -1.841801], [52.487982, -1.842977], [52.4528, -1.896224], [52.446499, -1.888147], [52.49407, -1.772108], [52.452015, -1.78189], [52.451695, -1.870181], [52.455701, -1.782019], [52.473456, -1.874681], [52.455676, -1.895334], [52.466655, -1.828038], [52.43211, -1.883623], [52.478362, -1.842569], [52.453272, -1.781295], [52.468086, -1.823028], [52.496435, -1.844272], [52.446499, -1.888147], [52.457209, -1.823513], [52.484113, -1.783793], [52.463795, -1.839824], [52.464573, -1.891928], [52.458798, -1.871043], [52.46012, -1.848816], [52.498047, -1.783577], [52.489677, -1.833398], [52.487607, -1.831638], [52.478299, -1.800754], [52.446061, -1.82341], [52.462572, -1.869413], [52.451655, -1.781597], [52.442233, -1.851084], [52.455316, -1.895777], [52.462949, -1.886192], [52.456643, -1.873257], [52.48245, -1.760682], [52.451354, -1.888429], [52.461687, -1.81275], [52.451713, -1.887986], [52.434859, -1.849932], [52.459518, -1.871777], [52.493453, -1.833236], [52.452993, -1.830593], [52.476284, -1.834773], [52.470613, -1.829495], [52.489179, -1.801735], [52.488165, -1.845185], [52.48566, -1.854471], [52.466538, -1.810522], [52.470541, -1.842744], [52.494429, -1.771664], [52.458798, -1.871043], [52.46481, -1.860722], [52.445881, -1.823558], [52.493431, -1.81836], [52.481046, -1.777918], [52.489885, -1.854163], [52.460045, -1.860737], [52.482965, -1.8561], [52.492724, -1.826464], [52.492855, -1.857541], [52.450365, -1.888725], [52.469653, -1.851286], [52.425582, -1.836728], [52.467315, -1.791382], [52.432026, -1.888919], [52.436627, -1.907883], [52.446083, -1.8393], [52.443079, -1.813712], [52.435679, -1.858313], [52.486786, -1.823689], [52.428347, -1.896576], [52.477693, -1.815186], [52.48789, -1.841062], [52.45838, -1.825568], [52.485794, -1.821631], [52.434613, -1.86979], [52.461775, -1.811425], [52.462497, -1.883691], [52.440951, -1.834023], [52.458798, -1.871043], [52.481117, -1.768494], [52.462497, -1.883691], [52.466808, -1.810668], [52.454437, -1.834119], [52.464679, -1.775792], [52.43895, -1.817996], [52.442114, -1.829605], [52.446499, -1.888147], [52.466177, -1.877646], [52.423689, -1.833058], [52.47611, -1.838749], [52.475274, -1.895435], [52.499378, -1.907605], [52.525825, -1.931427], [52.492356, -1.895836], [52.485634, -1.922801], [52.479412, -1.897487], [52.500274, -1.904215], [52.501933, -1.855596], [52.47259, -1.911341], [52.486364, -1.941797], [52.478324, -1.888213], [52.502333, -1.893898], [52.467778, -1.861596], [52.472993, -1.862316], [52.468427, -1.879553], [52.503856, -1.888001], [52.494785, -1.898335], [52.496866, -1.915122], [52.519155, -1.905647], [52.472234, -1.915611], [52.47256, -1.877186], [52.478968, -1.904703], [52.490488, -1.921467], [52.480487, -1.894098], [52.502811, -1.932053], [52.511445, -1.939259], [52.48659, -1.883185], [52.471556, -1.863351], [52.489838, -1.894664], [52.507672, -1.945158], [52.529751, -1.89221], [52.477276, -1.926791], [52.498343, -1.860322], [52.473118, -1.896765], [52.47406, -1.852448], [52.479623, -1.945635], [52.482012, -1.890265], [52.498342, -1.85988], [52.486631, -1.935612], [52.478878, -1.904703], [52.500387, -1.937949], [52.513117, -1.889598], [52.501598, -1.877253], [52.498134, -1.929261], [52.473259, -1.859665], [52.499965, -1.86341], [52.508365, -1.90346], [52.531099, -1.89088], [52.490982, -1.870507], [52.519619, -1.926279], [52.471747, -1.873508], [52.474916, -1.897203], [52.479237, -1.90426], [52.516813, -1.900936], [52.479751, -1.876725], [52.48825, -1.937671], [52.486541, -1.937085], [52.519939, -1.878528], [52.481922, -1.889382], [52.516814, -1.901379], [52.47312, -1.899415], [52.478506, -1.890716], [52.513236, -1.927026], [52.486517, -1.901594], [52.512884, -1.939257], [52.47247, -1.877775], [52.479593, -1.8994], [52.513146, -1.9257], [52.513603, -1.939404], [52.508187, -1.905671], [52.482572, -1.915591], [52.473366, -1.874534], [52.481745, -1.893358], [52.467693, -1.866454], [52.479603, -1.911622], [52.541716, -1.90147], [52.478405, -1.878937], [52.475007, -1.897939], [52.492922, -1.932215], [52.556989, -1.889931], [52.483992, -1.89188], [52.503081, -1.933231], [52.493805, -1.909089], [52.512126, -1.886654], [52.478458, -1.95447], [52.506571, -1.908915], [52.536253, -1.930084], [52.508529, -1.886369], [52.486517, -1.901594], [52.475274, -1.895435], [52.510722, -1.931451], [52.499015, -1.903333], [52.513053, -1.921575], [52.473614, -1.855247], [52.506906, -1.881216], [52.555379, -1.899227], [52.484283, -1.918681], [52.481933, -1.902635], [52.514467, -1.766697], [52.499628, -1.885508], [52.506385, -1.82361], [52.507988, -1.813585], [52.509043, -1.861761], [52.531466, -1.898987]],\n",
       "                {\n",
       "  &quot;minOpacity&quot;: 0.5,\n",
       "  &quot;maxZoom&quot;: 18,\n",
       "  &quot;radius&quot;: 25,\n",
       "  &quot;blur&quot;: 15,\n",
       "}\n",
       "            );\n",
       "        \n",
       "    \n",
       "            heat_map_354a6caa93fc2b4cd8fcce368bd35b9e.addTo(map_8202a7d29139d84fce1ecad7c9b6d7a5);\n",
       "        \n",
       "    \n",
       "            tile_layer_830eac374223c230003b7d8ba42595c6.addTo(map_8202a7d29139d84fce1ecad7c9b6d7a5);\n",
       "        \n",
       "    \n",
       "            heat_map_354a6caa93fc2b4cd8fcce368bd35b9e.addTo(map_8202a7d29139d84fce1ecad7c9b6d7a5);\n",
       "        \n",
       "&lt;/script&gt;\n",
       "&lt;/html&gt;\" style=\"position:absolute;width:100%;height:100%;left:0;top:0;border:none !important;\" allowfullscreen webkitallowfullscreen mozallowfullscreen></iframe></div></div>"
      ],
      "text/plain": [
       "<folium.folium.Map at 0x2325dadc550>"
      ]
     },
     "execution_count": 190,
     "metadata": {},
     "output_type": "execute_result"
    }
   ],
   "source": [
    "import folium\n",
    "from folium.plugins import HeatMap\n",
    "\n",
    "Birmingham_df = accident[accident['District Area'] == 'Birmingham']\n",
    "weekend_df = Birmingham_df[Birmingham_df['DayofWeek'].isin([6,7])]\n",
    "loc = list(zip(weekend_df['Latitude'], weekend_df['Longitude']))\n",
    "Birmingham_map = folium.Map(location=[weekend_df['Latitude'].mean(),weekend_df['Longitude'].mean()],zoom_start=10)\n",
    "HeatMap(loc).add_to(Birmingham_map)\n",
    "\n",
    "Birmingham_map.save(\"Birmingham_heatmap.html\")\n",
    "\n",
    "Birmingham_map"
   ]
  },
  {
   "cell_type": "markdown",
   "id": "d2ae0964-c2a4-46a4-88b4-5b8392812225",
   "metadata": {},
   "source": [
    "<h3>INSIGHT #36</h3>\n"
   ]
  },
  {
   "cell_type": "markdown",
   "id": "6a6d7dba-e6ee-4ee6-b9c6-2cd635788f56",
   "metadata": {},
   "source": [
    "<H3>Accidents are highly concentrated in central Birmingham and its nearby routes, especially toward Solihull and Sutton Coldfield. This suggests that busy city roads and weekend travel activity contribute to a higher number of crashes. Outer areas show fewer incidents, meaning traffic is generally safer outside the city core.</H3>"
   ]
  },
  {
   "cell_type": "code",
   "execution_count": 193,
   "id": "8e7ee058-fc40-4114-850d-e041ce647df0",
   "metadata": {},
   "outputs": [
    {
     "data": {
      "text/html": [
       "<div style=\"width:100%;\"><div style=\"position:relative;width:100%;height:0;padding-bottom:60%;\"><span style=\"color:#565656\">Make this Notebook Trusted to load map: File -> Trust Notebook</span><iframe srcdoc=\"&lt;!DOCTYPE html&gt;\n",
       "&lt;html&gt;\n",
       "&lt;head&gt;\n",
       "    \n",
       "    &lt;meta http-equiv=&quot;content-type&quot; content=&quot;text/html; charset=UTF-8&quot; /&gt;\n",
       "    &lt;script src=&quot;https://cdn.jsdelivr.net/npm/leaflet@1.9.3/dist/leaflet.js&quot;&gt;&lt;/script&gt;\n",
       "    &lt;script src=&quot;https://code.jquery.com/jquery-3.7.1.min.js&quot;&gt;&lt;/script&gt;\n",
       "    &lt;script src=&quot;https://cdn.jsdelivr.net/npm/bootstrap@5.2.2/dist/js/bootstrap.bundle.min.js&quot;&gt;&lt;/script&gt;\n",
       "    &lt;script src=&quot;https://cdnjs.cloudflare.com/ajax/libs/Leaflet.awesome-markers/2.0.2/leaflet.awesome-markers.js&quot;&gt;&lt;/script&gt;\n",
       "    &lt;link rel=&quot;stylesheet&quot; href=&quot;https://cdn.jsdelivr.net/npm/leaflet@1.9.3/dist/leaflet.css&quot;/&gt;\n",
       "    &lt;link rel=&quot;stylesheet&quot; href=&quot;https://cdn.jsdelivr.net/npm/bootstrap@5.2.2/dist/css/bootstrap.min.css&quot;/&gt;\n",
       "    &lt;link rel=&quot;stylesheet&quot; href=&quot;https://netdna.bootstrapcdn.com/bootstrap/3.0.0/css/bootstrap-glyphicons.css&quot;/&gt;\n",
       "    &lt;link rel=&quot;stylesheet&quot; href=&quot;https://cdn.jsdelivr.net/npm/@fortawesome/fontawesome-free@6.2.0/css/all.min.css&quot;/&gt;\n",
       "    &lt;link rel=&quot;stylesheet&quot; href=&quot;https://cdnjs.cloudflare.com/ajax/libs/Leaflet.awesome-markers/2.0.2/leaflet.awesome-markers.css&quot;/&gt;\n",
       "    &lt;link rel=&quot;stylesheet&quot; href=&quot;https://cdn.jsdelivr.net/gh/python-visualization/folium/folium/templates/leaflet.awesome.rotate.min.css&quot;/&gt;\n",
       "    \n",
       "            &lt;meta name=&quot;viewport&quot; content=&quot;width=device-width,\n",
       "                initial-scale=1.0, maximum-scale=1.0, user-scalable=no&quot; /&gt;\n",
       "            &lt;style&gt;\n",
       "                #map_2a76fd1796ac9ad7d87e12d2236ed2f7 {\n",
       "                    position: relative;\n",
       "                    width: 100.0%;\n",
       "                    height: 100.0%;\n",
       "                    left: 0.0%;\n",
       "                    top: 0.0%;\n",
       "                }\n",
       "                .leaflet-container { font-size: 1rem; }\n",
       "            &lt;/style&gt;\n",
       "\n",
       "            &lt;style&gt;html, body {\n",
       "                width: 100%;\n",
       "                height: 100%;\n",
       "                margin: 0;\n",
       "                padding: 0;\n",
       "            }\n",
       "            &lt;/style&gt;\n",
       "\n",
       "            &lt;style&gt;#map {\n",
       "                position:absolute;\n",
       "                top:0;\n",
       "                bottom:0;\n",
       "                right:0;\n",
       "                left:0;\n",
       "                }\n",
       "            &lt;/style&gt;\n",
       "\n",
       "            &lt;script&gt;\n",
       "                L_NO_TOUCH = false;\n",
       "                L_DISABLE_3D = false;\n",
       "            &lt;/script&gt;\n",
       "\n",
       "        \n",
       "    &lt;script src=&quot;https://cdn.jsdelivr.net/gh/python-visualization/folium@main/folium/templates/leaflet_heat.min.js&quot;&gt;&lt;/script&gt;\n",
       "&lt;/head&gt;\n",
       "&lt;body&gt;\n",
       "    \n",
       "    \n",
       "            &lt;div class=&quot;folium-map&quot; id=&quot;map_2a76fd1796ac9ad7d87e12d2236ed2f7&quot; &gt;&lt;/div&gt;\n",
       "        \n",
       "&lt;/body&gt;\n",
       "&lt;script&gt;\n",
       "    \n",
       "    \n",
       "            var map_2a76fd1796ac9ad7d87e12d2236ed2f7 = L.map(\n",
       "                &quot;map_2a76fd1796ac9ad7d87e12d2236ed2f7&quot;,\n",
       "                {\n",
       "                    center: [53.46569244897959, -2.2199361836734695],\n",
       "                    crs: L.CRS.EPSG3857,\n",
       "                    ...{\n",
       "  &quot;zoom&quot;: 10,\n",
       "  &quot;zoomControl&quot;: true,\n",
       "  &quot;preferCanvas&quot;: false,\n",
       "}\n",
       "\n",
       "                }\n",
       "            );\n",
       "\n",
       "            \n",
       "\n",
       "        \n",
       "    \n",
       "            var tile_layer_6c542d7a772739e97ba90e6e48adda7c = L.tileLayer(\n",
       "                &quot;https://tile.openstreetmap.org/{z}/{x}/{y}.png&quot;,\n",
       "                {\n",
       "  &quot;minZoom&quot;: 0,\n",
       "  &quot;maxZoom&quot;: 19,\n",
       "  &quot;maxNativeZoom&quot;: 19,\n",
       "  &quot;noWrap&quot;: false,\n",
       "  &quot;attribution&quot;: &quot;\\u0026copy; \\u003ca href=\\&quot;https://www.openstreetmap.org/copyright\\&quot;\\u003eOpenStreetMap\\u003c/a\\u003e contributors&quot;,\n",
       "  &quot;subdomains&quot;: &quot;abc&quot;,\n",
       "  &quot;detectRetina&quot;: false,\n",
       "  &quot;tms&quot;: false,\n",
       "  &quot;opacity&quot;: 1,\n",
       "}\n",
       "\n",
       "            );\n",
       "        \n",
       "    \n",
       "            tile_layer_6c542d7a772739e97ba90e6e48adda7c.addTo(map_2a76fd1796ac9ad7d87e12d2236ed2f7);\n",
       "        \n",
       "    \n",
       "            var heat_map_b3012c3c0f0846d286a78db51217235f = L.heatLayer(\n",
       "                [[53.483616, -2.230833], [53.508328, -2.18332], [53.533062, -2.226425], [53.522441, -2.182626], [53.483248, -2.184417], [53.495586, -2.222909], [53.486497, -2.228438], [53.480367, -2.237898], [53.468237, -2.23542], [53.464093, -2.189757], [53.468869, -2.234067], [53.41164, -2.218859], [53.440222, -2.219608], [53.364224, -2.242209], [53.501261, -2.216607], [53.474153, -2.194321], [53.508328, -2.18332], [53.500782, -2.17997], [53.472846, -2.167046], [53.442915, -2.265691], [53.461278, -2.207216], [53.451499, -2.244964], [53.459813, -2.166543], [53.367011, -2.241774], [53.432975, -2.200606], [53.477311, -2.237579], [53.493981, -2.215967], [53.533801, -2.215868], [53.503815, -2.243909], [53.484967, -2.176739], [53.474893, -2.181066], [53.480732, -2.235037], [53.473461, -2.230025], [53.454579, -2.18098], [53.451589, -2.244965], [53.456255, -2.200715], [53.465466, -2.173946], [53.405201, -2.247707], [53.533713, -2.214811], [53.492389, -2.248968], [53.482721, -2.22902], [53.463095, -2.244579], [53.464917, -2.232539], [53.451746, -2.209729], [53.465847, -2.215523], [53.404637, -2.259586], [53.435412, -2.243668], [53.400851, -2.302278], [53.38426, -2.286825]],\n",
       "                {\n",
       "  &quot;minOpacity&quot;: 0.5,\n",
       "  &quot;maxZoom&quot;: 18,\n",
       "  &quot;radius&quot;: 25,\n",
       "  &quot;blur&quot;: 15,\n",
       "}\n",
       "            );\n",
       "        \n",
       "    \n",
       "            heat_map_b3012c3c0f0846d286a78db51217235f.addTo(map_2a76fd1796ac9ad7d87e12d2236ed2f7);\n",
       "        \n",
       "    \n",
       "            tile_layer_6c542d7a772739e97ba90e6e48adda7c.addTo(map_2a76fd1796ac9ad7d87e12d2236ed2f7);\n",
       "        \n",
       "    \n",
       "            heat_map_b3012c3c0f0846d286a78db51217235f.addTo(map_2a76fd1796ac9ad7d87e12d2236ed2f7);\n",
       "        \n",
       "&lt;/script&gt;\n",
       "&lt;/html&gt;\" style=\"position:absolute;width:100%;height:100%;left:0;top:0;border:none !important;\" allowfullscreen webkitallowfullscreen mozallowfullscreen></iframe></div></div>"
      ],
      "text/plain": [
       "<folium.folium.Map at 0x2325dadd050>"
      ]
     },
     "execution_count": 193,
     "metadata": {},
     "output_type": "execute_result"
    }
   ],
   "source": [
    "import folium\n",
    "from folium.plugins import HeatMap\n",
    "\n",
    "\n",
    "Manchester_df = accident[(accident['District Area'] == 'Manchester') & (accident['Accident_Severity'] == 'Fatal')]\n",
    "loc = list(zip(Manchester_df['Latitude'], Manchester_df['Longitude']))\n",
    "Manch_map = folium.Map(location=[Manchester_df['Latitude'].mean(),Manchester_df['Longitude'].mean()],zoom_start=10)\n",
    "\n",
    "\n",
    "HeatMap(loc).add_to(Manch_map)\n",
    "\n",
    "Manch_map.save(\"manch_heatmap.html\")\n",
    "\n",
    "Manch_map"
   ]
  },
  {
   "cell_type": "markdown",
   "id": "4a806b21-3e19-4d95-94da-0bc2b95ce6e1",
   "metadata": {},
   "source": [
    "<h3>INSIGHT #37</h3>"
   ]
  },
  {
   "cell_type": "markdown",
   "id": "c2dd891d-6d20-4596-b76d-cba064a2fd67",
   "metadata": {},
   "source": [
    "<h3>Most fatal accidents are concentrated in the central part of Manchester, where traffic density and urban movement are highest. The intensity lessens toward the outer areas, suggesting that busy intersections and main highways in the city center are the most dangerous zones.</h3>"
   ]
  },
  {
   "cell_type": "code",
   "execution_count": null,
   "id": "a5890e65-5353-470b-b9fb-584ab52b1a5b",
   "metadata": {},
   "outputs": [],
   "source": []
  }
 ],
 "metadata": {
  "kernelspec": {
   "display_name": "Python 3 (ipykernel)",
   "language": "python",
   "name": "python3"
  },
  "language_info": {
   "codemirror_mode": {
    "name": "ipython",
    "version": 3
   },
   "file_extension": ".py",
   "mimetype": "text/x-python",
   "name": "python",
   "nbconvert_exporter": "python",
   "pygments_lexer": "ipython3",
   "version": "3.13.1"
  }
 },
 "nbformat": 4,
 "nbformat_minor": 5
}
